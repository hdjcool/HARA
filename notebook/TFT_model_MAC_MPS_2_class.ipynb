{
 "cells": [
  {
   "cell_type": "markdown",
   "metadata": {},
   "source": [
    "### 아래 모듈 설치 필요함"
   ]
  },
  {
   "cell_type": "code",
   "execution_count": 1,
   "metadata": {},
   "outputs": [],
   "source": [
    "# !pip install pytorch-forecasting"
   ]
  },
  {
   "cell_type": "code",
   "execution_count": 2,
   "metadata": {},
   "outputs": [
    {
     "name": "stdout",
     "output_type": "stream",
     "text": [
      "pytorch_forecasting 버전: 1.3.0\n"
     ]
    },
    {
     "name": "stderr",
     "output_type": "stream",
     "text": [
      "/Users/hdj/miniforge3/envs/kf_proj/lib/python3.10/site-packages/pytorch_forecasting/models/base_model.py:27: TqdmWarning: IProgress not found. Please update jupyter and ipywidgets. See https://ipywidgets.readthedocs.io/en/stable/user_install.html\n",
      "  from tqdm.autonotebook import tqdm\n"
     ]
    }
   ],
   "source": [
    "import pytorch_forecasting\n",
    "print(\"pytorch_forecasting 버전:\", pytorch_forecasting.__version__)"
   ]
  },
  {
   "cell_type": "code",
   "execution_count": 3,
   "metadata": {},
   "outputs": [],
   "source": [
    "import os\n",
    "import numpy as np\n",
    "import pandas as pd\n",
    "import re\n",
    "import matplotlib.pyplot as plt\n",
    "import seaborn as sns\n",
    "import torch\n",
    "import torch.nn as nn\n",
    "import torch.nn.functional as F\n",
    "import torch.optim as optim\n",
    "\n",
    "from sklearn.model_selection import train_test_split\n",
    "from sklearn.metrics import classification_report, confusion_matrix, accuracy_score\n",
    "\n",
    "from collections import defaultdict\n",
    "\n",
    "from pytorch_forecasting.data.encoders import NaNLabelEncoder\n",
    "from pytorch_forecasting import TemporalFusionTransformer, TimeSeriesDataSet\n",
    "from pytorch_forecasting.metrics.base_metrics import Metric as PFMetric\n",
    "from pytorch_forecasting.metrics import CrossEntropy\n",
    "\n",
    "import lightning.pytorch as pl\n",
    "from lightning.pytorch.loggers import TensorBoardLogger\n",
    "from lightning.pytorch.callbacks import EarlyStopping, LearningRateMonitor, ModelCheckpoint\n",
    "\n",
    "# 경고 무시 설정\n",
    "import warnings\n",
    "warnings.filterwarnings(\"ignore\", category=UserWarning, module=\"matplotlib\")\n",
    "warnings.filterwarnings(\"ignore\", category=UserWarning, module=\"pytorch_forecasting\")"
   ]
  },
  {
   "cell_type": "code",
   "execution_count": 4,
   "metadata": {},
   "outputs": [
    {
     "name": "stdout",
     "output_type": "stream",
     "text": [
      "Using device: mps\n"
     ]
    }
   ],
   "source": [
    "# MPS (Metal Performance Shaders) 사용 가능 여부 확인\n",
    "device = torch.device(\"mps\" if torch.backends.mps.is_available() else \"cpu\")\n",
    "print(\"Using device:\", device)"
   ]
  },
  {
   "cell_type": "markdown",
   "metadata": {},
   "source": [
    "### colab file path (각 환경에 맞게 변경 후 사용)"
   ]
  },
  {
   "cell_type": "code",
   "execution_count": 5,
   "metadata": {},
   "outputs": [],
   "source": [
    "fixed_file_path = \"../../dataset/train4/merged_pedestrian_behavior.csv\""
   ]
  },
  {
   "cell_type": "markdown",
   "metadata": {},
   "source": [
    "### 새로운 데이터셋으로 merged_pedestrian_behavior.csv 을 생성할 경우 아래 셀들의 주석을 풀어서 실행"
   ]
  },
  {
   "cell_type": "code",
   "execution_count": 6,
   "metadata": {},
   "outputs": [],
   "source": [
    "# # 보행자 CSV 파일이 저장된 폴더 경로\n",
    "# data_folder = \"../../dataset/train4a\"\n",
    "\n",
    "# # 모든 CSV 파일 찾기\n",
    "# csv_files = [f for f in os.listdir(data_folder) if f.endswith(\".csv\")]\n",
    "\n",
    "# # 숫자 기준으로 파일 정렬 (Video_1_dataset.csv → Video_2_dataset.csv → ...)\n",
    "# csv_files_sorted = sorted(csv_files, key=lambda x: int(re.search(r\"Video_(\\d+)_dataset\\.csv\", x).group(1)) if re.search(r\"Video_(\\d+)_dataset\\.csv\", x) else float('inf'))\n",
    "\n",
    "# # 모든 CSV 파일 로드 및 frame 컬럼 추가\n",
    "# all_dataframes = []\n",
    "\n",
    "# print(\"CSV 파일 로드 시작...\")\n",
    "\n",
    "# for filename in csv_files_sorted:\n",
    "#     file_path = os.path.join(data_folder, filename)\n",
    "\n",
    "#     # 파일 로드 로그 출력\n",
    "#     print(f\"처리 중: {filename}\")\n",
    "\n",
    "#     # 파일 이름에서 pedestrian_id 추출 (예: Video_1_dataset.csv → pedestrian_id = 1)\n",
    "#     match = re.search(r\"Video_(\\d+)_dataset\\.csv\", filename)\n",
    "#     if match:\n",
    "#         pedestrian_id = int(match.group(1))  # \"Video_1_dataset.csv\" → 1\n",
    "\n",
    "#         # CSV 파일 로드\n",
    "#         df = pd.read_csv(file_path, header=None)  # 컬럼명이 없을 수도 있으므로 header=None 사용\n",
    "\n",
    "#         # 입력 데이터 (69개)와 행동 라벨 (마지막 열) 분리\n",
    "#         num_features = 69  # Keypoints(22개) + CoM(3D) = 69차원 입력\n",
    "#         df_features = df.iloc[:, :num_features]  # 69개 입력 피처\n",
    "#         df_labels = df.iloc[:, num_features]  # 마지막 열이 행동 클래스 라벨 (0~3)\n",
    "\n",
    "#         # 컬럼 이름 설정\n",
    "#         keypoint_columns = [f\"kp_{i}\" for i in range(num_features)]  # \"kp_0\", \"kp_1\", ..., \"kp_68\"\n",
    "#         df_features.columns = keypoint_columns  # 입력 피처 이름 지정\n",
    "#         df_labels.name = \"behavior_label\"  # 행동 클래스 열 이름 지정\n",
    "\n",
    "#         # 보행자 ID 추가\n",
    "#         df_features[\"pedestrian_id\"] = pedestrian_id\n",
    "\n",
    "#         # 행동 라벨 추가 - 명시적으로 정수형(int)으로 변환\n",
    "#         df_features[\"behavior_label\"] = df_labels\n",
    "\n",
    "#         # frame 컬럼 추가 (0부터 시작하는 인덱스)\n",
    "#         df_features.insert(0, \"frame\", range(len(df_features)))\n",
    "\n",
    "#         # 리스트에 저장\n",
    "#         all_dataframes.append(df_features)\n",
    "\n",
    "#         # 파일 처리 완료 로그 출력\n",
    "#         print(f\"처리 완료: {filename} (Samples: {len(df_features)})\")\n",
    "\n",
    "# # 모든 데이터를 하나의 DataFrame으로 합침\n",
    "# full_df = pd.concat(all_dataframes, ignore_index=True)\n",
    "\n",
    "# # 데이터 타입 확인\n",
    "# print(\"\\n데이터 타입 확인:\")\n",
    "# for col in [\"frame\", \"pedestrian_id\", \"behavior_label\"]:\n",
    "#     print(f\"{col}: {full_df[col].dtype}\")\n",
    "\n",
    "# # 행동 라벨 분포 확인\n",
    "# print(\"\\n행동 라벨 분포:\")\n",
    "# print(full_df[\"behavior_label\"].value_counts())"
   ]
  },
  {
   "cell_type": "code",
   "execution_count": 7,
   "metadata": {},
   "outputs": [],
   "source": [
    "# # 숫자형 데이터만 선택하여 NaN 및 inf 값 확인\n",
    "# numeric_df = full_df.select_dtypes(include=[np.number])  # 숫자형(float, int) 데이터만 선택\n",
    "\n",
    "# # NaN(결측값) 개수 확인\n",
    "# missing_values = numeric_df.isna().sum()\n",
    "# print(\"NaN (결측값) 개수:\\n\", missing_values[missing_values > 0])\n",
    "\n",
    "# # Inf(무한대) 값 확인\n",
    "# infinite_values = np.isinf(numeric_df).sum()\n",
    "# print(\"\\nInf (무한대) 개수:\\n\", infinite_values[infinite_values > 0])"
   ]
  },
  {
   "cell_type": "code",
   "execution_count": 8,
   "metadata": {},
   "outputs": [],
   "source": [
    "# # 결측치 제거\n",
    "# full_df.dropna(inplace=True)\n",
    "# print(\"결측값 제거\\n\")\n",
    "\n",
    "# # 숫자형 데이터만 선택하여 NaN 및 inf 값 확인\n",
    "# numeric_df = full_df.select_dtypes(include=[np.number])  # 숫자형(float, int) 데이터만 선택\n",
    "\n",
    "# # NaN(결측값) 개수 확인\n",
    "# missing_values = numeric_df.isna().sum()\n",
    "# print(\"NaN (결측값) 개수:\\n\", missing_values[missing_values > 0])\n",
    "\n",
    "# # Inf(무한대) 값 확인\n",
    "# infinite_values = np.isinf(numeric_df).sum()\n",
    "# print(\"\\nInf (무한대) 개수:\\n\", infinite_values[infinite_values > 0])"
   ]
  },
  {
   "cell_type": "code",
   "execution_count": 9,
   "metadata": {},
   "outputs": [],
   "source": [
    "# # 정수로 변환\n",
    "# full_df[\"behavior_label\"] = full_df[\"behavior_label\"].astype(int)\n",
    "\n",
    "# # 최종 데이터 저장\n",
    "# full_df.to_csv(fixed_file_path, index=False)\n",
    "\n",
    "# print(\"모든 CSV 파일 처리 완료!\")\n",
    "# print(f\"최종 데이터 저장: {fixed_file_path}\")"
   ]
  },
  {
   "cell_type": "markdown",
   "metadata": {},
   "source": [
    "### 병합된 csv 파일 load"
   ]
  },
  {
   "cell_type": "code",
   "execution_count": 10,
   "metadata": {},
   "outputs": [
    {
     "name": "stdout",
     "output_type": "stream",
     "text": [
      "Columns in CSV file: Index(['frame', 'kp_0', 'kp_1', 'kp_2', 'kp_3', 'kp_4', 'kp_5', 'kp_6', 'kp_7',\n",
      "       'kp_8', 'kp_9', 'kp_10', 'kp_11', 'kp_12', 'kp_13', 'kp_14', 'kp_15',\n",
      "       'kp_16', 'kp_17', 'kp_18', 'kp_19', 'kp_20', 'kp_21', 'kp_22', 'kp_23',\n",
      "       'kp_24', 'kp_25', 'kp_26', 'kp_27', 'kp_28', 'kp_29', 'kp_30', 'kp_31',\n",
      "       'kp_32', 'kp_33', 'kp_34', 'kp_35', 'kp_36', 'kp_37', 'kp_38', 'kp_39',\n",
      "       'kp_40', 'kp_41', 'kp_42', 'kp_43', 'kp_44', 'kp_45', 'kp_46', 'kp_47',\n",
      "       'kp_48', 'kp_49', 'kp_50', 'kp_51', 'kp_52', 'kp_53', 'kp_54', 'kp_55',\n",
      "       'kp_56', 'kp_57', 'kp_58', 'kp_59', 'kp_60', 'kp_61', 'kp_62', 'kp_63',\n",
      "       'kp_64', 'kp_65', 'kp_66', 'kp_67', 'kp_68', 'pedestrian_id',\n",
      "       'behavior_label'],\n",
      "      dtype='object')\n",
      "데이터 타입 확인:\n",
      "frame               int64\n",
      "kp_0              float64\n",
      "kp_1              float64\n",
      "kp_2              float64\n",
      "kp_3              float64\n",
      "                   ...   \n",
      "kp_66             float64\n",
      "kp_67             float64\n",
      "kp_68             float64\n",
      "pedestrian_id       int64\n",
      "behavior_label      int64\n",
      "Length: 72, dtype: object\n"
     ]
    }
   ],
   "source": [
    "# 병합된 CSV 데이터 로드\n",
    "df = pd.read_csv(fixed_file_path)\n",
    "\n",
    "# 데이터프레임의 컬럼 확인\n",
    "print(\"Columns in CSV file:\", df.columns)\n",
    "\n",
    "# 각 컬럼의 데이터 타입 출력\n",
    "print(\"데이터 타입 확인:\")\n",
    "print(df.dtypes)"
   ]
  },
  {
   "cell_type": "markdown",
   "metadata": {},
   "source": [
    "### 각 포인트의 3차원 좌표 중 z 값이 제외된 2차원 데이터셋도 생성함."
   ]
  },
  {
   "cell_type": "code",
   "execution_count": 11,
   "metadata": {},
   "outputs": [],
   "source": [
    "\n",
    "# # Z 좌표를 담고 있는 컬럼들의 인덱스 (kp_2, kp_5, kp_8, ...)\n",
    "# z_columns = [f'kp_{i}' for i in range(2, 69, 3)]\n",
    "\n",
    "# # Z 좌표 컬럼 제외\n",
    "# df_without_z = df.drop(columns=z_columns)\n",
    "\n",
    "# # 새 CSV 파일로 저장\n",
    "# output_path = \"../../dataset/train4/merged_pedestrian_behavior_wo_z.csv\"\n",
    "# df_without_z.to_csv(output_path, index=False)\n",
    "\n",
    "# print(f\"Z 좌표가 제외된 데이터가 {output_path}에 저장되었습니다.\")\n",
    "# print(f\"원본 컬럼 수: {len(df.columns)}, 제외 후 컬럼 수: {len(df_without_z.columns)}\")"
   ]
  },
  {
   "cell_type": "markdown",
   "metadata": {},
   "source": [
    "### Train, Validation, Test 데이터셋\n",
    "\n",
    "- 클래스 매핑: 원래 4개의 클래스('Standing', 'Start Walking', 'Walking', 'Finish Walking')에서 2개의 클래스('Standing', 'Walking')로 통합\n",
    "  - 'Start Walking', 'Walking', 'Finish Walking'을 'Walking' 클래스로 매핑"
   ]
  },
  {
   "cell_type": "code",
   "execution_count": 12,
   "metadata": {},
   "outputs": [
    {
     "name": "stdout",
     "output_type": "stream",
     "text": [
      "훈련 데이터 크기: 5406\n",
      "검증 데이터 크기: 1158\n",
      "테스트 데이터 크기: 1159\n",
      "\n",
      "훈련 데이터의 클래스 분포:\n",
      "binary_label\n",
      "0    0.546985\n",
      "1    0.453015\n",
      "Name: proportion, dtype: float64\n",
      "\n",
      "검증 데이터의 클래스 분포:\n",
      "binary_label\n",
      "0    0.553541\n",
      "1    0.446459\n",
      "Name: proportion, dtype: float64\n",
      "\n",
      "테스트 데이터의 클래스 분포:\n",
      "binary_label\n",
      "0    0.540984\n",
      "1    0.459016\n",
      "Name: proportion, dtype: float64\n",
      "TimeSeriesDataSet 생성 완료!\n"
     ]
    }
   ],
   "source": [
    "# Random Seed 고정 (재현성 확보)\n",
    "torch.manual_seed(42)\n",
    "torch.cuda.manual_seed(42)\n",
    "torch.backends.cudnn.deterministic = True\n",
    "torch.backends.cudnn.benchmark = False\n",
    "np.random.seed(42)\n",
    "\n",
    "# pedestrian_id를 문자열로 변환 후 카테고리 타입으로 변환\n",
    "df[\"pedestrian_id\"] = df[\"pedestrian_id\"].astype(str).astype('category')\n",
    "\n",
    "# 기존 레이블: Standing(0), Start Walking(1), Walking(2), Finish Walking(3)\n",
    "# 새 레이블: Standing(0), Walking(1) - Start Walking과 Walking은 Walking으로,\n",
    "# Standing과 Finish Walking은 Standing으로 처리\n",
    "df['binary_label'] = df['behavior_label'].apply(lambda x: 1 if x in [1, 2] else 0)\n",
    "\n",
    "# # 클래스 매핑: 0(Standing)과 1(Walking)로 변환\n",
    "# # 기존 레이블: Standing(0), Start Walking(1), Walking(2), Finish Walking(3)\n",
    "# # 새 레이블: Standing(0), Walking(1) - Start Walking, Walking, Finish Walking을 모두 Walking으로 처리\n",
    "# df['binary_label'] = df['behavior_label'].apply(lambda x: 0 if x == 0 else 1)\n",
    "\n",
    "# 그룹 정보 생성 - 카테고리 타입을 문자열로 변환 후 연결\n",
    "df[\"group\"] = df[\"pedestrian_id\"].astype(str) + \"_\" + df[\"frame\"].astype(str)\n",
    "\n",
    "# 그룹별 행동 라벨 확인 (각 그룹의 첫 번째 행동 라벨 사용)\n",
    "group_labels = df.groupby(\"group\")[\"binary_label\"].first().reset_index()\n",
    "\n",
    "# 그룹을 클래스 비율을 유지하면서 분할 (70% 훈련, 15% 검증, 15% 테스트)\n",
    "train_groups, temp_groups = train_test_split(\n",
    "    group_labels[\"group\"],\n",
    "    test_size=0.3,  # 30%는 validation+test로 사용\n",
    "    stratify=group_labels[\"binary_label\"],\n",
    "    random_state=42\n",
    ")\n",
    "\n",
    "# 나머지 30%를 검증과 테스트로 절반씩 분할\n",
    "val_groups, test_groups = train_test_split(\n",
    "    temp_groups,\n",
    "    test_size=0.5,  # 15% 테스트, 15% 검증\n",
    "    stratify=group_labels[group_labels[\"group\"].isin(temp_groups)][\"binary_label\"],\n",
    "    random_state=42\n",
    ")\n",
    "\n",
    "# 분할된 그룹 목록을 사용하여 훈련, 검증, 테스트 데이터프레임 생성\n",
    "train_df = df[df[\"group\"].isin(train_groups)].copy()\n",
    "val_df = df[df[\"group\"].isin(val_groups)].copy()\n",
    "test_df = df[df[\"group\"].isin(test_groups)].copy()\n",
    "\n",
    "# 불필요한 'group' 열 제거\n",
    "train_df = train_df.drop(columns=[\"group\"])\n",
    "val_df = val_df.drop(columns=[\"group\"])\n",
    "test_df = test_df.drop(columns=[\"group\"])\n",
    "\n",
    "print(f\"훈련 데이터 크기: {len(train_df)}\")\n",
    "print(f\"검증 데이터 크기: {len(val_df)}\")\n",
    "print(f\"테스트 데이터 크기: {len(test_df)}\")\n",
    "\n",
    "# 클래스 분포 확인\n",
    "print(\"\\n훈련 데이터의 클래스 분포:\")\n",
    "print(train_df[\"binary_label\"].value_counts(normalize=True))\n",
    "\n",
    "print(\"\\n검증 데이터의 클래스 분포:\")\n",
    "print(val_df[\"binary_label\"].value_counts(normalize=True))\n",
    "\n",
    "print(\"\\n테스트 데이터의 클래스 분포:\")\n",
    "print(test_df[\"binary_label\"].value_counts(normalize=True))\n",
    "\n",
    "# 시계열 데이터셋 설정\n",
    "max_encoder_length = 20  # 과거 20 프레임 사용\n",
    "max_prediction_length = 1  # 현재 행동 예측 (1개 클래스 출력)\n",
    "\n",
    "# 입력 데이터 (Keypoints + CoM)\n",
    "feature_columns = [f\"kp_{i}\" for i in range(69)]  # Keypoints + CoM (69차원)\n",
    "\n",
    "# NaNLabelEncoder 생성 및 전체 데이터로 학습 (훈련/검증/테스트 모두 동일한 인코더 사용)\n",
    "pedestrian_encoder = NaNLabelEncoder().fit(df[\"pedestrian_id\"])\n",
    "\n",
    "# 훈련 데이터셋 생성\n",
    "train_dataset = TimeSeriesDataSet(\n",
    "    train_df,\n",
    "    time_idx=\"frame\",  # 프레임 번호\n",
    "    target=\"binary_label\",  # 예측할 행동 클래스 (2개)\n",
    "    group_ids=[\"pedestrian_id\"],  # 보행자별 데이터 그룹화\n",
    "    max_encoder_length=max_encoder_length,\n",
    "    max_prediction_length=max_prediction_length,\n",
    "    static_categoricals=[\"pedestrian_id\"],  # 보행자 ID를 Static Variable로 설정\n",
    "    time_varying_known_reals=[\"frame\"],  # 시간에 따라 변하는 변수\n",
    "    time_varying_unknown_reals=feature_columns,  # 69차원 입력 데이터\n",
    "    categorical_encoders={\"pedestrian_id\": pedestrian_encoder},  # 인코더 명시적 지정\n",
    "    target_normalizer=None,  # 분류 문제이므로 normalizer 불필요\n",
    "    allow_missing_timesteps=True,  # 중간 프레임 누락 허용\n",
    ")\n",
    "\n",
    "# 검증 데이터셋 생성 (훈련 데이터셋의 설정을 재사용)\n",
    "val_dataset = TimeSeriesDataSet.from_dataset(\n",
    "    train_dataset,\n",
    "    val_df,  # 검증용 데이터\n",
    "    stop_randomization=True  # 검증 시 랜덤화 비활성화\n",
    ")\n",
    "\n",
    "# 테스트 데이터셋 생성 (훈련 데이터셋의 설정을 재사용)\n",
    "test_dataset = TimeSeriesDataSet.from_dataset(\n",
    "    train_dataset,\n",
    "    test_df,  # 테스트용 데이터\n",
    "    stop_randomization=True  # 테스트 시 랜덤화 비활성화\n",
    ")\n",
    "\n",
    "print(\"TimeSeriesDataSet 생성 완료!\")"
   ]
  },
  {
   "cell_type": "code",
   "execution_count": 13,
   "metadata": {},
   "outputs": [
    {
     "name": "stdout",
     "output_type": "stream",
     "text": [
      "데이터로더 생성 완료 (Train 배치: 105, Val 배치: 5, Test 배치: 5)\n"
     ]
    }
   ],
   "source": [
    "# 데이터로더 생성\n",
    "batch_size = 32\n",
    "\n",
    "# 훈련 데이터로더\n",
    "train_dataloader = train_dataset.to_dataloader(\n",
    "    train=True,\n",
    "    batch_size=batch_size,\n",
    "    shuffle=True,\n",
    "    num_workers=2,\n",
    ")\n",
    "\n",
    "# 검증 데이터로더\n",
    "val_dataloader = val_dataset.to_dataloader(\n",
    "    train=False,\n",
    "    batch_size=batch_size,\n",
    "    shuffle=False,\n",
    "    num_workers=2,\n",
    ")\n",
    "\n",
    "# 테스트 데이터로더\n",
    "test_dataloader = test_dataset.to_dataloader(\n",
    "    train=False,\n",
    "    batch_size=batch_size,\n",
    "    shuffle=False,\n",
    "    num_workers=2,\n",
    ")\n",
    "\n",
    "print(f\"데이터로더 생성 완료 (Train 배치: {len(train_dataloader)}, Val 배치: {len(val_dataloader)}, Test 배치: {len(test_dataloader)})\")"
   ]
  },
  {
   "cell_type": "code",
   "execution_count": 14,
   "metadata": {},
   "outputs": [
    {
     "name": "stdout",
     "output_type": "stream",
     "text": [
      "binary_label 고유 값: [0 1]\n",
      "binary_label 최소값: 0\n",
      "binary_label 최대값: 1\n",
      "\n",
      "데이터 로더 확인:\n"
     ]
    },
    {
     "name": "stdout",
     "output_type": "stream",
     "text": [
      "타겟 형상: torch.Size([32, 1])\n",
      "타겟 데이터 타입: torch.int64\n",
      "타겟 고유 값: tensor([0, 1])\n",
      "타겟 최소값: 0\n",
      "타겟 최대값: 1\n"
     ]
    }
   ],
   "source": [
    "# 타겟 변수 범위 확인\n",
    "print(\"binary_label 고유 값:\", np.unique(train_df[\"binary_label\"]))\n",
    "print(\"binary_label 최소값:\", train_df[\"binary_label\"].min())\n",
    "print(\"binary_label 최대값:\", train_df[\"binary_label\"].max())\n",
    "\n",
    "# 데이터 로더 첫 번째 배치 확인\n",
    "print(\"\\n데이터 로더 확인:\")\n",
    "for batch_idx, batch in enumerate(train_dataloader):\n",
    "    x, y = batch\n",
    "\n",
    "    if isinstance(y, (list, tuple)) and len(y) > 0:\n",
    "        y_sample = y[0]\n",
    "        print(f\"타겟 형상: {y_sample.shape}\")\n",
    "        print(f\"타겟 데이터 타입: {y_sample.dtype}\")\n",
    "        print(f\"타겟 고유 값: {torch.unique(y_sample)}\")\n",
    "        print(f\"타겟 최소값: {y_sample.min()}\")\n",
    "        print(f\"타겟 최대값: {y_sample.max()}\")\n",
    "    else:\n",
    "        print(f\"타겟 형상: {y.shape}\")\n",
    "        print(f\"타겟 데이터 타입: {y.dtype}\")\n",
    "        print(f\"타겟 고유 값: {torch.unique(y)}\")\n",
    "        print(f\"타겟 최소값: {y.min()}\")\n",
    "        print(f\"타겟 최대값: {y.max()}\")\n",
    "\n",
    "    break  # 첫 번째 배치만 확인"
   ]
  },
  {
   "cell_type": "code",
   "execution_count": 15,
   "metadata": {},
   "outputs": [],
   "source": [
    "# BCE Loss 구현 (PyTorch Forecasting 메트릭 시스템과 호환)\n",
    "class BCEWithLogitsLoss(PFMetric):\n",
    "    \"\"\"\n",
    "    Binary Cross Entropy Loss for binary classification in time series forecasting.\n",
    "    Compatible with pytorch_forecasting metric system.\n",
    "\n",
    "    Args:\n",
    "        reduction: reduction to apply to the output (\"none\"|\"mean\"|\"sum\") (default: \"mean\")\n",
    "        weight: optional weighting factor for class imbalance (default: None)\n",
    "        pos_weight: optional weight for positive examples (default: None)\n",
    "        prediction_length: prediction length (default: 1)\n",
    "    \"\"\"\n",
    "    def __init__(\n",
    "        self,\n",
    "        reduction: str = \"mean\",\n",
    "        weight: torch.Tensor = None,\n",
    "        pos_weight: torch.Tensor = None,\n",
    "        prediction_length: int = 1,\n",
    "        **kwargs\n",
    "    ):\n",
    "        super().__init__(reduction=reduction, **kwargs)\n",
    "        self.prediction_length = prediction_length\n",
    "\n",
    "        # 클래스 가중치 설정\n",
    "        if weight is not None:\n",
    "            self.register_buffer(\"weight\", weight)\n",
    "        else:\n",
    "            self.weight = None\n",
    "\n",
    "        # 양성 클래스 가중치 설정\n",
    "        if pos_weight is not None:\n",
    "            self.register_buffer(\"pos_weight\", pos_weight)\n",
    "        else:\n",
    "            self.pos_weight = None\n",
    "\n",
    "    def loss(self, y_pred, y_actual):\n",
    "        \"\"\"\n",
    "        Calculate binary cross entropy loss with logits.\n",
    "\n",
    "        Args:\n",
    "            y_pred: network prediction tensor of shape [batch_size, ..., n_classes]\n",
    "            y_actual: actual values of shape [batch_size, ...] or tuple of tensors\n",
    "\n",
    "        Returns:\n",
    "            torch.Tensor: loss\n",
    "        \"\"\"\n",
    "        # 타겟 처리 - 튜플인 경우 첫 번째 요소 사용\n",
    "        if isinstance(y_actual, tuple):\n",
    "            y_actual = y_actual[0]  # 첫 번째 요소 사용\n",
    "\n",
    "        # 타겟 차원 조정\n",
    "        if y_actual.dim() > 1 and y_actual.size(-1) == 1:\n",
    "            y_actual = y_actual.squeeze(-1)\n",
    "\n",
    "        # 예측 텐서 형태 조정 (이진 분류이므로 클래스 수는 2)\n",
    "        if y_pred.ndim > 2:\n",
    "            y_pred = y_pred.reshape(-1, y_pred.size(-1))\n",
    "\n",
    "        # 2클래스 로짓에서 단일 로짓으로 변환 (클래스 1의 로짓 사용)\n",
    "        if y_pred.size(-1) == 2:\n",
    "            y_pred = y_pred[:, 1]  # 클래스 1(Walking)의 로짓 사용\n",
    "\n",
    "        # 타겟 텐서도 동일하게 조정\n",
    "        y_actual = y_actual.reshape(-1).float()  # 부동소수점으로 변환\n",
    "\n",
    "        # BCEWithLogitsLoss 계산\n",
    "        loss = F.binary_cross_entropy_with_logits(\n",
    "            y_pred,\n",
    "            y_actual,\n",
    "            weight=self.weight,\n",
    "            pos_weight=self.pos_weight,\n",
    "            reduction=self.reduction\n",
    "        )\n",
    "\n",
    "        return loss\n",
    "\n",
    "    def to_prediction(self, y_actual):\n",
    "        \"\"\"\n",
    "        Convert target tensor to the right format.\n",
    "\n",
    "        Args:\n",
    "            y_actual: actual values (tensor or tuple)\n",
    "\n",
    "        Returns:\n",
    "            torch.Tensor: transformed tensor\n",
    "        \"\"\"\n",
    "        # 튜플인 경우 첫 번째 요소 사용\n",
    "        if isinstance(y_actual, tuple):\n",
    "            y_actual = y_actual[0]\n",
    "\n",
    "        # 다차원 텐서 처리\n",
    "        if y_actual.ndim > 2:\n",
    "            y_actual = y_actual.reshape(-1, y_actual.size(-1))\n",
    "\n",
    "        # 마지막 차원이 1인 경우 제거\n",
    "        if y_actual.size(-1) == 1:\n",
    "            y_actual = y_actual.squeeze(-1)\n",
    "\n",
    "        return y_actual\n",
    "\n",
    "    def to_quantiles(self, y_pred):\n",
    "        \"\"\"\n",
    "        Convert network prediction to quantiles.\n",
    "        Not relevant for classification but required by the interface.\n",
    "\n",
    "        Args:\n",
    "            y_pred: prediction output of network\n",
    "\n",
    "        Returns:\n",
    "            torch.Tensor: prediction\n",
    "        \"\"\"\n",
    "        return y_pred\n",
    "\n",
    "    def update(self, y_pred, y_actual):\n",
    "        \"\"\"\n",
    "        Update metric state with predictions and targets.\n",
    "        Required by the interface.\n",
    "\n",
    "        Args:\n",
    "            y_pred: predictions from model\n",
    "            y_actual: actual values\n",
    "        \"\"\"\n",
    "        # 손실 계산\n",
    "        loss = self.loss(y_pred, y_actual)\n",
    "        self.val = loss  # 현재 손실 값 저장\n",
    "\n",
    "    def compute(self):\n",
    "        \"\"\"\n",
    "        Compute the metric.\n",
    "        Required by the interface.\n",
    "\n",
    "        Returns:\n",
    "            torch.Tensor: metric value\n",
    "        \"\"\"\n",
    "        return self.val"
   ]
  },
  {
   "cell_type": "code",
   "execution_count": 16,
   "metadata": {},
   "outputs": [],
   "source": [
    "# 정확도 계산 콜백\n",
    "class AccuracyCallback(pl.Callback):\n",
    "    def __init__(self):\n",
    "        super().__init__()\n",
    "        self.train_accs = []\n",
    "        self.val_accs = []\n",
    "        self.train_losses = []\n",
    "        self.val_losses = []\n",
    "\n",
    "    def on_train_epoch_end(self, trainer, pl_module):\n",
    "        # 훈련 손실 기록\n",
    "        train_loss = trainer.callback_metrics.get(\"train_loss\")\n",
    "        if train_loss is not None:\n",
    "            self.train_losses.append(train_loss.item())\n",
    "\n",
    "        # 훈련 정확도 계산\n",
    "        train_acc = self.calculate_accuracy(pl_module, train_dataloader, max_batches=5)\n",
    "        self.train_accs.append(train_acc)\n",
    "        print(f\"Epoch {trainer.current_epoch}: Train Acc = {train_acc:.4f}\")\n",
    "\n",
    "    def on_validation_epoch_end(self, trainer, pl_module):\n",
    "        # 검증 손실 기록\n",
    "        val_loss = trainer.callback_metrics.get(\"val_loss\")\n",
    "        if val_loss is not None:\n",
    "            self.val_losses.append(val_loss.item())\n",
    "\n",
    "        # 검증 정확도 계산\n",
    "        val_acc = self.calculate_accuracy(pl_module, val_dataloader)\n",
    "        self.val_accs.append(val_acc)\n",
    "        print(f\"Epoch {trainer.current_epoch}: Valid Acc = {val_acc:.4f}\")\n",
    "\n",
    "    def calculate_accuracy(self, model, dataloader, max_batches=None):\n",
    "        \"\"\"scikit-learn을 사용한 정확도 계산\"\"\"\n",
    "        model.eval()\n",
    "        all_predictions = []\n",
    "        all_targets = []\n",
    "        device = next(model.parameters()).device\n",
    "\n",
    "        with torch.no_grad():\n",
    "            for batch_idx, batch in enumerate(dataloader):\n",
    "                if max_batches is not None and batch_idx >= max_batches:\n",
    "                    break\n",
    "\n",
    "                x, y = batch\n",
    "\n",
    "                # 입력 데이터 장치 이동\n",
    "                if isinstance(x, dict):\n",
    "                    for k in x:\n",
    "                        if isinstance(x[k], torch.Tensor):\n",
    "                            x[k] = x[k].to(device)\n",
    "                else:\n",
    "                    x = x.to(device)\n",
    "\n",
    "                # 예측 수행\n",
    "                outputs = model(x)\n",
    "                if isinstance(outputs, tuple):\n",
    "                    outputs = outputs[0]\n",
    "\n",
    "                # 이진 분류 처리 - 클래스가 2개이면 0.5 기준으로 이항 분류\n",
    "                if outputs.size(-1) == 2:\n",
    "                    _, predictions = torch.max(outputs, dim=-1)\n",
    "                else:  # 단일 로짓이면 0.5 임계값으로 클래스 결정\n",
    "                    predictions = (torch.sigmoid(outputs) > 0.5).long()\n",
    "\n",
    "                # 타겟값 처리\n",
    "                if isinstance(y, (list, tuple)) and len(y) > 0:\n",
    "                    y = y[0]\n",
    "\n",
    "                if y.dim() > 1:\n",
    "                    if y.dim() == 2 and y.size(1) == 1:\n",
    "                        y = y.squeeze(1)\n",
    "                    elif y.dim() == 3:\n",
    "                        if y.size(1) == 1 and y.size(2) == 1:\n",
    "                            y = y.squeeze()\n",
    "                        else:\n",
    "                            y = y[:, 0, 0]\n",
    "\n",
    "                # NumPy 배열로 변환\n",
    "                all_predictions.extend(predictions.cpu().numpy())\n",
    "                all_targets.extend(y.cpu().numpy())\n",
    "\n",
    "        model.train()\n",
    "\n",
    "        # scikit-learn의 accuracy_score 사용\n",
    "        return accuracy_score(all_targets, all_predictions)\n",
    "\n",
    "    def plot_metrics(self, save_path=None):\n",
    "        \"\"\"메트릭 그래프 그리기\"\"\"\n",
    "        plt.figure(figsize=(16, 6))\n",
    "\n",
    "        # 손실 그래프\n",
    "        plt.subplot(1, 2, 1)\n",
    "        if len(self.train_losses) > 0:\n",
    "            plt.plot(self.train_losses, 'r-o', label='Train Loss')\n",
    "        if len(self.val_losses) > 0:\n",
    "            plt.plot(self.val_losses, 'b-s', label='Valid Loss')\n",
    "        plt.title('Loss History')\n",
    "        plt.xlabel('Epoch')\n",
    "        plt.ylabel('Loss')\n",
    "        plt.grid(True)\n",
    "        plt.legend()\n",
    "\n",
    "        # 정확도 그래프\n",
    "        plt.subplot(1, 2, 2)\n",
    "        if len(self.train_accs) > 0:\n",
    "            plt.plot(self.train_accs, 'r-', label='Train Acc.')\n",
    "        if len(self.val_accs) > 0:\n",
    "            plt.plot(self.val_accs, 'b-x', label='Valid Acc.')\n",
    "        plt.title('Accuracy History')\n",
    "        plt.xlabel('Epoch')\n",
    "        plt.ylabel('Accuracy')\n",
    "        plt.grid(True)\n",
    "        plt.legend()\n",
    "        plt.ylim(0.0, 1.0)\n",
    "\n",
    "        plt.tight_layout()\n",
    "        if save_path:\n",
    "            plt.savefig(save_path)\n",
    "        plt.show()\n",
    "\n",
    "        # 정확도 값 출력\n",
    "        print(\"훈련 정확도:\", self.train_accs)\n",
    "        print(\"검증 정확도:\", self.val_accs)\n"
   ]
  },
  {
   "cell_type": "code",
   "execution_count": 17,
   "metadata": {},
   "outputs": [],
   "source": [
    "# 커스텀 TFT 클래스 정의 (시각화 오류 우회)\n",
    "class CustomTFT(TemporalFusionTransformer):\n",
    "    def log_prediction(self, x, out, batch_idx, **kwargs):\n",
    "        # 시각화 없이 빈 로그 반환\n",
    "        return {}"
   ]
  },
  {
   "cell_type": "code",
   "execution_count": 18,
   "metadata": {},
   "outputs": [],
   "source": [
    "# 모델 저장 경로 설정\n",
    "checkpoint_dir = '../../Model/TFT_2_class'\n",
    "if not os.path.exists(checkpoint_dir):\n",
    "    os.makedirs(checkpoint_dir)"
   ]
  },
  {
   "cell_type": "code",
   "execution_count": 19,
   "metadata": {},
   "outputs": [
    {
     "name": "stdout",
     "output_type": "stream",
     "text": [
      "모델 파라미터 수: 242.8k\n"
     ]
    },
    {
     "name": "stderr",
     "output_type": "stream",
     "text": [
      "/Users/hdj/miniforge3/envs/kf_proj/lib/python3.10/site-packages/lightning/pytorch/utilities/parsing.py:209: Attribute 'loss' is an instance of `nn.Module` and is already saved during checkpointing. It is recommended to ignore them using `self.save_hyperparameters(ignore=['loss'])`.\n",
      "/Users/hdj/miniforge3/envs/kf_proj/lib/python3.10/site-packages/lightning/pytorch/utilities/parsing.py:209: Attribute 'logging_metrics' is an instance of `nn.Module` and is already saved during checkpointing. It is recommended to ignore them using `self.save_hyperparameters(ignore=['logging_metrics'])`.\n"
     ]
    }
   ],
   "source": [
    "# BCE Loss 인스턴스 생성 (클래스 불균형이 있는 경우 pos_weight 값을 조정할 수 있음)\n",
    "# pos_weight는 양성 클래스(Walking)의 가중치\n",
    "pos_weight = None  # 클래스 불균형이 거의 없다면 None으로 설정\n",
    "\n",
    "# 이진 분류를 위한 BCE Loss 생성\n",
    "bce_loss = BCEWithLogitsLoss(pos_weight=pos_weight)\n",
    "\n",
    "# TFT 모델 생성 (출력 크기를 2로 설정 - 이진 분류용)\n",
    "tft = CustomTFT.from_dataset(\n",
    "    train_dataset,\n",
    "    hidden_size=32,\n",
    "    lstm_layers=2,\n",
    "    attention_head_size=4,\n",
    "    dropout=0.5,\n",
    "    hidden_continuous_size=16,\n",
    "    output_size=2,  # 이진 분류(Standing/Walking)\n",
    "    loss=bce_loss,\n",
    "    learning_rate=0.0001,\n",
    "    log_interval=50,\n",
    "    reduce_on_plateau_patience=5\n",
    ")\n",
    "\n",
    "print(f\"모델 파라미터 수: {tft.size()/1e3:.1f}k\")"
   ]
  },
  {
   "cell_type": "code",
   "execution_count": 20,
   "metadata": {},
   "outputs": [],
   "source": [
    "# 콜백 설정\n",
    "# 조기 종료 콜백\n",
    "early_stop_callback = EarlyStopping(\n",
    "    monitor=\"val_loss\",\n",
    "    min_delta=1e-4,\n",
    "    patience=299,\n",
    "    verbose=True,\n",
    "    mode=\"min\"\n",
    ")\n",
    "\n",
    "# 학습률 모니터링 콜백\n",
    "lr_logger = LearningRateMonitor()\n",
    "\n",
    "# 모델 체크포인트 콜백\n",
    "checkpoint_callback = ModelCheckpoint(\n",
    "    dirpath=checkpoint_dir,\n",
    "    filename=\"tft-pedestrian-binary-{epoch:02d}-{val_loss:.4f}\",\n",
    "    monitor=\"val_loss\",\n",
    "    save_top_k=1,\n",
    "    mode=\"min\"\n",
    ")"
   ]
  },
  {
   "cell_type": "code",
   "execution_count": 21,
   "metadata": {},
   "outputs": [
    {
     "name": "stderr",
     "output_type": "stream",
     "text": [
      "GPU available: True (mps), used: True\n",
      "TPU available: False, using: 0 TPU cores\n",
      "HPU available: False, using: 0 HPUs\n"
     ]
    }
   ],
   "source": [
    "# 정확도 콜백 인스턴스 생성\n",
    "accuracy_callback = AccuracyCallback()\n",
    "\n",
    "# 트레이너 설정에 메트릭 콜백 추가\n",
    "trainer = pl.Trainer(\n",
    "    max_epochs=300,\n",
    "    accelerator=\"auto\",\n",
    "    gradient_clip_val=0.1,\n",
    "    callbacks=[lr_logger, early_stop_callback, checkpoint_callback, accuracy_callback],\n",
    "    logger=TensorBoardLogger(checkpoint_dir, name=\"pedestrian_tft_binary_logs\"),\n",
    "    enable_progress_bar=True,\n",
    "    log_every_n_steps=50,\n",
    "    num_sanity_val_steps=0\n",
    ")"
   ]
  },
  {
   "cell_type": "code",
   "execution_count": 22,
   "metadata": {},
   "outputs": [
    {
     "name": "stderr",
     "output_type": "stream",
     "text": [
      "/Users/hdj/miniforge3/envs/kf_proj/lib/python3.10/site-packages/lightning/pytorch/callbacks/model_checkpoint.py:654: Checkpoint directory /Users/hdj/study/MODU/AIFFELTHON/Model/TFT_2_class exists and is not empty.\n",
      "\n",
      "   | Name                               | Type                            | Params | Mode \n",
      "------------------------------------------------------------------------------------------------\n",
      "0  | loss                               | BCEWithLogitsLoss               | 0      | train\n",
      "1  | logging_metrics                    | ModuleList                      | 0      | train\n",
      "2  | input_embeddings                   | MultiEmbedding                  | 533    | train\n",
      "3  | prescalers                         | ModuleDict                      | 2.2 K  | train\n",
      "4  | static_variable_selection          | VariableSelectionNetwork        | 96     | train\n",
      "5  | encoder_variable_selection         | VariableSelectionNetwork        | 170 K  | train\n",
      "6  | decoder_variable_selection         | VariableSelectionNetwork        | 1.8 K  | train\n",
      "7  | static_context_variable_selection  | GatedResidualNetwork            | 4.3 K  | train\n",
      "8  | static_context_initial_hidden_lstm | GatedResidualNetwork            | 4.3 K  | train\n",
      "9  | static_context_initial_cell_lstm   | GatedResidualNetwork            | 4.3 K  | train\n",
      "10 | static_context_enrichment          | GatedResidualNetwork            | 4.3 K  | train\n",
      "11 | lstm_encoder                       | LSTM                            | 16.9 K | train\n",
      "12 | lstm_decoder                       | LSTM                            | 16.9 K | train\n",
      "13 | post_lstm_gate_encoder             | GatedLinearUnit                 | 2.1 K  | train\n",
      "14 | post_lstm_add_norm_encoder         | AddNorm                         | 64     | train\n",
      "15 | static_enrichment                  | GatedResidualNetwork            | 5.3 K  | train\n",
      "16 | multihead_attn                     | InterpretableMultiHeadAttention | 2.6 K  | train\n",
      "17 | post_attn_gate_norm                | GateAddNorm                     | 2.2 K  | train\n",
      "18 | pos_wise_ff                        | GatedResidualNetwork            | 4.3 K  | train\n",
      "19 | pre_output_gate_norm               | GateAddNorm                     | 2.2 K  | train\n",
      "20 | output_layer                       | Linear                          | 66     | train\n",
      "------------------------------------------------------------------------------------------------\n",
      "242 K     Trainable params\n",
      "0         Non-trainable params\n",
      "242 K     Total params\n",
      "0.971     Total estimated model params size (MB)\n",
      "1201      Modules in train mode\n",
      "0         Modules in eval mode\n",
      "/Users/hdj/miniforge3/envs/kf_proj/lib/python3.10/site-packages/lightning/pytorch/trainer/connectors/data_connector.py:420: Consider setting `persistent_workers=True` in 'train_dataloader' to speed up the dataloader worker initialization.\n",
      "/Users/hdj/miniforge3/envs/kf_proj/lib/python3.10/site-packages/lightning/pytorch/trainer/connectors/data_connector.py:420: Consider setting `persistent_workers=True` in 'val_dataloader' to speed up the dataloader worker initialization.\n"
     ]
    },
    {
     "name": "stdout",
     "output_type": "stream",
     "text": [
      "Epoch 0: 100%|██████████| 105/105 [00:51<00:00,  2.03it/s, v_num=7, train_loss_step=0.736]Epoch 0: Valid Acc = 0.5479\n",
      "Epoch 0: 100%|██████████| 105/105 [00:58<00:00,  1.79it/s, v_num=7, train_loss_step=0.736, val_loss=0.681]Epoch 0: Train Acc = 0.5375\n",
      "Epoch 0: 100%|██████████| 105/105 [01:03<00:00,  1.66it/s, v_num=7, train_loss_step=0.736, val_loss=0.681, train_loss_epoch=0.708]"
     ]
    },
    {
     "name": "stderr",
     "output_type": "stream",
     "text": [
      "Metric val_loss improved. New best score: 0.681\n"
     ]
    },
    {
     "name": "stdout",
     "output_type": "stream",
     "text": [
      "Epoch 1: 100%|██████████| 105/105 [01:06<00:00,  1.59it/s, v_num=7, train_loss_step=0.703, val_loss=0.681, train_loss_epoch=0.708]Epoch 1: Valid Acc = 0.5411\n",
      "Epoch 1: 100%|██████████| 105/105 [01:12<00:00,  1.45it/s, v_num=7, train_loss_step=0.703, val_loss=0.662, train_loss_epoch=0.708]Epoch 1: Train Acc = 0.5250\n",
      "Epoch 1: 100%|██████████| 105/105 [01:16<00:00,  1.37it/s, v_num=7, train_loss_step=0.703, val_loss=0.662, train_loss_epoch=0.688]"
     ]
    },
    {
     "name": "stderr",
     "output_type": "stream",
     "text": [
      "Metric val_loss improved by 0.018 >= min_delta = 0.0001. New best score: 0.662\n"
     ]
    },
    {
     "name": "stdout",
     "output_type": "stream",
     "text": [
      "Epoch 2: 100%|██████████| 105/105 [00:55<00:00,  1.89it/s, v_num=7, train_loss_step=0.705, val_loss=0.662, train_loss_epoch=0.688]Epoch 2: Valid Acc = 0.5411\n",
      "Epoch 2: 100%|██████████| 105/105 [01:02<00:00,  1.69it/s, v_num=7, train_loss_step=0.705, val_loss=0.641, train_loss_epoch=0.688]Epoch 2: Train Acc = 0.5625\n",
      "Epoch 2: 100%|██████████| 105/105 [01:06<00:00,  1.58it/s, v_num=7, train_loss_step=0.705, val_loss=0.641, train_loss_epoch=0.682]"
     ]
    },
    {
     "name": "stderr",
     "output_type": "stream",
     "text": [
      "Metric val_loss improved by 0.021 >= min_delta = 0.0001. New best score: 0.641\n"
     ]
    },
    {
     "name": "stdout",
     "output_type": "stream",
     "text": [
      "Epoch 3: 100%|██████████| 105/105 [00:54<00:00,  1.92it/s, v_num=7, train_loss_step=0.727, val_loss=0.641, train_loss_epoch=0.682]Epoch 3: Valid Acc = 0.5342\n",
      "Epoch 3: 100%|██████████| 105/105 [01:00<00:00,  1.73it/s, v_num=7, train_loss_step=0.727, val_loss=0.614, train_loss_epoch=0.682]Epoch 3: Train Acc = 0.5938\n",
      "Epoch 3: 100%|██████████| 105/105 [01:05<00:00,  1.61it/s, v_num=7, train_loss_step=0.727, val_loss=0.614, train_loss_epoch=0.670]"
     ]
    },
    {
     "name": "stderr",
     "output_type": "stream",
     "text": [
      "Metric val_loss improved by 0.028 >= min_delta = 0.0001. New best score: 0.614\n"
     ]
    },
    {
     "name": "stdout",
     "output_type": "stream",
     "text": [
      "Epoch 4: 100%|██████████| 105/105 [01:00<00:00,  1.73it/s, v_num=7, train_loss_step=0.683, val_loss=0.614, train_loss_epoch=0.670]Epoch 4: Valid Acc = 0.5753\n",
      "Epoch 4: 100%|██████████| 105/105 [01:06<00:00,  1.57it/s, v_num=7, train_loss_step=0.683, val_loss=0.574, train_loss_epoch=0.670]Epoch 4: Train Acc = 0.6562\n",
      "Epoch 4: 100%|██████████| 105/105 [01:11<00:00,  1.47it/s, v_num=7, train_loss_step=0.683, val_loss=0.574, train_loss_epoch=0.644]"
     ]
    },
    {
     "name": "stderr",
     "output_type": "stream",
     "text": [
      "Metric val_loss improved by 0.040 >= min_delta = 0.0001. New best score: 0.574\n"
     ]
    },
    {
     "name": "stdout",
     "output_type": "stream",
     "text": [
      "Epoch 5: 100%|██████████| 105/105 [00:57<00:00,  1.83it/s, v_num=7, train_loss_step=0.636, val_loss=0.574, train_loss_epoch=0.644]Epoch 5: Valid Acc = 0.6986\n",
      "Epoch 5: 100%|██████████| 105/105 [01:03<00:00,  1.66it/s, v_num=7, train_loss_step=0.636, val_loss=0.522, train_loss_epoch=0.644]Epoch 5: Train Acc = 0.7438\n",
      "Epoch 5: 100%|██████████| 105/105 [01:07<00:00,  1.55it/s, v_num=7, train_loss_step=0.636, val_loss=0.522, train_loss_epoch=0.610]"
     ]
    },
    {
     "name": "stderr",
     "output_type": "stream",
     "text": [
      "Metric val_loss improved by 0.052 >= min_delta = 0.0001. New best score: 0.522\n"
     ]
    },
    {
     "name": "stdout",
     "output_type": "stream",
     "text": [
      "Epoch 6: 100%|██████████| 105/105 [00:59<00:00,  1.78it/s, v_num=7, train_loss_step=0.520, val_loss=0.522, train_loss_epoch=0.610]Epoch 6: Valid Acc = 0.7603\n",
      "Epoch 6: 100%|██████████| 105/105 [01:05<00:00,  1.59it/s, v_num=7, train_loss_step=0.520, val_loss=0.480, train_loss_epoch=0.610]Epoch 6: Train Acc = 0.7875\n",
      "Epoch 6: 100%|██████████| 105/105 [01:10<00:00,  1.49it/s, v_num=7, train_loss_step=0.520, val_loss=0.480, train_loss_epoch=0.560]"
     ]
    },
    {
     "name": "stderr",
     "output_type": "stream",
     "text": [
      "Metric val_loss improved by 0.042 >= min_delta = 0.0001. New best score: 0.480\n"
     ]
    },
    {
     "name": "stdout",
     "output_type": "stream",
     "text": [
      "Epoch 7: 100%|██████████| 105/105 [00:59<00:00,  1.76it/s, v_num=7, train_loss_step=0.433, val_loss=0.480, train_loss_epoch=0.560]Epoch 7: Valid Acc = 0.7945\n",
      "Epoch 7: 100%|██████████| 105/105 [01:06<00:00,  1.59it/s, v_num=7, train_loss_step=0.433, val_loss=0.459, train_loss_epoch=0.560]Epoch 7: Train Acc = 0.7750\n",
      "Epoch 7: 100%|██████████| 105/105 [01:10<00:00,  1.49it/s, v_num=7, train_loss_step=0.433, val_loss=0.459, train_loss_epoch=0.496]"
     ]
    },
    {
     "name": "stderr",
     "output_type": "stream",
     "text": [
      "Metric val_loss improved by 0.021 >= min_delta = 0.0001. New best score: 0.459\n"
     ]
    },
    {
     "name": "stdout",
     "output_type": "stream",
     "text": [
      "Epoch 8: 100%|██████████| 105/105 [00:58<00:00,  1.78it/s, v_num=7, train_loss_step=0.416, val_loss=0.459, train_loss_epoch=0.496]Epoch 8: Valid Acc = 0.8014\n",
      "Epoch 8: 100%|██████████| 105/105 [01:05<00:00,  1.61it/s, v_num=7, train_loss_step=0.416, val_loss=0.447, train_loss_epoch=0.496]Epoch 8: Train Acc = 0.8750\n",
      "Epoch 8: 100%|██████████| 105/105 [01:10<00:00,  1.50it/s, v_num=7, train_loss_step=0.416, val_loss=0.447, train_loss_epoch=0.452]"
     ]
    },
    {
     "name": "stderr",
     "output_type": "stream",
     "text": [
      "Metric val_loss improved by 0.012 >= min_delta = 0.0001. New best score: 0.447\n"
     ]
    },
    {
     "name": "stdout",
     "output_type": "stream",
     "text": [
      "Epoch 9: 100%|██████████| 105/105 [00:59<00:00,  1.77it/s, v_num=7, train_loss_step=0.287, val_loss=0.447, train_loss_epoch=0.452]Epoch 9: Valid Acc = 0.8082\n",
      "Epoch 9: 100%|██████████| 105/105 [01:05<00:00,  1.61it/s, v_num=7, train_loss_step=0.287, val_loss=0.436, train_loss_epoch=0.452]Epoch 9: Train Acc = 0.8375\n",
      "Epoch 9: 100%|██████████| 105/105 [01:10<00:00,  1.49it/s, v_num=7, train_loss_step=0.287, val_loss=0.436, train_loss_epoch=0.421]"
     ]
    },
    {
     "name": "stderr",
     "output_type": "stream",
     "text": [
      "Metric val_loss improved by 0.011 >= min_delta = 0.0001. New best score: 0.436\n"
     ]
    },
    {
     "name": "stdout",
     "output_type": "stream",
     "text": [
      "Epoch 10: 100%|██████████| 105/105 [00:56<00:00,  1.85it/s, v_num=7, train_loss_step=0.531, val_loss=0.436, train_loss_epoch=0.421]Epoch 10: Valid Acc = 0.8014\n",
      "Epoch 10: 100%|██████████| 105/105 [01:02<00:00,  1.67it/s, v_num=7, train_loss_step=0.531, val_loss=0.438, train_loss_epoch=0.421]Epoch 10: Train Acc = 0.8562\n",
      "Epoch 11: 100%|██████████| 105/105 [00:57<00:00,  1.84it/s, v_num=7, train_loss_step=0.483, val_loss=0.438, train_loss_epoch=0.400]Epoch 11: Valid Acc = 0.8014\n",
      "Epoch 11: 100%|██████████| 105/105 [01:03<00:00,  1.66it/s, v_num=7, train_loss_step=0.483, val_loss=0.437, train_loss_epoch=0.400]Epoch 11: Train Acc = 0.8125\n",
      "Epoch 12: 100%|██████████| 105/105 [00:56<00:00,  1.85it/s, v_num=7, train_loss_step=0.423, val_loss=0.437, train_loss_epoch=0.383]Epoch 12: Valid Acc = 0.8151\n",
      "Epoch 12: 100%|██████████| 105/105 [01:02<00:00,  1.67it/s, v_num=7, train_loss_step=0.423, val_loss=0.459, train_loss_epoch=0.383]Epoch 12: Train Acc = 0.8812\n",
      "Epoch 13: 100%|██████████| 105/105 [00:58<00:00,  1.79it/s, v_num=7, train_loss_step=0.297, val_loss=0.459, train_loss_epoch=0.367]Epoch 13: Valid Acc = 0.8219\n",
      "Epoch 13: 100%|██████████| 105/105 [01:04<00:00,  1.62it/s, v_num=7, train_loss_step=0.297, val_loss=0.425, train_loss_epoch=0.367]Epoch 13: Train Acc = 0.9000\n",
      "Epoch 13: 100%|██████████| 105/105 [01:09<00:00,  1.52it/s, v_num=7, train_loss_step=0.297, val_loss=0.425, train_loss_epoch=0.355]"
     ]
    },
    {
     "name": "stderr",
     "output_type": "stream",
     "text": [
      "Metric val_loss improved by 0.012 >= min_delta = 0.0001. New best score: 0.425\n"
     ]
    },
    {
     "name": "stdout",
     "output_type": "stream",
     "text": [
      "Epoch 14: 100%|██████████| 105/105 [00:57<00:00,  1.83it/s, v_num=7, train_loss_step=0.190, val_loss=0.425, train_loss_epoch=0.355]Epoch 14: Valid Acc = 0.8288\n",
      "Epoch 14: 100%|██████████| 105/105 [01:04<00:00,  1.62it/s, v_num=7, train_loss_step=0.190, val_loss=0.416, train_loss_epoch=0.355]Epoch 14: Train Acc = 0.8562\n",
      "Epoch 14: 100%|██████████| 105/105 [01:09<00:00,  1.51it/s, v_num=7, train_loss_step=0.190, val_loss=0.416, train_loss_epoch=0.338]"
     ]
    },
    {
     "name": "stderr",
     "output_type": "stream",
     "text": [
      "Metric val_loss improved by 0.009 >= min_delta = 0.0001. New best score: 0.416\n"
     ]
    },
    {
     "name": "stdout",
     "output_type": "stream",
     "text": [
      "Epoch 15: 100%|██████████| 105/105 [00:58<00:00,  1.80it/s, v_num=7, train_loss_step=0.393, val_loss=0.416, train_loss_epoch=0.338]Epoch 15: Valid Acc = 0.8219\n",
      "Epoch 15: 100%|██████████| 105/105 [01:04<00:00,  1.63it/s, v_num=7, train_loss_step=0.393, val_loss=0.425, train_loss_epoch=0.338]Epoch 15: Train Acc = 0.9000\n",
      "Epoch 16: 100%|██████████| 105/105 [01:00<00:00,  1.73it/s, v_num=7, train_loss_step=0.346, val_loss=0.425, train_loss_epoch=0.327]Epoch 16: Valid Acc = 0.8288\n",
      "Epoch 16: 100%|██████████| 105/105 [01:07<00:00,  1.56it/s, v_num=7, train_loss_step=0.346, val_loss=0.400, train_loss_epoch=0.327]Epoch 16: Train Acc = 0.8812\n",
      "Epoch 16: 100%|██████████| 105/105 [01:12<00:00,  1.45it/s, v_num=7, train_loss_step=0.346, val_loss=0.400, train_loss_epoch=0.318]"
     ]
    },
    {
     "name": "stderr",
     "output_type": "stream",
     "text": [
      "Metric val_loss improved by 0.016 >= min_delta = 0.0001. New best score: 0.400\n"
     ]
    },
    {
     "name": "stdout",
     "output_type": "stream",
     "text": [
      "Epoch 17: 100%|██████████| 105/105 [01:01<00:00,  1.70it/s, v_num=7, train_loss_step=0.343, val_loss=0.400, train_loss_epoch=0.318]Epoch 17: Valid Acc = 0.8493\n",
      "Epoch 17: 100%|██████████| 105/105 [01:08<00:00,  1.54it/s, v_num=7, train_loss_step=0.343, val_loss=0.400, train_loss_epoch=0.318]Epoch 17: Train Acc = 0.9000\n",
      "Epoch 17: 100%|██████████| 105/105 [01:13<00:00,  1.42it/s, v_num=7, train_loss_step=0.343, val_loss=0.400, train_loss_epoch=0.310]"
     ]
    },
    {
     "name": "stderr",
     "output_type": "stream",
     "text": [
      "Metric val_loss improved by 0.001 >= min_delta = 0.0001. New best score: 0.400\n"
     ]
    },
    {
     "name": "stdout",
     "output_type": "stream",
     "text": [
      "Epoch 18: 100%|██████████| 105/105 [00:59<00:00,  1.76it/s, v_num=7, train_loss_step=0.283, val_loss=0.400, train_loss_epoch=0.310]Epoch 18: Valid Acc = 0.8288\n",
      "Epoch 18: 100%|██████████| 105/105 [01:06<00:00,  1.59it/s, v_num=7, train_loss_step=0.283, val_loss=0.408, train_loss_epoch=0.310]Epoch 18: Train Acc = 0.8562\n",
      "Epoch 19: 100%|██████████| 105/105 [01:01<00:00,  1.72it/s, v_num=7, train_loss_step=0.330, val_loss=0.408, train_loss_epoch=0.298]Epoch 19: Valid Acc = 0.8493\n",
      "Epoch 19: 100%|██████████| 105/105 [01:07<00:00,  1.56it/s, v_num=7, train_loss_step=0.330, val_loss=0.406, train_loss_epoch=0.298]Epoch 19: Train Acc = 0.8875\n",
      "Epoch 20: 100%|██████████| 105/105 [00:59<00:00,  1.78it/s, v_num=7, train_loss_step=0.291, val_loss=0.406, train_loss_epoch=0.293]Epoch 20: Valid Acc = 0.8425\n",
      "Epoch 20: 100%|██████████| 105/105 [01:06<00:00,  1.59it/s, v_num=7, train_loss_step=0.291, val_loss=0.394, train_loss_epoch=0.293]Epoch 20: Train Acc = 0.9125\n",
      "Epoch 20: 100%|██████████| 105/105 [01:13<00:00,  1.42it/s, v_num=7, train_loss_step=0.291, val_loss=0.394, train_loss_epoch=0.287]"
     ]
    },
    {
     "name": "stderr",
     "output_type": "stream",
     "text": [
      "Metric val_loss improved by 0.005 >= min_delta = 0.0001. New best score: 0.394\n"
     ]
    },
    {
     "name": "stdout",
     "output_type": "stream",
     "text": [
      "Epoch 21: 100%|██████████| 105/105 [01:07<00:00,  1.55it/s, v_num=7, train_loss_step=0.302, val_loss=0.394, train_loss_epoch=0.287]Epoch 21: Valid Acc = 0.8356\n",
      "Epoch 21: 100%|██████████| 105/105 [01:15<00:00,  1.39it/s, v_num=7, train_loss_step=0.302, val_loss=0.418, train_loss_epoch=0.287]Epoch 21: Train Acc = 0.9313\n",
      "Epoch 22: 100%|██████████| 105/105 [01:00<00:00,  1.73it/s, v_num=7, train_loss_step=0.328, val_loss=0.418, train_loss_epoch=0.292]Epoch 22: Valid Acc = 0.8356\n",
      "Epoch 22: 100%|██████████| 105/105 [01:07<00:00,  1.56it/s, v_num=7, train_loss_step=0.328, val_loss=0.414, train_loss_epoch=0.292]Epoch 22: Train Acc = 0.8875\n",
      "Epoch 23: 100%|██████████| 105/105 [01:00<00:00,  1.73it/s, v_num=7, train_loss_step=0.377, val_loss=0.414, train_loss_epoch=0.285]Epoch 23: Valid Acc = 0.8425\n",
      "Epoch 23: 100%|██████████| 105/105 [01:07<00:00,  1.56it/s, v_num=7, train_loss_step=0.377, val_loss=0.386, train_loss_epoch=0.285]Epoch 23: Train Acc = 0.8562\n",
      "Epoch 23: 100%|██████████| 105/105 [01:12<00:00,  1.45it/s, v_num=7, train_loss_step=0.377, val_loss=0.386, train_loss_epoch=0.280]"
     ]
    },
    {
     "name": "stderr",
     "output_type": "stream",
     "text": [
      "Metric val_loss improved by 0.009 >= min_delta = 0.0001. New best score: 0.386\n"
     ]
    },
    {
     "name": "stdout",
     "output_type": "stream",
     "text": [
      "Epoch 24: 100%|██████████| 105/105 [01:00<00:00,  1.74it/s, v_num=7, train_loss_step=0.240, val_loss=0.386, train_loss_epoch=0.280]Epoch 24: Valid Acc = 0.8288\n",
      "Epoch 24: 100%|██████████| 105/105 [01:06<00:00,  1.57it/s, v_num=7, train_loss_step=0.240, val_loss=0.384, train_loss_epoch=0.280]Epoch 24: Train Acc = 0.8812\n",
      "Epoch 24: 100%|██████████| 105/105 [01:12<00:00,  1.45it/s, v_num=7, train_loss_step=0.240, val_loss=0.384, train_loss_epoch=0.281]"
     ]
    },
    {
     "name": "stderr",
     "output_type": "stream",
     "text": [
      "Metric val_loss improved by 0.002 >= min_delta = 0.0001. New best score: 0.384\n"
     ]
    },
    {
     "name": "stdout",
     "output_type": "stream",
     "text": [
      "Epoch 25: 100%|██████████| 105/105 [01:02<00:00,  1.69it/s, v_num=7, train_loss_step=0.387, val_loss=0.384, train_loss_epoch=0.281]Epoch 25: Valid Acc = 0.8562\n",
      "Epoch 25: 100%|██████████| 105/105 [01:08<00:00,  1.53it/s, v_num=7, train_loss_step=0.387, val_loss=0.367, train_loss_epoch=0.281]Epoch 25: Train Acc = 0.9250\n",
      "Epoch 25: 100%|██████████| 105/105 [01:13<00:00,  1.42it/s, v_num=7, train_loss_step=0.387, val_loss=0.367, train_loss_epoch=0.264]"
     ]
    },
    {
     "name": "stderr",
     "output_type": "stream",
     "text": [
      "Metric val_loss improved by 0.017 >= min_delta = 0.0001. New best score: 0.367\n"
     ]
    },
    {
     "name": "stdout",
     "output_type": "stream",
     "text": [
      "Epoch 26: 100%|██████████| 105/105 [00:59<00:00,  1.75it/s, v_num=7, train_loss_step=0.114, val_loss=0.367, train_loss_epoch=0.264]Epoch 26: Valid Acc = 0.8493\n",
      "Epoch 26: 100%|██████████| 105/105 [01:06<00:00,  1.57it/s, v_num=7, train_loss_step=0.114, val_loss=0.357, train_loss_epoch=0.264]Epoch 26: Train Acc = 0.9187\n",
      "Epoch 26: 100%|██████████| 105/105 [01:11<00:00,  1.46it/s, v_num=7, train_loss_step=0.114, val_loss=0.357, train_loss_epoch=0.263]"
     ]
    },
    {
     "name": "stderr",
     "output_type": "stream",
     "text": [
      "Metric val_loss improved by 0.010 >= min_delta = 0.0001. New best score: 0.357\n"
     ]
    },
    {
     "name": "stdout",
     "output_type": "stream",
     "text": [
      "Epoch 27: 100%|██████████| 105/105 [00:59<00:00,  1.77it/s, v_num=7, train_loss_step=0.177, val_loss=0.357, train_loss_epoch=0.263]Epoch 27: Valid Acc = 0.8562\n",
      "Epoch 27: 100%|██████████| 105/105 [01:07<00:00,  1.56it/s, v_num=7, train_loss_step=0.177, val_loss=0.382, train_loss_epoch=0.263]Epoch 27: Train Acc = 0.9375\n",
      "Epoch 28: 100%|██████████| 105/105 [01:06<00:00,  1.57it/s, v_num=7, train_loss_step=0.249, val_loss=0.382, train_loss_epoch=0.260] Epoch 28: Valid Acc = 0.8425\n",
      "Epoch 28: 100%|██████████| 105/105 [01:13<00:00,  1.42it/s, v_num=7, train_loss_step=0.249, val_loss=0.383, train_loss_epoch=0.260]Epoch 28: Train Acc = 0.9000\n",
      "Epoch 29: 100%|██████████| 105/105 [01:01<00:00,  1.71it/s, v_num=7, train_loss_step=0.434, val_loss=0.383, train_loss_epoch=0.258]Epoch 29: Valid Acc = 0.8562\n",
      "Epoch 29: 100%|██████████| 105/105 [01:07<00:00,  1.56it/s, v_num=7, train_loss_step=0.434, val_loss=0.371, train_loss_epoch=0.258]Epoch 29: Train Acc = 0.9000\n",
      "Epoch 30: 100%|██████████| 105/105 [00:58<00:00,  1.80it/s, v_num=7, train_loss_step=0.272, val_loss=0.371, train_loss_epoch=0.250]Epoch 30: Valid Acc = 0.8699\n",
      "Epoch 30: 100%|██████████| 105/105 [01:04<00:00,  1.62it/s, v_num=7, train_loss_step=0.272, val_loss=0.353, train_loss_epoch=0.250]Epoch 30: Train Acc = 0.9250\n",
      "Epoch 30: 100%|██████████| 105/105 [01:09<00:00,  1.51it/s, v_num=7, train_loss_step=0.272, val_loss=0.353, train_loss_epoch=0.257]"
     ]
    },
    {
     "name": "stderr",
     "output_type": "stream",
     "text": [
      "Metric val_loss improved by 0.004 >= min_delta = 0.0001. New best score: 0.353\n"
     ]
    },
    {
     "name": "stdout",
     "output_type": "stream",
     "text": [
      "Epoch 31: 100%|██████████| 105/105 [00:58<00:00,  1.79it/s, v_num=7, train_loss_step=0.319, val_loss=0.353, train_loss_epoch=0.257] Epoch 31: Valid Acc = 0.8699\n",
      "Epoch 31: 100%|██████████| 105/105 [01:05<00:00,  1.59it/s, v_num=7, train_loss_step=0.319, val_loss=0.334, train_loss_epoch=0.257]Epoch 31: Train Acc = 0.9187\n",
      "Epoch 31: 100%|██████████| 105/105 [01:10<00:00,  1.48it/s, v_num=7, train_loss_step=0.319, val_loss=0.334, train_loss_epoch=0.242]"
     ]
    },
    {
     "name": "stderr",
     "output_type": "stream",
     "text": [
      "Metric val_loss improved by 0.019 >= min_delta = 0.0001. New best score: 0.334\n"
     ]
    },
    {
     "name": "stdout",
     "output_type": "stream",
     "text": [
      "Epoch 32: 100%|██████████| 105/105 [01:01<00:00,  1.70it/s, v_num=7, train_loss_step=0.268, val_loss=0.334, train_loss_epoch=0.242]Epoch 32: Valid Acc = 0.8630\n",
      "Epoch 32: 100%|██████████| 105/105 [01:07<00:00,  1.55it/s, v_num=7, train_loss_step=0.268, val_loss=0.389, train_loss_epoch=0.242]Epoch 32: Train Acc = 0.9500\n",
      "Epoch 33: 100%|██████████| 105/105 [01:01<00:00,  1.72it/s, v_num=7, train_loss_step=0.260, val_loss=0.389, train_loss_epoch=0.238]Epoch 33: Valid Acc = 0.8562\n",
      "Epoch 33: 100%|██████████| 105/105 [01:08<00:00,  1.53it/s, v_num=7, train_loss_step=0.260, val_loss=0.364, train_loss_epoch=0.238]Epoch 33: Train Acc = 0.9062\n",
      "Epoch 34: 100%|██████████| 105/105 [00:59<00:00,  1.77it/s, v_num=7, train_loss_step=0.0879, val_loss=0.364, train_loss_epoch=0.254]Epoch 34: Valid Acc = 0.8699\n",
      "Epoch 34: 100%|██████████| 105/105 [01:05<00:00,  1.61it/s, v_num=7, train_loss_step=0.0879, val_loss=0.350, train_loss_epoch=0.254]Epoch 34: Train Acc = 0.8688\n",
      "Epoch 35: 100%|██████████| 105/105 [00:58<00:00,  1.79it/s, v_num=7, train_loss_step=0.157, val_loss=0.350, train_loss_epoch=0.231] Epoch 35: Valid Acc = 0.8767\n",
      "Epoch 35: 100%|██████████| 105/105 [01:05<00:00,  1.61it/s, v_num=7, train_loss_step=0.157, val_loss=0.323, train_loss_epoch=0.231]Epoch 35: Train Acc = 0.9187\n",
      "Epoch 35: 100%|██████████| 105/105 [01:10<00:00,  1.50it/s, v_num=7, train_loss_step=0.157, val_loss=0.323, train_loss_epoch=0.224]"
     ]
    },
    {
     "name": "stderr",
     "output_type": "stream",
     "text": [
      "Metric val_loss improved by 0.011 >= min_delta = 0.0001. New best score: 0.323\n"
     ]
    },
    {
     "name": "stdout",
     "output_type": "stream",
     "text": [
      "Epoch 36: 100%|██████████| 105/105 [01:03<00:00,  1.64it/s, v_num=7, train_loss_step=0.0888, val_loss=0.323, train_loss_epoch=0.224]Epoch 36: Valid Acc = 0.8630\n",
      "Epoch 36: 100%|██████████| 105/105 [01:10<00:00,  1.49it/s, v_num=7, train_loss_step=0.0888, val_loss=0.372, train_loss_epoch=0.224]Epoch 36: Train Acc = 0.9125\n",
      "Epoch 37: 100%|██████████| 105/105 [01:00<00:00,  1.74it/s, v_num=7, train_loss_step=0.186, val_loss=0.372, train_loss_epoch=0.215] Epoch 37: Valid Acc = 0.8699\n",
      "Epoch 37: 100%|██████████| 105/105 [01:07<00:00,  1.56it/s, v_num=7, train_loss_step=0.186, val_loss=0.341, train_loss_epoch=0.215]Epoch 37: Train Acc = 0.9500\n",
      "Epoch 38: 100%|██████████| 105/105 [01:00<00:00,  1.73it/s, v_num=7, train_loss_step=0.0715, val_loss=0.341, train_loss_epoch=0.215]Epoch 38: Valid Acc = 0.8630\n",
      "Epoch 38: 100%|██████████| 105/105 [01:08<00:00,  1.54it/s, v_num=7, train_loss_step=0.0715, val_loss=0.335, train_loss_epoch=0.215]Epoch 38: Train Acc = 0.9000\n",
      "Epoch 39: 100%|██████████| 105/105 [00:58<00:00,  1.80it/s, v_num=7, train_loss_step=0.0496, val_loss=0.335, train_loss_epoch=0.222]Epoch 39: Valid Acc = 0.8767\n",
      "Epoch 39: 100%|██████████| 105/105 [01:04<00:00,  1.63it/s, v_num=7, train_loss_step=0.0496, val_loss=0.316, train_loss_epoch=0.222]Epoch 39: Train Acc = 0.9125\n",
      "Epoch 39: 100%|██████████| 105/105 [01:09<00:00,  1.52it/s, v_num=7, train_loss_step=0.0496, val_loss=0.316, train_loss_epoch=0.225]"
     ]
    },
    {
     "name": "stderr",
     "output_type": "stream",
     "text": [
      "Metric val_loss improved by 0.007 >= min_delta = 0.0001. New best score: 0.316\n"
     ]
    },
    {
     "name": "stdout",
     "output_type": "stream",
     "text": [
      "Epoch 40: 100%|██████████| 105/105 [00:59<00:00,  1.76it/s, v_num=7, train_loss_step=0.350, val_loss=0.316, train_loss_epoch=0.225] Epoch 40: Valid Acc = 0.8699\n",
      "Epoch 40: 100%|██████████| 105/105 [01:05<00:00,  1.59it/s, v_num=7, train_loss_step=0.350, val_loss=0.281, train_loss_epoch=0.225]Epoch 40: Train Acc = 0.9750\n",
      "Epoch 40: 100%|██████████| 105/105 [01:10<00:00,  1.48it/s, v_num=7, train_loss_step=0.350, val_loss=0.281, train_loss_epoch=0.200]"
     ]
    },
    {
     "name": "stderr",
     "output_type": "stream",
     "text": [
      "Metric val_loss improved by 0.035 >= min_delta = 0.0001. New best score: 0.281\n"
     ]
    },
    {
     "name": "stdout",
     "output_type": "stream",
     "text": [
      "Epoch 41: 100%|██████████| 105/105 [00:58<00:00,  1.78it/s, v_num=7, train_loss_step=0.143, val_loss=0.281, train_loss_epoch=0.200] Epoch 41: Valid Acc = 0.8767\n",
      "Epoch 41: 100%|██████████| 105/105 [01:05<00:00,  1.60it/s, v_num=7, train_loss_step=0.143, val_loss=0.312, train_loss_epoch=0.200]Epoch 41: Train Acc = 0.9500\n",
      "Epoch 42: 100%|██████████| 105/105 [01:03<00:00,  1.65it/s, v_num=7, train_loss_step=0.293, val_loss=0.312, train_loss_epoch=0.200]Epoch 42: Valid Acc = 0.8630\n",
      "Epoch 42: 100%|██████████| 105/105 [01:10<00:00,  1.50it/s, v_num=7, train_loss_step=0.293, val_loss=0.342, train_loss_epoch=0.200]Epoch 42: Train Acc = 0.9250\n",
      "Epoch 43: 100%|██████████| 105/105 [01:02<00:00,  1.69it/s, v_num=7, train_loss_step=0.161, val_loss=0.342, train_loss_epoch=0.202] Epoch 43: Valid Acc = 0.8904\n",
      "Epoch 43: 100%|██████████| 105/105 [01:08<00:00,  1.52it/s, v_num=7, train_loss_step=0.161, val_loss=0.294, train_loss_epoch=0.202]Epoch 43: Train Acc = 0.9187\n",
      "Epoch 44: 100%|██████████| 105/105 [01:00<00:00,  1.74it/s, v_num=7, train_loss_step=0.238, val_loss=0.294, train_loss_epoch=0.195] Epoch 44: Valid Acc = 0.8699\n",
      "Epoch 44: 100%|██████████| 105/105 [01:06<00:00,  1.58it/s, v_num=7, train_loss_step=0.238, val_loss=0.286, train_loss_epoch=0.195]Epoch 44: Train Acc = 0.9187\n",
      "Epoch 45: 100%|██████████| 105/105 [00:56<00:00,  1.84it/s, v_num=7, train_loss_step=0.141, val_loss=0.286, train_loss_epoch=0.188] Epoch 45: Valid Acc = 0.8836\n",
      "Epoch 45: 100%|██████████| 105/105 [01:03<00:00,  1.65it/s, v_num=7, train_loss_step=0.141, val_loss=0.269, train_loss_epoch=0.188]Epoch 45: Train Acc = 0.9313\n",
      "Epoch 45: 100%|██████████| 105/105 [01:09<00:00,  1.52it/s, v_num=7, train_loss_step=0.141, val_loss=0.269, train_loss_epoch=0.186]"
     ]
    },
    {
     "name": "stderr",
     "output_type": "stream",
     "text": [
      "Metric val_loss improved by 0.012 >= min_delta = 0.0001. New best score: 0.269\n"
     ]
    },
    {
     "name": "stdout",
     "output_type": "stream",
     "text": [
      "Epoch 46: 100%|██████████| 105/105 [00:57<00:00,  1.83it/s, v_num=7, train_loss_step=0.127, val_loss=0.269, train_loss_epoch=0.186] Epoch 46: Valid Acc = 0.8767\n",
      "Epoch 46: 100%|██████████| 105/105 [01:04<00:00,  1.63it/s, v_num=7, train_loss_step=0.127, val_loss=0.326, train_loss_epoch=0.186]Epoch 46: Train Acc = 0.9250\n",
      "Epoch 47: 100%|██████████| 105/105 [00:57<00:00,  1.83it/s, v_num=7, train_loss_step=0.139, val_loss=0.326, train_loss_epoch=0.195] Epoch 47: Valid Acc = 0.9041\n",
      "Epoch 47: 100%|██████████| 105/105 [01:04<00:00,  1.62it/s, v_num=7, train_loss_step=0.139, val_loss=0.276, train_loss_epoch=0.195]Epoch 47: Train Acc = 0.9313\n",
      "Epoch 48: 100%|██████████| 105/105 [00:56<00:00,  1.86it/s, v_num=7, train_loss_step=0.320, val_loss=0.276, train_loss_epoch=0.172] Epoch 48: Valid Acc = 0.9247\n",
      "Epoch 48: 100%|██████████| 105/105 [01:04<00:00,  1.63it/s, v_num=7, train_loss_step=0.320, val_loss=0.235, train_loss_epoch=0.172]Epoch 48: Train Acc = 0.9688\n",
      "Epoch 48: 100%|██████████| 105/105 [01:09<00:00,  1.51it/s, v_num=7, train_loss_step=0.320, val_loss=0.235, train_loss_epoch=0.185]"
     ]
    },
    {
     "name": "stderr",
     "output_type": "stream",
     "text": [
      "Metric val_loss improved by 0.034 >= min_delta = 0.0001. New best score: 0.235\n"
     ]
    },
    {
     "name": "stdout",
     "output_type": "stream",
     "text": [
      "Epoch 49: 100%|██████████| 105/105 [01:00<00:00,  1.73it/s, v_num=7, train_loss_step=0.0261, val_loss=0.235, train_loss_epoch=0.185]Epoch 49: Valid Acc = 0.8836\n",
      "Epoch 49: 100%|██████████| 105/105 [01:08<00:00,  1.54it/s, v_num=7, train_loss_step=0.0261, val_loss=0.274, train_loss_epoch=0.185]Epoch 49: Train Acc = 0.9563\n",
      "Epoch 50: 100%|██████████| 105/105 [00:58<00:00,  1.81it/s, v_num=7, train_loss_step=0.181, val_loss=0.274, train_loss_epoch=0.172] Epoch 50: Valid Acc = 0.8973\n",
      "Epoch 50: 100%|██████████| 105/105 [01:05<00:00,  1.60it/s, v_num=7, train_loss_step=0.181, val_loss=0.270, train_loss_epoch=0.172]Epoch 50: Train Acc = 0.9625\n",
      "Epoch 51: 100%|██████████| 105/105 [01:02<00:00,  1.68it/s, v_num=7, train_loss_step=0.218, val_loss=0.270, train_loss_epoch=0.168] Epoch 51: Valid Acc = 0.9110\n",
      "Epoch 51: 100%|██████████| 105/105 [01:09<00:00,  1.51it/s, v_num=7, train_loss_step=0.218, val_loss=0.292, train_loss_epoch=0.168]Epoch 51: Train Acc = 0.9187\n",
      "Epoch 52: 100%|██████████| 105/105 [01:01<00:00,  1.71it/s, v_num=7, train_loss_step=0.103, val_loss=0.292, train_loss_epoch=0.174]Epoch 52: Valid Acc = 0.9315\n",
      "Epoch 52: 100%|██████████| 105/105 [01:07<00:00,  1.55it/s, v_num=7, train_loss_step=0.103, val_loss=0.229, train_loss_epoch=0.174]Epoch 52: Train Acc = 0.9563\n",
      "Epoch 52: 100%|██████████| 105/105 [01:12<00:00,  1.44it/s, v_num=7, train_loss_step=0.103, val_loss=0.229, train_loss_epoch=0.166]"
     ]
    },
    {
     "name": "stderr",
     "output_type": "stream",
     "text": [
      "Metric val_loss improved by 0.006 >= min_delta = 0.0001. New best score: 0.229\n"
     ]
    },
    {
     "name": "stdout",
     "output_type": "stream",
     "text": [
      "Epoch 53: 100%|██████████| 105/105 [00:56<00:00,  1.85it/s, v_num=7, train_loss_step=0.0328, val_loss=0.229, train_loss_epoch=0.166]Epoch 53: Valid Acc = 0.8973\n",
      "Epoch 53: 100%|██████████| 105/105 [01:03<00:00,  1.65it/s, v_num=7, train_loss_step=0.0328, val_loss=0.285, train_loss_epoch=0.166]Epoch 53: Train Acc = 0.9437\n",
      "Epoch 54: 100%|██████████| 105/105 [00:56<00:00,  1.86it/s, v_num=7, train_loss_step=0.0881, val_loss=0.285, train_loss_epoch=0.172]Epoch 54: Valid Acc = 0.8904\n",
      "Epoch 54: 100%|██████████| 105/105 [01:04<00:00,  1.63it/s, v_num=7, train_loss_step=0.0881, val_loss=0.290, train_loss_epoch=0.172]Epoch 54: Train Acc = 0.9250\n",
      "Epoch 55: 100%|██████████| 105/105 [00:55<00:00,  1.88it/s, v_num=7, train_loss_step=0.0659, val_loss=0.290, train_loss_epoch=0.174]Epoch 55: Valid Acc = 0.9041\n",
      "Epoch 55: 100%|██████████| 105/105 [01:03<00:00,  1.66it/s, v_num=7, train_loss_step=0.0659, val_loss=0.262, train_loss_epoch=0.174]Epoch 55: Train Acc = 0.9500\n",
      "Epoch 56: 100%|██████████| 105/105 [00:57<00:00,  1.84it/s, v_num=7, train_loss_step=0.119, val_loss=0.262, train_loss_epoch=0.164] Epoch 56: Valid Acc = 0.9041\n",
      "Epoch 56: 100%|██████████| 105/105 [01:03<00:00,  1.65it/s, v_num=7, train_loss_step=0.119, val_loss=0.222, train_loss_epoch=0.164]Epoch 56: Train Acc = 0.9688\n",
      "Epoch 56: 100%|██████████| 105/105 [01:08<00:00,  1.53it/s, v_num=7, train_loss_step=0.119, val_loss=0.222, train_loss_epoch=0.150]"
     ]
    },
    {
     "name": "stderr",
     "output_type": "stream",
     "text": [
      "Metric val_loss improved by 0.008 >= min_delta = 0.0001. New best score: 0.222\n"
     ]
    },
    {
     "name": "stdout",
     "output_type": "stream",
     "text": [
      "Epoch 57: 100%|██████████| 105/105 [00:55<00:00,  1.89it/s, v_num=7, train_loss_step=0.135, val_loss=0.222, train_loss_epoch=0.150] Epoch 57: Valid Acc = 0.9041\n",
      "Epoch 57: 100%|██████████| 105/105 [01:02<00:00,  1.69it/s, v_num=7, train_loss_step=0.135, val_loss=0.269, train_loss_epoch=0.150]Epoch 57: Train Acc = 0.9250\n",
      "Epoch 58: 100%|██████████| 105/105 [00:58<00:00,  1.81it/s, v_num=7, train_loss_step=0.164, val_loss=0.269, train_loss_epoch=0.142] Epoch 58: Valid Acc = 0.9247\n",
      "Epoch 58: 100%|██████████| 105/105 [01:05<00:00,  1.61it/s, v_num=7, train_loss_step=0.164, val_loss=0.205, train_loss_epoch=0.142]Epoch 58: Train Acc = 0.9625\n",
      "Epoch 58: 100%|██████████| 105/105 [01:10<00:00,  1.50it/s, v_num=7, train_loss_step=0.164, val_loss=0.205, train_loss_epoch=0.149]"
     ]
    },
    {
     "name": "stderr",
     "output_type": "stream",
     "text": [
      "Metric val_loss improved by 0.017 >= min_delta = 0.0001. New best score: 0.205\n"
     ]
    },
    {
     "name": "stdout",
     "output_type": "stream",
     "text": [
      "Epoch 59: 100%|██████████| 105/105 [00:56<00:00,  1.86it/s, v_num=7, train_loss_step=0.037, val_loss=0.205, train_loss_epoch=0.149] Epoch 59: Valid Acc = 0.9178\n",
      "Epoch 59: 100%|██████████| 105/105 [01:03<00:00,  1.66it/s, v_num=7, train_loss_step=0.037, val_loss=0.220, train_loss_epoch=0.149]Epoch 59: Train Acc = 0.9750\n",
      "Epoch 60: 100%|██████████| 105/105 [01:00<00:00,  1.75it/s, v_num=7, train_loss_step=0.137, val_loss=0.220, train_loss_epoch=0.156] Epoch 60: Valid Acc = 0.8973\n",
      "Epoch 60: 100%|██████████| 105/105 [01:07<00:00,  1.55it/s, v_num=7, train_loss_step=0.137, val_loss=0.333, train_loss_epoch=0.156]Epoch 60: Train Acc = 0.9750\n",
      "Epoch 61: 100%|██████████| 105/105 [00:55<00:00,  1.89it/s, v_num=7, train_loss_step=0.148, val_loss=0.333, train_loss_epoch=0.152] Epoch 61: Valid Acc = 0.9178\n",
      "Epoch 61: 100%|██████████| 105/105 [01:02<00:00,  1.67it/s, v_num=7, train_loss_step=0.148, val_loss=0.282, train_loss_epoch=0.152]Epoch 61: Train Acc = 0.9812\n",
      "Epoch 62: 100%|██████████| 105/105 [00:55<00:00,  1.91it/s, v_num=7, train_loss_step=0.114, val_loss=0.282, train_loss_epoch=0.138] Epoch 62: Valid Acc = 0.9315\n",
      "Epoch 62: 100%|██████████| 105/105 [01:02<00:00,  1.68it/s, v_num=7, train_loss_step=0.114, val_loss=0.239, train_loss_epoch=0.138]Epoch 62: Train Acc = 0.9875\n",
      "Epoch 63: 100%|██████████| 105/105 [00:55<00:00,  1.89it/s, v_num=7, train_loss_step=0.276, val_loss=0.239, train_loss_epoch=0.127] Epoch 63: Valid Acc = 0.9041\n",
      "Epoch 63: 100%|██████████| 105/105 [01:02<00:00,  1.68it/s, v_num=7, train_loss_step=0.276, val_loss=0.325, train_loss_epoch=0.127]Epoch 63: Train Acc = 0.9688\n",
      "Epoch 64: 100%|██████████| 105/105 [00:58<00:00,  1.81it/s, v_num=7, train_loss_step=0.317, val_loss=0.325, train_loss_epoch=0.120] Epoch 64: Valid Acc = 0.9315\n",
      "Epoch 64: 100%|██████████| 105/105 [01:04<00:00,  1.63it/s, v_num=7, train_loss_step=0.317, val_loss=0.260, train_loss_epoch=0.120]Epoch 64: Train Acc = 0.9625\n",
      "Epoch 65: 100%|██████████| 105/105 [00:56<00:00,  1.87it/s, v_num=7, train_loss_step=0.168, val_loss=0.260, train_loss_epoch=0.156] Epoch 65: Valid Acc = 0.9247\n",
      "Epoch 65: 100%|██████████| 105/105 [01:03<00:00,  1.66it/s, v_num=7, train_loss_step=0.168, val_loss=0.247, train_loss_epoch=0.156]Epoch 65: Train Acc = 0.9875\n",
      "Epoch 66: 100%|██████████| 105/105 [00:55<00:00,  1.88it/s, v_num=7, train_loss_step=0.0469, val_loss=0.247, train_loss_epoch=0.128]Epoch 66: Valid Acc = 0.9452\n",
      "Epoch 66: 100%|██████████| 105/105 [01:02<00:00,  1.68it/s, v_num=7, train_loss_step=0.0469, val_loss=0.201, train_loss_epoch=0.128]Epoch 66: Train Acc = 0.9625\n",
      "Epoch 66: 100%|██████████| 105/105 [01:07<00:00,  1.56it/s, v_num=7, train_loss_step=0.0469, val_loss=0.201, train_loss_epoch=0.122]"
     ]
    },
    {
     "name": "stderr",
     "output_type": "stream",
     "text": [
      "Metric val_loss improved by 0.005 >= min_delta = 0.0001. New best score: 0.201\n"
     ]
    },
    {
     "name": "stdout",
     "output_type": "stream",
     "text": [
      "Epoch 67: 100%|██████████| 105/105 [00:56<00:00,  1.87it/s, v_num=7, train_loss_step=0.142, val_loss=0.201, train_loss_epoch=0.122] Epoch 67: Valid Acc = 0.9247\n",
      "Epoch 67: 100%|██████████| 105/105 [01:02<00:00,  1.68it/s, v_num=7, train_loss_step=0.142, val_loss=0.253, train_loss_epoch=0.122]Epoch 67: Train Acc = 0.9563\n",
      "Epoch 68: 100%|██████████| 105/105 [00:54<00:00,  1.91it/s, v_num=7, train_loss_step=0.105, val_loss=0.253, train_loss_epoch=0.130] Epoch 68: Valid Acc = 0.9315\n",
      "Epoch 68: 100%|██████████| 105/105 [01:01<00:00,  1.70it/s, v_num=7, train_loss_step=0.105, val_loss=0.192, train_loss_epoch=0.130]Epoch 68: Train Acc = 0.9938\n",
      "Epoch 68: 100%|██████████| 105/105 [01:06<00:00,  1.57it/s, v_num=7, train_loss_step=0.105, val_loss=0.192, train_loss_epoch=0.116]"
     ]
    },
    {
     "name": "stderr",
     "output_type": "stream",
     "text": [
      "Metric val_loss improved by 0.009 >= min_delta = 0.0001. New best score: 0.192\n"
     ]
    },
    {
     "name": "stdout",
     "output_type": "stream",
     "text": [
      "Epoch 69: 100%|██████████| 105/105 [00:55<00:00,  1.90it/s, v_num=7, train_loss_step=0.167, val_loss=0.192, train_loss_epoch=0.116] Epoch 69: Valid Acc = 0.9315\n",
      "Epoch 69: 100%|██████████| 105/105 [01:01<00:00,  1.70it/s, v_num=7, train_loss_step=0.167, val_loss=0.202, train_loss_epoch=0.116]Epoch 69: Train Acc = 0.9625\n",
      "Epoch 70: 100%|██████████| 105/105 [00:55<00:00,  1.88it/s, v_num=7, train_loss_step=0.0502, val_loss=0.202, train_loss_epoch=0.117]Epoch 70: Valid Acc = 0.9315\n",
      "Epoch 70: 100%|██████████| 105/105 [01:02<00:00,  1.68it/s, v_num=7, train_loss_step=0.0502, val_loss=0.249, train_loss_epoch=0.117]Epoch 70: Train Acc = 0.9750\n",
      "Epoch 71: 100%|██████████| 105/105 [00:55<00:00,  1.89it/s, v_num=7, train_loss_step=0.0521, val_loss=0.249, train_loss_epoch=0.116]Epoch 71: Valid Acc = 0.9178\n",
      "Epoch 71: 100%|██████████| 105/105 [01:02<00:00,  1.67it/s, v_num=7, train_loss_step=0.0521, val_loss=0.258, train_loss_epoch=0.116]Epoch 71: Train Acc = 0.9625\n",
      "Epoch 72: 100%|██████████| 105/105 [00:55<00:00,  1.89it/s, v_num=7, train_loss_step=0.00772, val_loss=0.258, train_loss_epoch=0.118]Epoch 72: Valid Acc = 0.9384\n",
      "Epoch 72: 100%|██████████| 105/105 [01:02<00:00,  1.68it/s, v_num=7, train_loss_step=0.00772, val_loss=0.235, train_loss_epoch=0.118]Epoch 72: Train Acc = 0.9750\n",
      "Epoch 73: 100%|██████████| 105/105 [00:55<00:00,  1.88it/s, v_num=7, train_loss_step=0.185, val_loss=0.235, train_loss_epoch=0.123]  Epoch 73: Valid Acc = 0.9384\n",
      "Epoch 73: 100%|██████████| 105/105 [01:02<00:00,  1.69it/s, v_num=7, train_loss_step=0.185, val_loss=0.234, train_loss_epoch=0.123]Epoch 73: Train Acc = 0.9812\n",
      "Epoch 74: 100%|██████████| 105/105 [00:55<00:00,  1.89it/s, v_num=7, train_loss_step=0.0625, val_loss=0.234, train_loss_epoch=0.107]Epoch 74: Valid Acc = 0.9247\n",
      "Epoch 74: 100%|██████████| 105/105 [01:02<00:00,  1.68it/s, v_num=7, train_loss_step=0.0625, val_loss=0.298, train_loss_epoch=0.107]Epoch 74: Train Acc = 0.9938\n",
      "Epoch 75: 100%|██████████| 105/105 [00:56<00:00,  1.85it/s, v_num=7, train_loss_step=0.305, val_loss=0.298, train_loss_epoch=0.109] Epoch 75: Valid Acc = 0.9315\n",
      "Epoch 75: 100%|██████████| 105/105 [01:03<00:00,  1.67it/s, v_num=7, train_loss_step=0.305, val_loss=0.255, train_loss_epoch=0.109]Epoch 75: Train Acc = 0.9563\n",
      "Epoch 76: 100%|██████████| 105/105 [00:57<00:00,  1.83it/s, v_num=7, train_loss_step=0.0162, val_loss=0.255, train_loss_epoch=0.115] Epoch 76: Valid Acc = 0.9384\n",
      "Epoch 76: 100%|██████████| 105/105 [01:05<00:00,  1.61it/s, v_num=7, train_loss_step=0.0162, val_loss=0.266, train_loss_epoch=0.115]Epoch 76: Train Acc = 0.9688\n",
      "Epoch 77: 100%|██████████| 105/105 [00:59<00:00,  1.75it/s, v_num=7, train_loss_step=0.0464, val_loss=0.266, train_loss_epoch=0.108] Epoch 77: Valid Acc = 0.9384\n",
      "Epoch 77: 100%|██████████| 105/105 [01:06<00:00,  1.58it/s, v_num=7, train_loss_step=0.0464, val_loss=0.246, train_loss_epoch=0.108]Epoch 77: Train Acc = 0.9750\n",
      "Epoch 78: 100%|██████████| 105/105 [00:57<00:00,  1.84it/s, v_num=7, train_loss_step=0.00674, val_loss=0.246, train_loss_epoch=0.120]Epoch 78: Valid Acc = 0.9384\n",
      "Epoch 78: 100%|██████████| 105/105 [01:03<00:00,  1.65it/s, v_num=7, train_loss_step=0.00674, val_loss=0.262, train_loss_epoch=0.120]Epoch 78: Train Acc = 0.9938\n",
      "Epoch 79: 100%|██████████| 105/105 [00:55<00:00,  1.89it/s, v_num=7, train_loss_step=0.0169, val_loss=0.262, train_loss_epoch=0.103] Epoch 79: Valid Acc = 0.9315\n",
      "Epoch 79: 100%|██████████| 105/105 [01:03<00:00,  1.64it/s, v_num=7, train_loss_step=0.0169, val_loss=0.259, train_loss_epoch=0.103]Epoch 79: Train Acc = 0.9750\n",
      "Epoch 80: 100%|██████████| 105/105 [00:57<00:00,  1.84it/s, v_num=7, train_loss_step=0.420, val_loss=0.259, train_loss_epoch=0.105]  Epoch 80: Valid Acc = 0.9315\n",
      "Epoch 80: 100%|██████████| 105/105 [01:04<00:00,  1.62it/s, v_num=7, train_loss_step=0.420, val_loss=0.287, train_loss_epoch=0.105]Epoch 80: Train Acc = 0.9375\n",
      "Epoch 81: 100%|██████████| 105/105 [00:54<00:00,  1.91it/s, v_num=7, train_loss_step=0.0698, val_loss=0.287, train_loss_epoch=0.101] Epoch 81: Valid Acc = 0.9384\n",
      "Epoch 81: 100%|██████████| 105/105 [01:01<00:00,  1.71it/s, v_num=7, train_loss_step=0.0698, val_loss=0.279, train_loss_epoch=0.101]Epoch 81: Train Acc = 0.9938\n",
      "Epoch 82: 100%|██████████| 105/105 [00:56<00:00,  1.87it/s, v_num=7, train_loss_step=0.119, val_loss=0.279, train_loss_epoch=0.0975] Epoch 82: Valid Acc = 0.9315\n",
      "Epoch 82: 100%|██████████| 105/105 [01:02<00:00,  1.68it/s, v_num=7, train_loss_step=0.119, val_loss=0.281, train_loss_epoch=0.0975]Epoch 82: Train Acc = 0.9313\n",
      "Epoch 83: 100%|██████████| 105/105 [00:55<00:00,  1.89it/s, v_num=7, train_loss_step=0.103, val_loss=0.281, train_loss_epoch=0.105]  Epoch 83: Valid Acc = 0.9315\n",
      "Epoch 83: 100%|██████████| 105/105 [01:01<00:00,  1.69it/s, v_num=7, train_loss_step=0.103, val_loss=0.302, train_loss_epoch=0.105]Epoch 83: Train Acc = 0.9688\n",
      "Epoch 84: 100%|██████████| 105/105 [00:56<00:00,  1.84it/s, v_num=7, train_loss_step=0.110, val_loss=0.302, train_loss_epoch=0.0989] Epoch 84: Valid Acc = 0.9315\n",
      "Epoch 84: 100%|██████████| 105/105 [01:04<00:00,  1.64it/s, v_num=7, train_loss_step=0.110, val_loss=0.283, train_loss_epoch=0.0989]Epoch 84: Train Acc = 0.9875\n",
      "Epoch 85: 100%|██████████| 105/105 [00:55<00:00,  1.91it/s, v_num=7, train_loss_step=0.00755, val_loss=0.283, train_loss_epoch=0.114]Epoch 85: Valid Acc = 0.9452\n",
      "Epoch 85: 100%|██████████| 105/105 [01:02<00:00,  1.69it/s, v_num=7, train_loss_step=0.00755, val_loss=0.250, train_loss_epoch=0.114]Epoch 85: Train Acc = 0.9750\n",
      "Epoch 86: 100%|██████████| 105/105 [00:55<00:00,  1.90it/s, v_num=7, train_loss_step=0.102, val_loss=0.250, train_loss_epoch=0.112]  Epoch 86: Valid Acc = 0.9384\n",
      "Epoch 86: 100%|██████████| 105/105 [01:02<00:00,  1.69it/s, v_num=7, train_loss_step=0.102, val_loss=0.276, train_loss_epoch=0.112]Epoch 86: Train Acc = 0.9688\n",
      "Epoch 87: 100%|██████████| 105/105 [00:55<00:00,  1.90it/s, v_num=7, train_loss_step=0.00703, val_loss=0.276, train_loss_epoch=0.112]Epoch 87: Valid Acc = 0.9315\n",
      "Epoch 87: 100%|██████████| 105/105 [01:02<00:00,  1.69it/s, v_num=7, train_loss_step=0.00703, val_loss=0.280, train_loss_epoch=0.112]Epoch 87: Train Acc = 0.9812\n",
      "Epoch 88: 100%|██████████| 105/105 [00:55<00:00,  1.90it/s, v_num=7, train_loss_step=0.130, val_loss=0.280, train_loss_epoch=0.0962]  Epoch 88: Valid Acc = 0.9315\n",
      "Epoch 88: 100%|██████████| 105/105 [01:02<00:00,  1.69it/s, v_num=7, train_loss_step=0.130, val_loss=0.297, train_loss_epoch=0.0962]Epoch 88: Train Acc = 0.9875\n",
      "Epoch 89: 100%|██████████| 105/105 [00:55<00:00,  1.91it/s, v_num=7, train_loss_step=0.186, val_loss=0.297, train_loss_epoch=0.0931] Epoch 89: Valid Acc = 0.9315\n",
      "Epoch 89: 100%|██████████| 105/105 [01:01<00:00,  1.70it/s, v_num=7, train_loss_step=0.186, val_loss=0.295, train_loss_epoch=0.0931]Epoch 89: Train Acc = 0.9750\n",
      "Epoch 90: 100%|██████████| 105/105 [00:55<00:00,  1.90it/s, v_num=7, train_loss_step=0.133, val_loss=0.295, train_loss_epoch=0.101] Epoch 90: Valid Acc = 0.9315\n",
      "Epoch 90: 100%|██████████| 105/105 [01:02<00:00,  1.68it/s, v_num=7, train_loss_step=0.133, val_loss=0.286, train_loss_epoch=0.101]Epoch 90: Train Acc = 0.9938\n",
      "Epoch 91: 100%|██████████| 105/105 [00:55<00:00,  1.89it/s, v_num=7, train_loss_step=0.139, val_loss=0.286, train_loss_epoch=0.109] Epoch 91: Valid Acc = 0.9384\n",
      "Epoch 91: 100%|██████████| 105/105 [01:02<00:00,  1.68it/s, v_num=7, train_loss_step=0.139, val_loss=0.281, train_loss_epoch=0.109]Epoch 91: Train Acc = 0.9812\n",
      "Epoch 92: 100%|██████████| 105/105 [00:55<00:00,  1.89it/s, v_num=7, train_loss_step=0.0441, val_loss=0.281, train_loss_epoch=0.0922] Epoch 92: Valid Acc = 0.9315\n",
      "Epoch 92: 100%|██████████| 105/105 [01:01<00:00,  1.70it/s, v_num=7, train_loss_step=0.0441, val_loss=0.286, train_loss_epoch=0.0922]Epoch 92: Train Acc = 0.9563\n",
      "Epoch 93: 100%|██████████| 105/105 [00:57<00:00,  1.83it/s, v_num=7, train_loss_step=0.0992, val_loss=0.286, train_loss_epoch=0.0955]Epoch 93: Valid Acc = 0.9384\n",
      "Epoch 93: 100%|██████████| 105/105 [01:05<00:00,  1.61it/s, v_num=7, train_loss_step=0.0992, val_loss=0.284, train_loss_epoch=0.0955]Epoch 93: Train Acc = 0.9812\n",
      "Epoch 94: 100%|██████████| 105/105 [00:56<00:00,  1.87it/s, v_num=7, train_loss_step=0.015, val_loss=0.284, train_loss_epoch=0.0987]  Epoch 94: Valid Acc = 0.9384\n",
      "Epoch 94: 100%|██████████| 105/105 [01:03<00:00,  1.65it/s, v_num=7, train_loss_step=0.015, val_loss=0.278, train_loss_epoch=0.0987]Epoch 94: Train Acc = 0.9875\n",
      "Epoch 95: 100%|██████████| 105/105 [00:57<00:00,  1.84it/s, v_num=7, train_loss_step=0.134, val_loss=0.278, train_loss_epoch=0.0905] Epoch 95: Valid Acc = 0.9384\n",
      "Epoch 95: 100%|██████████| 105/105 [01:03<00:00,  1.65it/s, v_num=7, train_loss_step=0.134, val_loss=0.280, train_loss_epoch=0.0905]Epoch 95: Train Acc = 0.9750\n",
      "Epoch 96: 100%|██████████| 105/105 [00:58<00:00,  1.79it/s, v_num=7, train_loss_step=0.00943, val_loss=0.280, train_loss_epoch=0.101]Epoch 96: Valid Acc = 0.9384\n",
      "Epoch 96: 100%|██████████| 105/105 [01:05<00:00,  1.61it/s, v_num=7, train_loss_step=0.00943, val_loss=0.277, train_loss_epoch=0.101]Epoch 96: Train Acc = 0.9938\n",
      "Epoch 97: 100%|██████████| 105/105 [00:57<00:00,  1.83it/s, v_num=7, train_loss_step=0.00923, val_loss=0.277, train_loss_epoch=0.103]Epoch 97: Valid Acc = 0.9384\n",
      "Epoch 97: 100%|██████████| 105/105 [01:04<00:00,  1.62it/s, v_num=7, train_loss_step=0.00923, val_loss=0.295, train_loss_epoch=0.103]Epoch 97: Train Acc = 0.9625\n",
      "Epoch 98: 100%|██████████| 105/105 [00:58<00:00,  1.80it/s, v_num=7, train_loss_step=0.0288, val_loss=0.295, train_loss_epoch=0.105] Epoch 98: Valid Acc = 0.9384\n",
      "Epoch 98: 100%|██████████| 105/105 [01:04<00:00,  1.62it/s, v_num=7, train_loss_step=0.0288, val_loss=0.284, train_loss_epoch=0.105]Epoch 98: Train Acc = 0.9812\n",
      "Epoch 99: 100%|██████████| 105/105 [00:57<00:00,  1.82it/s, v_num=7, train_loss_step=0.0493, val_loss=0.284, train_loss_epoch=0.106] Epoch 99: Valid Acc = 0.9384\n",
      "Epoch 99: 100%|██████████| 105/105 [01:05<00:00,  1.60it/s, v_num=7, train_loss_step=0.0493, val_loss=0.288, train_loss_epoch=0.106]Epoch 99: Train Acc = 0.9812\n",
      "Epoch 100: 100%|██████████| 105/105 [01:21<00:00,  1.29it/s, v_num=7, train_loss_step=0.249, val_loss=0.288, train_loss_epoch=0.0964] Epoch 100: Valid Acc = 0.9384\n",
      "Epoch 100: 100%|██████████| 105/105 [01:30<00:00,  1.16it/s, v_num=7, train_loss_step=0.249, val_loss=0.294, train_loss_epoch=0.0964]Epoch 100: Train Acc = 0.9812\n",
      "Epoch 101: 100%|██████████| 105/105 [01:00<00:00,  1.72it/s, v_num=7, train_loss_step=0.204, val_loss=0.294, train_loss_epoch=0.119]  Epoch 101: Valid Acc = 0.9384\n",
      "Epoch 101: 100%|██████████| 105/105 [01:07<00:00,  1.55it/s, v_num=7, train_loss_step=0.204, val_loss=0.286, train_loss_epoch=0.119]Epoch 101: Train Acc = 0.9688\n",
      "Epoch 102: 100%|██████████| 105/105 [00:58<00:00,  1.78it/s, v_num=7, train_loss_step=0.026, val_loss=0.286, train_loss_epoch=0.115]  Epoch 102: Valid Acc = 0.9315\n",
      "Epoch 102: 100%|██████████| 105/105 [01:06<00:00,  1.57it/s, v_num=7, train_loss_step=0.026, val_loss=0.280, train_loss_epoch=0.115]Epoch 102: Train Acc = 0.9812\n",
      "Epoch 103: 100%|██████████| 105/105 [00:58<00:00,  1.79it/s, v_num=7, train_loss_step=0.307, val_loss=0.280, train_loss_epoch=0.0976] Epoch 103: Valid Acc = 0.9384\n",
      "Epoch 103: 100%|██████████| 105/105 [01:05<00:00,  1.60it/s, v_num=7, train_loss_step=0.307, val_loss=0.272, train_loss_epoch=0.0976]Epoch 103: Train Acc = 0.9625\n",
      "Epoch 104: 100%|██████████| 105/105 [01:02<00:00,  1.68it/s, v_num=7, train_loss_step=0.00571, val_loss=0.272, train_loss_epoch=0.106]Epoch 104: Valid Acc = 0.9384\n",
      "Epoch 104: 100%|██████████| 105/105 [01:10<00:00,  1.49it/s, v_num=7, train_loss_step=0.00571, val_loss=0.290, train_loss_epoch=0.106]Epoch 104: Train Acc = 0.9750\n",
      "Epoch 105: 100%|██████████| 105/105 [01:00<00:00,  1.72it/s, v_num=7, train_loss_step=0.0256, val_loss=0.290, train_loss_epoch=0.0949] Epoch 105: Valid Acc = 0.9384\n",
      "Epoch 105: 100%|██████████| 105/105 [01:07<00:00,  1.55it/s, v_num=7, train_loss_step=0.0256, val_loss=0.282, train_loss_epoch=0.0949]Epoch 105: Train Acc = 0.9750\n",
      "Epoch 106: 100%|██████████| 105/105 [00:58<00:00,  1.79it/s, v_num=7, train_loss_step=0.0197, val_loss=0.282, train_loss_epoch=0.0946] Epoch 106: Valid Acc = 0.9384\n",
      "Epoch 106: 100%|██████████| 105/105 [01:04<00:00,  1.62it/s, v_num=7, train_loss_step=0.0197, val_loss=0.281, train_loss_epoch=0.0946]Epoch 106: Train Acc = 0.9563\n",
      "Epoch 107: 100%|██████████| 105/105 [00:56<00:00,  1.85it/s, v_num=7, train_loss_step=0.137, val_loss=0.281, train_loss_epoch=0.105]  Epoch 107: Valid Acc = 0.9384\n",
      "Epoch 107: 100%|██████████| 105/105 [01:03<00:00,  1.65it/s, v_num=7, train_loss_step=0.137, val_loss=0.292, train_loss_epoch=0.105]Epoch 107: Train Acc = 0.9875\n",
      "Epoch 108: 100%|██████████| 105/105 [00:57<00:00,  1.81it/s, v_num=7, train_loss_step=0.0886, val_loss=0.292, train_loss_epoch=0.0981] Epoch 108: Valid Acc = 0.9384\n",
      "Epoch 108: 100%|██████████| 105/105 [01:04<00:00,  1.62it/s, v_num=7, train_loss_step=0.0886, val_loss=0.280, train_loss_epoch=0.0981]Epoch 108: Train Acc = 0.9688\n",
      "Epoch 109: 100%|██████████| 105/105 [00:57<00:00,  1.83it/s, v_num=7, train_loss_step=0.00781, val_loss=0.280, train_loss_epoch=0.108]Epoch 109: Valid Acc = 0.9384\n",
      "Epoch 109: 100%|██████████| 105/105 [01:04<00:00,  1.62it/s, v_num=7, train_loss_step=0.00781, val_loss=0.281, train_loss_epoch=0.108]Epoch 109: Train Acc = 0.9812\n",
      "Epoch 110: 100%|██████████| 105/105 [00:56<00:00,  1.85it/s, v_num=7, train_loss_step=0.148, val_loss=0.281, train_loss_epoch=0.105]  Epoch 110: Valid Acc = 0.9452\n",
      "Epoch 110: 100%|██████████| 105/105 [01:03<00:00,  1.66it/s, v_num=7, train_loss_step=0.148, val_loss=0.270, train_loss_epoch=0.105]Epoch 110: Train Acc = 0.9812\n",
      "Epoch 111: 100%|██████████| 105/105 [00:57<00:00,  1.82it/s, v_num=7, train_loss_step=0.101, val_loss=0.270, train_loss_epoch=0.0971] Epoch 111: Valid Acc = 0.9384\n",
      "Epoch 111: 100%|██████████| 105/105 [01:04<00:00,  1.64it/s, v_num=7, train_loss_step=0.101, val_loss=0.271, train_loss_epoch=0.0971]Epoch 111: Train Acc = 0.9938\n",
      "Epoch 112: 100%|██████████| 105/105 [00:56<00:00,  1.85it/s, v_num=7, train_loss_step=0.211, val_loss=0.271, train_loss_epoch=0.100]  Epoch 112: Valid Acc = 0.9384\n",
      "Epoch 112: 100%|██████████| 105/105 [01:03<00:00,  1.66it/s, v_num=7, train_loss_step=0.211, val_loss=0.267, train_loss_epoch=0.100]Epoch 112: Train Acc = 0.9688\n",
      "Epoch 113: 100%|██████████| 105/105 [00:57<00:00,  1.81it/s, v_num=7, train_loss_step=0.0645, val_loss=0.267, train_loss_epoch=0.102] Epoch 113: Valid Acc = 0.9384\n",
      "Epoch 113: 100%|██████████| 105/105 [01:05<00:00,  1.61it/s, v_num=7, train_loss_step=0.0645, val_loss=0.282, train_loss_epoch=0.102]Epoch 113: Train Acc = 0.9688\n",
      "Epoch 114: 100%|██████████| 105/105 [00:57<00:00,  1.84it/s, v_num=7, train_loss_step=0.00624, val_loss=0.282, train_loss_epoch=0.0986]Epoch 114: Valid Acc = 0.9384\n",
      "Epoch 114: 100%|██████████| 105/105 [01:03<00:00,  1.65it/s, v_num=7, train_loss_step=0.00624, val_loss=0.293, train_loss_epoch=0.0986]Epoch 114: Train Acc = 0.9688\n",
      "Epoch 115: 100%|██████████| 105/105 [00:58<00:00,  1.79it/s, v_num=7, train_loss_step=0.0044, val_loss=0.293, train_loss_epoch=0.0906] Epoch 115: Valid Acc = 0.9384\n",
      "Epoch 115: 100%|██████████| 105/105 [01:05<00:00,  1.61it/s, v_num=7, train_loss_step=0.0044, val_loss=0.286, train_loss_epoch=0.0906]Epoch 115: Train Acc = 0.9688\n",
      "Epoch 116: 100%|██████████| 105/105 [00:59<00:00,  1.78it/s, v_num=7, train_loss_step=0.174, val_loss=0.286, train_loss_epoch=0.102]  Epoch 116: Valid Acc = 0.9384\n",
      "Epoch 116: 100%|██████████| 105/105 [01:06<00:00,  1.59it/s, v_num=7, train_loss_step=0.174, val_loss=0.268, train_loss_epoch=0.102]Epoch 116: Train Acc = 0.9688\n",
      "Epoch 117: 100%|██████████| 105/105 [00:55<00:00,  1.89it/s, v_num=7, train_loss_step=0.191, val_loss=0.268, train_loss_epoch=0.0951]  Epoch 117: Valid Acc = 0.9384\n",
      "Epoch 117: 100%|██████████| 105/105 [01:02<00:00,  1.69it/s, v_num=7, train_loss_step=0.191, val_loss=0.287, train_loss_epoch=0.0951]Epoch 117: Train Acc = 0.9563\n",
      "Epoch 118: 100%|██████████| 105/105 [00:58<00:00,  1.80it/s, v_num=7, train_loss_step=0.0304, val_loss=0.287, train_loss_epoch=0.103]Epoch 118: Valid Acc = 0.9384\n",
      "Epoch 118: 100%|██████████| 105/105 [01:06<00:00,  1.57it/s, v_num=7, train_loss_step=0.0304, val_loss=0.291, train_loss_epoch=0.103]Epoch 118: Train Acc = 0.9688\n",
      "Epoch 119: 100%|██████████| 105/105 [00:59<00:00,  1.75it/s, v_num=7, train_loss_step=0.137, val_loss=0.291, train_loss_epoch=0.0859] Epoch 119: Valid Acc = 0.9315\n",
      "Epoch 119: 100%|██████████| 105/105 [01:07<00:00,  1.56it/s, v_num=7, train_loss_step=0.137, val_loss=0.286, train_loss_epoch=0.0859]Epoch 119: Train Acc = 0.9875\n",
      "Epoch 120: 100%|██████████| 105/105 [00:57<00:00,  1.81it/s, v_num=7, train_loss_step=0.00705, val_loss=0.286, train_loss_epoch=0.102]Epoch 120: Valid Acc = 0.9384\n",
      "Epoch 120: 100%|██████████| 105/105 [01:04<00:00,  1.62it/s, v_num=7, train_loss_step=0.00705, val_loss=0.292, train_loss_epoch=0.102]Epoch 120: Train Acc = 0.9500\n",
      "Epoch 121: 100%|██████████| 105/105 [00:56<00:00,  1.87it/s, v_num=7, train_loss_step=0.0128, val_loss=0.292, train_loss_epoch=0.0944] Epoch 121: Valid Acc = 0.9384\n",
      "Epoch 121: 100%|██████████| 105/105 [01:02<00:00,  1.67it/s, v_num=7, train_loss_step=0.0128, val_loss=0.305, train_loss_epoch=0.0944]Epoch 121: Train Acc = 0.9875\n",
      "Epoch 122: 100%|██████████| 105/105 [00:59<00:00,  1.77it/s, v_num=7, train_loss_step=0.503, val_loss=0.305, train_loss_epoch=0.095]  Epoch 122: Valid Acc = 0.9384\n",
      "Epoch 122: 100%|██████████| 105/105 [01:06<00:00,  1.57it/s, v_num=7, train_loss_step=0.503, val_loss=0.289, train_loss_epoch=0.095]Epoch 122: Train Acc = 0.9688\n",
      "Epoch 123: 100%|██████████| 105/105 [00:59<00:00,  1.76it/s, v_num=7, train_loss_step=0.00736, val_loss=0.289, train_loss_epoch=0.0961]Epoch 123: Valid Acc = 0.9384\n",
      "Epoch 123: 100%|██████████| 105/105 [01:06<00:00,  1.57it/s, v_num=7, train_loss_step=0.00736, val_loss=0.289, train_loss_epoch=0.0961]Epoch 123: Train Acc = 0.9688\n",
      "Epoch 124: 100%|██████████| 105/105 [01:00<00:00,  1.75it/s, v_num=7, train_loss_step=0.167, val_loss=0.289, train_loss_epoch=0.098]   Epoch 124: Valid Acc = 0.9384\n",
      "Epoch 124: 100%|██████████| 105/105 [01:07<00:00,  1.56it/s, v_num=7, train_loss_step=0.167, val_loss=0.290, train_loss_epoch=0.098]Epoch 124: Train Acc = 0.9625\n",
      "Epoch 125: 100%|██████████| 105/105 [01:00<00:00,  1.74it/s, v_num=7, train_loss_step=0.0057, val_loss=0.290, train_loss_epoch=0.0978] Epoch 125: Valid Acc = 0.9384\n",
      "Epoch 125: 100%|██████████| 105/105 [01:07<00:00,  1.56it/s, v_num=7, train_loss_step=0.0057, val_loss=0.291, train_loss_epoch=0.0978]Epoch 125: Train Acc = 0.9750\n",
      "Epoch 126: 100%|██████████| 105/105 [00:57<00:00,  1.83it/s, v_num=7, train_loss_step=0.0122, val_loss=0.291, train_loss_epoch=0.0979] Epoch 126: Valid Acc = 0.9384\n",
      "Epoch 126: 100%|██████████| 105/105 [01:04<00:00,  1.63it/s, v_num=7, train_loss_step=0.0122, val_loss=0.279, train_loss_epoch=0.0979]Epoch 126: Train Acc = 0.9938\n",
      "Epoch 127: 100%|██████████| 105/105 [00:56<00:00,  1.86it/s, v_num=7, train_loss_step=0.019, val_loss=0.279, train_loss_epoch=0.106]  Epoch 127: Valid Acc = 0.9384\n",
      "Epoch 127: 100%|██████████| 105/105 [01:03<00:00,  1.66it/s, v_num=7, train_loss_step=0.019, val_loss=0.304, train_loss_epoch=0.106]Epoch 127: Train Acc = 0.9688\n",
      "Epoch 128: 100%|██████████| 105/105 [00:58<00:00,  1.80it/s, v_num=7, train_loss_step=0.0394, val_loss=0.304, train_loss_epoch=0.0996] Epoch 128: Valid Acc = 0.9452\n",
      "Epoch 128: 100%|██████████| 105/105 [01:05<00:00,  1.61it/s, v_num=7, train_loss_step=0.0394, val_loss=0.280, train_loss_epoch=0.0996]Epoch 128: Train Acc = 0.9750\n",
      "Epoch 129: 100%|██████████| 105/105 [00:59<00:00,  1.78it/s, v_num=7, train_loss_step=0.00389, val_loss=0.280, train_loss_epoch=0.0969]Epoch 129: Valid Acc = 0.9384\n",
      "Epoch 129: 100%|██████████| 105/105 [01:06<00:00,  1.58it/s, v_num=7, train_loss_step=0.00389, val_loss=0.304, train_loss_epoch=0.0969]Epoch 129: Train Acc = 0.9938\n",
      "Epoch 130: 100%|██████████| 105/105 [00:57<00:00,  1.81it/s, v_num=7, train_loss_step=0.018, val_loss=0.304, train_loss_epoch=0.102]   Epoch 130: Valid Acc = 0.9384\n",
      "Epoch 130: 100%|██████████| 105/105 [01:05<00:00,  1.61it/s, v_num=7, train_loss_step=0.018, val_loss=0.308, train_loss_epoch=0.102]Epoch 130: Train Acc = 0.9938\n",
      "Epoch 131: 100%|██████████| 105/105 [00:56<00:00,  1.85it/s, v_num=7, train_loss_step=0.159, val_loss=0.308, train_loss_epoch=0.109]  Epoch 131: Valid Acc = 0.9384\n",
      "Epoch 131: 100%|██████████| 105/105 [01:03<00:00,  1.65it/s, v_num=7, train_loss_step=0.159, val_loss=0.307, train_loss_epoch=0.109]Epoch 131: Train Acc = 0.9688\n",
      "Epoch 132: 100%|██████████| 105/105 [00:56<00:00,  1.87it/s, v_num=7, train_loss_step=0.139, val_loss=0.307, train_loss_epoch=0.0929]  Epoch 132: Valid Acc = 0.9384\n",
      "Epoch 132: 100%|██████████| 105/105 [01:03<00:00,  1.66it/s, v_num=7, train_loss_step=0.139, val_loss=0.304, train_loss_epoch=0.0929]Epoch 132: Train Acc = 0.9688\n",
      "Epoch 133: 100%|██████████| 105/105 [00:56<00:00,  1.86it/s, v_num=7, train_loss_step=0.0424, val_loss=0.304, train_loss_epoch=0.0849] Epoch 133: Valid Acc = 0.9384\n",
      "Epoch 133: 100%|██████████| 105/105 [01:03<00:00,  1.66it/s, v_num=7, train_loss_step=0.0424, val_loss=0.299, train_loss_epoch=0.0849]Epoch 133: Train Acc = 0.9812\n",
      "Epoch 134: 100%|██████████| 105/105 [00:56<00:00,  1.86it/s, v_num=7, train_loss_step=0.0391, val_loss=0.299, train_loss_epoch=0.0921]Epoch 134: Valid Acc = 0.9384\n",
      "Epoch 134: 100%|██████████| 105/105 [01:03<00:00,  1.66it/s, v_num=7, train_loss_step=0.0391, val_loss=0.279, train_loss_epoch=0.0921]Epoch 134: Train Acc = 1.0000\n",
      "Epoch 135: 100%|██████████| 105/105 [00:58<00:00,  1.78it/s, v_num=7, train_loss_step=0.00686, val_loss=0.279, train_loss_epoch=0.0976]Epoch 135: Valid Acc = 0.9384\n",
      "Epoch 135: 100%|██████████| 105/105 [01:07<00:00,  1.57it/s, v_num=7, train_loss_step=0.00686, val_loss=0.278, train_loss_epoch=0.0976]Epoch 135: Train Acc = 0.9750\n",
      "Epoch 136: 100%|██████████| 105/105 [00:58<00:00,  1.81it/s, v_num=7, train_loss_step=0.194, val_loss=0.278, train_loss_epoch=0.105]   Epoch 136: Valid Acc = 0.9384\n",
      "Epoch 136: 100%|██████████| 105/105 [01:05<00:00,  1.60it/s, v_num=7, train_loss_step=0.194, val_loss=0.306, train_loss_epoch=0.105]Epoch 136: Train Acc = 0.9812\n",
      "Epoch 137: 100%|██████████| 105/105 [00:59<00:00,  1.76it/s, v_num=7, train_loss_step=0.151, val_loss=0.306, train_loss_epoch=0.0952] Epoch 137: Valid Acc = 0.9384\n",
      "Epoch 137: 100%|██████████| 105/105 [01:07<00:00,  1.55it/s, v_num=7, train_loss_step=0.151, val_loss=0.274, train_loss_epoch=0.0952]Epoch 137: Train Acc = 0.9750\n",
      "Epoch 138: 100%|██████████| 105/105 [00:57<00:00,  1.83it/s, v_num=7, train_loss_step=0.252, val_loss=0.274, train_loss_epoch=0.109]  Epoch 138: Valid Acc = 0.9384\n",
      "Epoch 138: 100%|██████████| 105/105 [01:04<00:00,  1.63it/s, v_num=7, train_loss_step=0.252, val_loss=0.275, train_loss_epoch=0.109]Epoch 138: Train Acc = 0.9625\n",
      "Epoch 139: 100%|██████████| 105/105 [00:57<00:00,  1.82it/s, v_num=7, train_loss_step=0.00544, val_loss=0.275, train_loss_epoch=0.109]Epoch 139: Valid Acc = 0.9452\n",
      "Epoch 139: 100%|██████████| 105/105 [01:04<00:00,  1.63it/s, v_num=7, train_loss_step=0.00544, val_loss=0.276, train_loss_epoch=0.109]Epoch 139: Train Acc = 0.9812\n",
      "Epoch 140: 100%|██████████| 105/105 [00:55<00:00,  1.89it/s, v_num=7, train_loss_step=0.00506, val_loss=0.276, train_loss_epoch=0.104]Epoch 140: Valid Acc = 0.9452\n",
      "Epoch 140: 100%|██████████| 105/105 [01:03<00:00,  1.67it/s, v_num=7, train_loss_step=0.00506, val_loss=0.266, train_loss_epoch=0.104]Epoch 140: Train Acc = 0.9750\n",
      "Epoch 141: 100%|██████████| 105/105 [00:56<00:00,  1.87it/s, v_num=7, train_loss_step=0.00386, val_loss=0.266, train_loss_epoch=0.0961]Epoch 141: Valid Acc = 0.9452\n",
      "Epoch 141: 100%|██████████| 105/105 [01:02<00:00,  1.67it/s, v_num=7, train_loss_step=0.00386, val_loss=0.263, train_loss_epoch=0.0961]Epoch 141: Train Acc = 0.9875\n",
      "Epoch 142: 100%|██████████| 105/105 [00:56<00:00,  1.86it/s, v_num=7, train_loss_step=0.0774, val_loss=0.263, train_loss_epoch=0.083]  Epoch 142: Valid Acc = 0.9384\n",
      "Epoch 142: 100%|██████████| 105/105 [01:03<00:00,  1.65it/s, v_num=7, train_loss_step=0.0774, val_loss=0.291, train_loss_epoch=0.083]Epoch 142: Train Acc = 1.0000\n",
      "Epoch 143: 100%|██████████| 105/105 [00:56<00:00,  1.86it/s, v_num=7, train_loss_step=0.00366, val_loss=0.291, train_loss_epoch=0.0947]Epoch 143: Valid Acc = 0.9384\n",
      "Epoch 143: 100%|██████████| 105/105 [01:03<00:00,  1.67it/s, v_num=7, train_loss_step=0.00366, val_loss=0.295, train_loss_epoch=0.0947]Epoch 143: Train Acc = 0.9563\n",
      "Epoch 144: 100%|██████████| 105/105 [00:55<00:00,  1.90it/s, v_num=7, train_loss_step=0.178, val_loss=0.295, train_loss_epoch=0.0997]  Epoch 144: Valid Acc = 0.9384\n",
      "Epoch 144: 100%|██████████| 105/105 [01:02<00:00,  1.69it/s, v_num=7, train_loss_step=0.178, val_loss=0.298, train_loss_epoch=0.0997]Epoch 144: Train Acc = 0.9750\n",
      "Epoch 145: 100%|██████████| 105/105 [00:56<00:00,  1.87it/s, v_num=7, train_loss_step=0.0252, val_loss=0.298, train_loss_epoch=0.100] Epoch 145: Valid Acc = 0.9384\n",
      "Epoch 145: 100%|██████████| 105/105 [01:03<00:00,  1.65it/s, v_num=7, train_loss_step=0.0252, val_loss=0.301, train_loss_epoch=0.100]Epoch 145: Train Acc = 0.9750\n",
      "Epoch 146: 100%|██████████| 105/105 [00:56<00:00,  1.87it/s, v_num=7, train_loss_step=0.182, val_loss=0.301, train_loss_epoch=0.0984]  Epoch 146: Valid Acc = 0.9384\n",
      "Epoch 146: 100%|██████████| 105/105 [01:02<00:00,  1.67it/s, v_num=7, train_loss_step=0.182, val_loss=0.301, train_loss_epoch=0.0984]Epoch 146: Train Acc = 0.9625\n",
      "Epoch 147: 100%|██████████| 105/105 [00:55<00:00,  1.89it/s, v_num=7, train_loss_step=0.0635, val_loss=0.301, train_loss_epoch=0.101] Epoch 147: Valid Acc = 0.9384\n",
      "Epoch 147: 100%|██████████| 105/105 [01:02<00:00,  1.68it/s, v_num=7, train_loss_step=0.0635, val_loss=0.274, train_loss_epoch=0.101]Epoch 147: Train Acc = 0.9688\n",
      "Epoch 148: 100%|██████████| 105/105 [00:56<00:00,  1.86it/s, v_num=7, train_loss_step=0.00504, val_loss=0.274, train_loss_epoch=0.0956]Epoch 148: Valid Acc = 0.9384\n",
      "Epoch 148: 100%|██████████| 105/105 [01:03<00:00,  1.66it/s, v_num=7, train_loss_step=0.00504, val_loss=0.281, train_loss_epoch=0.0956]Epoch 148: Train Acc = 0.9875\n",
      "Epoch 149: 100%|██████████| 105/105 [00:55<00:00,  1.88it/s, v_num=7, train_loss_step=0.0144, val_loss=0.281, train_loss_epoch=0.0966] Epoch 149: Valid Acc = 0.9384\n",
      "Epoch 149: 100%|██████████| 105/105 [01:03<00:00,  1.66it/s, v_num=7, train_loss_step=0.0144, val_loss=0.320, train_loss_epoch=0.0966]Epoch 149: Train Acc = 0.9875\n",
      "Epoch 150: 100%|██████████| 105/105 [00:56<00:00,  1.87it/s, v_num=7, train_loss_step=0.00439, val_loss=0.320, train_loss_epoch=0.101]Epoch 150: Valid Acc = 0.9384\n",
      "Epoch 150: 100%|██████████| 105/105 [01:02<00:00,  1.67it/s, v_num=7, train_loss_step=0.00439, val_loss=0.308, train_loss_epoch=0.101]Epoch 150: Train Acc = 0.9563\n",
      "Epoch 151: 100%|██████████| 105/105 [00:57<00:00,  1.82it/s, v_num=7, train_loss_step=0.0583, val_loss=0.308, train_loss_epoch=0.0977] Epoch 151: Valid Acc = 0.9384\n",
      "Epoch 151: 100%|██████████| 105/105 [01:04<00:00,  1.62it/s, v_num=7, train_loss_step=0.0583, val_loss=0.287, train_loss_epoch=0.0977]Epoch 151: Train Acc = 0.9812\n",
      "Epoch 152: 100%|██████████| 105/105 [00:57<00:00,  1.82it/s, v_num=7, train_loss_step=0.0177, val_loss=0.287, train_loss_epoch=0.101] Epoch 152: Valid Acc = 0.9315\n",
      "Epoch 152: 100%|██████████| 105/105 [01:03<00:00,  1.64it/s, v_num=7, train_loss_step=0.0177, val_loss=0.281, train_loss_epoch=0.101]Epoch 152: Train Acc = 0.9938\n",
      "Epoch 153: 100%|██████████| 105/105 [00:58<00:00,  1.81it/s, v_num=7, train_loss_step=0.207, val_loss=0.281, train_loss_epoch=0.103]  Epoch 153: Valid Acc = 0.9384\n",
      "Epoch 153: 100%|██████████| 105/105 [01:04<00:00,  1.62it/s, v_num=7, train_loss_step=0.207, val_loss=0.309, train_loss_epoch=0.103]Epoch 153: Train Acc = 0.9750\n",
      "Epoch 154: 100%|██████████| 105/105 [00:57<00:00,  1.83it/s, v_num=7, train_loss_step=0.368, val_loss=0.309, train_loss_epoch=0.102]  Epoch 154: Valid Acc = 0.9384\n",
      "Epoch 154: 100%|██████████| 105/105 [01:05<00:00,  1.61it/s, v_num=7, train_loss_step=0.368, val_loss=0.292, train_loss_epoch=0.102]Epoch 154: Train Acc = 0.9625\n",
      "Epoch 155: 100%|██████████| 105/105 [00:57<00:00,  1.82it/s, v_num=7, train_loss_step=0.0164, val_loss=0.292, train_loss_epoch=0.0962] Epoch 155: Valid Acc = 0.9384\n",
      "Epoch 155: 100%|██████████| 105/105 [01:04<00:00,  1.63it/s, v_num=7, train_loss_step=0.0164, val_loss=0.293, train_loss_epoch=0.0962]Epoch 155: Train Acc = 0.9688\n",
      "Epoch 156: 100%|██████████| 105/105 [00:55<00:00,  1.88it/s, v_num=7, train_loss_step=0.151, val_loss=0.293, train_loss_epoch=0.0986]  Epoch 156: Valid Acc = 0.9384\n",
      "Epoch 156: 100%|██████████| 105/105 [01:02<00:00,  1.67it/s, v_num=7, train_loss_step=0.151, val_loss=0.296, train_loss_epoch=0.0986]Epoch 156: Train Acc = 0.9625\n",
      "Epoch 157: 100%|██████████| 105/105 [00:59<00:00,  1.77it/s, v_num=7, train_loss_step=0.00808, val_loss=0.296, train_loss_epoch=0.115]Epoch 157: Valid Acc = 0.9384\n",
      "Epoch 157: 100%|██████████| 105/105 [01:06<00:00,  1.58it/s, v_num=7, train_loss_step=0.00808, val_loss=0.300, train_loss_epoch=0.115]Epoch 157: Train Acc = 0.9688\n",
      "Epoch 158: 100%|██████████| 105/105 [00:59<00:00,  1.76it/s, v_num=7, train_loss_step=0.118, val_loss=0.300, train_loss_epoch=0.0834]  Epoch 158: Valid Acc = 0.9452\n",
      "Epoch 158: 100%|██████████| 105/105 [01:06<00:00,  1.57it/s, v_num=7, train_loss_step=0.118, val_loss=0.278, train_loss_epoch=0.0834]Epoch 158: Train Acc = 0.9875\n",
      "Epoch 159: 100%|██████████| 105/105 [01:00<00:00,  1.74it/s, v_num=7, train_loss_step=0.070, val_loss=0.278, train_loss_epoch=0.0934]  Epoch 159: Valid Acc = 0.9384\n",
      "Epoch 159: 100%|██████████| 105/105 [01:08<00:00,  1.53it/s, v_num=7, train_loss_step=0.070, val_loss=0.280, train_loss_epoch=0.0934]Epoch 159: Train Acc = 0.9750\n",
      "Epoch 160: 100%|██████████| 105/105 [01:01<00:00,  1.70it/s, v_num=7, train_loss_step=0.348, val_loss=0.280, train_loss_epoch=0.0911]  Epoch 160: Valid Acc = 0.9384\n",
      "Epoch 160: 100%|██████████| 105/105 [01:08<00:00,  1.52it/s, v_num=7, train_loss_step=0.348, val_loss=0.275, train_loss_epoch=0.0911]Epoch 160: Train Acc = 0.9625\n",
      "Epoch 161: 100%|██████████| 105/105 [00:58<00:00,  1.79it/s, v_num=7, train_loss_step=0.657, val_loss=0.275, train_loss_epoch=0.102]  Epoch 161: Valid Acc = 0.9384\n",
      "Epoch 161: 100%|██████████| 105/105 [01:05<00:00,  1.61it/s, v_num=7, train_loss_step=0.657, val_loss=0.292, train_loss_epoch=0.102]Epoch 161: Train Acc = 0.9812\n",
      "Epoch 162: 100%|██████████| 105/105 [00:57<00:00,  1.82it/s, v_num=7, train_loss_step=0.123, val_loss=0.292, train_loss_epoch=0.108]  Epoch 162: Valid Acc = 0.9384\n",
      "Epoch 162: 100%|██████████| 105/105 [01:04<00:00,  1.63it/s, v_num=7, train_loss_step=0.123, val_loss=0.329, train_loss_epoch=0.108]Epoch 162: Train Acc = 0.9812\n",
      "Epoch 163: 100%|██████████| 105/105 [00:58<00:00,  1.80it/s, v_num=7, train_loss_step=0.194, val_loss=0.329, train_loss_epoch=0.107]  Epoch 163: Valid Acc = 0.9384\n",
      "Epoch 163: 100%|██████████| 105/105 [01:05<00:00,  1.59it/s, v_num=7, train_loss_step=0.194, val_loss=0.303, train_loss_epoch=0.107]Epoch 163: Train Acc = 0.9812\n",
      "Epoch 164: 100%|██████████| 105/105 [00:58<00:00,  1.81it/s, v_num=7, train_loss_step=0.00922, val_loss=0.303, train_loss_epoch=0.0884]Epoch 164: Valid Acc = 0.9384\n",
      "Epoch 164: 100%|██████████| 105/105 [01:04<00:00,  1.62it/s, v_num=7, train_loss_step=0.00922, val_loss=0.277, train_loss_epoch=0.0884]Epoch 164: Train Acc = 1.0000\n",
      "Epoch 165: 100%|██████████| 105/105 [00:56<00:00,  1.85it/s, v_num=7, train_loss_step=0.00446, val_loss=0.277, train_loss_epoch=0.104] Epoch 165: Valid Acc = 0.9384\n",
      "Epoch 165: 100%|██████████| 105/105 [01:03<00:00,  1.66it/s, v_num=7, train_loss_step=0.00446, val_loss=0.314, train_loss_epoch=0.104]Epoch 165: Train Acc = 0.9688\n",
      "Epoch 166: 100%|██████████| 105/105 [00:57<00:00,  1.82it/s, v_num=7, train_loss_step=0.285, val_loss=0.314, train_loss_epoch=0.0944]  Epoch 166: Valid Acc = 0.9384\n",
      "Epoch 166: 100%|██████████| 105/105 [01:04<00:00,  1.64it/s, v_num=7, train_loss_step=0.285, val_loss=0.290, train_loss_epoch=0.0944]Epoch 166: Train Acc = 0.9688\n",
      "Epoch 167: 100%|██████████| 105/105 [00:56<00:00,  1.86it/s, v_num=7, train_loss_step=0.00385, val_loss=0.290, train_loss_epoch=0.111]Epoch 167: Valid Acc = 0.9452\n",
      "Epoch 167: 100%|██████████| 105/105 [01:04<00:00,  1.62it/s, v_num=7, train_loss_step=0.00385, val_loss=0.278, train_loss_epoch=0.111]Epoch 167: Train Acc = 0.9812\n",
      "Epoch 168: 100%|██████████| 105/105 [00:59<00:00,  1.76it/s, v_num=7, train_loss_step=0.159, val_loss=0.278, train_loss_epoch=0.120]  Epoch 168: Valid Acc = 0.9384\n",
      "Epoch 168: 100%|██████████| 105/105 [01:07<00:00,  1.56it/s, v_num=7, train_loss_step=0.159, val_loss=0.301, train_loss_epoch=0.120]Epoch 168: Train Acc = 0.9875\n",
      "Epoch 169: 100%|██████████| 105/105 [01:01<00:00,  1.71it/s, v_num=7, train_loss_step=0.00461, val_loss=0.301, train_loss_epoch=0.109]Epoch 169: Valid Acc = 0.9384\n",
      "Epoch 169: 100%|██████████| 105/105 [01:09<00:00,  1.52it/s, v_num=7, train_loss_step=0.00461, val_loss=0.273, train_loss_epoch=0.109]Epoch 169: Train Acc = 0.9750\n",
      "Epoch 170: 100%|██████████| 105/105 [01:02<00:00,  1.69it/s, v_num=7, train_loss_step=0.205, val_loss=0.273, train_loss_epoch=0.101]  Epoch 170: Valid Acc = 0.9521\n",
      "Epoch 170: 100%|██████████| 105/105 [01:09<00:00,  1.51it/s, v_num=7, train_loss_step=0.205, val_loss=0.251, train_loss_epoch=0.101]Epoch 170: Train Acc = 0.9625\n",
      "Epoch 171: 100%|██████████| 105/105 [00:59<00:00,  1.77it/s, v_num=7, train_loss_step=0.0132, val_loss=0.251, train_loss_epoch=0.0903]Epoch 171: Valid Acc = 0.9384\n",
      "Epoch 171: 100%|██████████| 105/105 [01:06<00:00,  1.58it/s, v_num=7, train_loss_step=0.0132, val_loss=0.285, train_loss_epoch=0.0903]Epoch 171: Train Acc = 0.9750\n",
      "Epoch 172: 100%|██████████| 105/105 [00:57<00:00,  1.81it/s, v_num=7, train_loss_step=0.036, val_loss=0.285, train_loss_epoch=0.0866]  Epoch 172: Valid Acc = 0.9452\n",
      "Epoch 172: 100%|██████████| 105/105 [01:04<00:00,  1.64it/s, v_num=7, train_loss_step=0.036, val_loss=0.273, train_loss_epoch=0.0866]Epoch 172: Train Acc = 0.9688\n",
      "Epoch 173: 100%|██████████| 105/105 [00:52<00:00,  2.01it/s, v_num=7, train_loss_step=0.186, val_loss=0.273, train_loss_epoch=0.105]  Epoch 173: Valid Acc = 0.9384\n",
      "Epoch 173: 100%|██████████| 105/105 [00:58<00:00,  1.81it/s, v_num=7, train_loss_step=0.186, val_loss=0.288, train_loss_epoch=0.105]Epoch 173: Train Acc = 0.9875\n",
      "Epoch 174: 100%|██████████| 105/105 [00:52<00:00,  2.01it/s, v_num=7, train_loss_step=0.0194, val_loss=0.288, train_loss_epoch=0.0976] Epoch 174: Valid Acc = 0.9452\n",
      "Epoch 174: 100%|██████████| 105/105 [00:58<00:00,  1.81it/s, v_num=7, train_loss_step=0.0194, val_loss=0.273, train_loss_epoch=0.0976]Epoch 174: Train Acc = 0.9812\n",
      "Epoch 175: 100%|██████████| 105/105 [00:52<00:00,  2.01it/s, v_num=7, train_loss_step=0.00295, val_loss=0.273, train_loss_epoch=0.0949]Epoch 175: Valid Acc = 0.9521\n",
      "Epoch 175: 100%|██████████| 105/105 [00:58<00:00,  1.80it/s, v_num=7, train_loss_step=0.00295, val_loss=0.262, train_loss_epoch=0.0949]Epoch 175: Train Acc = 0.9812\n",
      "Epoch 176: 100%|██████████| 105/105 [00:53<00:00,  1.95it/s, v_num=7, train_loss_step=0.0379, val_loss=0.262, train_loss_epoch=0.0963] Epoch 176: Valid Acc = 0.9452\n",
      "Epoch 176: 100%|██████████| 105/105 [00:59<00:00,  1.76it/s, v_num=7, train_loss_step=0.0379, val_loss=0.278, train_loss_epoch=0.0963]Epoch 176: Train Acc = 0.9875\n",
      "Epoch 177: 100%|██████████| 105/105 [00:55<00:00,  1.90it/s, v_num=7, train_loss_step=0.405, val_loss=0.278, train_loss_epoch=0.0823]  Epoch 177: Valid Acc = 0.9452\n",
      "Epoch 177: 100%|██████████| 105/105 [01:02<00:00,  1.69it/s, v_num=7, train_loss_step=0.405, val_loss=0.283, train_loss_epoch=0.0823]Epoch 177: Train Acc = 0.9688\n",
      "Epoch 178: 100%|██████████| 105/105 [00:53<00:00,  1.96it/s, v_num=7, train_loss_step=0.0194, val_loss=0.283, train_loss_epoch=0.0966] Epoch 178: Valid Acc = 0.9452\n",
      "Epoch 178: 100%|██████████| 105/105 [01:00<00:00,  1.74it/s, v_num=7, train_loss_step=0.0194, val_loss=0.285, train_loss_epoch=0.0966]Epoch 178: Train Acc = 0.9563\n",
      "Epoch 179: 100%|██████████| 105/105 [00:55<00:00,  1.89it/s, v_num=7, train_loss_step=0.0662, val_loss=0.285, train_loss_epoch=0.0895] Epoch 179: Valid Acc = 0.9384\n",
      "Epoch 179: 100%|██████████| 105/105 [01:01<00:00,  1.70it/s, v_num=7, train_loss_step=0.0662, val_loss=0.296, train_loss_epoch=0.0895]Epoch 179: Train Acc = 0.9750\n",
      "Epoch 180: 100%|██████████| 105/105 [00:52<00:00,  2.01it/s, v_num=7, train_loss_step=0.00639, val_loss=0.296, train_loss_epoch=0.0923]Epoch 180: Valid Acc = 0.9384\n",
      "Epoch 180: 100%|██████████| 105/105 [00:58<00:00,  1.80it/s, v_num=7, train_loss_step=0.00639, val_loss=0.293, train_loss_epoch=0.0923]Epoch 180: Train Acc = 0.9750\n",
      "Epoch 181: 100%|██████████| 105/105 [00:53<00:00,  1.95it/s, v_num=7, train_loss_step=0.0668, val_loss=0.293, train_loss_epoch=0.0894] Epoch 181: Valid Acc = 0.9384\n",
      "Epoch 181: 100%|██████████| 105/105 [01:01<00:00,  1.71it/s, v_num=7, train_loss_step=0.0668, val_loss=0.294, train_loss_epoch=0.0894]Epoch 181: Train Acc = 0.9688\n",
      "Epoch 182: 100%|██████████| 105/105 [00:53<00:00,  1.96it/s, v_num=7, train_loss_step=0.112, val_loss=0.294, train_loss_epoch=0.0999]  Epoch 182: Valid Acc = 0.9384\n",
      "Epoch 182: 100%|██████████| 105/105 [01:00<00:00,  1.75it/s, v_num=7, train_loss_step=0.112, val_loss=0.311, train_loss_epoch=0.0999]Epoch 182: Train Acc = 0.9812\n",
      "Epoch 183: 100%|██████████| 105/105 [00:51<00:00,  2.03it/s, v_num=7, train_loss_step=0.194, val_loss=0.311, train_loss_epoch=0.0901]  Epoch 183: Valid Acc = 0.9452\n",
      "Epoch 183: 100%|██████████| 105/105 [00:57<00:00,  1.81it/s, v_num=7, train_loss_step=0.194, val_loss=0.270, train_loss_epoch=0.0901]Epoch 183: Train Acc = 0.9812\n",
      "Epoch 184: 100%|██████████| 105/105 [00:52<00:00,  2.00it/s, v_num=7, train_loss_step=0.225, val_loss=0.270, train_loss_epoch=0.0972]  Epoch 184: Valid Acc = 0.9521\n",
      "Epoch 184: 100%|██████████| 105/105 [00:58<00:00,  1.79it/s, v_num=7, train_loss_step=0.225, val_loss=0.273, train_loss_epoch=0.0972]Epoch 184: Train Acc = 0.9688\n",
      "Epoch 185: 100%|██████████| 105/105 [00:52<00:00,  2.00it/s, v_num=7, train_loss_step=0.00398, val_loss=0.273, train_loss_epoch=0.0938]Epoch 185: Valid Acc = 0.9521\n",
      "Epoch 185: 100%|██████████| 105/105 [00:58<00:00,  1.78it/s, v_num=7, train_loss_step=0.00398, val_loss=0.271, train_loss_epoch=0.0938]Epoch 185: Train Acc = 0.9875\n",
      "Epoch 186: 100%|██████████| 105/105 [00:50<00:00,  2.10it/s, v_num=7, train_loss_step=0.00607, val_loss=0.271, train_loss_epoch=0.0878]Epoch 186: Valid Acc = 0.9384\n",
      "Epoch 186: 100%|██████████| 105/105 [00:56<00:00,  1.87it/s, v_num=7, train_loss_step=0.00607, val_loss=0.298, train_loss_epoch=0.0878]Epoch 186: Train Acc = 0.9688\n",
      "Epoch 187: 100%|██████████| 105/105 [00:56<00:00,  1.85it/s, v_num=7, train_loss_step=0.0644, val_loss=0.298, train_loss_epoch=0.0802] Epoch 187: Valid Acc = 0.9384\n",
      "Epoch 187: 100%|██████████| 105/105 [01:02<00:00,  1.67it/s, v_num=7, train_loss_step=0.0644, val_loss=0.294, train_loss_epoch=0.0802]Epoch 187: Train Acc = 0.9812\n",
      "Epoch 188: 100%|██████████| 105/105 [00:50<00:00,  2.07it/s, v_num=7, train_loss_step=0.180, val_loss=0.294, train_loss_epoch=0.0852] Epoch 188: Valid Acc = 0.9384\n",
      "Epoch 188: 100%|██████████| 105/105 [00:56<00:00,  1.86it/s, v_num=7, train_loss_step=0.180, val_loss=0.314, train_loss_epoch=0.0852]Epoch 188: Train Acc = 0.9938\n",
      "Epoch 189: 100%|██████████| 105/105 [00:50<00:00,  2.08it/s, v_num=7, train_loss_step=0.0254, val_loss=0.314, train_loss_epoch=0.098] Epoch 189: Valid Acc = 0.9384\n",
      "Epoch 189: 100%|██████████| 105/105 [00:56<00:00,  1.85it/s, v_num=7, train_loss_step=0.0254, val_loss=0.306, train_loss_epoch=0.098]Epoch 189: Train Acc = 0.9812\n",
      "Epoch 190: 100%|██████████| 105/105 [00:50<00:00,  2.07it/s, v_num=7, train_loss_step=0.00272, val_loss=0.306, train_loss_epoch=0.0959]Epoch 190: Valid Acc = 0.9384\n",
      "Epoch 190: 100%|██████████| 105/105 [00:56<00:00,  1.86it/s, v_num=7, train_loss_step=0.00272, val_loss=0.302, train_loss_epoch=0.0959]Epoch 190: Train Acc = 0.9875\n",
      "Epoch 191: 100%|██████████| 105/105 [00:50<00:00,  2.08it/s, v_num=7, train_loss_step=0.282, val_loss=0.302, train_loss_epoch=0.102]   Epoch 191: Valid Acc = 0.9384\n",
      "Epoch 191: 100%|██████████| 105/105 [00:56<00:00,  1.84it/s, v_num=7, train_loss_step=0.282, val_loss=0.312, train_loss_epoch=0.102]Epoch 191: Train Acc = 0.9625\n",
      "Epoch 192: 100%|██████████| 105/105 [00:51<00:00,  2.05it/s, v_num=7, train_loss_step=0.134, val_loss=0.312, train_loss_epoch=0.102]  Epoch 192: Valid Acc = 0.9452\n",
      "Epoch 192: 100%|██████████| 105/105 [00:58<00:00,  1.81it/s, v_num=7, train_loss_step=0.134, val_loss=0.286, train_loss_epoch=0.102]Epoch 192: Train Acc = 0.9875\n",
      "Epoch 193: 100%|██████████| 105/105 [00:54<00:00,  1.94it/s, v_num=7, train_loss_step=0.255, val_loss=0.286, train_loss_epoch=0.0921]  Epoch 193: Valid Acc = 0.9452\n",
      "Epoch 193: 100%|██████████| 105/105 [01:00<00:00,  1.74it/s, v_num=7, train_loss_step=0.255, val_loss=0.286, train_loss_epoch=0.0921]Epoch 193: Train Acc = 0.9750\n",
      "Epoch 194: 100%|██████████| 105/105 [00:50<00:00,  2.08it/s, v_num=7, train_loss_step=0.00202, val_loss=0.286, train_loss_epoch=0.0979]Epoch 194: Valid Acc = 0.9384\n",
      "Epoch 194: 100%|██████████| 105/105 [00:56<00:00,  1.87it/s, v_num=7, train_loss_step=0.00202, val_loss=0.301, train_loss_epoch=0.0979]Epoch 194: Train Acc = 0.9750\n",
      "Epoch 195: 100%|██████████| 105/105 [00:50<00:00,  2.08it/s, v_num=7, train_loss_step=0.00217, val_loss=0.301, train_loss_epoch=0.0948]Epoch 195: Valid Acc = 0.9452\n",
      "Epoch 195: 100%|██████████| 105/105 [00:56<00:00,  1.86it/s, v_num=7, train_loss_step=0.00217, val_loss=0.274, train_loss_epoch=0.0948]Epoch 195: Train Acc = 0.9875\n",
      "Epoch 196: 100%|██████████| 105/105 [00:56<00:00,  1.84it/s, v_num=7, train_loss_step=0.148, val_loss=0.274, train_loss_epoch=0.104]   Epoch 196: Valid Acc = 0.9384\n",
      "Epoch 196: 100%|██████████| 105/105 [01:04<00:00,  1.64it/s, v_num=7, train_loss_step=0.148, val_loss=0.293, train_loss_epoch=0.104]Epoch 196: Train Acc = 0.9812\n",
      "Epoch 197: 100%|██████████| 105/105 [00:52<00:00,  2.00it/s, v_num=7, train_loss_step=0.300, val_loss=0.293, train_loss_epoch=0.091]  Epoch 197: Valid Acc = 0.9452\n",
      "Epoch 197: 100%|██████████| 105/105 [00:58<00:00,  1.78it/s, v_num=7, train_loss_step=0.300, val_loss=0.302, train_loss_epoch=0.091]Epoch 197: Train Acc = 0.9875\n",
      "Epoch 198: 100%|██████████| 105/105 [00:51<00:00,  2.06it/s, v_num=7, train_loss_step=0.00239, val_loss=0.302, train_loss_epoch=0.0943]Epoch 198: Valid Acc = 0.9384\n",
      "Epoch 198: 100%|██████████| 105/105 [00:56<00:00,  1.85it/s, v_num=7, train_loss_step=0.00239, val_loss=0.327, train_loss_epoch=0.0943]Epoch 198: Train Acc = 0.9812\n",
      "Epoch 199: 100%|██████████| 105/105 [00:53<00:00,  1.96it/s, v_num=7, train_loss_step=0.200, val_loss=0.327, train_loss_epoch=0.0931]  Epoch 199: Valid Acc = 0.9384\n",
      "Epoch 199: 100%|██████████| 105/105 [01:01<00:00,  1.71it/s, v_num=7, train_loss_step=0.200, val_loss=0.325, train_loss_epoch=0.0931]Epoch 199: Train Acc = 0.9500\n",
      "Epoch 200: 100%|██████████| 105/105 [00:55<00:00,  1.90it/s, v_num=7, train_loss_step=0.0746, val_loss=0.325, train_loss_epoch=0.105]Epoch 200: Valid Acc = 0.9384\n",
      "Epoch 200: 100%|██████████| 105/105 [01:02<00:00,  1.69it/s, v_num=7, train_loss_step=0.0746, val_loss=0.302, train_loss_epoch=0.105]Epoch 200: Train Acc = 0.9750\n",
      "Epoch 201: 100%|██████████| 105/105 [00:59<00:00,  1.77it/s, v_num=7, train_loss_step=0.0138, val_loss=0.302, train_loss_epoch=0.0949] Epoch 201: Valid Acc = 0.9384\n",
      "Epoch 201: 100%|██████████| 105/105 [01:05<00:00,  1.60it/s, v_num=7, train_loss_step=0.0138, val_loss=0.290, train_loss_epoch=0.0949]Epoch 201: Train Acc = 0.9688\n",
      "Epoch 202: 100%|██████████| 105/105 [00:57<00:00,  1.82it/s, v_num=7, train_loss_step=0.0109, val_loss=0.290, train_loss_epoch=0.106] Epoch 202: Valid Acc = 0.9452\n",
      "Epoch 202: 100%|██████████| 105/105 [01:04<00:00,  1.63it/s, v_num=7, train_loss_step=0.0109, val_loss=0.285, train_loss_epoch=0.106]Epoch 202: Train Acc = 0.9750\n",
      "Epoch 203: 100%|██████████| 105/105 [00:55<00:00,  1.88it/s, v_num=7, train_loss_step=0.0191, val_loss=0.285, train_loss_epoch=0.0949] Epoch 203: Valid Acc = 0.9384\n",
      "Epoch 203: 100%|██████████| 105/105 [01:01<00:00,  1.70it/s, v_num=7, train_loss_step=0.0191, val_loss=0.321, train_loss_epoch=0.0949]Epoch 203: Train Acc = 0.9812\n",
      "Epoch 204: 100%|██████████| 105/105 [00:54<00:00,  1.93it/s, v_num=7, train_loss_step=0.00207, val_loss=0.321, train_loss_epoch=0.109]Epoch 204: Valid Acc = 0.9452\n",
      "Epoch 204: 100%|██████████| 105/105 [01:00<00:00,  1.72it/s, v_num=7, train_loss_step=0.00207, val_loss=0.284, train_loss_epoch=0.109]Epoch 204: Train Acc = 0.9688\n",
      "Epoch 205: 100%|██████████| 105/105 [00:52<00:00,  2.01it/s, v_num=7, train_loss_step=0.179, val_loss=0.284, train_loss_epoch=0.0895]  Epoch 205: Valid Acc = 0.9384\n",
      "Epoch 205: 100%|██████████| 105/105 [00:58<00:00,  1.80it/s, v_num=7, train_loss_step=0.179, val_loss=0.302, train_loss_epoch=0.0895]Epoch 205: Train Acc = 0.9938\n",
      "Epoch 206: 100%|██████████| 105/105 [00:55<00:00,  1.90it/s, v_num=7, train_loss_step=0.00227, val_loss=0.302, train_loss_epoch=0.0835]Epoch 206: Valid Acc = 0.9452\n",
      "Epoch 206: 100%|██████████| 105/105 [01:01<00:00,  1.70it/s, v_num=7, train_loss_step=0.00227, val_loss=0.277, train_loss_epoch=0.0835]Epoch 206: Train Acc = 0.9875\n",
      "Epoch 207: 100%|██████████| 105/105 [00:51<00:00,  2.05it/s, v_num=7, train_loss_step=0.0934, val_loss=0.277, train_loss_epoch=0.107]  Epoch 207: Valid Acc = 0.9452\n",
      "Epoch 207: 100%|██████████| 105/105 [00:57<00:00,  1.83it/s, v_num=7, train_loss_step=0.0934, val_loss=0.275, train_loss_epoch=0.107]Epoch 207: Train Acc = 0.9688\n",
      "Epoch 208: 100%|██████████| 105/105 [00:51<00:00,  2.05it/s, v_num=7, train_loss_step=0.0835, val_loss=0.275, train_loss_epoch=0.0889] Epoch 208: Valid Acc = 0.9452\n",
      "Epoch 208: 100%|██████████| 105/105 [00:57<00:00,  1.82it/s, v_num=7, train_loss_step=0.0835, val_loss=0.278, train_loss_epoch=0.0889]Epoch 208: Train Acc = 0.9875\n",
      "Epoch 209: 100%|██████████| 105/105 [00:51<00:00,  2.04it/s, v_num=7, train_loss_step=0.251, val_loss=0.278, train_loss_epoch=0.102]  Epoch 209: Valid Acc = 0.9521\n",
      "Epoch 209: 100%|██████████| 105/105 [00:57<00:00,  1.82it/s, v_num=7, train_loss_step=0.251, val_loss=0.276, train_loss_epoch=0.102]Epoch 209: Train Acc = 0.9563\n",
      "Epoch 210: 100%|██████████| 105/105 [00:51<00:00,  2.05it/s, v_num=7, train_loss_step=0.0293, val_loss=0.276, train_loss_epoch=0.0896] Epoch 210: Valid Acc = 0.9521\n",
      "Epoch 210: 100%|██████████| 105/105 [00:57<00:00,  1.83it/s, v_num=7, train_loss_step=0.0293, val_loss=0.273, train_loss_epoch=0.0896]Epoch 210: Train Acc = 0.9812\n",
      "Epoch 211: 100%|██████████| 105/105 [00:51<00:00,  2.05it/s, v_num=7, train_loss_step=0.153, val_loss=0.273, train_loss_epoch=0.0915]  Epoch 211: Valid Acc = 0.9521\n",
      "Epoch 211: 100%|██████████| 105/105 [00:57<00:00,  1.84it/s, v_num=7, train_loss_step=0.153, val_loss=0.259, train_loss_epoch=0.0915]Epoch 211: Train Acc = 0.9875\n",
      "Epoch 212: 100%|██████████| 105/105 [00:52<00:00,  2.01it/s, v_num=7, train_loss_step=0.0271, val_loss=0.259, train_loss_epoch=0.101] Epoch 212: Valid Acc = 0.9384\n",
      "Epoch 212: 100%|██████████| 105/105 [00:58<00:00,  1.80it/s, v_num=7, train_loss_step=0.0271, val_loss=0.292, train_loss_epoch=0.101]Epoch 212: Train Acc = 0.9750\n",
      "Epoch 213: 100%|██████████| 105/105 [00:51<00:00,  2.03it/s, v_num=7, train_loss_step=0.407, val_loss=0.292, train_loss_epoch=0.0947]  Epoch 213: Valid Acc = 0.9384\n",
      "Epoch 213: 100%|██████████| 105/105 [00:58<00:00,  1.79it/s, v_num=7, train_loss_step=0.407, val_loss=0.315, train_loss_epoch=0.0947]Epoch 213: Train Acc = 0.9875\n",
      "Epoch 214: 100%|██████████| 105/105 [00:53<00:00,  1.96it/s, v_num=7, train_loss_step=0.0159, val_loss=0.315, train_loss_epoch=0.103]Epoch 214: Valid Acc = 0.9384\n",
      "Epoch 214: 100%|██████████| 105/105 [00:59<00:00,  1.75it/s, v_num=7, train_loss_step=0.0159, val_loss=0.294, train_loss_epoch=0.103]Epoch 214: Train Acc = 0.9812\n",
      "Epoch 215: 100%|██████████| 105/105 [00:53<00:00,  1.98it/s, v_num=7, train_loss_step=0.0109, val_loss=0.294, train_loss_epoch=0.0939] Epoch 215: Valid Acc = 0.9384\n",
      "Epoch 215: 100%|██████████| 105/105 [00:59<00:00,  1.77it/s, v_num=7, train_loss_step=0.0109, val_loss=0.308, train_loss_epoch=0.0939]Epoch 215: Train Acc = 0.9875\n",
      "Epoch 216: 100%|██████████| 105/105 [00:51<00:00,  2.05it/s, v_num=7, train_loss_step=0.0495, val_loss=0.308, train_loss_epoch=0.0967] Epoch 216: Valid Acc = 0.9384\n",
      "Epoch 216: 100%|██████████| 105/105 [00:57<00:00,  1.82it/s, v_num=7, train_loss_step=0.0495, val_loss=0.300, train_loss_epoch=0.0967]Epoch 216: Train Acc = 0.9812\n",
      "Epoch 217: 100%|██████████| 105/105 [00:50<00:00,  2.07it/s, v_num=7, train_loss_step=0.350, val_loss=0.300, train_loss_epoch=0.0924]  Epoch 217: Valid Acc = 0.9521\n",
      "Epoch 217: 100%|██████████| 105/105 [00:57<00:00,  1.83it/s, v_num=7, train_loss_step=0.350, val_loss=0.283, train_loss_epoch=0.0924]Epoch 217: Train Acc = 0.9688\n",
      "Epoch 218: 100%|██████████| 105/105 [00:50<00:00,  2.07it/s, v_num=7, train_loss_step=0.00207, val_loss=0.283, train_loss_epoch=0.101]Epoch 218: Valid Acc = 0.9452\n",
      "Epoch 218: 100%|██████████| 105/105 [00:56<00:00,  1.84it/s, v_num=7, train_loss_step=0.00207, val_loss=0.319, train_loss_epoch=0.101]Epoch 218: Train Acc = 0.9750\n",
      "Epoch 219: 100%|██████████| 105/105 [00:50<00:00,  2.06it/s, v_num=7, train_loss_step=0.205, val_loss=0.319, train_loss_epoch=0.0948]  Epoch 219: Valid Acc = 0.9452\n",
      "Epoch 219: 100%|██████████| 105/105 [00:57<00:00,  1.83it/s, v_num=7, train_loss_step=0.205, val_loss=0.310, train_loss_epoch=0.0948]Epoch 219: Train Acc = 0.9812\n",
      "Epoch 220: 100%|██████████| 105/105 [00:51<00:00,  2.05it/s, v_num=7, train_loss_step=0.0417, val_loss=0.310, train_loss_epoch=0.103] Epoch 220: Valid Acc = 0.9452\n",
      "Epoch 220: 100%|██████████| 105/105 [00:57<00:00,  1.84it/s, v_num=7, train_loss_step=0.0417, val_loss=0.287, train_loss_epoch=0.103]Epoch 220: Train Acc = 0.9938\n",
      "Epoch 221: 100%|██████████| 105/105 [00:52<00:00,  1.99it/s, v_num=7, train_loss_step=0.170, val_loss=0.287, train_loss_epoch=0.0971]  Epoch 221: Valid Acc = 0.9452\n",
      "Epoch 221: 100%|██████████| 105/105 [00:58<00:00,  1.78it/s, v_num=7, train_loss_step=0.170, val_loss=0.277, train_loss_epoch=0.0971]Epoch 221: Train Acc = 0.9875\n",
      "Epoch 222: 100%|██████████| 105/105 [00:50<00:00,  2.09it/s, v_num=7, train_loss_step=0.00675, val_loss=0.277, train_loss_epoch=0.0875]Epoch 222: Valid Acc = 0.9452\n",
      "Epoch 222: 100%|██████████| 105/105 [00:57<00:00,  1.84it/s, v_num=7, train_loss_step=0.00675, val_loss=0.293, train_loss_epoch=0.0875]Epoch 222: Train Acc = 0.9750\n",
      "Epoch 223: 100%|██████████| 105/105 [00:51<00:00,  2.03it/s, v_num=7, train_loss_step=0.0183, val_loss=0.293, train_loss_epoch=0.0914] Epoch 223: Valid Acc = 0.9384\n",
      "Epoch 223: 100%|██████████| 105/105 [00:58<00:00,  1.80it/s, v_num=7, train_loss_step=0.0183, val_loss=0.283, train_loss_epoch=0.0914]Epoch 223: Train Acc = 0.9938\n",
      "Epoch 224: 100%|██████████| 105/105 [00:53<00:00,  1.97it/s, v_num=7, train_loss_step=0.00417, val_loss=0.283, train_loss_epoch=0.086]Epoch 224: Valid Acc = 0.9521\n",
      "Epoch 224: 100%|██████████| 105/105 [00:59<00:00,  1.77it/s, v_num=7, train_loss_step=0.00417, val_loss=0.271, train_loss_epoch=0.086]Epoch 224: Train Acc = 0.9812\n",
      "Epoch 225: 100%|██████████| 105/105 [00:53<00:00,  1.98it/s, v_num=7, train_loss_step=0.175, val_loss=0.271, train_loss_epoch=0.0848]  Epoch 225: Valid Acc = 0.9521\n",
      "Epoch 225: 100%|██████████| 105/105 [00:59<00:00,  1.78it/s, v_num=7, train_loss_step=0.175, val_loss=0.273, train_loss_epoch=0.0848]Epoch 225: Train Acc = 0.9875\n",
      "Epoch 226: 100%|██████████| 105/105 [00:51<00:00,  2.02it/s, v_num=7, train_loss_step=0.00574, val_loss=0.273, train_loss_epoch=0.0886]Epoch 226: Valid Acc = 0.9521\n",
      "Epoch 226: 100%|██████████| 105/105 [00:58<00:00,  1.81it/s, v_num=7, train_loss_step=0.00574, val_loss=0.278, train_loss_epoch=0.0886]Epoch 226: Train Acc = 0.9812\n",
      "Epoch 227: 100%|██████████| 105/105 [00:51<00:00,  2.05it/s, v_num=7, train_loss_step=0.00204, val_loss=0.278, train_loss_epoch=0.0968]Epoch 227: Valid Acc = 0.9452\n",
      "Epoch 227: 100%|██████████| 105/105 [00:58<00:00,  1.80it/s, v_num=7, train_loss_step=0.00204, val_loss=0.278, train_loss_epoch=0.0968]Epoch 227: Train Acc = 0.9688\n",
      "Epoch 228: 100%|██████████| 105/105 [00:51<00:00,  2.04it/s, v_num=7, train_loss_step=0.00254, val_loss=0.278, train_loss_epoch=0.0886]Epoch 228: Valid Acc = 0.9452\n",
      "Epoch 228: 100%|██████████| 105/105 [00:57<00:00,  1.82it/s, v_num=7, train_loss_step=0.00254, val_loss=0.290, train_loss_epoch=0.0886]Epoch 228: Train Acc = 0.9750\n",
      "Epoch 229: 100%|██████████| 105/105 [00:51<00:00,  2.05it/s, v_num=7, train_loss_step=0.00198, val_loss=0.290, train_loss_epoch=0.0826]Epoch 229: Valid Acc = 0.9521\n",
      "Epoch 229: 100%|██████████| 105/105 [00:57<00:00,  1.83it/s, v_num=7, train_loss_step=0.00198, val_loss=0.274, train_loss_epoch=0.0826]Epoch 229: Train Acc = 0.9750\n",
      "Epoch 230: 100%|██████████| 105/105 [00:50<00:00,  2.07it/s, v_num=7, train_loss_step=0.227, val_loss=0.274, train_loss_epoch=0.0962]  Epoch 230: Valid Acc = 0.9452\n",
      "Epoch 230: 100%|██████████| 105/105 [00:56<00:00,  1.86it/s, v_num=7, train_loss_step=0.227, val_loss=0.276, train_loss_epoch=0.0962]Epoch 230: Train Acc = 0.9812\n",
      "Epoch 231: 100%|██████████| 105/105 [00:50<00:00,  2.08it/s, v_num=7, train_loss_step=0.0337, val_loss=0.276, train_loss_epoch=0.0838] Epoch 231: Valid Acc = 0.9452\n",
      "Epoch 231: 100%|██████████| 105/105 [00:56<00:00,  1.84it/s, v_num=7, train_loss_step=0.0337, val_loss=0.283, train_loss_epoch=0.0838]Epoch 231: Train Acc = 0.9938\n",
      "Epoch 232: 100%|██████████| 105/105 [00:51<00:00,  2.04it/s, v_num=7, train_loss_step=0.00272, val_loss=0.283, train_loss_epoch=0.0905]Epoch 232: Valid Acc = 0.9452\n",
      "Epoch 232: 100%|██████████| 105/105 [00:57<00:00,  1.83it/s, v_num=7, train_loss_step=0.00272, val_loss=0.295, train_loss_epoch=0.0905]Epoch 232: Train Acc = 0.9750\n",
      "Epoch 233: 100%|██████████| 105/105 [00:59<00:00,  1.78it/s, v_num=7, train_loss_step=0.172, val_loss=0.295, train_loss_epoch=0.0965]  Epoch 233: Valid Acc = 0.9452\n",
      "Epoch 233: 100%|██████████| 105/105 [01:08<00:00,  1.54it/s, v_num=7, train_loss_step=0.172, val_loss=0.276, train_loss_epoch=0.0965]Epoch 233: Train Acc = 0.9688\n",
      "Epoch 234: 100%|██████████| 105/105 [00:55<00:00,  1.88it/s, v_num=7, train_loss_step=0.00691, val_loss=0.276, train_loss_epoch=0.0825]Epoch 234: Valid Acc = 0.9452\n",
      "Epoch 234: 100%|██████████| 105/105 [01:02<00:00,  1.68it/s, v_num=7, train_loss_step=0.00691, val_loss=0.292, train_loss_epoch=0.0825]Epoch 234: Train Acc = 0.9875\n",
      "Epoch 235: 100%|██████████| 105/105 [00:54<00:00,  1.93it/s, v_num=7, train_loss_step=0.00163, val_loss=0.292, train_loss_epoch=0.0895]Epoch 235: Valid Acc = 0.9452\n",
      "Epoch 235: 100%|██████████| 105/105 [01:00<00:00,  1.73it/s, v_num=7, train_loss_step=0.00163, val_loss=0.267, train_loss_epoch=0.0895]Epoch 235: Train Acc = 0.9500\n",
      "Epoch 236: 100%|██████████| 105/105 [00:51<00:00,  2.02it/s, v_num=7, train_loss_step=0.400, val_loss=0.267, train_loss_epoch=0.0837]  Epoch 236: Valid Acc = 0.9452\n",
      "Epoch 236: 100%|██████████| 105/105 [00:58<00:00,  1.79it/s, v_num=7, train_loss_step=0.400, val_loss=0.288, train_loss_epoch=0.0837]Epoch 236: Train Acc = 0.9875\n",
      "Epoch 237: 100%|██████████| 105/105 [00:51<00:00,  2.04it/s, v_num=7, train_loss_step=0.0594, val_loss=0.288, train_loss_epoch=0.085] Epoch 237: Valid Acc = 0.9452\n",
      "Epoch 237: 100%|██████████| 105/105 [00:57<00:00,  1.83it/s, v_num=7, train_loss_step=0.0594, val_loss=0.282, train_loss_epoch=0.085]Epoch 237: Train Acc = 0.9875\n",
      "Epoch 238: 100%|██████████| 105/105 [00:50<00:00,  2.06it/s, v_num=7, train_loss_step=0.146, val_loss=0.282, train_loss_epoch=0.101]  Epoch 238: Valid Acc = 0.9452\n",
      "Epoch 238: 100%|██████████| 105/105 [00:56<00:00,  1.85it/s, v_num=7, train_loss_step=0.146, val_loss=0.287, train_loss_epoch=0.101]Epoch 238: Train Acc = 0.9938\n",
      "Epoch 239: 100%|██████████| 105/105 [00:51<00:00,  2.06it/s, v_num=7, train_loss_step=0.00275, val_loss=0.287, train_loss_epoch=0.0822]Epoch 239: Valid Acc = 0.9384\n",
      "Epoch 239: 100%|██████████| 105/105 [00:56<00:00,  1.85it/s, v_num=7, train_loss_step=0.00275, val_loss=0.307, train_loss_epoch=0.0822]Epoch 239: Train Acc = 0.9875\n",
      "Epoch 240: 100%|██████████| 105/105 [00:52<00:00,  2.00it/s, v_num=7, train_loss_step=0.161, val_loss=0.307, train_loss_epoch=0.0903]  Epoch 240: Valid Acc = 0.9452\n",
      "Epoch 240: 100%|██████████| 105/105 [00:59<00:00,  1.77it/s, v_num=7, train_loss_step=0.161, val_loss=0.287, train_loss_epoch=0.0903]Epoch 240: Train Acc = 0.9750\n",
      "Epoch 241: 100%|██████████| 105/105 [00:52<00:00,  2.01it/s, v_num=7, train_loss_step=0.00219, val_loss=0.287, train_loss_epoch=0.0996]Epoch 241: Valid Acc = 0.9452\n",
      "Epoch 241: 100%|██████████| 105/105 [00:58<00:00,  1.79it/s, v_num=7, train_loss_step=0.00219, val_loss=0.272, train_loss_epoch=0.0996]Epoch 241: Train Acc = 0.9625\n",
      "Epoch 242: 100%|██████████| 105/105 [00:51<00:00,  2.04it/s, v_num=7, train_loss_step=0.224, val_loss=0.272, train_loss_epoch=0.0868]  Epoch 242: Valid Acc = 0.9452\n",
      "Epoch 242: 100%|██████████| 105/105 [00:57<00:00,  1.83it/s, v_num=7, train_loss_step=0.224, val_loss=0.277, train_loss_epoch=0.0868]Epoch 242: Train Acc = 0.9750\n",
      "Epoch 243: 100%|██████████| 105/105 [00:53<00:00,  1.95it/s, v_num=7, train_loss_step=0.231, val_loss=0.277, train_loss_epoch=0.0741]  Epoch 243: Valid Acc = 0.9452\n",
      "Epoch 243: 100%|██████████| 105/105 [00:59<00:00,  1.75it/s, v_num=7, train_loss_step=0.231, val_loss=0.277, train_loss_epoch=0.0741]Epoch 243: Train Acc = 0.9875\n",
      "Epoch 244: 100%|██████████| 105/105 [00:51<00:00,  2.06it/s, v_num=7, train_loss_step=0.219, val_loss=0.277, train_loss_epoch=0.0802]  Epoch 244: Valid Acc = 0.9452\n",
      "Epoch 244: 100%|██████████| 105/105 [00:57<00:00,  1.84it/s, v_num=7, train_loss_step=0.219, val_loss=0.272, train_loss_epoch=0.0802]Epoch 244: Train Acc = 0.9688\n",
      "Epoch 245: 100%|██████████| 105/105 [00:57<00:00,  1.83it/s, v_num=7, train_loss_step=0.00191, val_loss=0.272, train_loss_epoch=0.0894]Epoch 245: Valid Acc = 0.9521\n",
      "Epoch 245: 100%|██████████| 105/105 [01:05<00:00,  1.60it/s, v_num=7, train_loss_step=0.00191, val_loss=0.261, train_loss_epoch=0.0894]Epoch 245: Train Acc = 0.9688\n",
      "Epoch 246: 100%|██████████| 105/105 [00:52<00:00,  1.99it/s, v_num=7, train_loss_step=0.00479, val_loss=0.261, train_loss_epoch=0.093] Epoch 246: Valid Acc = 0.9452\n",
      "Epoch 246: 100%|██████████| 105/105 [00:58<00:00,  1.78it/s, v_num=7, train_loss_step=0.00479, val_loss=0.312, train_loss_epoch=0.093]Epoch 246: Train Acc = 0.9875\n",
      "Epoch 247: 100%|██████████| 105/105 [00:55<00:00,  1.88it/s, v_num=7, train_loss_step=0.00181, val_loss=0.312, train_loss_epoch=0.0835]Epoch 247: Valid Acc = 0.9452\n",
      "Epoch 247: 100%|██████████| 105/105 [01:02<00:00,  1.68it/s, v_num=7, train_loss_step=0.00181, val_loss=0.304, train_loss_epoch=0.0835]Epoch 247: Train Acc = 0.9875\n",
      "Epoch 248: 100%|██████████| 105/105 [00:51<00:00,  2.04it/s, v_num=7, train_loss_step=0.0243, val_loss=0.304, train_loss_epoch=0.0807] Epoch 248: Valid Acc = 0.9452\n",
      "Epoch 248: 100%|██████████| 105/105 [00:58<00:00,  1.80it/s, v_num=7, train_loss_step=0.0243, val_loss=0.260, train_loss_epoch=0.0807]Epoch 248: Train Acc = 0.9875\n",
      "Epoch 249: 100%|██████████| 105/105 [00:52<00:00,  2.01it/s, v_num=7, train_loss_step=0.259, val_loss=0.260, train_loss_epoch=0.101]  Epoch 249: Valid Acc = 0.9521\n",
      "Epoch 249: 100%|██████████| 105/105 [00:58<00:00,  1.79it/s, v_num=7, train_loss_step=0.259, val_loss=0.265, train_loss_epoch=0.101]Epoch 249: Train Acc = 0.9875\n",
      "Epoch 250: 100%|██████████| 105/105 [00:54<00:00,  1.93it/s, v_num=7, train_loss_step=0.0546, val_loss=0.265, train_loss_epoch=0.0846] Epoch 250: Valid Acc = 0.9589\n",
      "Epoch 250: 100%|██████████| 105/105 [01:00<00:00,  1.74it/s, v_num=7, train_loss_step=0.0546, val_loss=0.251, train_loss_epoch=0.0846]Epoch 250: Train Acc = 0.9938\n",
      "Epoch 251: 100%|██████████| 105/105 [00:50<00:00,  2.07it/s, v_num=7, train_loss_step=0.155, val_loss=0.251, train_loss_epoch=0.0884] Epoch 251: Valid Acc = 0.9589\n",
      "Epoch 251: 100%|██████████| 105/105 [00:57<00:00,  1.83it/s, v_num=7, train_loss_step=0.155, val_loss=0.256, train_loss_epoch=0.0884]Epoch 251: Train Acc = 0.9688\n",
      "Epoch 252: 100%|██████████| 105/105 [00:51<00:00,  2.05it/s, v_num=7, train_loss_step=0.549, val_loss=0.256, train_loss_epoch=0.107]  Epoch 252: Valid Acc = 0.9452\n",
      "Epoch 252: 100%|██████████| 105/105 [00:57<00:00,  1.83it/s, v_num=7, train_loss_step=0.549, val_loss=0.276, train_loss_epoch=0.107]Epoch 252: Train Acc = 0.9812\n",
      "Epoch 253: 100%|██████████| 105/105 [00:51<00:00,  2.03it/s, v_num=7, train_loss_step=0.00213, val_loss=0.276, train_loss_epoch=0.0959]Epoch 253: Valid Acc = 0.9452\n",
      "Epoch 253: 100%|██████████| 105/105 [00:59<00:00,  1.78it/s, v_num=7, train_loss_step=0.00213, val_loss=0.278, train_loss_epoch=0.0959]Epoch 253: Train Acc = 0.9812\n",
      "Epoch 254: 100%|██████████| 105/105 [00:51<00:00,  2.02it/s, v_num=7, train_loss_step=0.00178, val_loss=0.278, train_loss_epoch=0.0907]Epoch 254: Valid Acc = 0.9521\n",
      "Epoch 254: 100%|██████████| 105/105 [00:58<00:00,  1.79it/s, v_num=7, train_loss_step=0.00178, val_loss=0.269, train_loss_epoch=0.0907]Epoch 254: Train Acc = 0.9938\n",
      "Epoch 255: 100%|██████████| 105/105 [00:51<00:00,  2.03it/s, v_num=7, train_loss_step=0.460, val_loss=0.269, train_loss_epoch=0.101]   Epoch 255: Valid Acc = 0.9521\n",
      "Epoch 255: 100%|██████████| 105/105 [00:57<00:00,  1.82it/s, v_num=7, train_loss_step=0.460, val_loss=0.277, train_loss_epoch=0.101]Epoch 255: Train Acc = 0.9750\n",
      "Epoch 256: 100%|██████████| 105/105 [00:59<00:00,  1.76it/s, v_num=7, train_loss_step=0.00216, val_loss=0.277, train_loss_epoch=0.0786]Epoch 256: Valid Acc = 0.9521\n",
      "Epoch 256: 100%|██████████| 105/105 [01:05<00:00,  1.59it/s, v_num=7, train_loss_step=0.00216, val_loss=0.277, train_loss_epoch=0.0786]Epoch 256: Train Acc = 0.9750\n",
      "Epoch 257: 100%|██████████| 105/105 [00:51<00:00,  2.04it/s, v_num=7, train_loss_step=0.002, val_loss=0.277, train_loss_epoch=0.100]   Epoch 257: Valid Acc = 0.9521\n",
      "Epoch 257: 100%|██████████| 105/105 [00:57<00:00,  1.82it/s, v_num=7, train_loss_step=0.002, val_loss=0.264, train_loss_epoch=0.100]Epoch 257: Train Acc = 0.9625\n",
      "Epoch 258: 100%|██████████| 105/105 [00:51<00:00,  2.02it/s, v_num=7, train_loss_step=0.164, val_loss=0.264, train_loss_epoch=0.104]  Epoch 258: Valid Acc = 0.9521\n",
      "Epoch 258: 100%|██████████| 105/105 [00:58<00:00,  1.79it/s, v_num=7, train_loss_step=0.164, val_loss=0.261, train_loss_epoch=0.104]Epoch 258: Train Acc = 0.9812\n",
      "Epoch 259: 100%|██████████| 105/105 [00:53<00:00,  1.96it/s, v_num=7, train_loss_step=0.0017, val_loss=0.261, train_loss_epoch=0.0939] Epoch 259: Valid Acc = 0.9589\n",
      "Epoch 259: 100%|██████████| 105/105 [01:00<00:00,  1.74it/s, v_num=7, train_loss_step=0.0017, val_loss=0.251, train_loss_epoch=0.0939]Epoch 259: Train Acc = 0.9938\n",
      "Epoch 260: 100%|██████████| 105/105 [00:53<00:00,  1.97it/s, v_num=7, train_loss_step=0.0258, val_loss=0.251, train_loss_epoch=0.0907] Epoch 260: Valid Acc = 0.9589\n",
      "Epoch 260: 100%|██████████| 105/105 [01:00<00:00,  1.75it/s, v_num=7, train_loss_step=0.0258, val_loss=0.243, train_loss_epoch=0.0907]Epoch 260: Train Acc = 0.9875\n",
      "Epoch 261: 100%|██████████| 105/105 [00:53<00:00,  1.97it/s, v_num=7, train_loss_step=0.0721, val_loss=0.243, train_loss_epoch=0.095] Epoch 261: Valid Acc = 0.9452\n",
      "Epoch 261: 100%|██████████| 105/105 [01:03<00:00,  1.66it/s, v_num=7, train_loss_step=0.0721, val_loss=0.253, train_loss_epoch=0.095]Epoch 261: Train Acc = 0.9812\n",
      "Epoch 262: 100%|██████████| 105/105 [00:55<00:00,  1.88it/s, v_num=7, train_loss_step=0.00182, val_loss=0.253, train_loss_epoch=0.0919]Epoch 262: Valid Acc = 0.9589\n",
      "Epoch 262: 100%|██████████| 105/105 [01:02<00:00,  1.69it/s, v_num=7, train_loss_step=0.00182, val_loss=0.250, train_loss_epoch=0.0919]Epoch 262: Train Acc = 0.9875\n",
      "Epoch 263: 100%|██████████| 105/105 [00:52<00:00,  1.99it/s, v_num=7, train_loss_step=0.289, val_loss=0.250, train_loss_epoch=0.0947]  Epoch 263: Valid Acc = 0.9521\n",
      "Epoch 263: 100%|██████████| 105/105 [00:58<00:00,  1.78it/s, v_num=7, train_loss_step=0.289, val_loss=0.267, train_loss_epoch=0.0947]Epoch 263: Train Acc = 0.9750\n",
      "Epoch 264: 100%|██████████| 105/105 [00:54<00:00,  1.92it/s, v_num=7, train_loss_step=0.00232, val_loss=0.267, train_loss_epoch=0.0769]Epoch 264: Valid Acc = 0.9521\n",
      "Epoch 264: 100%|██████████| 105/105 [01:01<00:00,  1.72it/s, v_num=7, train_loss_step=0.00232, val_loss=0.259, train_loss_epoch=0.0769]Epoch 264: Train Acc = 0.9875\n",
      "Epoch 265: 100%|██████████| 105/105 [00:58<00:00,  1.79it/s, v_num=7, train_loss_step=0.280, val_loss=0.259, train_loss_epoch=0.0944]  Epoch 265: Valid Acc = 0.9521\n",
      "Epoch 265: 100%|██████████| 105/105 [01:05<00:00,  1.61it/s, v_num=7, train_loss_step=0.280, val_loss=0.273, train_loss_epoch=0.0944]Epoch 265: Train Acc = 0.9688\n",
      "Epoch 266: 100%|██████████| 105/105 [00:51<00:00,  2.05it/s, v_num=7, train_loss_step=0.273, val_loss=0.273, train_loss_epoch=0.0879] Epoch 266: Valid Acc = 0.9521\n",
      "Epoch 266: 100%|██████████| 105/105 [00:57<00:00,  1.82it/s, v_num=7, train_loss_step=0.273, val_loss=0.274, train_loss_epoch=0.0879]Epoch 266: Train Acc = 0.9563\n",
      "Epoch 267: 100%|██████████| 105/105 [00:52<00:00,  2.02it/s, v_num=7, train_loss_step=0.272, val_loss=0.274, train_loss_epoch=0.106]  Epoch 267: Valid Acc = 0.9589\n",
      "Epoch 267: 100%|██████████| 105/105 [00:58<00:00,  1.80it/s, v_num=7, train_loss_step=0.272, val_loss=0.249, train_loss_epoch=0.106]Epoch 267: Train Acc = 0.9812\n",
      "Epoch 268: 100%|██████████| 105/105 [00:55<00:00,  1.90it/s, v_num=7, train_loss_step=0.0199, val_loss=0.249, train_loss_epoch=0.0848] Epoch 268: Valid Acc = 0.9589\n",
      "Epoch 268: 100%|██████████| 105/105 [01:02<00:00,  1.68it/s, v_num=7, train_loss_step=0.0199, val_loss=0.246, train_loss_epoch=0.0848]Epoch 268: Train Acc = 0.9688\n",
      "Epoch 269: 100%|██████████| 105/105 [00:51<00:00,  2.03it/s, v_num=7, train_loss_step=0.106, val_loss=0.246, train_loss_epoch=0.0948]  Epoch 269: Valid Acc = 0.9589\n",
      "Epoch 269: 100%|██████████| 105/105 [00:57<00:00,  1.82it/s, v_num=7, train_loss_step=0.106, val_loss=0.244, train_loss_epoch=0.0948]Epoch 269: Train Acc = 0.9938\n",
      "Epoch 270: 100%|██████████| 105/105 [00:53<00:00,  1.98it/s, v_num=7, train_loss_step=0.00193, val_loss=0.244, train_loss_epoch=0.0941]Epoch 270: Valid Acc = 0.9589\n",
      "Epoch 270: 100%|██████████| 105/105 [00:59<00:00,  1.76it/s, v_num=7, train_loss_step=0.00193, val_loss=0.254, train_loss_epoch=0.0941]Epoch 270: Train Acc = 0.9500\n",
      "Epoch 271: 100%|██████████| 105/105 [00:51<00:00,  2.05it/s, v_num=7, train_loss_step=0.0879, val_loss=0.254, train_loss_epoch=0.0792] Epoch 271: Valid Acc = 0.9452\n",
      "Epoch 271: 100%|██████████| 105/105 [00:57<00:00,  1.83it/s, v_num=7, train_loss_step=0.0879, val_loss=0.270, train_loss_epoch=0.0792]Epoch 271: Train Acc = 0.9812\n",
      "Epoch 272: 100%|██████████| 105/105 [00:51<00:00,  2.05it/s, v_num=7, train_loss_step=0.124, val_loss=0.270, train_loss_epoch=0.0814]  Epoch 272: Valid Acc = 0.9521\n",
      "Epoch 272: 100%|██████████| 105/105 [00:57<00:00,  1.83it/s, v_num=7, train_loss_step=0.124, val_loss=0.258, train_loss_epoch=0.0814]Epoch 272: Train Acc = 0.9750\n",
      "Epoch 273: 100%|██████████| 105/105 [00:52<00:00,  2.02it/s, v_num=7, train_loss_step=0.00139, val_loss=0.258, train_loss_epoch=0.0837]Epoch 273: Valid Acc = 0.9589\n",
      "Epoch 273: 100%|██████████| 105/105 [00:58<00:00,  1.79it/s, v_num=7, train_loss_step=0.00139, val_loss=0.245, train_loss_epoch=0.0837]Epoch 273: Train Acc = 0.9750\n",
      "Epoch 274: 100%|██████████| 105/105 [00:55<00:00,  1.88it/s, v_num=7, train_loss_step=0.287, val_loss=0.245, train_loss_epoch=0.0962]  Epoch 274: Valid Acc = 0.9589\n",
      "Epoch 274: 100%|██████████| 105/105 [01:03<00:00,  1.67it/s, v_num=7, train_loss_step=0.287, val_loss=0.248, train_loss_epoch=0.0962]Epoch 274: Train Acc = 0.9625\n",
      "Epoch 275: 100%|██████████| 105/105 [00:56<00:00,  1.87it/s, v_num=7, train_loss_step=0.149, val_loss=0.248, train_loss_epoch=0.0885]  Epoch 275: Valid Acc = 0.9589\n",
      "Epoch 275: 100%|██████████| 105/105 [01:02<00:00,  1.68it/s, v_num=7, train_loss_step=0.149, val_loss=0.245, train_loss_epoch=0.0885]Epoch 275: Train Acc = 0.9812\n",
      "Epoch 276: 100%|██████████| 105/105 [00:59<00:00,  1.77it/s, v_num=7, train_loss_step=0.00374, val_loss=0.245, train_loss_epoch=0.0863]Epoch 276: Valid Acc = 0.9589\n",
      "Epoch 276: 100%|██████████| 105/105 [01:05<00:00,  1.60it/s, v_num=7, train_loss_step=0.00374, val_loss=0.252, train_loss_epoch=0.0863]Epoch 276: Train Acc = 0.9812\n",
      "Epoch 277: 100%|██████████| 105/105 [00:51<00:00,  2.03it/s, v_num=7, train_loss_step=0.00122, val_loss=0.252, train_loss_epoch=0.0735]Epoch 277: Valid Acc = 0.9521\n",
      "Epoch 277: 100%|██████████| 105/105 [00:58<00:00,  1.78it/s, v_num=7, train_loss_step=0.00122, val_loss=0.257, train_loss_epoch=0.0735]Epoch 277: Train Acc = 0.9812\n",
      "Epoch 278: 100%|██████████| 105/105 [00:54<00:00,  1.93it/s, v_num=7, train_loss_step=0.00303, val_loss=0.257, train_loss_epoch=0.0966]Epoch 278: Valid Acc = 0.9521\n",
      "Epoch 278: 100%|██████████| 105/105 [01:00<00:00,  1.72it/s, v_num=7, train_loss_step=0.00303, val_loss=0.277, train_loss_epoch=0.0966]Epoch 278: Train Acc = 0.9688\n",
      "Epoch 279: 100%|██████████| 105/105 [00:52<00:00,  2.00it/s, v_num=7, train_loss_step=0.00292, val_loss=0.277, train_loss_epoch=0.097] Epoch 279: Valid Acc = 0.9521\n",
      "Epoch 279: 100%|██████████| 105/105 [00:58<00:00,  1.79it/s, v_num=7, train_loss_step=0.00292, val_loss=0.257, train_loss_epoch=0.097]Epoch 279: Train Acc = 0.9938\n",
      "Epoch 280: 100%|██████████| 105/105 [00:51<00:00,  2.02it/s, v_num=7, train_loss_step=0.00261, val_loss=0.257, train_loss_epoch=0.0877]Epoch 280: Valid Acc = 0.9452\n",
      "Epoch 280: 100%|██████████| 105/105 [00:58<00:00,  1.81it/s, v_num=7, train_loss_step=0.00261, val_loss=0.294, train_loss_epoch=0.0877]Epoch 280: Train Acc = 0.9875\n",
      "Epoch 281: 100%|██████████| 105/105 [00:51<00:00,  2.06it/s, v_num=7, train_loss_step=0.179, val_loss=0.294, train_loss_epoch=0.0735]  Epoch 281: Valid Acc = 0.9521\n",
      "Epoch 281: 100%|██████████| 105/105 [00:57<00:00,  1.82it/s, v_num=7, train_loss_step=0.179, val_loss=0.268, train_loss_epoch=0.0735]Epoch 281: Train Acc = 0.9875\n",
      "Epoch 282: 100%|██████████| 105/105 [00:51<00:00,  2.05it/s, v_num=7, train_loss_step=0.0218, val_loss=0.268, train_loss_epoch=0.0852] Epoch 282: Valid Acc = 0.9452\n",
      "Epoch 282: 100%|██████████| 105/105 [00:58<00:00,  1.81it/s, v_num=7, train_loss_step=0.0218, val_loss=0.299, train_loss_epoch=0.0852]Epoch 282: Train Acc = 1.0000\n",
      "Epoch 283: 100%|██████████| 105/105 [00:51<00:00,  2.05it/s, v_num=7, train_loss_step=0.112, val_loss=0.299, train_loss_epoch=0.089]  Epoch 283: Valid Acc = 0.9521\n",
      "Epoch 283: 100%|██████████| 105/105 [00:57<00:00,  1.83it/s, v_num=7, train_loss_step=0.112, val_loss=0.269, train_loss_epoch=0.089]Epoch 283: Train Acc = 0.9688\n",
      "Epoch 284: 100%|██████████| 105/105 [00:51<00:00,  2.04it/s, v_num=7, train_loss_step=0.0684, val_loss=0.269, train_loss_epoch=0.0862] Epoch 284: Valid Acc = 0.9521\n",
      "Epoch 284: 100%|██████████| 105/105 [00:57<00:00,  1.84it/s, v_num=7, train_loss_step=0.0684, val_loss=0.275, train_loss_epoch=0.0862]Epoch 284: Train Acc = 0.9875\n",
      "Epoch 285: 100%|██████████| 105/105 [00:50<00:00,  2.06it/s, v_num=7, train_loss_step=0.00304, val_loss=0.275, train_loss_epoch=0.0856]Epoch 285: Valid Acc = 0.9521\n",
      "Epoch 285: 100%|██████████| 105/105 [00:56<00:00,  1.84it/s, v_num=7, train_loss_step=0.00304, val_loss=0.273, train_loss_epoch=0.0856]Epoch 285: Train Acc = 0.9812\n",
      "Epoch 286: 100%|██████████| 105/105 [00:51<00:00,  2.05it/s, v_num=7, train_loss_step=0.163, val_loss=0.273, train_loss_epoch=0.091]   Epoch 286: Valid Acc = 0.9521\n",
      "Epoch 286: 100%|██████████| 105/105 [00:57<00:00,  1.84it/s, v_num=7, train_loss_step=0.163, val_loss=0.287, train_loss_epoch=0.091]Epoch 286: Train Acc = 0.9625\n",
      "Epoch 287: 100%|██████████| 105/105 [00:54<00:00,  1.93it/s, v_num=7, train_loss_step=0.201, val_loss=0.287, train_loss_epoch=0.0901]  Epoch 287: Valid Acc = 0.9521\n",
      "Epoch 287: 100%|██████████| 105/105 [01:01<00:00,  1.70it/s, v_num=7, train_loss_step=0.201, val_loss=0.266, train_loss_epoch=0.0901]Epoch 287: Train Acc = 0.9938\n",
      "Epoch 288: 100%|██████████| 105/105 [00:59<00:00,  1.78it/s, v_num=7, train_loss_step=0.275, val_loss=0.266, train_loss_epoch=0.094]  Epoch 288: Valid Acc = 0.9589\n",
      "Epoch 288: 100%|██████████| 105/105 [01:05<00:00,  1.61it/s, v_num=7, train_loss_step=0.275, val_loss=0.254, train_loss_epoch=0.094]Epoch 288: Train Acc = 0.9625\n",
      "Epoch 289: 100%|██████████| 105/105 [00:57<00:00,  1.81it/s, v_num=7, train_loss_step=0.0155, val_loss=0.254, train_loss_epoch=0.0843] Epoch 289: Valid Acc = 0.9589\n",
      "Epoch 289: 100%|██████████| 105/105 [01:04<00:00,  1.63it/s, v_num=7, train_loss_step=0.0155, val_loss=0.264, train_loss_epoch=0.0843]Epoch 289: Train Acc = 0.9750\n",
      "Epoch 290: 100%|██████████| 105/105 [00:53<00:00,  1.97it/s, v_num=7, train_loss_step=0.00315, val_loss=0.264, train_loss_epoch=0.0798]Epoch 290: Valid Acc = 0.9452\n",
      "Epoch 290: 100%|██████████| 105/105 [00:58<00:00,  1.78it/s, v_num=7, train_loss_step=0.00315, val_loss=0.286, train_loss_epoch=0.0798]Epoch 290: Train Acc = 0.9688\n",
      "Epoch 291: 100%|██████████| 105/105 [00:53<00:00,  1.97it/s, v_num=7, train_loss_step=0.0015, val_loss=0.286, train_loss_epoch=0.0767] Epoch 291: Valid Acc = 0.9589\n",
      "Epoch 291: 100%|██████████| 105/105 [00:59<00:00,  1.77it/s, v_num=7, train_loss_step=0.0015, val_loss=0.251, train_loss_epoch=0.0767]Epoch 291: Train Acc = 0.9750\n",
      "Epoch 292: 100%|██████████| 105/105 [00:52<00:00,  2.00it/s, v_num=7, train_loss_step=0.00223, val_loss=0.251, train_loss_epoch=0.102]Epoch 292: Valid Acc = 0.9452\n",
      "Epoch 292: 100%|██████████| 105/105 [00:59<00:00,  1.77it/s, v_num=7, train_loss_step=0.00223, val_loss=0.295, train_loss_epoch=0.102]Epoch 292: Train Acc = 0.9938\n",
      "Epoch 293: 100%|██████████| 105/105 [00:52<00:00,  1.99it/s, v_num=7, train_loss_step=0.00133, val_loss=0.295, train_loss_epoch=0.0832]Epoch 293: Valid Acc = 0.9589\n",
      "Epoch 293: 100%|██████████| 105/105 [00:59<00:00,  1.75it/s, v_num=7, train_loss_step=0.00133, val_loss=0.257, train_loss_epoch=0.0832]Epoch 293: Train Acc = 0.9750\n",
      "Epoch 294: 100%|██████████| 105/105 [00:54<00:00,  1.91it/s, v_num=7, train_loss_step=0.00504, val_loss=0.257, train_loss_epoch=0.0918]Epoch 294: Valid Acc = 0.9521\n",
      "Epoch 294: 100%|██████████| 105/105 [01:01<00:00,  1.70it/s, v_num=7, train_loss_step=0.00504, val_loss=0.276, train_loss_epoch=0.0918]Epoch 294: Train Acc = 0.9812\n",
      "Epoch 295: 100%|██████████| 105/105 [00:54<00:00,  1.92it/s, v_num=7, train_loss_step=0.00436, val_loss=0.276, train_loss_epoch=0.0752]Epoch 295: Valid Acc = 0.9521\n",
      "Epoch 295: 100%|██████████| 105/105 [01:01<00:00,  1.70it/s, v_num=7, train_loss_step=0.00436, val_loss=0.288, train_loss_epoch=0.0752]Epoch 295: Train Acc = 0.9938\n",
      "Epoch 296: 100%|██████████| 105/105 [01:04<00:00,  1.62it/s, v_num=7, train_loss_step=0.00867, val_loss=0.288, train_loss_epoch=0.0823]Epoch 296: Valid Acc = 0.9521\n",
      "Epoch 296: 100%|██████████| 105/105 [01:12<00:00,  1.46it/s, v_num=7, train_loss_step=0.00867, val_loss=0.269, train_loss_epoch=0.0823]Epoch 296: Train Acc = 0.9938\n",
      "Epoch 297: 100%|██████████| 105/105 [00:56<00:00,  1.86it/s, v_num=7, train_loss_step=0.0885, val_loss=0.269, train_loss_epoch=0.074]  Epoch 297: Valid Acc = 0.9521\n",
      "Epoch 297: 100%|██████████| 105/105 [01:02<00:00,  1.67it/s, v_num=7, train_loss_step=0.0885, val_loss=0.283, train_loss_epoch=0.074]Epoch 297: Train Acc = 0.9812\n",
      "Epoch 298: 100%|██████████| 105/105 [00:52<00:00,  2.02it/s, v_num=7, train_loss_step=0.366, val_loss=0.283, train_loss_epoch=0.0945]  Epoch 298: Valid Acc = 0.9521\n",
      "Epoch 298: 100%|██████████| 105/105 [00:58<00:00,  1.80it/s, v_num=7, train_loss_step=0.366, val_loss=0.275, train_loss_epoch=0.0945]Epoch 298: Train Acc = 0.9875\n",
      "Epoch 299: 100%|██████████| 105/105 [00:59<00:00,  1.76it/s, v_num=7, train_loss_step=0.00129, val_loss=0.275, train_loss_epoch=0.0864]Epoch 299: Valid Acc = 0.9521\n",
      "Epoch 299: 100%|██████████| 105/105 [01:05<00:00,  1.60it/s, v_num=7, train_loss_step=0.00129, val_loss=0.280, train_loss_epoch=0.0864]Epoch 299: Train Acc = 0.9875\n",
      "Epoch 299: 100%|██████████| 105/105 [01:09<00:00,  1.50it/s, v_num=7, train_loss_step=0.00129, val_loss=0.280, train_loss_epoch=0.0852]"
     ]
    },
    {
     "name": "stderr",
     "output_type": "stream",
     "text": [
      "`Trainer.fit` stopped: `max_epochs=300` reached.\n"
     ]
    },
    {
     "name": "stdout",
     "output_type": "stream",
     "text": [
      "Epoch 299: 100%|██████████| 105/105 [01:10<00:00,  1.49it/s, v_num=7, train_loss_step=0.00129, val_loss=0.280, train_loss_epoch=0.0852]\n",
      "모델 학습 완료!\n"
     ]
    },
    {
     "data": {
      "image/png": "[encoded data removed]",
      "text/plain": [
       "<Figure size 1600x600 with 2 Axes>"
      ]
     },
     "metadata": {},
     "output_type": "display_data"
    },
    {
     "name": "stdout",
     "output_type": "stream",
     "text": [
      "훈련 정확도: [0.5375, 0.525, 0.5625, 0.59375, 0.65625, 0.74375, 0.7875, 0.775, 0.875, 0.8375, 0.85625, 0.8125, 0.88125, 0.9, 0.85625, 0.9, 0.88125, 0.9, 0.85625, 0.8875, 0.9125, 0.93125, 0.8875, 0.85625, 0.88125, 0.925, 0.91875, 0.9375, 0.9, 0.9, 0.925, 0.91875, 0.95, 0.90625, 0.86875, 0.91875, 0.9125, 0.95, 0.9, 0.9125, 0.975, 0.95, 0.925, 0.91875, 0.91875, 0.93125, 0.925, 0.93125, 0.96875, 0.95625, 0.9625, 0.91875, 0.95625, 0.94375, 0.925, 0.95, 0.96875, 0.925, 0.9625, 0.975, 0.975, 0.98125, 0.9875, 0.96875, 0.9625, 0.9875, 0.9625, 0.95625, 0.99375, 0.9625, 0.975, 0.9625, 0.975, 0.98125, 0.99375, 0.95625, 0.96875, 0.975, 0.99375, 0.975, 0.9375, 0.99375, 0.93125, 0.96875, 0.9875, 0.975, 0.96875, 0.98125, 0.9875, 0.975, 0.99375, 0.98125, 0.95625, 0.98125, 0.9875, 0.975, 0.99375, 0.9625, 0.98125, 0.98125, 0.98125, 0.96875, 0.98125, 0.9625, 0.975, 0.975, 0.95625, 0.9875, 0.96875, 0.98125, 0.98125, 0.99375, 0.96875, 0.96875, 0.96875, 0.96875, 0.96875, 0.95625, 0.96875, 0.9875, 0.95, 0.9875, 0.96875, 0.96875, 0.9625, 0.975, 0.99375, 0.96875, 0.975, 0.99375, 0.99375, 0.96875, 0.96875, 0.98125, 1.0, 0.975, 0.98125, 0.975, 0.9625, 0.98125, 0.975, 0.9875, 1.0, 0.95625, 0.975, 0.975, 0.9625, 0.96875, 0.9875, 0.9875, 0.95625, 0.98125, 0.99375, 0.975, 0.9625, 0.96875, 0.9625, 0.96875, 0.9875, 0.975, 0.9625, 0.98125, 0.98125, 0.98125, 1.0, 0.96875, 0.96875, 0.98125, 0.9875, 0.975, 0.9625, 0.975, 0.96875, 0.9875, 0.98125, 0.98125, 0.9875, 0.96875, 0.95625, 0.975, 0.975, 0.96875, 0.98125, 0.98125, 0.96875, 0.9875, 0.96875, 0.98125, 0.99375, 0.98125, 0.9875, 0.9625, 0.9875, 0.975, 0.975, 0.9875, 0.98125, 0.9875, 0.98125, 0.95, 0.975, 0.96875, 0.975, 0.98125, 0.96875, 0.99375, 0.9875, 0.96875, 0.9875, 0.95625, 0.98125, 0.9875, 0.975, 0.9875, 0.98125, 0.9875, 0.98125, 0.96875, 0.975, 0.98125, 0.99375, 0.9875, 0.975, 0.99375, 0.98125, 0.9875, 0.98125, 0.96875, 0.975, 0.975, 0.98125, 0.99375, 0.975, 0.96875, 0.9875, 0.95, 0.9875, 0.9875, 0.99375, 0.9875, 0.975, 0.9625, 0.975, 0.9875, 0.96875, 0.96875, 0.9875, 0.9875, 0.9875, 0.9875, 0.99375, 0.96875, 0.98125, 0.98125, 0.99375, 0.975, 0.975, 0.9625, 0.98125, 0.99375, 0.9875, 0.98125, 0.9875, 0.975, 0.9875, 0.96875, 0.95625, 0.98125, 0.96875, 0.99375, 0.95, 0.98125, 0.975, 0.975, 0.9625, 0.98125, 0.98125, 0.98125, 0.96875, 0.99375, 0.9875, 0.9875, 1.0, 0.96875, 0.9875, 0.98125, 0.9625, 0.99375, 0.9625, 0.975, 0.96875, 0.975, 0.99375, 0.975, 0.98125, 0.99375, 0.99375, 0.98125, 0.9875, 0.9875]\n",
      "검증 정확도: [0.547945205479452, 0.541095890410959, 0.541095890410959, 0.5342465753424658, 0.5753424657534246, 0.6986301369863014, 0.7602739726027398, 0.7945205479452054, 0.8013698630136986, 0.8082191780821918, 0.8013698630136986, 0.8013698630136986, 0.815068493150685, 0.821917808219178, 0.8287671232876712, 0.821917808219178, 0.8287671232876712, 0.8493150684931506, 0.8287671232876712, 0.8493150684931506, 0.8424657534246576, 0.8356164383561644, 0.8356164383561644, 0.8424657534246576, 0.8287671232876712, 0.8561643835616438, 0.8493150684931506, 0.8561643835616438, 0.8424657534246576, 0.8561643835616438, 0.8698630136986302, 0.8698630136986302, 0.863013698630137, 0.8561643835616438, 0.8698630136986302, 0.8767123287671232, 0.863013698630137, 0.8698630136986302, 0.863013698630137, 0.8767123287671232, 0.8698630136986302, 0.8767123287671232, 0.863013698630137, 0.8904109589041096, 0.8698630136986302, 0.8835616438356164, 0.8767123287671232, 0.9041095890410958, 0.9246575342465754, 0.8835616438356164, 0.8972602739726028, 0.910958904109589, 0.9315068493150684, 0.8972602739726028, 0.8904109589041096, 0.9041095890410958, 0.9041095890410958, 0.9041095890410958, 0.9246575342465754, 0.9178082191780822, 0.8972602739726028, 0.9178082191780822, 0.9315068493150684, 0.9041095890410958, 0.9315068493150684, 0.9246575342465754, 0.9452054794520548, 0.9246575342465754, 0.9315068493150684, 0.9315068493150684, 0.9315068493150684, 0.9178082191780822, 0.9383561643835616, 0.9383561643835616, 0.9246575342465754, 0.9315068493150684, 0.9383561643835616, 0.9383561643835616, 0.9383561643835616, 0.9315068493150684, 0.9315068493150684, 0.9383561643835616, 0.9315068493150684, 0.9315068493150684, 0.9315068493150684, 0.9452054794520548, 0.9383561643835616, 0.9315068493150684, 0.9315068493150684, 0.9315068493150684, 0.9315068493150684, 0.9383561643835616, 0.9315068493150684, 0.9383561643835616, 0.9383561643835616, 0.9383561643835616, 0.9383561643835616, 0.9383561643835616, 0.9383561643835616, 0.9383561643835616, 0.9383561643835616, 0.9383561643835616, 0.9315068493150684, 0.9383561643835616, 0.9383561643835616, 0.9383561643835616, 0.9383561643835616, 0.9383561643835616, 0.9383561643835616, 0.9383561643835616, 0.9452054794520548, 0.9383561643835616, 0.9383561643835616, 0.9383561643835616, 0.9383561643835616, 0.9383561643835616, 0.9383561643835616, 0.9383561643835616, 0.9383561643835616, 0.9315068493150684, 0.9383561643835616, 0.9383561643835616, 0.9383561643835616, 0.9383561643835616, 0.9383561643835616, 0.9383561643835616, 0.9383561643835616, 0.9383561643835616, 0.9452054794520548, 0.9383561643835616, 0.9383561643835616, 0.9383561643835616, 0.9383561643835616, 0.9383561643835616, 0.9383561643835616, 0.9383561643835616, 0.9383561643835616, 0.9383561643835616, 0.9383561643835616, 0.9452054794520548, 0.9452054794520548, 0.9452054794520548, 0.9383561643835616, 0.9383561643835616, 0.9383561643835616, 0.9383561643835616, 0.9383561643835616, 0.9383561643835616, 0.9383561643835616, 0.9383561643835616, 0.9383561643835616, 0.9383561643835616, 0.9315068493150684, 0.9383561643835616, 0.9383561643835616, 0.9383561643835616, 0.9383561643835616, 0.9383561643835616, 0.9452054794520548, 0.9383561643835616, 0.9383561643835616, 0.9383561643835616, 0.9383561643835616, 0.9383561643835616, 0.9383561643835616, 0.9383561643835616, 0.9383561643835616, 0.9452054794520548, 0.9383561643835616, 0.9383561643835616, 0.952054794520548, 0.9383561643835616, 0.9452054794520548, 0.9383561643835616, 0.9452054794520548, 0.952054794520548, 0.9452054794520548, 0.9452054794520548, 0.9452054794520548, 0.9383561643835616, 0.9383561643835616, 0.9383561643835616, 0.9383561643835616, 0.9452054794520548, 0.952054794520548, 0.952054794520548, 0.9383561643835616, 0.9383561643835616, 0.9383561643835616, 0.9383561643835616, 0.9383561643835616, 0.9383561643835616, 0.9452054794520548, 0.9452054794520548, 0.9383561643835616, 0.9452054794520548, 0.9383561643835616, 0.9452054794520548, 0.9383561643835616, 0.9383561643835616, 0.9383561643835616, 0.9383561643835616, 0.9452054794520548, 0.9383561643835616, 0.9452054794520548, 0.9383561643835616, 0.9452054794520548, 0.9452054794520548, 0.9452054794520548, 0.952054794520548, 0.952054794520548, 0.952054794520548, 0.9383561643835616, 0.9383561643835616, 0.9383561643835616, 0.9383561643835616, 0.9383561643835616, 0.952054794520548, 0.9452054794520548, 0.9452054794520548, 0.9452054794520548, 0.9452054794520548, 0.9452054794520548, 0.9383561643835616, 0.952054794520548, 0.952054794520548, 0.952054794520548, 0.9452054794520548, 0.9452054794520548, 0.952054794520548, 0.9452054794520548, 0.9452054794520548, 0.9452054794520548, 0.9452054794520548, 0.9452054794520548, 0.9452054794520548, 0.9452054794520548, 0.9452054794520548, 0.9452054794520548, 0.9383561643835616, 0.9452054794520548, 0.9452054794520548, 0.9452054794520548, 0.9452054794520548, 0.9452054794520548, 0.952054794520548, 0.9452054794520548, 0.9452054794520548, 0.9452054794520548, 0.952054794520548, 0.958904109589041, 0.958904109589041, 0.9452054794520548, 0.9452054794520548, 0.952054794520548, 0.952054794520548, 0.952054794520548, 0.952054794520548, 0.952054794520548, 0.958904109589041, 0.958904109589041, 0.9452054794520548, 0.958904109589041, 0.952054794520548, 0.952054794520548, 0.952054794520548, 0.952054794520548, 0.958904109589041, 0.958904109589041, 0.958904109589041, 0.958904109589041, 0.9452054794520548, 0.952054794520548, 0.958904109589041, 0.958904109589041, 0.958904109589041, 0.958904109589041, 0.952054794520548, 0.952054794520548, 0.952054794520548, 0.9452054794520548, 0.952054794520548, 0.9452054794520548, 0.952054794520548, 0.952054794520548, 0.952054794520548, 0.952054794520548, 0.952054794520548, 0.958904109589041, 0.958904109589041, 0.9452054794520548, 0.958904109589041, 0.9452054794520548, 0.958904109589041, 0.952054794520548, 0.952054794520548, 0.952054794520548, 0.952054794520548, 0.952054794520548, 0.952054794520548]\n"
     ]
    }
   ],
   "source": [
    "# 학습 실행\n",
    "try:\n",
    "    trainer.fit(\n",
    "        tft,\n",
    "        train_dataloaders=train_dataloader,\n",
    "        val_dataloaders=val_dataloader,\n",
    "    )\n",
    "    print(\"모델 학습 완료!\")\n",
    "\n",
    "    # 그래프 그리기\n",
    "    accuracy_callback.plot_metrics(save_path=os.path.join(checkpoint_dir, 'training_history.png'))\n",
    "\n",
    "except Exception as e:\n",
    "    print(f\"학습 중 오류 발생: {e}\")\n",
    "    import traceback\n",
    "    traceback.print_exc()"
   ]
  },
  {
   "cell_type": "code",
   "execution_count": 23,
   "metadata": {},
   "outputs": [
    {
     "name": "stdout",
     "output_type": "stream",
     "text": [
      "사용 장치: mps\n"
     ]
    },
    {
     "name": "stderr",
     "output_type": "stream",
     "text": [
      "/Users/hdj/miniforge3/envs/kf_proj/lib/python3.10/site-packages/lightning/pytorch/utilities/parsing.py:209: Attribute 'loss' is an instance of `nn.Module` and is already saved during checkpointing. It is recommended to ignore them using `self.save_hyperparameters(ignore=['loss'])`.\n",
      "/Users/hdj/miniforge3/envs/kf_proj/lib/python3.10/site-packages/lightning/pytorch/utilities/parsing.py:209: Attribute 'logging_metrics' is an instance of `nn.Module` and is already saved during checkpointing. It is recommended to ignore them using `self.save_hyperparameters(ignore=['logging_metrics'])`.\n"
     ]
    },
    {
     "name": "stdout",
     "output_type": "stream",
     "text": [
      "\n",
      "분류 보고서:\n",
      "              precision    recall  f1-score   support\n",
      "\n",
      "    Standing       0.97      0.90      0.94        81\n",
      "     Walking       0.89      0.97      0.93        65\n",
      "\n",
      "    accuracy                           0.93       146\n",
      "   macro avg       0.93      0.94      0.93       146\n",
      "weighted avg       0.94      0.93      0.93       146\n",
      "\n"
     ]
    },
    {
     "data": {
      "image/png": "[encoded data removed]",
      "text/plain": [
       "<Figure size 800x600 with 2 Axes>"
      ]
     },
     "metadata": {},
     "output_type": "display_data"
    },
    {
     "data": {
      "image/png": "[encoded data removed]",
      "text/plain": [
       "<Figure size 800x600 with 1 Axes>"
      ]
     },
     "metadata": {},
     "output_type": "display_data"
    },
    {
     "name": "stdout",
     "output_type": "stream",
     "text": [
      "모델 평가 및 시각화 완료!\n"
     ]
    }
   ],
   "source": [
    "# 평가 및 시각화 (학습 성공 시)\n",
    "try:\n",
    "    # 학습이 성공적으로 완료되면 최고 성능 모델 로드\n",
    "    best_model_path = checkpoint_callback.best_model_path\n",
    "    if os.path.exists(best_model_path):\n",
    "        print(f\"사용 장치: {device}\")\n",
    "\n",
    "        # 모델 로드 시 장치 명시\n",
    "        best_tft = TemporalFusionTransformer.load_from_checkpoint(\n",
    "            best_model_path,\n",
    "            map_location=device\n",
    "        )\n",
    "        best_tft.to(device)  # 명시적으로 모델을 장치로 이동\n",
    "        best_tft.eval()  # 평가 모드로 전환\n",
    "\n",
    "        # 검증 데이터에 대한 예측 및 평가\n",
    "        val_predictions = []\n",
    "        val_targets = []\n",
    "\n",
    "        for batch in val_dataloader:\n",
    "            x, y = batch\n",
    "\n",
    "            # 데이터를 모델과 동일한 장치로 이동\n",
    "            if isinstance(x, dict):\n",
    "                # 딕셔너리인 경우 각 텐서를 이동\n",
    "                for k in x:\n",
    "                    if isinstance(x[k], torch.Tensor):\n",
    "                        x[k] = x[k].to(device)\n",
    "            else:\n",
    "                x = x.to(device)\n",
    "\n",
    "            if isinstance(y, (list, tuple)) and len(y) > 0:\n",
    "                y = [yi.to(device) for yi in y if isinstance(yi, torch.Tensor)]\n",
    "            elif isinstance(y, torch.Tensor):\n",
    "                y = y.to(device)\n",
    "\n",
    "            with torch.no_grad():\n",
    "                predictions = best_tft(x)\n",
    "\n",
    "            # 예측값 처리\n",
    "            if isinstance(predictions, tuple):\n",
    "                predictions = predictions[0]\n",
    "\n",
    "            # 이진 분류 처리\n",
    "            if predictions.size(-1) == 2:\n",
    "                pred_labels = predictions.argmax(dim=-1).cpu().numpy()\n",
    "            else:\n",
    "                pred_labels = (torch.sigmoid(predictions) > 0.5).long().cpu().numpy()\n",
    "\n",
    "            # 타겟값 처리 - 일관된 차원 처리\n",
    "            if isinstance(y, (list, tuple)) and len(y) > 0:\n",
    "                y = y[0]\n",
    "\n",
    "            # 타겟값 형태 수정\n",
    "            if y.dim() > 1:\n",
    "                if y.dim() == 2:\n",
    "                    # [batch_size, 1] 형태인 경우\n",
    "                    if y.size(1) == 1:\n",
    "                        y = y.squeeze(1)\n",
    "                elif y.dim() == 3:\n",
    "                    # [batch_size, 1, 1] 형태인 경우\n",
    "                    if y.size(1) == 1 and y.size(2) == 1:\n",
    "                        y = y.squeeze()\n",
    "                    else:\n",
    "                        # 다른 3차원 형태의 경우, 첫 번째 값만 사용\n",
    "                        y = y[:, 0, 0]\n",
    "\n",
    "            targets = y.cpu().long().numpy()\n",
    "\n",
    "            val_predictions.extend(pred_labels)\n",
    "            val_targets.extend(targets)\n",
    "\n",
    "        # 분류 보고서\n",
    "        print(\"\\n분류 보고서:\")\n",
    "        report = classification_report(\n",
    "            val_targets,\n",
    "            val_predictions,\n",
    "            target_names=['Standing', 'Walking']\n",
    "        )\n",
    "        print(report)\n",
    "\n",
    "        # 혼동 행렬 시각화\n",
    "        try:\n",
    "            plt.figure(figsize=(8, 6))\n",
    "            cm = confusion_matrix(val_targets, val_predictions)\n",
    "            sns.heatmap(cm, annot=True, fmt='d', cmap='Blues',\n",
    "                      xticklabels=['Standing', 'Walking'],\n",
    "                      yticklabels=['Standing', 'Walking'])\n",
    "            plt.xlabel('Predicted')\n",
    "            plt.ylabel('True')\n",
    "            plt.title('Confusion Matrix')\n",
    "            plt.tight_layout()\n",
    "            plt.savefig(os.path.join(checkpoint_dir, 'confusion_matrix.png'))\n",
    "            plt.show()\n",
    "\n",
    "            # 클래스별 정확도 계산 및 시각화\n",
    "            class_accuracy = np.zeros(2)  # 0~1 클래스에 대한 정확도 배열 초기화\n",
    "            for i in range(min(2, len(cm))):\n",
    "                if cm.sum(axis=1)[i] > 0:  # 0으로 나누기 방지\n",
    "                    class_accuracy[i] = cm[i, i] / cm.sum(axis=1)[i]\n",
    "\n",
    "            plt.figure(figsize=(8, 6))\n",
    "            plt.bar(['Standing', 'Walking'], class_accuracy)\n",
    "            plt.xlabel('Class')\n",
    "            plt.ylabel('Accuracy')\n",
    "            plt.title('Class-wise Accuracy')\n",
    "            plt.ylim(0, 1)\n",
    "            plt.savefig(os.path.join(checkpoint_dir, 'class_accuracy.png'))\n",
    "            plt.show()\n",
    "        except Exception as e:\n",
    "            print(f\"시각화 중 오류 발생: {e}\")\n",
    "            import traceback\n",
    "            traceback.print_exc()\n",
    "    else:\n",
    "        print(f\"최고 성능 모델 파일을 찾을 수 없습니다: {best_model_path}\")\n",
    "except Exception as e:\n",
    "    print(f\"평가 중 오류 발생: {e}\")\n",
    "    import traceback\n",
    "    traceback.print_exc()\n",
    "\n",
    "print(\"모델 평가 및 시각화 완료!\")"
   ]
  },
  {
   "cell_type": "code",
   "execution_count": 24,
   "metadata": {},
   "outputs": [
    {
     "name": "stdout",
     "output_type": "stream",
     "text": [
      "\n",
      "테스트 데이터 분류 보고서:\n",
      "              precision    recall  f1-score   support\n",
      "\n",
      "    Standing       0.97      0.92      0.95        76\n",
      "     Walking       0.92      0.97      0.95        74\n",
      "\n",
      "    accuracy                           0.95       150\n",
      "   macro avg       0.95      0.95      0.95       150\n",
      "weighted avg       0.95      0.95      0.95       150\n",
      "\n"
     ]
    }
   ],
   "source": [
    "# 테스트 데이터에 대한 예측 및 평가\n",
    "test_predictions = []\n",
    "test_targets = []\n",
    "\n",
    "for batch in test_dataloader:\n",
    "    x, y = batch\n",
    "\n",
    "    # 데이터를 모델과 동일한 장치로 이동\n",
    "    if isinstance(x, dict):\n",
    "        for k in x:\n",
    "            if isinstance(x[k], torch.Tensor):\n",
    "                x[k] = x[k].to(device)\n",
    "    else:\n",
    "        x = x.to(device)\n",
    "\n",
    "    with torch.no_grad():\n",
    "        predictions = best_tft(x)\n",
    "\n",
    "    # 예측값 처리\n",
    "    if isinstance(predictions, tuple):\n",
    "        predictions = predictions[0]\n",
    "\n",
    "    # 이진 분류 처리\n",
    "    if predictions.size(-1) == 2:\n",
    "        pred_labels = predictions.argmax(dim=-1).cpu().numpy()\n",
    "    else:\n",
    "        pred_labels = (torch.sigmoid(predictions) > 0.5).long().cpu().numpy()\n",
    "\n",
    "    # 타겟값 처리\n",
    "    if isinstance(y, (list, tuple)) and len(y) > 0:\n",
    "        y = y[0]\n",
    "\n",
    "    # 타겟값 형태 수정\n",
    "    if y.dim() > 1:\n",
    "        if y.dim() == 2 and y.size(1) == 1:\n",
    "            y = y.squeeze(1)\n",
    "        elif y.dim() == 3:\n",
    "            if y.size(1) == 1 and y.size(2) == 1:\n",
    "                y = y.squeeze()\n",
    "            else:\n",
    "                y = y[:, 0, 0]\n",
    "\n",
    "    targets = y.cpu().numpy()\n",
    "\n",
    "    test_predictions.extend(pred_labels)\n",
    "    test_targets.extend(targets)\n",
    "\n",
    "# 행동 클래스 레이블\n",
    "behavior_labels = ['Standing', 'Walking']\n",
    "\n",
    "# 분류 보고서\n",
    "print(\"\\n테스트 데이터 분류 보고서:\")\n",
    "report = classification_report(\n",
    "    test_targets,\n",
    "    test_predictions,\n",
    "    target_names=behavior_labels\n",
    ")\n",
    "print(report)"
   ]
  },
  {
   "cell_type": "code",
   "execution_count": 25,
   "metadata": {},
   "outputs": [
    {
     "data": {
      "image/png": "[encoded data removed]",
      "text/plain": [
       "<Figure size 800x600 with 2 Axes>"
      ]
     },
     "metadata": {},
     "output_type": "display_data"
    },
    {
     "data": {
      "image/png": "[encoded data removed]",
      "text/plain": [
       "<Figure size 800x600 with 1 Axes>"
      ]
     },
     "metadata": {},
     "output_type": "display_data"
    },
    {
     "name": "stdout",
     "output_type": "stream",
     "text": [
      "\n",
      "테스트 전체 정확도: 0.9467\n"
     ]
    }
   ],
   "source": [
    "# 혼동 행렬 계산 및 시각화\n",
    "cm = confusion_matrix(test_targets, test_predictions)\n",
    "plt.figure(figsize=(8, 6))\n",
    "sns.heatmap(cm, annot=True, fmt='d', cmap='Blues',\n",
    "           xticklabels=behavior_labels,\n",
    "           yticklabels=behavior_labels)\n",
    "plt.xlabel('Predicted')\n",
    "plt.ylabel('True')\n",
    "plt.title('Test Data Confusion Matrix')\n",
    "plt.tight_layout()\n",
    "plt.savefig(os.path.join(checkpoint_dir, 'test_confusion_matrix.png'))\n",
    "plt.show()\n",
    "\n",
    "# 클래스별 정확도 계산 및 시각화\n",
    "class_accuracy = np.zeros(2)\n",
    "for i in range(min(2, len(cm))):\n",
    "    if cm.sum(axis=1)[i] > 0:\n",
    "        class_accuracy[i] = cm[i, i] / cm.sum(axis=1)[i]\n",
    "\n",
    "plt.figure(figsize=(8, 6))\n",
    "plt.bar(behavior_labels, class_accuracy)\n",
    "plt.xlabel('Class')\n",
    "plt.ylabel('Accuracy')\n",
    "plt.title('Test Data Class-wise Accuracy')\n",
    "plt.ylim(0, 1)\n",
    "plt.savefig(os.path.join(checkpoint_dir, 'test_class_accuracy.png'))\n",
    "plt.show()\n",
    "\n",
    "# 전체 정확도 계산\n",
    "test_accuracy = accuracy_score(test_targets, test_predictions)\n",
    "print(f\"\\n테스트 전체 정확도: {test_accuracy:.4f}\")"
   ]
  },
  {
   "cell_type": "code",
   "execution_count": 26,
   "metadata": {},
   "outputs": [
    {
     "name": "stdout",
     "output_type": "stream",
     "text": [
      "검증 데이터 클래스 분포:\n",
      "binary_label\n",
      "0    0.553541\n",
      "1    0.446459\n",
      "Name: proportion, dtype: float64\n",
      "\n",
      "테스트 데이터 클래스 분포:\n",
      "binary_label\n",
      "0    0.540984\n",
      "1    0.459016\n",
      "Name: proportion, dtype: float64\n",
      "\n",
      "검증 데이터 특성 통계\n",
      "kp_0: 평균=0.1807, 표준편차=0.0334\n",
      "kp_1: 평균=0.0888, 표준편차=0.1034\n",
      "kp_2: 평균=0.0499, 표준편차=0.0179\n",
      "kp_3: 평균=0.0682, 표준편차=0.0365\n",
      "kp_4: 평균=0.0879, 표준편차=0.0980\n",
      "kp_5: 평균=0.0489, 표준편차=0.0169\n",
      "kp_6: 평균=0.1922, 표준편차=0.0371\n",
      "kp_7: 평균=0.2587, 표준편차=0.0815\n",
      "kp_8: 평균=0.0433, 표준편차=0.0170\n",
      "kp_9: 평균=0.0455, 표준편차=0.0448\n",
      "kp_10: 평균=0.2402, 표준편차=0.0562\n",
      "kp_11: 평균=0.0463, 표준편차=0.0186\n",
      "kp_12: 평균=0.2106, 표준편차=0.0402\n",
      "kp_13: 평균=0.2138, 표준편차=0.0934\n",
      "kp_14: 평균=0.1024, 표준편차=0.0137\n",
      "kp_15: 평균=0.0649, 표준편차=0.0629\n",
      "kp_16: 평균=0.1917, 표준편차=0.1008\n",
      "kp_17: 평균=0.1052, 표준편차=0.0176\n",
      "kp_18: 평균=0.2182, 표준편차=0.0488\n",
      "kp_19: 평균=0.2009, 표준편차=0.1266\n",
      "kp_20: 평균=0.1225, 표준편차=0.0133\n",
      "kp_21: 평균=0.0703, 표준편차=0.0740\n",
      "kp_22: 평균=0.1750, 표준편차=0.1403\n",
      "\n",
      "테스트 데이터 특성 통계\n",
      "kp_0: 평균=0.1809, 표준편차=0.0356\n",
      "kp_1: 평균=0.0895, 표준편차=0.1069\n",
      "kp_2: 평균=0.0500, 표준편차=0.0177\n",
      "kp_3: 평균=0.0719, 표준편차=0.0383\n",
      "kp_4: 평균=0.0874, 표준편차=0.1008\n",
      "kp_5: 평균=0.0491, 표준편차=0.0165\n",
      "kp_6: 평균=0.1907, 표준편차=0.0390\n",
      "kp_7: 평균=0.2618, 표준편차=0.0864\n",
      "kp_8: 평균=0.0432, 표준편차=0.0169\n",
      "kp_9: 평균=0.0497, 표준편차=0.0458\n",
      "kp_10: 평균=0.2420, 표준편차=0.0609\n",
      "kp_11: 평균=0.0457, 표준편차=0.0185\n",
      "kp_12: 평균=0.2067, 표준편차=0.0433\n",
      "kp_13: 평균=0.2208, 표준편차=0.0992\n",
      "kp_14: 평균=0.1019, 표준편차=0.0140\n",
      "kp_15: 평균=0.0665, 표준편차=0.0620\n",
      "kp_16: 평균=0.1981, 표준편차=0.1053\n",
      "kp_17: 평균=0.1042, 표준편차=0.0183\n",
      "kp_18: 평균=0.2138, 표준편차=0.0526\n",
      "kp_19: 평균=0.2089, 표준편차=0.1329\n",
      "kp_20: 평균=0.1219, 표준편차=0.0139\n",
      "kp_21: 평균=0.0710, 표준편차=0.0730\n",
      "kp_22: 평균=0.1828, 표준편차=0.1451\n"
     ]
    }
   ],
   "source": [
    "# 클래스 분포 비교\n",
    "print(\"검증 데이터 클래스 분포:\")\n",
    "print(val_df[\"binary_label\"].value_counts(normalize=True))\n",
    "\n",
    "print(\"\\n테스트 데이터 클래스 분포:\")\n",
    "print(test_df[\"binary_label\"].value_counts(normalize=True))\n",
    "\n",
    "# 각 데이터셋의 특성 통계 확인\n",
    "def show_feature_stats(df, name):\n",
    "    feature_cols = [col for col in df.columns if col.startswith('kp_')]\n",
    "    feature_means = df[feature_cols].mean()\n",
    "    feature_stds = df[feature_cols].std()\n",
    "    print(f\"\\n{name} 데이터 특성 통계\")\n",
    "    for i in range(23):\n",
    "        print(f\"kp_{i}: 평균={feature_means[f'kp_{i}']:.4f}, 표준편차={feature_stds[f'kp_{i}']:.4f}\")\n",
    "\n",
    "show_feature_stats(val_df, \"검증\")\n",
    "show_feature_stats(test_df, \"테스트\")"
   ]
  }
 ],
 "metadata": {
  "kernelspec": {
   "display_name": "kf_proj",
   "language": "python",
   "name": "python3"
  },
  "language_info": {
   "codemirror_mode": {
    "name": "ipython",
    "version": 3
   },
   "file_extension": ".py",
   "mimetype": "text/x-python",
   "name": "python",
   "nbconvert_exporter": "python",
   "pygments_lexer": "ipython3",
   "version": "3.10.16"
  }
 },
 "nbformat": 4,
 "nbformat_minor": 2
}
