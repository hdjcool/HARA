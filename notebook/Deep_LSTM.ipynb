{
 "cells": [
  {
   "cell_type": "code",
   "execution_count": 147,
   "id": "b2402204-40bb-431f-a4ac-f0744b2e1efb",
   "metadata": {},
   "outputs": [
    {
     "name": "stdin",
     "output_type": "stream",
     "text": [
      "Once deleted, variables cannot be recovered. Proceed (y/[n])?  y\n"
     ]
    }
   ],
   "source": [
    "%reset"
   ]
  },
  {
   "cell_type": "code",
   "execution_count": 2,
   "id": "f786bcfb-9b43-499d-88d5-5b03f2c6f9ef",
   "metadata": {},
   "outputs": [],
   "source": [
    "import gc\n",
    "import re\n",
    "import os\n",
    "import cv2\n",
    "import glob\n",
    "import time\n",
    "import torch\n",
    "import random\n",
    "import numpy as np\n",
    "import pandas as pd\n",
    "import torch.nn as nn\n",
    "import torch.optim as optim\n",
    "from torch.optim import Adam\n",
    "import matplotlib.pyplot as plt\n",
    "import torch.nn.functional as F\n",
    "from IPython.display import clear_output\n",
    "from torch.utils.data import random_split\n",
    "from torch.utils.data import Dataset, DataLoader\n",
    "from torch.cuda import memory_allocated, empty_cache"
   ]
  },
  {
   "cell_type": "code",
   "execution_count": 3,
   "id": "bbac83d3-e31a-4416-a21e-687f950af7f8",
   "metadata": {},
   "outputs": [
    {
     "name": "stdout",
     "output_type": "stream",
     "text": [
      "GPU available\n"
     ]
    }
   ],
   "source": [
    "if torch.cuda.is_available() == True:\n",
    "    device = 'cuda:0'\n",
    "    print('GPU available')\n",
    "else:\n",
    "    device = 'cpu'\n",
    "    print('GPU not available')\n",
    "\n",
    "def seed_everything(seed: int):\n",
    "    random.seed(seed)\n",
    "    os.environ['PYTHONHASHSEED'] = str(seed)\n",
    "    np.random.seed(seed)\n",
    "    torch.manual_seed(seed)\n",
    "    torch.cuda.manual_seed(seed)\n",
    "    torch.backends.cudnn.deterministic = True\n",
    "    torch.backends.cudnn.benchmark = True\n",
    "\n",
    "def delete_cash(device):\n",
    "    if device == 'cuda:0':\n",
    "        print(f'memory allocated : {torch.cuda.memory_allocated()}')\n",
    "        print(f'memory reserved : {torch.cuda.memory_reserved()}')\n",
    "        torch.cuda.empty_cache()\n",
    "    else:\n",
    "        print('your device is cpu')\n",
    "\n",
    "def count_dataset(dataset):\n",
    "    count_list = [0, 0, 0, 0]\n",
    "    for data in dataset:\n",
    "        count_list[int(data[1])] += 1\n",
    "        \n",
    "    print(f'total count is {len(dataset)}')\n",
    "    print(f'stand labels are counted {count_list[0]}')\n",
    "    print(f'start labels are counted {count_list[1]}')\n",
    "    print(f'walk labels are counted {count_list[2]}')\n",
    "    print(f'finish labels are counted {count_list[3]}\\n')\n",
    "    \n",
    "    return count_list\n",
    "\n",
    "def get_total_frames(file_path):\n",
    "    [names, fps_list, frame_list] = [[], [], []]\n",
    "    frame_data = {}\n",
    "    \n",
    "    all_train_path = glob.glob(os.path.join(file_path + 'Train/' + 'Video', \"*.mp4\"))\n",
    "    all_test_path = glob.glob(os.path.join(file_path + 'Test/' + 'Video', \"*.mp4\"))\n",
    "    all_path = all_train_path + all_test_path\n",
    "    \n",
    "    for path in all_path:\n",
    "        cap = cv2.VideoCapture(path)\n",
    "        names.append(os.path.splitext(os.path.basename(path))[0])\n",
    "        frame_list.append(int(cap.get(cv2.CAP_PROP_FRAME_COUNT)))\n",
    "        fps_list.append(int(cap.get(cv2.CAP_PROP_FPS)))\n",
    "        cap.release()\n",
    "        \n",
    "    for name, fps, frame in zip(names, fps_list, frame_list):\n",
    "        frame_data[name] = (frame, fps)\n",
    "        \n",
    "    test_names = [os.path.splitext(os.path.basename(test_name))[0] for test_name in all_test_path]\n",
    "    \n",
    "    return frame_data, test_names"
   ]
  },
  {
   "cell_type": "code",
   "execution_count": 4,
   "id": "0969fcd0-0c21-4f65-8b20-d71d0e3ceb15",
   "metadata": {},
   "outputs": [],
   "source": [
    "seed_everything(0)"
   ]
  },
  {
   "cell_type": "code",
   "execution_count": 5,
   "id": "be03aaf3-b578-4ded-9411-20e04b18469c",
   "metadata": {},
   "outputs": [],
   "source": [
    "class SkeletonDataset(Dataset):\n",
    "    def __init__(self, file_path, window_size=10, window_stride=1):\n",
    "        self.window_size = window_size\n",
    "        self.window_stride = window_stride\n",
    "        self.samples = []\n",
    "        \n",
    "        all_files = glob.glob(os.path.join(file_path, \"*.csv\"))\n",
    "        \n",
    "        for file in all_files:\n",
    "            dataframe = pd.read_csv(file, header=None)\n",
    "            dataframe = dataframe.dropna().reset_index(drop=True)\n",
    "            features = dataframe.iloc[:, :-1].values\n",
    "            labels  = dataframe.iloc[:, -1].values\n",
    "            \n",
    "            num_windows = (len(features) - window_size) // window_stride + 1\n",
    "            self.samples.append((features, labels, num_windows))\n",
    "            \n",
    "    def __len__(self):\n",
    "        return sum(num_windows for _, _, num_windows in self.samples)\n",
    "        \n",
    "    def __getitem__(self, idx):\n",
    "        \n",
    "        current_idx = idx\n",
    "        \n",
    "        for features, labels, num_windows in self.samples:\n",
    "            if current_idx < num_windows:\n",
    "                stride = current_idx * self.window_stride\n",
    "                x = features[stride:stride + self.window_size]\n",
    "                y = labels[stride + self.window_size - 1]\n",
    "                return torch.tensor(x, dtype=torch.float32), torch.tensor(y, dtype=torch.long)\n",
    "\n",
    "            current_idx -= num_windows\n",
    "        raise IndexError(\"Index out of range in dataset.\")"
   ]
  },
  {
   "cell_type": "code",
   "execution_count": 6,
   "id": "2844a66e-fb84-46ed-a075-42a7135fca73",
   "metadata": {},
   "outputs": [],
   "source": [
    "dataset = SkeletonDataset('/workspace/dataset/train/')"
   ]
  },
  {
   "cell_type": "code",
   "execution_count": 7,
   "id": "5cd8c6f3-f166-44b4-9693-783840a30840",
   "metadata": {},
   "outputs": [],
   "source": [
    "test_dataset = SkeletonDataset('/workspace/dataset/test/')"
   ]
  },
  {
   "cell_type": "code",
   "execution_count": 8,
   "id": "b46bbb2b-3452-4353-9db0-6d665b6fc6f4",
   "metadata": {},
   "outputs": [],
   "source": [
    "train_size = int(0.8 * len(dataset))\n",
    "val_size = len(dataset) - train_size"
   ]
  },
  {
   "cell_type": "code",
   "execution_count": 9,
   "id": "8765d3b3-c45f-406c-a6b8-44f2f9b0518d",
   "metadata": {},
   "outputs": [],
   "source": [
    "train_dataset, val_dataset = random_split(dataset, [train_size, val_size])"
   ]
  },
  {
   "cell_type": "code",
   "execution_count": 10,
   "id": "641f0e34-bea2-428e-9868-2ada7c83893a",
   "metadata": {},
   "outputs": [
    {
     "name": "stdout",
     "output_type": "stream",
     "text": [
      "[total dataset]\n",
      "total count is 10014\n",
      "stand labels are counted 3706\n",
      "start labels are counted 506\n",
      "walk labels are counted 5543\n",
      "finish labels are counted 259\n",
      "\n",
      "[train dataset]\n",
      "total count is 8011\n",
      "stand labels are counted 2967\n",
      "start labels are counted 377\n",
      "walk labels are counted 4458\n",
      "finish labels are counted 209\n",
      "\n",
      "[validation dataset]\n",
      "total count is 2003\n",
      "stand labels are counted 739\n",
      "start labels are counted 129\n",
      "walk labels are counted 1085\n",
      "finish labels are counted 50\n",
      "\n",
      "[test dataset]\n",
      "total count is 4430\n",
      "stand labels are counted 3959\n",
      "start labels are counted 99\n",
      "walk labels are counted 282\n",
      "finish labels are counted 90\n",
      "\n"
     ]
    }
   ],
   "source": [
    "classes = ['stand', 'start walk', 'walk', 'finish walk']\n",
    "\n",
    "print('[total dataset]')\n",
    "dataset_list = count_dataset(dataset)\n",
    "print('[train dataset]')\n",
    "train_dataset_list = count_dataset(train_dataset)\n",
    "print('[validation dataset]')\n",
    "val_dataset_list = count_dataset(val_dataset)\n",
    "print('[test dataset]')\n",
    "test_dataset_list = count_dataset(test_dataset)"
   ]
  },
  {
   "cell_type": "code",
   "execution_count": 11,
   "id": "a5c86968-a9ee-494a-a348-cfc229434f65",
   "metadata": {},
   "outputs": [
    {
     "data": {
      "image/png": "[encoded data removed]",
      "text/plain": [
       "<Figure size 1000x600 with 1 Axes>"
      ]
     },
     "metadata": {},
     "output_type": "display_data"
    }
   ],
   "source": [
    "x = np.arange(len(classes))\n",
    "\n",
    "# 막대 너비\n",
    "bar_width = 0.5\n",
    "\n",
    "# 플롯 생성\n",
    "plt.figure(figsize=(10, 6))\n",
    "plt.bar(x - bar_width * 0.2, train_dataset_list, width=bar_width, color='blue', alpha=0.5, label='Train')\n",
    "plt.bar(x, val_dataset_list, width=bar_width, color='green', alpha=0.5, label='Valid')\n",
    "plt.bar(x + bar_width * 0.2, test_dataset_list, width=bar_width, color='red', alpha=0.5, label='Test')\n",
    "\n",
    "# x축과 y축 설정\n",
    "plt.xticks(x, classes)\n",
    "plt.ylabel('Count')\n",
    "plt.xlabel('Classes')\n",
    "plt.title('Vehicle Instance Distribution')\n",
    "plt.legend()\n",
    "\n",
    "# 그래프 출력\n",
    "plt.tight_layout()\n",
    "plt.show()"
   ]
  },
  {
   "cell_type": "code",
   "execution_count": 12,
   "id": "f0c02451-8dd5-4c80-8ffe-2718513148a4",
   "metadata": {},
   "outputs": [],
   "source": [
    "frames, test_names = get_total_frames('/workspace/raw_data/')"
   ]
  },
  {
   "cell_type": "code",
   "execution_count": 13,
   "id": "85b9a6bf-9a97-42a6-8c14-0524d95f813c",
   "metadata": {},
   "outputs": [
    {
     "data": {
      "image/png": "[encoded data removed]",
      "text/plain": [
       "<Figure size 1000x500 with 1 Axes>"
      ]
     },
     "metadata": {},
     "output_type": "display_data"
    }
   ],
   "source": [
    "num_video = len(frames)\n",
    "x = np.arange(num_video)\n",
    "\n",
    "video_names = ['Video_'+str(x+1) for x in range(num_video)]\n",
    "video_frames = [frames[x][0] for x in video_names]\n",
    "video_fps = [frames[x][1] for x in video_names]\n",
    "colors = ['red' if k in test_names else 'blue' for k in video_names]\n",
    "\n",
    "plt.figure(figsize=(10, 5))\n",
    "plt.bar(x, video_frames, color=colors, width=0.9)\n",
    "plt.xticks(x, video_names, rotation=70)\n",
    "\n",
    "plt.show()"
   ]
  },
  {
   "cell_type": "code",
   "execution_count": 14,
   "id": "b6704c5e-0f2a-48a8-aafc-0f5b941c75d2",
   "metadata": {},
   "outputs": [
    {
     "data": {
      "image/png": "[encoded data removed]",
      "text/plain": [
       "<Figure size 1000x500 with 1 Axes>"
      ]
     },
     "metadata": {},
     "output_type": "display_data"
    }
   ],
   "source": [
    "plt.figure(figsize=(10, 5))\n",
    "plt.bar(x, video_fps, color=colors, width=0.9)\n",
    "plt.xticks(x, video_names, rotation=70)\n",
    "\n",
    "plt.show()"
   ]
  },
  {
   "cell_type": "code",
   "execution_count": 239,
   "id": "3b38659e-650d-4311-9f2e-6ee47fd4396d",
   "metadata": {},
   "outputs": [
    {
     "data": {
      "text/plain": [
       "[203,\n",
       " 98,\n",
       " 128,\n",
       " 146,\n",
       " 144,\n",
       " 181,\n",
       " 525,\n",
       " 288,\n",
       " 139,\n",
       " 300,\n",
       " 134,\n",
       " 163,\n",
       " 159,\n",
       " 260,\n",
       " 275,\n",
       " 325,\n",
       " 225,\n",
       " 275,\n",
       " 180,\n",
       " 570,\n",
       " 780,\n",
       " 270,\n",
       " 200,\n",
       " 420,\n",
       " 645,\n",
       " 2641,\n",
       " 359,\n",
       " 174,\n",
       " 175,\n",
       " 625,\n",
       " 631,\n",
       " 1208,\n",
       " 523,\n",
       " 665,\n",
       " 444,\n",
       " 625]"
      ]
     },
     "execution_count": 239,
     "metadata": {},
     "output_type": "execute_result"
    }
   ],
   "source": [
    "video_frames"
   ]
  },
  {
   "cell_type": "code",
   "execution_count": 237,
   "id": "091c03af-1c2f-4276-94ce-7262313a4bc1",
   "metadata": {},
   "outputs": [
    {
     "data": {
      "text/plain": [
       "{'Video_29': (175, 30),\n",
       " 'Video_11': (134, 30),\n",
       " 'Video_22': (270, 29),\n",
       " 'Video_17': (225, 25),\n",
       " 'Video_19': (180, 30),\n",
       " 'Video_2': (98, 30),\n",
       " 'Video_5': (144, 29),\n",
       " 'Video_26': (2641, 30),\n",
       " 'Video_1': (203, 30),\n",
       " 'Video_13': (159, 30),\n",
       " 'Video_20': (570, 30),\n",
       " 'Video_28': (174, 29),\n",
       " 'Video_4': (146, 29),\n",
       " 'Video_25': (645, 30),\n",
       " 'Video_7': (525, 25),\n",
       " 'Video_6': (181, 30),\n",
       " 'Video_12': (163, 30),\n",
       " 'Video_15': (275, 25),\n",
       " 'Video_16': (325, 25),\n",
       " 'Video_27': (359, 29),\n",
       " 'Video_14': (260, 30),\n",
       " 'Video_23': (200, 25),\n",
       " 'Video_24': (420, 60),\n",
       " 'Video_18': (275, 25),\n",
       " 'Video_21': (780, 59),\n",
       " 'Video_9': (139, 25),\n",
       " 'Video_10': (300, 30),\n",
       " 'Video_8': (288, 25),\n",
       " 'Video_3': (128, 30),\n",
       " 'Video_31': (631, 30),\n",
       " 'Video_35': (444, 30),\n",
       " 'Video_30': (625, 30),\n",
       " 'Video_33': (523, 30),\n",
       " 'Video_32': (1208, 30),\n",
       " 'Video_34': (665, 30),\n",
       " 'Video_36': (625, 30)}"
      ]
     },
     "execution_count": 237,
     "metadata": {},
     "output_type": "execute_result"
    }
   ],
   "source": [
    "frames"
   ]
  },
  {
   "cell_type": "code",
   "execution_count": 234,
   "id": "b136ede1-0bf4-4c27-ae83-fb1e84c10902",
   "metadata": {},
   "outputs": [
    {
     "data": {
      "text/plain": [
       "'video_10'"
      ]
     },
     "execution_count": 234,
     "metadata": {},
     "output_type": "execute_result"
    }
   ],
   "source": [
    "'video_'+str(10)"
   ]
  },
  {
   "cell_type": "code",
   "execution_count": 160,
   "id": "5fa8f1f4-291d-4121-b611-170b02ce9453",
   "metadata": {
    "scrolled": true
   },
   "outputs": [],
   "source": [
    "train_loader = DataLoader(train_dataset, batch_size=32, shuffle=True)\n",
    "val_loader = DataLoader(val_dataset, batch_size=32)\n",
    "test_loader = DataLoader(test_dataset, batch_size=32)"
   ]
  },
  {
   "cell_type": "code",
   "execution_count": 161,
   "id": "394a78c7-b434-4eeb-b3ef-9b831d253c0f",
   "metadata": {},
   "outputs": [],
   "source": [
    "class Deep_LSTM(nn.Module):\n",
    "    def __init__(self):\n",
    "        super(Deep_LSTM, self).__init__()\n",
    "        self.lstm1 = nn.LSTM(input_size=69, hidden_size=128, num_layers=1, batch_first=True)\n",
    "        self.lstm2 = nn.LSTM(input_size=128, hidden_size=256, num_layers=1, batch_first=True)\n",
    "        self.lstm3 = nn.LSTM(input_size=256, hidden_size=512, num_layers=1, batch_first=True)\n",
    "        self.dropout1 = nn.Dropout(0.3)\n",
    "        self.lstm4 = nn.LSTM(input_size=512, hidden_size=256, num_layers=1, batch_first=True)\n",
    "        self.lstm5 = nn.LSTM(input_size=256, hidden_size=128, num_layers=1, batch_first=True)\n",
    "        self.lstm6 = nn.LSTM(input_size=128, hidden_size=64, num_layers=1, batch_first=True)\n",
    "        self.dropout2 = nn.Dropout(0.3)\n",
    "        self.lstm7 = nn.LSTM(input_size=64, hidden_size=32, num_layers=1, batch_first=True)\n",
    "        self.fc = nn.Linear(32,4)\n",
    "\n",
    "    def forward(self, x) :\n",
    "        x, _ = self.lstm1(x)\n",
    "        x, _ = self.lstm2(x)\n",
    "        x, _ = self.lstm3(x)\n",
    "        x = self.dropout1(x)\n",
    "        x, _ = self.lstm4(x)\n",
    "        x, _ = self.lstm5(x)\n",
    "        x, _ = self.lstm6(x)\n",
    "        x = self.dropout2(x)\n",
    "        x, _ = self.lstm7(x)\n",
    "        x = self.fc(x[:,-1,:])\n",
    "        return x"
   ]
  },
  {
   "cell_type": "code",
   "execution_count": 162,
   "id": "1742075f-5ee5-4f4d-90c2-2f44a5b6ffd4",
   "metadata": {},
   "outputs": [],
   "source": [
    "def init_model():\n",
    "    plt.rc('font', size = 10)\n",
    "    global net, loss_fn, optim\n",
    "    net = Deep_LSTM().to(device)\n",
    "    loss_fn = nn.CrossEntropyLoss()\n",
    "    optim = Adam(net.parameters(), lr=0.0001)\n",
    "\n",
    "def init_epoch():\n",
    "    global epoch_cnt\n",
    "    epoch_cnt = 0\n",
    "\n",
    "def init_log():\n",
    "    plt.rc('font', size = 10)\n",
    "    # 모든 Log를 초기화\n",
    "    global log_stack, iter_log, tloss_log, tacc_log, vloss_log, vacc_log, time_log\n",
    "    iter_log, tloss_log, tacc_log, vloss_log, vacc_log = [], [], [], [], []\n",
    "    time_log, log_stack = [], []"
   ]
  },
  {
   "cell_type": "code",
   "execution_count": 163,
   "id": "a062f563-ba85-45ec-9249-c0a3519e5942",
   "metadata": {},
   "outputs": [],
   "source": [
    "def clear_memory():\n",
    "    if device != 'cpu':\n",
    "        empty_cache()\n",
    "    gc.collect()\n",
    "\n",
    "# 학습 알고리즘\n",
    "def epoch(data_loader, mode = 'train'):\n",
    "    global epoch_cnt\n",
    "    \n",
    "    # 사용되는 변수 초기화\n",
    "    iter_loss, iter_acc, last_grad_performed = [], [], False\n",
    "    \n",
    "    # 1 iteration 학습 알고리즘(for문을 나오면 1 epoch 완료)\n",
    "    for _data, _label in data_loader:\n",
    "        data, label = _data.to(device), _label.type(torch.LongTensor).to(device)\n",
    "\n",
    "        # 1. Feed-forward\n",
    "        if mode == 'train':\n",
    "            net.train()\n",
    "        else:\n",
    "            # 학습때만 쓰이는 Dropout, Batch Mormalization을 미사용\n",
    "            net.eval()\n",
    "\n",
    "        result = net(data) # 1 Batch에 대한 결과가 모든 Class에 대한 확률값으로\n",
    "        _, out = torch.max(result, 1) # result에서 최대 확률값을 기준으로 예측 class 도출\n",
    "        \n",
    "        # 2. Loss 계산\n",
    "        loss = loss_fn(result, label) # GT 와 Label 비교하여 Loss 산정\n",
    "        iter_loss.append(loss.item()) # 학습 추이를 위하여 Loss를 기록\n",
    "        \n",
    "        # 3. 역전파 학습 후 Gradient Descent\n",
    "        if mode == 'train':\n",
    "            optim.zero_grad() # 미분을 통해 얻은 기울기르 초기화 for 다음 epoch\n",
    "            loss.backward() # 역전파 학습\n",
    "            optim.step() # Gradient Descent 수행\n",
    "            last_grad_performed = True # for문 나가면 epoch 카운터 += 1\n",
    "            \n",
    "        # 4. 정확도 계산\n",
    "        acc_partial = (out == label).float().sum() # GT == Label 인 개수\n",
    "        acc_partial = acc_partial / len(label) # ( TP / (TP + TN)) 해서 정확도 산출\n",
    "        iter_acc.append(acc_partial.item()) # 학습 추이를 위하여 Acc. 기록\n",
    "        \n",
    "    # 역전파 학습 후 Epoch 카운터 += 1\n",
    "    if last_grad_performed:\n",
    "        epoch_cnt += 1\n",
    "    \n",
    "    clear_memory()\n",
    "    \n",
    "    # loss와 acc의 평균값 for 학습추이 그래프, 모든 GT와 Label값 for 컨퓨전 매트릭스\n",
    "    return np.average(iter_loss), np.average(iter_acc)\n",
    "\n",
    "def epoch_not_finished():\n",
    "    # 에폭이 끝남을 알림\n",
    "    return epoch_cnt < maximum_epoch"
   ]
  },
  {
   "cell_type": "code",
   "execution_count": 164,
   "id": "88803d41-657a-48bf-9b5e-cb414abc1716",
   "metadata": {},
   "outputs": [],
   "source": [
    "def record_train_log(_tloss, _tacc, _time):\n",
    "    # Train Log 기록용\n",
    "    time_log.append(_time)\n",
    "    tloss_log.append(_tloss)\n",
    "    tacc_log.append(_tacc)\n",
    "    iter_log.append(epoch_cnt)\n",
    "    \n",
    "def record_valid_log(_vloss, _vacc):\n",
    "    # Validation Log 기록용\n",
    "    vloss_log.append(_vloss)\n",
    "    vacc_log.append(_vacc)\n",
    "\n",
    "def last(log_list):\n",
    "    # 리스트 안의 마지막 숫자를 반환(print_log 함수에서 사용)\n",
    "    if len(log_list) > 0:\n",
    "        return log_list[len(log_list) - 1]\n",
    "    else:\n",
    "        return -1\n",
    "\n",
    "def print_log():\n",
    "    # 학습 추이 출력\n",
    "    \n",
    "    # 소숫점 3자리 수까지 조절\n",
    "    train_loss = round(float(last(tloss_log)), 3)\n",
    "    train_acc = round(float(last(tacc_log)), 3)\n",
    "    val_loss = round(float(last(vloss_log)), 3)\n",
    "    val_acc = round(float(last(vacc_log)), 3)\n",
    "    time_spent = round(float(last(time_log)), 3)\n",
    "    \n",
    "    log_str = 'Epoch: {:3} | T_Loss {:5} | T_acc {:5} | V_Loss {:5} | V_acc. {:5} | \\\n",
    "🕒 {:5}'.format(last(iter_log), train_loss, train_acc, val_loss, val_acc, time_spent)\n",
    "    \n",
    "    log_stack.append(log_str) # 프린트 준비\n",
    "    \n",
    "    # 그래프 출력\n",
    "    fig, axes = plt.subplots(1, 2, figsize=(12, 4), dpi=99) # 1행 2열 서브플롯\n",
    "    fig.patch.set_facecolor('white')  # 배경색 설정\n",
    "    \n",
    "    # Loss 그래프\n",
    "    axes[0].plot(iter_log, tloss_log, label='Train Loss', color='red', marker='o')\n",
    "    axes[0].plot(iter_log, vloss_log, label='Valid Loss', color='blue', marker='s')\n",
    "    axes[0].set_xlabel('Epoch')\n",
    "    axes[0].set_ylabel('Loss')\n",
    "    axes[0].set_title('Loss History')\n",
    "    axes[0].legend()\n",
    "    axes[0].grid()\n",
    "    \n",
    "    # Accuracy 그래프\n",
    "    axes[1].plot(iter_log, tacc_log, label='Train Acc.', color='red', marker='+')\n",
    "    axes[1].plot(iter_log, vacc_log, label='Valid Acc.', color='blue', marker='x')\n",
    "    axes[1].set_xlabel('Epoch')\n",
    "    axes[1].set_ylabel('Accuracy')\n",
    "    axes[1].set_title('Accuracy History')\n",
    "    axes[1].legend()\n",
    "    axes[1].grid()\n",
    "    \n",
    "    # 그래프 출력\n",
    "    clear_output(wait=True)\n",
    "    plt.show()\n",
    "    \n",
    "    # 텍스트 로그 출력\n",
    "    for idx in reversed(range(len(log_stack))): # 반대로 sort 시켜서 출력\n",
    "        print(log_stack[idx])"
   ]
  },
  {
   "cell_type": "code",
   "execution_count": 165,
   "id": "132b4c63-3f09-41bb-a2f1-b7729fcb68c2",
   "metadata": {},
   "outputs": [],
   "source": [
    "init_model()\n",
    "init_epoch()\n",
    "init_log()\n",
    "maximum_epoch = 200"
   ]
  },
  {
   "cell_type": "code",
   "execution_count": 166,
   "id": "2a4382b9-2b02-4b6a-a59f-eddcfe58a5b5",
   "metadata": {},
   "outputs": [
    {
     "data": {
      "image/png": "[encoded data removed]",
      "text/plain": [
       "<Figure size 1188x396 with 2 Axes>"
      ]
     },
     "metadata": {},
     "output_type": "display_data"
    },
    {
     "name": "stdout",
     "output_type": "stream",
     "text": [
      "Epoch: 200 | T_Loss 0.027 | T_acc 0.991 | V_Loss 0.114 | V_acc. 0.973 | 🕒 3.948\n",
      "Epoch: 199 | T_Loss 0.021 | T_acc 0.995 | V_Loss 0.103 | V_acc. 0.977 | 🕒 3.546\n",
      "Epoch: 198 | T_Loss 0.015 | T_acc 0.995 | V_Loss 0.082 | V_acc. 0.981 | 🕒 5.775\n",
      "Epoch: 197 | T_Loss 0.023 | T_acc 0.992 | V_Loss  0.09 | V_acc.  0.98 | 🕒 3.531\n",
      "Epoch: 196 | T_Loss 0.021 | T_acc 0.992 | V_Loss 0.104 | V_acc. 0.977 | 🕒 3.946\n",
      "Epoch: 195 | T_Loss 0.016 | T_acc 0.994 | V_Loss 0.086 | V_acc. 0.982 | 🕒 3.795\n",
      "Epoch: 194 | T_Loss  0.02 | T_acc 0.994 | V_Loss 0.099 | V_acc. 0.974 | 🕒  3.85\n",
      "Epoch: 193 | T_Loss 0.024 | T_acc 0.992 | V_Loss 0.114 | V_acc. 0.971 | 🕒   4.3\n",
      "Epoch: 192 | T_Loss 0.026 | T_acc 0.991 | V_Loss 0.156 | V_acc.  0.96 | 🕒 3.336\n",
      "Epoch: 191 | T_Loss  0.03 | T_acc  0.99 | V_Loss 0.114 | V_acc. 0.972 | 🕒 3.738\n",
      "Epoch: 190 | T_Loss 0.021 | T_acc 0.992 | V_Loss  0.14 | V_acc. 0.964 | 🕒 5.242\n",
      "Epoch: 189 | T_Loss 0.017 | T_acc 0.995 | V_Loss 0.125 | V_acc.  0.97 | 🕒 3.549\n",
      "Epoch: 188 | T_Loss 0.023 | T_acc 0.992 | V_Loss 0.097 | V_acc. 0.979 | 🕒 3.923\n",
      "Epoch: 187 | T_Loss 0.037 | T_acc 0.989 | V_Loss 0.125 | V_acc. 0.968 | 🕒 3.915\n",
      "Epoch: 186 | T_Loss 0.021 | T_acc 0.993 | V_Loss 0.115 | V_acc. 0.975 | 🕒 3.962\n",
      "Epoch: 185 | T_Loss 0.034 | T_acc 0.988 | V_Loss 0.095 | V_acc.  0.98 | 🕒 4.053\n",
      "Epoch: 184 | T_Loss 0.036 | T_acc 0.989 | V_Loss  0.19 | V_acc. 0.953 | 🕒 4.417\n",
      "Epoch: 183 | T_Loss 0.015 | T_acc 0.995 | V_Loss 0.091 | V_acc. 0.978 | 🕒 6.835\n",
      "Epoch: 182 | T_Loss 0.032 | T_acc 0.991 | V_Loss 0.116 | V_acc. 0.974 | 🕒 3.224\n",
      "Epoch: 181 | T_Loss 0.018 | T_acc 0.993 | V_Loss 0.109 | V_acc. 0.972 | 🕒 3.023\n",
      "Epoch: 180 | T_Loss 0.019 | T_acc 0.992 | V_Loss 0.094 | V_acc. 0.975 | 🕒 3.123\n",
      "Epoch: 179 | T_Loss 0.016 | T_acc 0.994 | V_Loss 0.109 | V_acc. 0.974 | 🕒 3.535\n",
      "Epoch: 178 | T_Loss 0.032 | T_acc 0.988 | V_Loss 0.123 | V_acc. 0.967 | 🕒 3.521\n",
      "Epoch: 177 | T_Loss 0.034 | T_acc 0.988 | V_Loss 0.115 | V_acc. 0.969 | 🕒 3.294\n",
      "Epoch: 176 | T_Loss 0.021 | T_acc 0.993 | V_Loss  0.12 | V_acc. 0.971 | 🕒 6.386\n",
      "Epoch: 175 | T_Loss 0.021 | T_acc 0.992 | V_Loss 0.114 | V_acc. 0.973 | 🕒 3.946\n",
      "Epoch: 174 | T_Loss 0.024 | T_acc 0.991 | V_Loss 0.109 | V_acc. 0.979 | 🕒 3.783\n",
      "Epoch: 173 | T_Loss 0.024 | T_acc 0.993 | V_Loss 0.117 | V_acc. 0.972 | 🕒 3.498\n",
      "Epoch: 172 | T_Loss 0.049 | T_acc 0.984 | V_Loss 0.113 | V_acc. 0.974 | 🕒 3.208\n",
      "Epoch: 171 | T_Loss 0.022 | T_acc 0.992 | V_Loss 0.114 | V_acc. 0.971 | 🕒 3.055\n",
      "Epoch: 170 | T_Loss  0.02 | T_acc 0.993 | V_Loss 0.124 | V_acc. 0.974 | 🕒 3.292\n",
      "Epoch: 169 | T_Loss  0.02 | T_acc 0.994 | V_Loss 0.103 | V_acc. 0.976 | 🕒 4.034\n",
      "Epoch: 168 | T_Loss 0.025 | T_acc 0.992 | V_Loss 0.113 | V_acc. 0.973 | 🕒 6.513\n",
      "Epoch: 167 | T_Loss 0.062 | T_acc 0.978 | V_Loss 0.125 | V_acc. 0.967 | 🕒 4.043\n",
      "Epoch: 166 | T_Loss 0.028 | T_acc 0.991 | V_Loss 0.101 | V_acc. 0.976 | 🕒 3.458\n",
      "Epoch: 165 | T_Loss 0.028 | T_acc  0.99 | V_Loss 0.102 | V_acc. 0.974 | 🕒 3.649\n",
      "Epoch: 164 | T_Loss 0.021 | T_acc 0.993 | V_Loss 0.125 | V_acc. 0.971 | 🕒 3.313\n",
      "Epoch: 163 | T_Loss  0.03 | T_acc  0.99 | V_Loss 0.104 | V_acc. 0.977 | 🕒  3.64\n",
      "Epoch: 162 | T_Loss 0.023 | T_acc 0.992 | V_Loss 0.106 | V_acc. 0.974 | 🕒 3.525\n",
      "Epoch: 161 | T_Loss 0.042 | T_acc 0.986 | V_Loss 0.124 | V_acc. 0.966 | 🕒 5.771\n",
      "Epoch: 160 | T_Loss 0.036 | T_acc 0.989 | V_Loss 0.108 | V_acc. 0.973 | 🕒 3.551\n",
      "Epoch: 159 | T_Loss 0.026 | T_acc 0.991 | V_Loss 0.153 | V_acc. 0.965 | 🕒 3.549\n",
      "Epoch: 158 | T_Loss 0.024 | T_acc 0.991 | V_Loss 0.112 | V_acc. 0.975 | 🕒 3.607\n",
      "Epoch: 157 | T_Loss 0.025 | T_acc 0.992 | V_Loss 0.115 | V_acc. 0.974 | 🕒 3.494\n",
      "Epoch: 156 | T_Loss 0.034 | T_acc 0.988 | V_Loss 0.121 | V_acc. 0.974 | 🕒 3.727\n",
      "Epoch: 155 | T_Loss 0.054 | T_acc 0.983 | V_Loss 0.167 | V_acc.  0.96 | 🕒 3.656\n",
      "Epoch: 154 | T_Loss 0.028 | T_acc 0.991 | V_Loss 0.104 | V_acc. 0.974 | 🕒 3.716\n",
      "Epoch: 153 | T_Loss 0.031 | T_acc  0.99 | V_Loss 0.116 | V_acc. 0.971 | 🕒 6.159\n",
      "Epoch: 152 | T_Loss 0.026 | T_acc 0.991 | V_Loss 0.124 | V_acc. 0.968 | 🕒 3.412\n",
      "Epoch: 151 | T_Loss 0.047 | T_acc 0.986 | V_Loss 0.143 | V_acc. 0.957 | 🕒 3.641\n",
      "Epoch: 150 | T_Loss 0.032 | T_acc 0.988 | V_Loss 0.132 | V_acc. 0.968 | 🕒 4.432\n",
      "Epoch: 149 | T_Loss 0.026 | T_acc  0.99 | V_Loss 0.129 | V_acc. 0.967 | 🕒 3.519\n",
      "Epoch: 148 | T_Loss 0.036 | T_acc 0.987 | V_Loss  0.13 | V_acc. 0.964 | 🕒 3.639\n",
      "Epoch: 147 | T_Loss 0.044 | T_acc 0.986 | V_Loss 0.139 | V_acc. 0.967 | 🕒 3.658\n",
      "Epoch: 146 | T_Loss 0.033 | T_acc 0.989 | V_Loss 0.105 | V_acc. 0.973 | 🕒 6.018\n",
      "Epoch: 145 | T_Loss 0.039 | T_acc 0.986 | V_Loss 0.126 | V_acc.  0.97 | 🕒 3.762\n",
      "Epoch: 144 | T_Loss 0.042 | T_acc 0.985 | V_Loss 0.121 | V_acc. 0.969 | 🕒 3.509\n",
      "Epoch: 143 | T_Loss 0.028 | T_acc 0.991 | V_Loss 0.115 | V_acc. 0.968 | 🕒 3.511\n",
      "Epoch: 142 | T_Loss 0.029 | T_acc  0.99 | V_Loss 0.119 | V_acc. 0.972 | 🕒 3.882\n",
      "Epoch: 141 | T_Loss 0.055 | T_acc 0.982 | V_Loss 0.114 | V_acc.  0.97 | 🕒 4.256\n",
      "Epoch: 140 | T_Loss 0.035 | T_acc 0.989 | V_Loss 0.152 | V_acc. 0.961 | 🕒 3.245\n",
      "Epoch: 139 | T_Loss 0.045 | T_acc 0.984 | V_Loss 0.118 | V_acc. 0.972 | 🕒 3.829\n",
      "Epoch: 138 | T_Loss 0.038 | T_acc 0.987 | V_Loss 0.142 | V_acc. 0.962 | 🕒 4.147\n",
      "Epoch: 137 | T_Loss 0.038 | T_acc 0.988 | V_Loss 0.125 | V_acc.  0.97 | 🕒 3.638\n",
      "Epoch: 136 | T_Loss 0.038 | T_acc 0.987 | V_Loss 0.152 | V_acc. 0.951 | 🕒 3.809\n",
      "Epoch: 135 | T_Loss 0.053 | T_acc 0.982 | V_Loss 0.198 | V_acc. 0.948 | 🕒 4.381\n",
      "Epoch: 134 | T_Loss 0.039 | T_acc 0.987 | V_Loss 0.155 | V_acc. 0.952 | 🕒 3.347\n",
      "Epoch: 133 | T_Loss 0.041 | T_acc 0.986 | V_Loss 0.122 | V_acc. 0.972 | 🕒 4.299\n",
      "Epoch: 132 | T_Loss 0.042 | T_acc 0.986 | V_Loss 0.116 | V_acc. 0.967 | 🕒 4.304\n",
      "Epoch: 131 | T_Loss  0.05 | T_acc 0.983 | V_Loss 0.126 | V_acc. 0.968 | 🕒 4.045\n",
      "Epoch: 130 | T_Loss 0.043 | T_acc 0.986 | V_Loss 0.116 | V_acc. 0.972 | 🕒 4.047\n",
      "Epoch: 129 | T_Loss 0.048 | T_acc 0.983 | V_Loss 0.115 | V_acc. 0.971 | 🕒  3.69\n",
      "Epoch: 128 | T_Loss  0.05 | T_acc 0.983 | V_Loss 0.124 | V_acc.  0.97 | 🕒 3.946\n",
      "Epoch: 127 | T_Loss 0.042 | T_acc 0.986 | V_Loss 0.161 | V_acc. 0.958 | 🕒 3.279\n",
      "Epoch: 126 | T_Loss 0.042 | T_acc 0.987 | V_Loss 0.108 | V_acc. 0.971 | 🕒  3.85\n",
      "Epoch: 125 | T_Loss 0.053 | T_acc 0.982 | V_Loss 0.152 | V_acc.  0.96 | 🕒 3.742\n",
      "Epoch: 124 | T_Loss 0.053 | T_acc 0.983 | V_Loss 0.135 | V_acc. 0.962 | 🕒 5.915\n",
      "Epoch: 123 | T_Loss 0.054 | T_acc 0.982 | V_Loss  0.14 | V_acc. 0.961 | 🕒 3.526\n",
      "Epoch: 122 | T_Loss 0.054 | T_acc 0.983 | V_Loss 0.166 | V_acc. 0.954 | 🕒 4.148\n",
      "Epoch: 121 | T_Loss 0.057 | T_acc 0.981 | V_Loss 0.122 | V_acc. 0.967 | 🕒 3.989\n",
      "Epoch: 120 | T_Loss  0.05 | T_acc 0.985 | V_Loss 0.126 | V_acc. 0.963 | 🕒 3.173\n",
      "Epoch: 119 | T_Loss 0.068 | T_acc 0.976 | V_Loss 0.136 | V_acc. 0.966 | 🕒 3.003\n",
      "Epoch: 118 | T_Loss 0.054 | T_acc 0.983 | V_Loss 0.137 | V_acc. 0.963 | 🕒 3.881\n",
      "Epoch: 117 | T_Loss 0.055 | T_acc 0.982 | V_Loss 0.135 | V_acc. 0.964 | 🕒 6.911\n",
      "Epoch: 116 | T_Loss 0.054 | T_acc 0.982 | V_Loss 0.121 | V_acc. 0.966 | 🕒 3.529\n",
      "Epoch: 115 | T_Loss 0.056 | T_acc 0.982 | V_Loss 0.135 | V_acc. 0.961 | 🕒 3.431\n",
      "Epoch: 114 | T_Loss 0.053 | T_acc 0.983 | V_Loss 0.136 | V_acc.  0.96 | 🕒  3.08\n",
      "Epoch: 113 | T_Loss 0.063 | T_acc 0.978 | V_Loss 0.128 | V_acc. 0.965 | 🕒 3.105\n",
      "Epoch: 112 | T_Loss  0.09 | T_acc  0.97 | V_Loss 0.164 | V_acc.  0.95 | 🕒 3.976\n",
      "Epoch: 111 | T_Loss 0.064 | T_acc  0.98 | V_Loss 0.185 | V_acc. 0.947 | 🕒 3.657\n",
      "Epoch: 110 | T_Loss  0.06 | T_acc 0.981 | V_Loss 0.137 | V_acc. 0.964 | 🕒 3.756\n",
      "Epoch: 109 | T_Loss 0.063 | T_acc  0.98 | V_Loss 0.142 | V_acc. 0.959 | 🕒 6.221\n",
      "Epoch: 108 | T_Loss  0.07 | T_acc 0.979 | V_Loss 0.172 | V_acc. 0.954 | 🕒  3.84\n",
      "Epoch: 107 | T_Loss  0.07 | T_acc 0.978 | V_Loss  0.17 | V_acc. 0.959 | 🕒 3.466\n",
      "Epoch: 106 | T_Loss 0.068 | T_acc 0.978 | V_Loss 0.138 | V_acc. 0.964 | 🕒 3.172\n",
      "Epoch: 105 | T_Loss  0.07 | T_acc 0.977 | V_Loss 0.137 | V_acc. 0.962 | 🕒 3.597\n",
      "Epoch: 104 | T_Loss 0.072 | T_acc 0.978 | V_Loss 0.138 | V_acc. 0.958 | 🕒 3.922\n",
      "Epoch: 103 | T_Loss 0.078 | T_acc 0.974 | V_Loss 0.153 | V_acc. 0.954 | 🕒 4.817\n",
      "Epoch: 102 | T_Loss 0.102 | T_acc 0.966 | V_Loss  0.17 | V_acc. 0.953 | 🕒 5.893\n",
      "Epoch: 101 | T_Loss 0.073 | T_acc 0.976 | V_Loss 0.148 | V_acc. 0.958 | 🕒 3.839\n",
      "Epoch: 100 | T_Loss 0.076 | T_acc 0.976 | V_Loss 0.136 | V_acc. 0.961 | 🕒 3.665\n",
      "Epoch:  99 | T_Loss 0.075 | T_acc 0.976 | V_Loss  0.16 | V_acc. 0.957 | 🕒 3.653\n",
      "Epoch:  98 | T_Loss 0.082 | T_acc 0.974 | V_Loss 0.153 | V_acc. 0.954 | 🕒 3.825\n",
      "Epoch:  97 | T_Loss 0.089 | T_acc  0.97 | V_Loss  0.19 | V_acc. 0.945 | 🕒 3.856\n",
      "Epoch:  96 | T_Loss 0.086 | T_acc 0.971 | V_Loss 0.154 | V_acc. 0.958 | 🕒 4.184\n",
      "Epoch:  95 | T_Loss 0.084 | T_acc 0.972 | V_Loss 0.157 | V_acc. 0.958 | 🕒 6.193\n",
      "Epoch:  94 | T_Loss 0.083 | T_acc 0.976 | V_Loss 0.155 | V_acc. 0.954 | 🕒 3.485\n",
      "Epoch:  93 | T_Loss 0.105 | T_acc 0.967 | V_Loss 0.149 | V_acc. 0.958 | 🕒 3.691\n",
      "Epoch:  92 | T_Loss 0.086 | T_acc 0.972 | V_Loss 0.164 | V_acc. 0.952 | 🕒 3.659\n",
      "Epoch:  91 | T_Loss  0.09 | T_acc 0.971 | V_Loss 0.177 | V_acc.  0.95 | 🕒 3.414\n",
      "Epoch:  90 | T_Loss 0.096 | T_acc 0.971 | V_Loss  0.16 | V_acc. 0.954 | 🕒 3.363\n",
      "Epoch:  89 | T_Loss 0.096 | T_acc  0.97 | V_Loss 0.175 | V_acc.  0.95 | 🕒 4.219\n",
      "Epoch:  88 | T_Loss 0.107 | T_acc 0.966 | V_Loss 0.167 | V_acc. 0.948 | 🕒 3.737\n",
      "Epoch:  87 | T_Loss 0.097 | T_acc 0.969 | V_Loss  0.17 | V_acc. 0.947 | 🕒 4.401\n",
      "Epoch:  86 | T_Loss  0.11 | T_acc 0.965 | V_Loss 0.174 | V_acc.  0.95 | 🕒 4.565\n",
      "Epoch:  85 | T_Loss 0.115 | T_acc 0.964 | V_Loss 0.219 | V_acc.  0.93 | 🕒 4.037\n",
      "Epoch:  84 | T_Loss 0.113 | T_acc 0.963 | V_Loss 0.239 | V_acc. 0.936 | 🕒 4.005\n",
      "Epoch:  83 | T_Loss 0.106 | T_acc 0.968 | V_Loss 0.183 | V_acc. 0.943 | 🕒 4.156\n",
      "Epoch:  82 | T_Loss 0.126 | T_acc 0.956 | V_Loss 0.191 | V_acc. 0.939 | 🕒  3.59\n",
      "Epoch:  81 | T_Loss 0.108 | T_acc 0.966 | V_Loss 0.176 | V_acc.  0.95 | 🕒 6.068\n",
      "Epoch:  80 | T_Loss  0.12 | T_acc 0.963 | V_Loss 0.195 | V_acc. 0.943 | 🕒 4.192\n",
      "Epoch:  79 | T_Loss 0.116 | T_acc 0.962 | V_Loss 0.203 | V_acc. 0.939 | 🕒 3.674\n",
      "Epoch:  78 | T_Loss 0.121 | T_acc 0.964 | V_Loss 0.193 | V_acc. 0.938 | 🕒 3.564\n",
      "Epoch:  77 | T_Loss 0.135 | T_acc 0.954 | V_Loss 0.234 | V_acc. 0.926 | 🕒   3.8\n",
      "Epoch:  76 | T_Loss 0.127 | T_acc 0.958 | V_Loss 0.216 | V_acc. 0.932 | 🕒 3.503\n",
      "Epoch:  75 | T_Loss 0.134 | T_acc 0.959 | V_Loss 0.214 | V_acc. 0.936 | 🕒 4.214\n",
      "Epoch:  74 | T_Loss 0.146 | T_acc 0.952 | V_Loss 0.223 | V_acc. 0.933 | 🕒 4.223\n",
      "Epoch:  73 | T_Loss 0.136 | T_acc 0.957 | V_Loss 0.223 | V_acc. 0.928 | 🕒 4.074\n",
      "Epoch:  72 | T_Loss 0.142 | T_acc 0.952 | V_Loss 0.218 | V_acc. 0.935 | 🕒 3.985\n",
      "Epoch:  71 | T_Loss 0.143 | T_acc 0.951 | V_Loss 0.231 | V_acc. 0.926 | 🕒  4.35\n",
      "Epoch:  70 | T_Loss 0.153 | T_acc  0.95 | V_Loss 0.233 | V_acc.  0.93 | 🕒 4.236\n",
      "Epoch:  69 | T_Loss 0.159 | T_acc 0.948 | V_Loss 0.256 | V_acc. 0.913 | 🕒 4.052\n",
      "Epoch:  68 | T_Loss 0.163 | T_acc 0.945 | V_Loss 0.232 | V_acc. 0.926 | 🕒 4.092\n",
      "Epoch:  67 | T_Loss 0.163 | T_acc 0.947 | V_Loss 0.231 | V_acc. 0.927 | 🕒 6.011\n",
      "Epoch:  66 | T_Loss 0.164 | T_acc 0.945 | V_Loss 0.251 | V_acc. 0.918 | 🕒 3.961\n",
      "Epoch:  65 | T_Loss 0.167 | T_acc 0.948 | V_Loss 0.231 | V_acc. 0.922 | 🕒 3.371\n",
      "Epoch:  64 | T_Loss 0.171 | T_acc 0.942 | V_Loss  0.23 | V_acc. 0.926 | 🕒 3.661\n",
      "Epoch:  63 | T_Loss 0.172 | T_acc 0.943 | V_Loss 0.251 | V_acc. 0.914 | 🕒 3.615\n",
      "Epoch:  62 | T_Loss 0.186 | T_acc  0.94 | V_Loss 0.255 | V_acc. 0.918 | 🕒 4.087\n",
      "Epoch:  61 | T_Loss 0.181 | T_acc 0.939 | V_Loss 0.257 | V_acc. 0.914 | 🕒 3.852\n",
      "Epoch:  60 | T_Loss 0.179 | T_acc  0.94 | V_Loss 0.259 | V_acc. 0.921 | 🕒 5.921\n",
      "Epoch:  59 | T_Loss 0.192 | T_acc 0.935 | V_Loss 0.253 | V_acc. 0.919 | 🕒  4.03\n",
      "Epoch:  58 | T_Loss 0.186 | T_acc 0.937 | V_Loss 0.253 | V_acc. 0.922 | 🕒   3.2\n",
      "Epoch:  57 | T_Loss 0.187 | T_acc 0.936 | V_Loss 0.253 | V_acc. 0.919 | 🕒 3.253\n",
      "Epoch:  56 | T_Loss 0.193 | T_acc 0.936 | V_Loss 0.259 | V_acc. 0.917 | 🕒 3.433\n",
      "Epoch:  55 | T_Loss 0.222 | T_acc 0.926 | V_Loss  0.28 | V_acc. 0.904 | 🕒 3.347\n",
      "Epoch:  54 | T_Loss 0.201 | T_acc 0.929 | V_Loss 0.268 | V_acc.  0.91 | 🕒 3.694\n",
      "Epoch:  53 | T_Loss 0.201 | T_acc 0.931 | V_Loss 0.263 | V_acc. 0.917 | 🕒 3.903\n",
      "Epoch:  52 | T_Loss 0.202 | T_acc 0.932 | V_Loss 0.269 | V_acc. 0.915 | 🕒 6.216\n",
      "Epoch:  51 | T_Loss 0.213 | T_acc 0.925 | V_Loss 0.277 | V_acc. 0.911 | 🕒 4.117\n",
      "Epoch:  50 | T_Loss 0.213 | T_acc 0.927 | V_Loss  0.27 | V_acc. 0.915 | 🕒 3.466\n",
      "Epoch:  49 | T_Loss 0.221 | T_acc 0.923 | V_Loss 0.286 | V_acc. 0.906 | 🕒 3.431\n",
      "Epoch:  48 | T_Loss 0.223 | T_acc 0.923 | V_Loss 0.304 | V_acc. 0.904 | 🕒 3.326\n",
      "Epoch:  47 | T_Loss 0.227 | T_acc 0.924 | V_Loss 0.296 | V_acc.   0.9 | 🕒 3.167\n",
      "Epoch:  46 | T_Loss  0.23 | T_acc 0.922 | V_Loss 0.292 | V_acc. 0.904 | 🕒 3.549\n",
      "Epoch:  45 | T_Loss 0.228 | T_acc 0.923 | V_Loss   0.3 | V_acc. 0.903 | 🕒 3.792\n",
      "Epoch:  44 | T_Loss 0.234 | T_acc 0.918 | V_Loss 0.292 | V_acc. 0.902 | 🕒 5.938\n",
      "Epoch:  43 | T_Loss 0.237 | T_acc 0.918 | V_Loss 0.288 | V_acc. 0.898 | 🕒 3.155\n",
      "Epoch:  42 | T_Loss  0.25 | T_acc 0.915 | V_Loss 0.295 | V_acc. 0.904 | 🕒 3.993\n",
      "Epoch:  41 | T_Loss 0.251 | T_acc 0.914 | V_Loss 0.319 | V_acc. 0.901 | 🕒  3.48\n",
      "Epoch:  40 | T_Loss 0.252 | T_acc 0.913 | V_Loss 0.292 | V_acc.   0.9 | 🕒 4.148\n",
      "Epoch:  39 | T_Loss 0.253 | T_acc 0.912 | V_Loss 0.309 | V_acc. 0.893 | 🕒 4.099\n",
      "Epoch:  38 | T_Loss 0.261 | T_acc 0.911 | V_Loss 0.309 | V_acc. 0.892 | 🕒 3.364\n",
      "Epoch:  37 | T_Loss  0.26 | T_acc  0.91 | V_Loss 0.317 | V_acc. 0.893 | 🕒 5.383\n",
      "Epoch:  36 | T_Loss 0.274 | T_acc 0.907 | V_Loss 0.309 | V_acc. 0.896 | 🕒 3.214\n",
      "Epoch:  35 | T_Loss 0.269 | T_acc 0.906 | V_Loss 0.331 | V_acc. 0.893 | 🕒 3.633\n",
      "Epoch:  34 | T_Loss 0.278 | T_acc 0.903 | V_Loss 0.321 | V_acc. 0.895 | 🕒 3.839\n",
      "Epoch:  33 | T_Loss 0.279 | T_acc 0.904 | V_Loss 0.323 | V_acc. 0.894 | 🕒 4.004\n",
      "Epoch:  32 | T_Loss 0.286 | T_acc 0.904 | V_Loss 0.332 | V_acc.  0.89 | 🕒 3.646\n",
      "Epoch:  31 | T_Loss 0.295 | T_acc 0.902 | V_Loss 0.337 | V_acc. 0.889 | 🕒 3.516\n",
      "Epoch:  30 | T_Loss 0.298 | T_acc 0.898 | V_Loss 0.345 | V_acc. 0.889 | 🕒 3.187\n",
      "Epoch:  29 | T_Loss 0.304 | T_acc 0.899 | V_Loss 0.348 | V_acc. 0.886 | 🕒 5.371\n",
      "Epoch:  28 | T_Loss  0.31 | T_acc 0.898 | V_Loss 0.345 | V_acc. 0.888 | 🕒 3.759\n",
      "Epoch:  27 | T_Loss 0.318 | T_acc 0.893 | V_Loss 0.413 | V_acc. 0.861 | 🕒 3.579\n",
      "Epoch:  26 | T_Loss  0.32 | T_acc 0.894 | V_Loss 0.402 | V_acc. 0.871 | 🕒  4.03\n",
      "Epoch:  25 | T_Loss 0.325 | T_acc 0.893 | V_Loss 0.371 | V_acc. 0.883 | 🕒 4.154\n",
      "Epoch:  24 | T_Loss 0.335 | T_acc 0.891 | V_Loss 0.372 | V_acc. 0.884 | 🕒 3.795\n",
      "Epoch:  23 | T_Loss 0.345 | T_acc 0.888 | V_Loss 0.392 | V_acc. 0.881 | 🕒 3.844\n",
      "Epoch:  22 | T_Loss 0.351 | T_acc 0.888 | V_Loss 0.388 | V_acc. 0.881 | 🕒 6.114\n",
      "Epoch:  21 | T_Loss 0.363 | T_acc 0.887 | V_Loss 0.396 | V_acc.  0.88 | 🕒 4.104\n",
      "Epoch:  20 | T_Loss 0.372 | T_acc 0.884 | V_Loss  0.41 | V_acc. 0.876 | 🕒 3.459\n",
      "Epoch:  19 | T_Loss 0.388 | T_acc  0.88 | V_Loss 0.417 | V_acc. 0.873 | 🕒 4.305\n",
      "Epoch:  18 | T_Loss 0.399 | T_acc 0.874 | V_Loss 0.442 | V_acc. 0.866 | 🕒 3.934\n",
      "Epoch:  17 | T_Loss 0.431 | T_acc 0.865 | V_Loss 0.446 | V_acc. 0.869 | 🕒 3.589\n",
      "Epoch:  16 | T_Loss 0.475 | T_acc 0.849 | V_Loss 0.478 | V_acc. 0.852 | 🕒  3.38\n",
      "Epoch:  15 | T_Loss 0.548 | T_acc 0.823 | V_Loss 0.573 | V_acc. 0.802 | 🕒 5.061\n",
      "Epoch:  14 | T_Loss 0.572 | T_acc 0.813 | V_Loss 0.648 | V_acc. 0.757 | 🕒 3.483\n",
      "Epoch:  13 | T_Loss 0.594 | T_acc 0.808 | V_Loss 0.615 | V_acc. 0.801 | 🕒 4.014\n",
      "Epoch:  12 | T_Loss 0.605 | T_acc 0.805 | V_Loss 0.664 | V_acc. 0.776 | 🕒 4.231\n",
      "Epoch:  11 | T_Loss 0.631 | T_acc 0.793 | V_Loss  0.66 | V_acc. 0.786 | 🕒 3.386\n",
      "Epoch:  10 | T_Loss 0.663 | T_acc 0.775 | V_Loss 0.687 | V_acc. 0.769 | 🕒 3.122\n",
      "Epoch:   9 | T_Loss 0.706 | T_acc 0.759 | V_Loss 0.726 | V_acc. 0.749 | 🕒 3.877\n",
      "Epoch:   8 | T_Loss 0.788 | T_acc   0.7 | V_Loss 0.784 | V_acc. 0.716 | 🕒 3.626\n",
      "Epoch:   7 | T_Loss 0.901 | T_acc 0.581 | V_Loss 0.887 | V_acc. 0.628 | 🕒 6.134\n",
      "Epoch:   6 | T_Loss 0.933 | T_acc 0.557 | V_Loss 0.968 | V_acc.  0.55 | 🕒 3.557\n",
      "Epoch:   5 | T_Loss 0.933 | T_acc 0.557 | V_Loss 0.974 | V_acc.  0.54 | 🕒 3.571\n",
      "Epoch:   4 | T_Loss 0.934 | T_acc 0.557 | V_Loss 0.973 | V_acc.  0.54 | 🕒 3.803\n",
      "Epoch:   3 | T_Loss 0.935 | T_acc 0.556 | V_Loss 0.973 | V_acc.  0.54 | 🕒 3.572\n",
      "Epoch:   2 | T_Loss 0.936 | T_acc 0.557 | V_Loss 0.974 | V_acc.  0.54 | 🕒 3.886\n",
      "Epoch:   1 | T_Loss 1.035 | T_acc 0.529 | V_Loss 0.981 | V_acc.  0.54 | 🕒 3.942\n",
      "\n",
      " Training completed!\n"
     ]
    }
   ],
   "source": [
    "while epoch_not_finished():\n",
    "    start_time = time.time()\n",
    "    tloss, tacc = epoch(train_loader, mode = 'train')\n",
    "    end_time = time.time()\n",
    "    time_taken = end_time - start_time\n",
    "    record_train_log(tloss, tacc, time_taken)\n",
    "    with torch.no_grad():\n",
    "        vloss, vacc = epoch(val_loader, mode = 'val')\n",
    "        record_valid_log(vloss, vacc)\n",
    "    print_log()\n",
    "\n",
    "print('\\n Training completed!')"
   ]
  },
  {
   "cell_type": "code",
   "execution_count": 168,
   "id": "5001239e-6d80-4861-b6d8-132e56b7d50b",
   "metadata": {},
   "outputs": [
    {
     "name": "stdout",
     "output_type": "stream",
     "text": [
      "Test Acc.: 0.4206\n",
      "Test Loss: 4.8984\n"
     ]
    }
   ],
   "source": [
    "with torch.no_grad():\n",
    "    test_loss, test_acc = epoch(test_loader, mode = 'test')\n",
    "    test_acc = round(test_acc, 4)\n",
    "    test_loss = round(test_loss, 4)\n",
    "    print('Test Acc.: {}'.format(test_acc))\n",
    "    print('Test Loss: {}'.format(test_loss))"
   ]
  },
  {
   "cell_type": "code",
   "execution_count": 169,
   "id": "ebce5ea6-1c5b-40d1-a4a2-c09247b3efc9",
   "metadata": {},
   "outputs": [],
   "source": [
    "torch.save(net.state_dict(), 'model_02.pth')"
   ]
  },
  {
   "cell_type": "code",
   "execution_count": 170,
   "id": "bfbb6732-6e4e-40dd-a198-1dde89657c64",
   "metadata": {},
   "outputs": [],
   "source": [
    "EPOCH = 195\n",
    "PATH = \"model_02.pt\"\n",
    "LOSS = 0.016\n",
    "optimizer = optim\n",
    "\n",
    "torch.save({\n",
    "            'epoch': EPOCH,\n",
    "            'model_state_dict': net.state_dict(),\n",
    "            'optimizer_state_dict': optimizer.state_dict(),\n",
    "            'loss': LOSS,\n",
    "            }, PATH)"
   ]
  },
  {
   "cell_type": "code",
   "execution_count": 171,
   "id": "f74f8f63-4aea-4738-a7c1-07a111982ff4",
   "metadata": {},
   "outputs": [
    {
     "name": "stdout",
     "output_type": "stream",
     "text": [
      "memory allocated : 67387392\n",
      "memory reserved : 81788928\n"
     ]
    }
   ],
   "source": [
    "delete_cash(device)"
   ]
  },
  {
   "cell_type": "code",
   "execution_count": null,
   "id": "b7de0744-c215-4390-8c7b-08c8df972bab",
   "metadata": {},
   "outputs": [],
   "source": []
  }
 ],
 "metadata": {
  "kernelspec": {
   "display_name": "Python 3 (ipykernel)",
   "language": "python",
   "name": "python3"
  },
  "language_info": {
   "codemirror_mode": {
    "name": "ipython",
    "version": 3
   },
   "file_extension": ".py",
   "mimetype": "text/x-python",
   "name": "python",
   "nbconvert_exporter": "python",
   "pygments_lexer": "ipython3",
   "version": "3.10.16"
  }
 },
 "nbformat": 4,
 "nbformat_minor": 5
}
