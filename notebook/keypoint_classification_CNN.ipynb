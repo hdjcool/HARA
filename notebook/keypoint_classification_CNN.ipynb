{
  "cells": [
    {
      "cell_type": "markdown",
      "metadata": {
        "id": "-N140wraS3om"
      },
      "source": [
        "# 라이브러리 Import"
      ]
    },
    {
      "cell_type": "code",
      "execution_count": 98,
      "metadata": {
        "id": "YxTd1q1o3ZDQ"
      },
      "outputs": [],
      "source": [
        "import csv\n",
        "import numpy as np\n",
        "import tensorflow as tf\n",
        "from sklearn.model_selection import train_test_split\n",
        "import re\n",
        "import os\n",
        "import pandas as pd\n",
        "import numpy as np\n",
        "import shutil\n",
        "import matplotlib.pyplot as plt\n",
        "import seaborn as sns\n",
        "from sklearn.metrics import confusion_matrix, classification_report\n",
        "\n",
        "RANDOM_SEED = 42"
      ]
    },
    {
      "cell_type": "markdown",
      "metadata": {
        "id": "PlSsvhuiS8p-"
      },
      "source": [
        "# 학습 데이터 병합"
      ]
    },
    {
      "cell_type": "code",
      "execution_count": 99,
      "metadata": {
        "id": "mNasPp886JBs"
      },
      "outputs": [],
      "source": [
        "zip_path1 = \"/content/train4_dataset.zip\" # ZIP 파일 경로\n",
        "extract_path1 = \"/content/train4/\"  # 압축 해제 경로\n",
        "\n",
        "shutil.unpack_archive(zip_path1, extract_path1)"
      ]
    },
    {
      "cell_type": "code",
      "execution_count": 100,
      "metadata": {
        "id": "gPy1ICEERTt1"
      },
      "outputs": [],
      "source": [
        "fixed_file_path = \"/content/merged_pedestrian_behavior.csv\""
      ]
    },
    {
      "cell_type": "code",
      "execution_count": 101,
      "metadata": {
        "id": "C8sAwzGhRQp_",
        "colab": {
          "base_uri": "https://localhost:8080/"
        },
        "outputId": "364fd0ba-2cd1-4acc-abfc-c5315cd36b6a"
      },
      "outputs": [
        {
          "output_type": "stream",
          "name": "stdout",
          "text": [
            "CSV 파일 로드 시작...\n",
            "처리 중: Video_1_dataset.csv\n",
            "처리 완료: Video_1_dataset.csv (Samples: 203)\n",
            "처리 중: Video_2_dataset.csv\n",
            "처리 완료: Video_2_dataset.csv (Samples: 98)\n",
            "처리 중: Video_3_dataset.csv\n",
            "처리 완료: Video_3_dataset.csv (Samples: 128)\n",
            "처리 중: Video_4_dataset.csv\n",
            "처리 완료: Video_4_dataset.csv (Samples: 146)\n",
            "처리 중: Video_5_dataset.csv\n",
            "처리 완료: Video_5_dataset.csv (Samples: 144)\n",
            "처리 중: Video_6_dataset.csv\n",
            "처리 완료: Video_6_dataset.csv (Samples: 81)\n",
            "처리 중: Video_7_dataset.csv\n",
            "처리 완료: Video_7_dataset.csv (Samples: 59)\n",
            "처리 중: Video_8_dataset.csv\n",
            "처리 완료: Video_8_dataset.csv (Samples: 345)\n",
            "처리 중: Video_9_dataset.csv\n",
            "처리 완료: Video_9_dataset.csv (Samples: 165)\n",
            "처리 중: Video_10_dataset.csv\n",
            "처리 완료: Video_10_dataset.csv (Samples: 125)\n",
            "처리 중: Video_11_dataset.csv\n",
            "처리 완료: Video_11_dataset.csv (Samples: 134)\n",
            "처리 중: Video_12_dataset.csv\n",
            "처리 완료: Video_12_dataset.csv (Samples: 38)\n",
            "처리 중: Video_13_dataset.csv\n",
            "처리 완료: Video_13_dataset.csv (Samples: 159)\n",
            "처리 중: Video_14_dataset.csv\n",
            "처리 완료: Video_14_dataset.csv (Samples: 38)\n",
            "처리 중: Video_15_dataset.csv\n",
            "처리 완료: Video_15_dataset.csv (Samples: 209)\n",
            "처리 중: Video_16_dataset.csv\n",
            "처리 완료: Video_16_dataset.csv (Samples: 111)\n",
            "처리 중: Video_17_dataset.csv\n",
            "처리 완료: Video_17_dataset.csv (Samples: 170)\n",
            "처리 중: Video_18_dataset.csv\n",
            "처리 완료: Video_18_dataset.csv (Samples: 329)\n",
            "처리 중: Video_19_dataset.csv\n",
            "처리 완료: Video_19_dataset.csv (Samples: 104)\n",
            "처리 중: Video_20_dataset.csv\n",
            "처리 완료: Video_20_dataset.csv (Samples: 570)\n",
            "처리 중: Video_21_dataset.csv\n",
            "처리 완료: Video_21_dataset.csv (Samples: 56)\n",
            "처리 중: Video_22_dataset.csv\n",
            "처리 완료: Video_22_dataset.csv (Samples: 270)\n",
            "처리 중: Video_23_dataset.csv\n",
            "처리 완료: Video_23_dataset.csv (Samples: 239)\n",
            "처리 중: Video_24_dataset.csv\n",
            "처리 완료: Video_24_dataset.csv (Samples: 98)\n",
            "처리 중: Video_25_dataset.csv\n",
            "처리 완료: Video_25_dataset.csv (Samples: 166)\n",
            "처리 중: Video_26_dataset.csv\n",
            "처리 완료: Video_26_dataset.csv (Samples: 56)\n",
            "처리 중: Video_27_dataset.csv\n",
            "처리 완료: Video_27_dataset.csv (Samples: 358)\n",
            "처리 중: Video_28_dataset.csv\n",
            "처리 완료: Video_28_dataset.csv (Samples: 173)\n",
            "처리 중: Video_29_dataset.csv\n",
            "처리 완료: Video_29_dataset.csv (Samples: 40)\n",
            "처리 중: Video_30_dataset.csv\n",
            "처리 완료: Video_30_dataset.csv (Samples: 81)\n",
            "처리 중: Video_31_dataset.csv\n",
            "처리 완료: Video_31_dataset.csv (Samples: 54)\n",
            "처리 중: Video_32_dataset.csv\n",
            "처리 완료: Video_32_dataset.csv (Samples: 66)\n",
            "처리 중: Video_33_dataset.csv\n",
            "처리 완료: Video_33_dataset.csv (Samples: 128)\n",
            "처리 중: Video_34_dataset.csv\n",
            "처리 완료: Video_34_dataset.csv (Samples: 213)\n",
            "처리 중: Video_35_dataset.csv\n",
            "처리 완료: Video_35_dataset.csv (Samples: 775)\n",
            "처리 중: Video_36_dataset.csv\n",
            "처리 완료: Video_36_dataset.csv (Samples: 355)\n",
            "처리 중: Video_70_dataset.csv\n",
            "처리 완료: Video_70_dataset.csv (Samples: 250)\n",
            "처리 중: Video_71_dataset.csv\n",
            "처리 완료: Video_71_dataset.csv (Samples: 217)\n",
            "처리 중: Video_72_dataset.csv\n",
            "처리 완료: Video_72_dataset.csv (Samples: 232)\n",
            "처리 중: Video_73_dataset.csv\n",
            "처리 완료: Video_73_dataset.csv (Samples: 264)\n",
            "처리 중: Video_74_dataset.csv\n",
            "처리 완료: Video_74_dataset.csv (Samples: 419)\n",
            "\n",
            "데이터 타입 확인:\n",
            "frame: int64\n",
            "pedestrian_id: int64\n",
            "behavior_label: float64\n",
            "\n",
            "행동 라벨 분포:\n",
            "behavior_label\n",
            "0.0    3387\n",
            "2.0    2495\n",
            "1.0     996\n",
            "3.0     760\n",
            "Name: count, dtype: int64\n"
          ]
        }
      ],
      "source": [
        "# 보행자 CSV 파일이 저장된 폴더 경로\n",
        "data_folder = \"/content/train4/train4\"\n",
        "\n",
        "# 모든 CSV 파일 찾기\n",
        "csv_files = [f for f in os.listdir(data_folder) if f.endswith(\".csv\")]\n",
        "\n",
        "# 숫자 기준으로 파일 정렬 (Video_1_dataset.csv → Video_2_dataset.csv → ...)\n",
        "csv_files_sorted = sorted(csv_files, key=lambda x: int(re.search(r\"Video_(\\d+)_dataset\\.csv\", x).group(1)) if re.search(r\"Video_(\\d+)_dataset\\.csv\", x) else float('inf'))\n",
        "\n",
        "# 모든 CSV 파일 로드 및 frame 컬럼 추가\n",
        "all_dataframes = []\n",
        "\n",
        "print(\"CSV 파일 로드 시작...\")\n",
        "\n",
        "for filename in csv_files_sorted:\n",
        "    file_path = os.path.join(data_folder, filename)\n",
        "\n",
        "    # 파일 로드 로그 출력\n",
        "    print(f\"처리 중: {filename}\")\n",
        "\n",
        "    # 파일 이름에서 pedestrian_id 추출 (예: Video_1_dataset.csv → pedestrian_id = 1)\n",
        "    match = re.search(r\"Video_(\\d+)_dataset\\.csv\", filename)\n",
        "    if match:\n",
        "        pedestrian_id = int(match.group(1))  # \"Video_1_dataset.csv\" → 1\n",
        "\n",
        "        # CSV 파일 로드\n",
        "        df = pd.read_csv(file_path, header=None)  # 컬럼명이 없을 수도 있으므로 header=None 사용\n",
        "\n",
        "        # 입력 데이터 (69개)와 행동 라벨 (마지막 열) 분리\n",
        "        num_features = 69  # Keypoints(22개) + CoM(3D) = 69차원 입력\n",
        "        df_features = df.iloc[:, :num_features]  # 69개 입력 피처\n",
        "        df_labels = df.iloc[:, num_features]  # 마지막 열이 행동 클래스 라벨 (0~3)\n",
        "\n",
        "        # 컬럼 이름 설정\n",
        "        keypoint_columns = [f\"kp_{i}\" for i in range(num_features)]  # \"kp_0\", \"kp_1\", ..., \"kp_68\"\n",
        "        df_features.columns = keypoint_columns  # 입력 피처 이름 지정\n",
        "        df_labels.name = \"behavior_label\"  # 행동 클래스 열 이름 지정\n",
        "\n",
        "        # 보행자 ID 추가\n",
        "        df_features[\"pedestrian_id\"] = pedestrian_id\n",
        "\n",
        "        # 행동 라벨 추가 - 명시적으로 정수형(int)으로 변환\n",
        "        df_features[\"behavior_label\"] = df_labels\n",
        "\n",
        "        # frame 컬럼 추가 (0부터 시작하는 인덱스)\n",
        "        df_features.insert(0, \"frame\", range(len(df_features)))\n",
        "\n",
        "        # 리스트에 저장\n",
        "        all_dataframes.append(df_features)\n",
        "\n",
        "        # 파일 처리 완료 로그 출력\n",
        "        print(f\"처리 완료: {filename} (Samples: {len(df_features)})\")\n",
        "\n",
        "# 모든 데이터를 하나의 DataFrame으로 합침\n",
        "full_df = pd.concat(all_dataframes, ignore_index=True)\n",
        "\n",
        "# 데이터 타입 확인\n",
        "print(\"\\n데이터 타입 확인:\")\n",
        "for col in [\"frame\", \"pedestrian_id\", \"behavior_label\"]:\n",
        "    print(f\"{col}: {full_df[col].dtype}\")\n",
        "\n",
        "# 행동 라벨 분포 확인\n",
        "print(\"\\n행동 라벨 분포:\")\n",
        "print(full_df[\"behavior_label\"].value_counts())"
      ]
    },
    {
      "cell_type": "code",
      "execution_count": 102,
      "metadata": {
        "colab": {
          "base_uri": "https://localhost:8080/"
        },
        "id": "BWKMKZcMR2rn",
        "outputId": "b3b0c4e6-e198-467f-85d9-d488d8e68ab2"
      },
      "outputs": [
        {
          "output_type": "stream",
          "name": "stdout",
          "text": [
            "NaN (결측값) 개수:\n",
            " kp_1              228\n",
            "kp_2              228\n",
            "kp_3              228\n",
            "kp_4              228\n",
            "kp_5              228\n",
            "                 ... \n",
            "kp_65             228\n",
            "kp_66             228\n",
            "kp_67             228\n",
            "kp_68             228\n",
            "behavior_label    228\n",
            "Length: 69, dtype: int64\n",
            "\n",
            "Inf (무한대) 개수:\n",
            " Series([], dtype: int64)\n"
          ]
        }
      ],
      "source": [
        "# 숫자형 데이터만 선택하여 NaN 및 inf 값 확인\n",
        "numeric_df = full_df.select_dtypes(include=[np.number])  # 숫자형(float, int) 데이터만 선택\n",
        "\n",
        "# NaN(결측값) 개수 확인\n",
        "missing_values = numeric_df.isna().sum()\n",
        "print(\"NaN (결측값) 개수:\\n\", missing_values[missing_values > 0])\n",
        "\n",
        "# Inf(무한대) 값 확인\n",
        "infinite_values = np.isinf(numeric_df).sum()\n",
        "print(\"\\nInf (무한대) 개수:\\n\", infinite_values[infinite_values > 0])"
      ]
    },
    {
      "cell_type": "code",
      "execution_count": 103,
      "metadata": {
        "colab": {
          "base_uri": "https://localhost:8080/"
        },
        "id": "e5uO3JDHR4mq",
        "outputId": "7f4b8140-45ec-415e-d03a-12d2390acf08"
      },
      "outputs": [
        {
          "output_type": "stream",
          "name": "stdout",
          "text": [
            "결측값 제거\n",
            "\n",
            "NaN (결측값) 개수:\n",
            " Series([], dtype: int64)\n",
            "\n",
            "Inf (무한대) 개수:\n",
            " Series([], dtype: int64)\n"
          ]
        }
      ],
      "source": [
        "# 결측치 제거\n",
        "full_df.dropna(inplace=True)\n",
        "print(\"결측값 제거\\n\")\n",
        "\n",
        "# 숫자형 데이터만 선택하여 NaN 및 inf 값 확인\n",
        "numeric_df = full_df.select_dtypes(include=[np.number])  # 숫자형(float, int) 데이터만 선택\n",
        "\n",
        "# NaN(결측값) 개수 확인\n",
        "missing_values = numeric_df.isna().sum()\n",
        "print(\"NaN (결측값) 개수:\\n\", missing_values[missing_values > 0])\n",
        "\n",
        "# Inf(무한대) 값 확인\n",
        "infinite_values = np.isinf(numeric_df).sum()\n",
        "print(\"\\nInf (무한대) 개수:\\n\", infinite_values[infinite_values > 0])"
      ]
    },
    {
      "cell_type": "markdown",
      "source": [
        "## Binary Classification"
      ],
      "metadata": {
        "id": "K73RZ-EWaCv0"
      }
    },
    {
      "cell_type": "code",
      "source": [
        "# binary 클래스로 변경\n",
        "# full_df[\"behavior_label\"] = full_df[\"behavior_label\"].replace({3: 0, 2: 1})\n",
        "\n",
        "# standing 제외 모두 walking\n",
        "# full_df[\"behavior_label\"] = full_df[\"behavior_label\"].replace({3: 1, 2: 1})"
      ],
      "metadata": {
        "id": "zT7QeanB_Ler"
      },
      "execution_count": 104,
      "outputs": []
    },
    {
      "cell_type": "code",
      "execution_count": 105,
      "metadata": {
        "colab": {
          "base_uri": "https://localhost:8080/"
        },
        "id": "rUeG3vRxR7jC",
        "outputId": "35ee3bc0-7544-48d3-dc6c-bf25d0b2352d"
      },
      "outputs": [
        {
          "output_type": "stream",
          "name": "stdout",
          "text": [
            "모든 CSV 파일 처리 완료!\n",
            "최종 데이터 저장: /content/merged_pedestrian_behavior.csv\n"
          ]
        }
      ],
      "source": [
        "# 정수로 변환\n",
        "full_df[\"behavior_label\"] = full_df[\"behavior_label\"].astype(int)\n",
        "\n",
        "# 최종 데이터 저장\n",
        "full_df.to_csv(fixed_file_path, index=False)\n",
        "\n",
        "print(\"모든 CSV 파일 처리 완료!\")\n",
        "print(f\"최종 데이터 저장: {fixed_file_path}\")"
      ]
    },
    {
      "cell_type": "markdown",
      "source": [
        "## Z좌표 제거, CoM 값 제거"
      ],
      "metadata": {
        "id": "eeXyfD-W2fTI"
      }
    },
    {
      "cell_type": "code",
      "execution_count": 106,
      "metadata": {
        "id": "0esqvAGqWA--"
      },
      "outputs": [],
      "source": [
        "# # Z 좌표 제거\n",
        "# # cols_to_keep = [0] + [i for i in range(1, (23 * 3) + 1) if (i % 3) != 0] + [71]\n",
        "# # df_filtered = full_df.iloc[:, cols_to_keep]\n",
        "\n",
        "# # CoM 좌표 제거\n",
        "# cols_to_keep = [0] + list(range(1, (22 * 3) + 1)) + [71]\n",
        "# df_filtered = full_df.iloc[:, cols_to_keep]\n",
        "\n",
        "# print(df_filtered.columns)\n",
        "# # 새 CSV 파일로 저장\n",
        "# df_filtered.to_csv(\"except_CoM.csv\", index=False)"
      ]
    },
    {
      "cell_type": "markdown",
      "metadata": {
        "id": "IFxrjr4b3ZDT"
      },
      "source": [
        "#경로 지정"
      ]
    },
    {
      "cell_type": "code",
      "execution_count": 107,
      "metadata": {
        "id": "elYMc8Bd3ZDU"
      },
      "outputs": [],
      "source": [
        "dataset = '/content/merged_pedestrian_behavior.csv'\n",
        "model_save_path = '/content/keypoint_classifier.keras'"
      ]
    },
    {
      "cell_type": "markdown",
      "metadata": {
        "id": "nXKmIcXt3ZDV"
      },
      "source": [
        "# 클래스 설정"
      ]
    },
    {
      "cell_type": "code",
      "execution_count": 108,
      "metadata": {
        "id": "Hv6_8HS_3ZDV"
      },
      "outputs": [],
      "source": [
        "NUM_CLASSES = 4"
      ]
    },
    {
      "cell_type": "markdown",
      "metadata": {
        "id": "1TCD6Eic3ZDV"
      },
      "source": [
        "# 학습 데이터 로드"
      ]
    },
    {
      "cell_type": "code",
      "source": [
        "def extract_sequences_from_dataframe(\n",
        "    df,\n",
        "    sequence_length=20,\n",
        "    future_offset=0,  # recognization=0, prediction=5\n",
        "    feature_prefix='kp_',\n",
        "    label_column='behavior_label',\n",
        "    group_column='pedestrian_id',\n",
        "    num_keypoints=23  # keypoint 개수\n",
        "):\n",
        "    \"\"\"\n",
        "    DataFrame으로부터 시퀀스 데이터를 추출하고, 모델 입력 형식으로 reshape합니다.\n",
        "\n",
        "    Returns:\n",
        "        X (np.ndarray): 시퀀스 입력 데이터, shape=(num_seq, sequence_length, num_keypoints * 3)\n",
        "        y (np.ndarray): 시퀀스 타겟 라벨, shape=(num_seq,)\n",
        "    \"\"\"\n",
        "    feature_cols = [col for col in df.columns if col.startswith(feature_prefix)]\n",
        "    X, y = [], []\n",
        "\n",
        "    for ped_id, group in df.groupby(group_column):\n",
        "        group = group.reset_index(drop=True)\n",
        "\n",
        "        if len(group) < sequence_length + future_offset:\n",
        "            continue\n",
        "\n",
        "        data = group[feature_cols].values  # shape: (num_frames, 69)\n",
        "        labels = group[label_column].values\n",
        "\n",
        "        for i in range(len(data) - sequence_length - future_offset + 1):\n",
        "            seq_x = data[i:i + sequence_length]  # shape: (20, 69)\n",
        "            seq_y = labels[i + sequence_length + future_offset - 1]\n",
        "            X.append(seq_x)\n",
        "            y.append(seq_y)\n",
        "\n",
        "    X = np.array(X)\n",
        "    y = np.array(y)\n",
        "\n",
        "    # reshape: (num_seq, 20, 69) → (num_seq, 20, 23 * 3)\n",
        "    X = X.reshape(-1, sequence_length, num_keypoints * 3)\n",
        "    return X, y\n"
      ],
      "metadata": {
        "id": "JjIeMCAoWKqB"
      },
      "execution_count": 109,
      "outputs": []
    },
    {
      "cell_type": "code",
      "source": [
        "df = pd.read_csv('/content/merged_pedestrian_behavior.csv')\n",
        "\n",
        "X, y = extract_sequences_from_dataframe(df)\n",
        "\n",
        "print(\"X shape:\", X.shape)  # (num_seq, 20, 69)\n",
        "print(\"y shape:\", y.shape)\n",
        "print(\"y 클래스 분포:\", np.unique(y, return_counts=True))\n",
        "\n",
        "X_train, X_test, y_train, y_test = train_test_split(\n",
        "    X, y,\n",
        "    train_size=0.75,\n",
        "    random_state=42,\n",
        "    stratify=y\n",
        ")"
      ],
      "metadata": {
        "colab": {
          "base_uri": "https://localhost:8080/"
        },
        "id": "VpPzXAipcWTY",
        "outputId": "e5769743-ab55-4b25-9f40-23555c8fc7a0"
      },
      "execution_count": 110,
      "outputs": [
        {
          "output_type": "stream",
          "name": "stdout",
          "text": [
            "X shape: (6859, 20, 69)\n",
            "y shape: (6859,)\n",
            "y 클래스 분포: (array([0, 1, 2, 3]), array([2954,  898, 2251,  756]))\n"
          ]
        }
      ]
    },
    {
      "cell_type": "markdown",
      "metadata": {
        "id": "QhGl0NqW3ZDX"
      },
      "source": [
        "# 모델 생성"
      ]
    },
    {
      "cell_type": "code",
      "source": [
        "model = tf.keras.Sequential([\n",
        "    tf.keras.layers.Conv1D(64, kernel_size=3, activation='relu', input_shape=(20, (23 * 3))),\n",
        "    tf.keras.layers.Conv1D(128, kernel_size=3, activation='relu'),\n",
        "    tf.keras.layers.GlobalAveragePooling1D(),\n",
        "    tf.keras.layers.Dense(64, activation='relu'),\n",
        "    tf.keras.layers.Dense(NUM_CLASSES, activation='softmax')\n",
        "])"
      ],
      "metadata": {
        "colab": {
          "base_uri": "https://localhost:8080/"
        },
        "id": "8rfJYiycSnhb",
        "outputId": "83c3b0af-be21-4063-bfaa-4ef5739e528c"
      },
      "execution_count": 111,
      "outputs": [
        {
          "output_type": "stream",
          "name": "stderr",
          "text": [
            "/usr/local/lib/python3.11/dist-packages/keras/src/layers/convolutional/base_conv.py:107: UserWarning: Do not pass an `input_shape`/`input_dim` argument to a layer. When using Sequential models, prefer using an `Input(shape)` object as the first layer in the model instead.\n",
            "  super().__init__(activity_regularizer=activity_regularizer, **kwargs)\n"
          ]
        }
      ]
    },
    {
      "cell_type": "code",
      "execution_count": 112,
      "metadata": {
        "colab": {
          "base_uri": "https://localhost:8080/",
          "height": 314
        },
        "id": "1nh3zwP_3ZDY",
        "outputId": "3fe8653b-8971-4151-ffb9-89d11e347415"
      },
      "outputs": [
        {
          "output_type": "display_data",
          "data": {
            "text/plain": [
              "\u001b[1mModel: \"sequential_3\"\u001b[0m\n"
            ],
            "text/html": [
              "<pre style=\"white-space:pre;overflow-x:auto;line-height:normal;font-family:Menlo,'DejaVu Sans Mono',consolas,'Courier New',monospace\"><span style=\"font-weight: bold\">Model: \"sequential_3\"</span>\n",
              "</pre>\n"
            ]
          },
          "metadata": {}
        },
        {
          "output_type": "display_data",
          "data": {
            "text/plain": [
              "┏━━━━━━━━━━━━━━━━━━━━━━━━━━━━━━━━━━━━━━┳━━━━━━━━━━━━━━━━━━━━━━━━━━━━━┳━━━━━━━━━━━━━━━━━┓\n",
              "┃\u001b[1m \u001b[0m\u001b[1mLayer (type)                        \u001b[0m\u001b[1m \u001b[0m┃\u001b[1m \u001b[0m\u001b[1mOutput Shape               \u001b[0m\u001b[1m \u001b[0m┃\u001b[1m \u001b[0m\u001b[1m        Param #\u001b[0m\u001b[1m \u001b[0m┃\n",
              "┡━━━━━━━━━━━━━━━━━━━━━━━━━━━━━━━━━━━━━━╇━━━━━━━━━━━━━━━━━━━━━━━━━━━━━╇━━━━━━━━━━━━━━━━━┩\n",
              "│ conv1d_6 (\u001b[38;5;33mConv1D\u001b[0m)                    │ (\u001b[38;5;45mNone\u001b[0m, \u001b[38;5;34m18\u001b[0m, \u001b[38;5;34m64\u001b[0m)              │          \u001b[38;5;34m13,312\u001b[0m │\n",
              "├──────────────────────────────────────┼─────────────────────────────┼─────────────────┤\n",
              "│ conv1d_7 (\u001b[38;5;33mConv1D\u001b[0m)                    │ (\u001b[38;5;45mNone\u001b[0m, \u001b[38;5;34m16\u001b[0m, \u001b[38;5;34m128\u001b[0m)             │          \u001b[38;5;34m24,704\u001b[0m │\n",
              "├──────────────────────────────────────┼─────────────────────────────┼─────────────────┤\n",
              "│ global_average_pooling1d_3           │ (\u001b[38;5;45mNone\u001b[0m, \u001b[38;5;34m128\u001b[0m)                 │               \u001b[38;5;34m0\u001b[0m │\n",
              "│ (\u001b[38;5;33mGlobalAveragePooling1D\u001b[0m)             │                             │                 │\n",
              "├──────────────────────────────────────┼─────────────────────────────┼─────────────────┤\n",
              "│ dense_6 (\u001b[38;5;33mDense\u001b[0m)                      │ (\u001b[38;5;45mNone\u001b[0m, \u001b[38;5;34m64\u001b[0m)                  │           \u001b[38;5;34m8,256\u001b[0m │\n",
              "├──────────────────────────────────────┼─────────────────────────────┼─────────────────┤\n",
              "│ dense_7 (\u001b[38;5;33mDense\u001b[0m)                      │ (\u001b[38;5;45mNone\u001b[0m, \u001b[38;5;34m4\u001b[0m)                   │             \u001b[38;5;34m260\u001b[0m │\n",
              "└──────────────────────────────────────┴─────────────────────────────┴─────────────────┘\n"
            ],
            "text/html": [
              "<pre style=\"white-space:pre;overflow-x:auto;line-height:normal;font-family:Menlo,'DejaVu Sans Mono',consolas,'Courier New',monospace\">┏━━━━━━━━━━━━━━━━━━━━━━━━━━━━━━━━━━━━━━┳━━━━━━━━━━━━━━━━━━━━━━━━━━━━━┳━━━━━━━━━━━━━━━━━┓\n",
              "┃<span style=\"font-weight: bold\"> Layer (type)                         </span>┃<span style=\"font-weight: bold\"> Output Shape                </span>┃<span style=\"font-weight: bold\">         Param # </span>┃\n",
              "┡━━━━━━━━━━━━━━━━━━━━━━━━━━━━━━━━━━━━━━╇━━━━━━━━━━━━━━━━━━━━━━━━━━━━━╇━━━━━━━━━━━━━━━━━┩\n",
              "│ conv1d_6 (<span style=\"color: #0087ff; text-decoration-color: #0087ff\">Conv1D</span>)                    │ (<span style=\"color: #00d7ff; text-decoration-color: #00d7ff\">None</span>, <span style=\"color: #00af00; text-decoration-color: #00af00\">18</span>, <span style=\"color: #00af00; text-decoration-color: #00af00\">64</span>)              │          <span style=\"color: #00af00; text-decoration-color: #00af00\">13,312</span> │\n",
              "├──────────────────────────────────────┼─────────────────────────────┼─────────────────┤\n",
              "│ conv1d_7 (<span style=\"color: #0087ff; text-decoration-color: #0087ff\">Conv1D</span>)                    │ (<span style=\"color: #00d7ff; text-decoration-color: #00d7ff\">None</span>, <span style=\"color: #00af00; text-decoration-color: #00af00\">16</span>, <span style=\"color: #00af00; text-decoration-color: #00af00\">128</span>)             │          <span style=\"color: #00af00; text-decoration-color: #00af00\">24,704</span> │\n",
              "├──────────────────────────────────────┼─────────────────────────────┼─────────────────┤\n",
              "│ global_average_pooling1d_3           │ (<span style=\"color: #00d7ff; text-decoration-color: #00d7ff\">None</span>, <span style=\"color: #00af00; text-decoration-color: #00af00\">128</span>)                 │               <span style=\"color: #00af00; text-decoration-color: #00af00\">0</span> │\n",
              "│ (<span style=\"color: #0087ff; text-decoration-color: #0087ff\">GlobalAveragePooling1D</span>)             │                             │                 │\n",
              "├──────────────────────────────────────┼─────────────────────────────┼─────────────────┤\n",
              "│ dense_6 (<span style=\"color: #0087ff; text-decoration-color: #0087ff\">Dense</span>)                      │ (<span style=\"color: #00d7ff; text-decoration-color: #00d7ff\">None</span>, <span style=\"color: #00af00; text-decoration-color: #00af00\">64</span>)                  │           <span style=\"color: #00af00; text-decoration-color: #00af00\">8,256</span> │\n",
              "├──────────────────────────────────────┼─────────────────────────────┼─────────────────┤\n",
              "│ dense_7 (<span style=\"color: #0087ff; text-decoration-color: #0087ff\">Dense</span>)                      │ (<span style=\"color: #00d7ff; text-decoration-color: #00d7ff\">None</span>, <span style=\"color: #00af00; text-decoration-color: #00af00\">4</span>)                   │             <span style=\"color: #00af00; text-decoration-color: #00af00\">260</span> │\n",
              "└──────────────────────────────────────┴─────────────────────────────┴─────────────────┘\n",
              "</pre>\n"
            ]
          },
          "metadata": {}
        },
        {
          "output_type": "display_data",
          "data": {
            "text/plain": [
              "\u001b[1m Total params: \u001b[0m\u001b[38;5;34m46,532\u001b[0m (181.77 KB)\n"
            ],
            "text/html": [
              "<pre style=\"white-space:pre;overflow-x:auto;line-height:normal;font-family:Menlo,'DejaVu Sans Mono',consolas,'Courier New',monospace\"><span style=\"font-weight: bold\"> Total params: </span><span style=\"color: #00af00; text-decoration-color: #00af00\">46,532</span> (181.77 KB)\n",
              "</pre>\n"
            ]
          },
          "metadata": {}
        },
        {
          "output_type": "display_data",
          "data": {
            "text/plain": [
              "\u001b[1m Trainable params: \u001b[0m\u001b[38;5;34m46,532\u001b[0m (181.77 KB)\n"
            ],
            "text/html": [
              "<pre style=\"white-space:pre;overflow-x:auto;line-height:normal;font-family:Menlo,'DejaVu Sans Mono',consolas,'Courier New',monospace\"><span style=\"font-weight: bold\"> Trainable params: </span><span style=\"color: #00af00; text-decoration-color: #00af00\">46,532</span> (181.77 KB)\n",
              "</pre>\n"
            ]
          },
          "metadata": {}
        },
        {
          "output_type": "display_data",
          "data": {
            "text/plain": [
              "\u001b[1m Non-trainable params: \u001b[0m\u001b[38;5;34m0\u001b[0m (0.00 B)\n"
            ],
            "text/html": [
              "<pre style=\"white-space:pre;overflow-x:auto;line-height:normal;font-family:Menlo,'DejaVu Sans Mono',consolas,'Courier New',monospace\"><span style=\"font-weight: bold\"> Non-trainable params: </span><span style=\"color: #00af00; text-decoration-color: #00af00\">0</span> (0.00 B)\n",
              "</pre>\n"
            ]
          },
          "metadata": {}
        }
      ],
      "source": [
        "model.summary()  # tf.keras.utils.plot_model(model, show_shapes=True)"
      ]
    },
    {
      "cell_type": "code",
      "execution_count": 113,
      "metadata": {
        "id": "loZeENCY3ZDZ"
      },
      "outputs": [],
      "source": [
        "# 모델 체크포인트 콜백\n",
        "cp_callback = tf.keras.callbacks.ModelCheckpoint(\n",
        "    model_save_path, verbose=1, save_weights_only=False, save_best_only=True)\n",
        "# Early Stopping 콜백\n",
        "es_callback = tf.keras.callbacks.EarlyStopping(patience=30, verbose=1)"
      ]
    },
    {
      "cell_type": "code",
      "execution_count": 114,
      "metadata": {
        "id": "il2iULZF3ZDZ"
      },
      "outputs": [],
      "source": [
        "# 모델 컴파일\n",
        "model.compile(\n",
        "    optimizer='adam',\n",
        "    loss='sparse_categorical_crossentropy',\n",
        "    metrics=['accuracy']\n",
        ")"
      ]
    },
    {
      "cell_type": "markdown",
      "metadata": {
        "id": "NZamvtOF3ZDZ"
      },
      "source": [
        "# 모델 훈련"
      ]
    },
    {
      "cell_type": "code",
      "execution_count": 115,
      "metadata": {
        "colab": {
          "base_uri": "https://localhost:8080/"
        },
        "id": "ioenPNg73ZDZ",
        "scrolled": true,
        "outputId": "2d0ea817-717c-43a3-fe52-30f22f075ba5"
      },
      "outputs": [
        {
          "output_type": "stream",
          "name": "stdout",
          "text": [
            "Epoch 1/1000\n",
            "\u001b[1m39/41\u001b[0m \u001b[32m━━━━━━━━━━━━━━━━━━━\u001b[0m\u001b[37m━\u001b[0m \u001b[1m0s\u001b[0m 15ms/step - accuracy: 0.4118 - loss: 1.2599\n",
            "Epoch 1: val_loss improved from inf to 1.13474, saving model to /content/keypoint_classifier.keras\n",
            "\u001b[1m41/41\u001b[0m \u001b[32m━━━━━━━━━━━━━━━━━━━━\u001b[0m\u001b[37m\u001b[0m \u001b[1m3s\u001b[0m 27ms/step - accuracy: 0.4146 - loss: 1.2566 - val_accuracy: 0.5015 - val_loss: 1.1347\n",
            "Epoch 2/1000\n",
            "\u001b[1m39/41\u001b[0m \u001b[32m━━━━━━━━━━━━━━━━━━━\u001b[0m\u001b[37m━\u001b[0m \u001b[1m0s\u001b[0m 24ms/step - accuracy: 0.5490 - loss: 1.1221\n",
            "Epoch 2: val_loss improved from 1.13474 to 1.05128, saving model to /content/keypoint_classifier.keras\n",
            "\u001b[1m41/41\u001b[0m \u001b[32m━━━━━━━━━━━━━━━━━━━━\u001b[0m\u001b[37m\u001b[0m \u001b[1m1s\u001b[0m 35ms/step - accuracy: 0.5498 - loss: 1.1207 - val_accuracy: 0.5749 - val_loss: 1.0513\n",
            "Epoch 3/1000\n",
            "\u001b[1m38/41\u001b[0m \u001b[32m━━━━━━━━━━━━━━━━━━\u001b[0m\u001b[37m━━\u001b[0m \u001b[1m0s\u001b[0m 13ms/step - accuracy: 0.5685 - loss: 1.0726\n",
            "Epoch 3: val_loss improved from 1.05128 to 0.97443, saving model to /content/keypoint_classifier.keras\n",
            "\u001b[1m41/41\u001b[0m \u001b[32m━━━━━━━━━━━━━━━━━━━━\u001b[0m\u001b[37m\u001b[0m \u001b[1m2s\u001b[0m 17ms/step - accuracy: 0.5706 - loss: 1.0686 - val_accuracy: 0.6227 - val_loss: 0.9744\n",
            "Epoch 4/1000\n",
            "\u001b[1m40/41\u001b[0m \u001b[32m━━━━━━━━━━━━━━━━━━━\u001b[0m\u001b[37m━\u001b[0m \u001b[1m0s\u001b[0m 13ms/step - accuracy: 0.6269 - loss: 0.9652\n",
            "Epoch 4: val_loss improved from 0.97443 to 0.93485, saving model to /content/keypoint_classifier.keras\n",
            "\u001b[1m41/41\u001b[0m \u001b[32m━━━━━━━━━━━━━━━━━━━━\u001b[0m\u001b[37m\u001b[0m \u001b[1m1s\u001b[0m 19ms/step - accuracy: 0.6272 - loss: 0.9647 - val_accuracy: 0.6665 - val_loss: 0.9349\n",
            "Epoch 5/1000\n",
            "\u001b[1m40/41\u001b[0m \u001b[32m━━━━━━━━━━━━━━━━━━━\u001b[0m\u001b[37m━\u001b[0m \u001b[1m0s\u001b[0m 15ms/step - accuracy: 0.6534 - loss: 0.9098\n",
            "Epoch 5: val_loss improved from 0.93485 to 0.85657, saving model to /content/keypoint_classifier.keras\n",
            "\u001b[1m41/41\u001b[0m \u001b[32m━━━━━━━━━━━━━━━━━━━━\u001b[0m\u001b[37m\u001b[0m \u001b[1m1s\u001b[0m 20ms/step - accuracy: 0.6537 - loss: 0.9095 - val_accuracy: 0.6869 - val_loss: 0.8566\n",
            "Epoch 6/1000\n",
            "\u001b[1m40/41\u001b[0m \u001b[32m━━━━━━━━━━━━━━━━━━━\u001b[0m\u001b[37m━\u001b[0m \u001b[1m0s\u001b[0m 19ms/step - accuracy: 0.6703 - loss: 0.8624\n",
            "Epoch 6: val_loss improved from 0.85657 to 0.82094, saving model to /content/keypoint_classifier.keras\n",
            "\u001b[1m41/41\u001b[0m \u001b[32m━━━━━━━━━━━━━━━━━━━━\u001b[0m\u001b[37m\u001b[0m \u001b[1m1s\u001b[0m 29ms/step - accuracy: 0.6705 - loss: 0.8619 - val_accuracy: 0.6822 - val_loss: 0.8209\n",
            "Epoch 7/1000\n",
            "\u001b[1m40/41\u001b[0m \u001b[32m━━━━━━━━━━━━━━━━━━━\u001b[0m\u001b[37m━\u001b[0m \u001b[1m0s\u001b[0m 26ms/step - accuracy: 0.6855 - loss: 0.8171\n",
            "Epoch 7: val_loss improved from 0.82094 to 0.79864, saving model to /content/keypoint_classifier.keras\n",
            "\u001b[1m41/41\u001b[0m \u001b[32m━━━━━━━━━━━━━━━━━━━━\u001b[0m\u001b[37m\u001b[0m \u001b[1m2s\u001b[0m 37ms/step - accuracy: 0.6853 - loss: 0.8175 - val_accuracy: 0.6810 - val_loss: 0.7986\n",
            "Epoch 8/1000\n",
            "\u001b[1m39/41\u001b[0m \u001b[32m━━━━━━━━━━━━━━━━━━━\u001b[0m\u001b[37m━\u001b[0m \u001b[1m0s\u001b[0m 13ms/step - accuracy: 0.6967 - loss: 0.7797\n",
            "Epoch 8: val_loss improved from 0.79864 to 0.78095, saving model to /content/keypoint_classifier.keras\n",
            "\u001b[1m41/41\u001b[0m \u001b[32m━━━━━━━━━━━━━━━━━━━━\u001b[0m\u001b[37m\u001b[0m \u001b[1m2s\u001b[0m 17ms/step - accuracy: 0.6964 - loss: 0.7803 - val_accuracy: 0.6974 - val_loss: 0.7810\n",
            "Epoch 9/1000\n",
            "\u001b[1m37/41\u001b[0m \u001b[32m━━━━━━━━━━━━━━━━━━\u001b[0m\u001b[37m━━\u001b[0m \u001b[1m0s\u001b[0m 14ms/step - accuracy: 0.6923 - loss: 0.7842\n",
            "Epoch 9: val_loss did not improve from 0.78095\n",
            "\u001b[1m41/41\u001b[0m \u001b[32m━━━━━━━━━━━━━━━━━━━━\u001b[0m\u001b[37m\u001b[0m \u001b[1m1s\u001b[0m 17ms/step - accuracy: 0.6924 - loss: 0.7836 - val_accuracy: 0.6577 - val_loss: 0.8143\n",
            "Epoch 10/1000\n",
            "\u001b[1m40/41\u001b[0m \u001b[32m━━━━━━━━━━━━━━━━━━━\u001b[0m\u001b[37m━\u001b[0m \u001b[1m0s\u001b[0m 15ms/step - accuracy: 0.6980 - loss: 0.7502\n",
            "Epoch 10: val_loss improved from 0.78095 to 0.71215, saving model to /content/keypoint_classifier.keras\n",
            "\u001b[1m41/41\u001b[0m \u001b[32m━━━━━━━━━━━━━━━━━━━━\u001b[0m\u001b[37m\u001b[0m \u001b[1m1s\u001b[0m 20ms/step - accuracy: 0.6986 - loss: 0.7493 - val_accuracy: 0.7155 - val_loss: 0.7121\n",
            "Epoch 11/1000\n",
            "\u001b[1m37/41\u001b[0m \u001b[32m━━━━━━━━━━━━━━━━━━\u001b[0m\u001b[37m━━\u001b[0m \u001b[1m0s\u001b[0m 15ms/step - accuracy: 0.7202 - loss: 0.7223\n",
            "Epoch 11: val_loss improved from 0.71215 to 0.68700, saving model to /content/keypoint_classifier.keras\n",
            "\u001b[1m41/41\u001b[0m \u001b[32m━━━━━━━━━━━━━━━━━━━━\u001b[0m\u001b[37m\u001b[0m \u001b[1m1s\u001b[0m 20ms/step - accuracy: 0.7200 - loss: 0.7214 - val_accuracy: 0.7254 - val_loss: 0.6870\n",
            "Epoch 12/1000\n",
            "\u001b[1m37/41\u001b[0m \u001b[32m━━━━━━━━━━━━━━━━━━\u001b[0m\u001b[37m━━\u001b[0m \u001b[1m0s\u001b[0m 15ms/step - accuracy: 0.7308 - loss: 0.6722\n",
            "Epoch 12: val_loss improved from 0.68700 to 0.66757, saving model to /content/keypoint_classifier.keras\n",
            "\u001b[1m41/41\u001b[0m \u001b[32m━━━━━━━━━━━━━━━━━━━━\u001b[0m\u001b[37m\u001b[0m \u001b[1m1s\u001b[0m 20ms/step - accuracy: 0.7311 - loss: 0.6729 - val_accuracy: 0.7347 - val_loss: 0.6676\n",
            "Epoch 13/1000\n",
            "\u001b[1m37/41\u001b[0m \u001b[32m━━━━━━━━━━━━━━━━━━\u001b[0m\u001b[37m━━\u001b[0m \u001b[1m0s\u001b[0m 14ms/step - accuracy: 0.7335 - loss: 0.6554\n",
            "Epoch 13: val_loss improved from 0.66757 to 0.63830, saving model to /content/keypoint_classifier.keras\n",
            "\u001b[1m41/41\u001b[0m \u001b[32m━━━━━━━━━━━━━━━━━━━━\u001b[0m\u001b[37m\u001b[0m \u001b[1m1s\u001b[0m 19ms/step - accuracy: 0.7341 - loss: 0.6554 - val_accuracy: 0.7394 - val_loss: 0.6383\n",
            "Epoch 14/1000\n",
            "\u001b[1m40/41\u001b[0m \u001b[32m━━━━━━━━━━━━━━━━━━━\u001b[0m\u001b[37m━\u001b[0m \u001b[1m0s\u001b[0m 15ms/step - accuracy: 0.7324 - loss: 0.6678\n",
            "Epoch 14: val_loss did not improve from 0.63830\n",
            "\u001b[1m41/41\u001b[0m \u001b[32m━━━━━━━━━━━━━━━━━━━━\u001b[0m\u001b[37m\u001b[0m \u001b[1m1s\u001b[0m 18ms/step - accuracy: 0.7329 - loss: 0.6666 - val_accuracy: 0.7230 - val_loss: 0.7075\n",
            "Epoch 15/1000\n",
            "\u001b[1m40/41\u001b[0m \u001b[32m━━━━━━━━━━━━━━━━━━━\u001b[0m\u001b[37m━\u001b[0m \u001b[1m0s\u001b[0m 14ms/step - accuracy: 0.7256 - loss: 0.6775\n",
            "Epoch 15: val_loss improved from 0.63830 to 0.61301, saving model to /content/keypoint_classifier.keras\n",
            "\u001b[1m41/41\u001b[0m \u001b[32m━━━━━━━━━━━━━━━━━━━━\u001b[0m\u001b[37m\u001b[0m \u001b[1m1s\u001b[0m 20ms/step - accuracy: 0.7263 - loss: 0.6759 - val_accuracy: 0.7633 - val_loss: 0.6130\n",
            "Epoch 16/1000\n",
            "\u001b[1m41/41\u001b[0m \u001b[32m━━━━━━━━━━━━━━━━━━━━\u001b[0m\u001b[37m\u001b[0m \u001b[1m0s\u001b[0m 14ms/step - accuracy: 0.7647 - loss: 0.6032\n",
            "Epoch 16: val_loss improved from 0.61301 to 0.60544, saving model to /content/keypoint_classifier.keras\n",
            "\u001b[1m41/41\u001b[0m \u001b[32m━━━━━━━━━━━━━━━━━━━━\u001b[0m\u001b[37m\u001b[0m \u001b[1m1s\u001b[0m 20ms/step - accuracy: 0.7644 - loss: 0.6038 - val_accuracy: 0.7743 - val_loss: 0.6054\n",
            "Epoch 17/1000\n",
            "\u001b[1m39/41\u001b[0m \u001b[32m━━━━━━━━━━━━━━━━━━━\u001b[0m\u001b[37m━\u001b[0m \u001b[1m0s\u001b[0m 16ms/step - accuracy: 0.7515 - loss: 0.6257\n",
            "Epoch 17: val_loss did not improve from 0.60544\n",
            "\u001b[1m41/41\u001b[0m \u001b[32m━━━━━━━━━━━━━━━━━━━━\u001b[0m\u001b[37m\u001b[0m \u001b[1m1s\u001b[0m 25ms/step - accuracy: 0.7519 - loss: 0.6249 - val_accuracy: 0.7306 - val_loss: 0.6262\n",
            "Epoch 18/1000\n",
            "\u001b[1m39/41\u001b[0m \u001b[32m━━━━━━━━━━━━━━━━━━━\u001b[0m\u001b[37m━\u001b[0m \u001b[1m0s\u001b[0m 27ms/step - accuracy: 0.7705 - loss: 0.5823\n",
            "Epoch 18: val_loss improved from 0.60544 to 0.59042, saving model to /content/keypoint_classifier.keras\n",
            "\u001b[1m41/41\u001b[0m \u001b[32m━━━━━━━━━━━━━━━━━━━━\u001b[0m\u001b[37m\u001b[0m \u001b[1m2s\u001b[0m 33ms/step - accuracy: 0.7712 - loss: 0.5812 - val_accuracy: 0.7574 - val_loss: 0.5904\n",
            "Epoch 19/1000\n",
            "\u001b[1m37/41\u001b[0m \u001b[32m━━━━━━━━━━━━━━━━━━\u001b[0m\u001b[37m━━\u001b[0m \u001b[1m0s\u001b[0m 17ms/step - accuracy: 0.7599 - loss: 0.5967\n",
            "Epoch 19: val_loss did not improve from 0.59042\n",
            "\u001b[1m41/41\u001b[0m \u001b[32m━━━━━━━━━━━━━━━━━━━━\u001b[0m\u001b[37m\u001b[0m \u001b[1m1s\u001b[0m 21ms/step - accuracy: 0.7612 - loss: 0.5942 - val_accuracy: 0.7557 - val_loss: 0.6171\n",
            "Epoch 20/1000\n",
            "\u001b[1m40/41\u001b[0m \u001b[32m━━━━━━━━━━━━━━━━━━━\u001b[0m\u001b[37m━\u001b[0m \u001b[1m0s\u001b[0m 14ms/step - accuracy: 0.7824 - loss: 0.5605\n",
            "Epoch 20: val_loss improved from 0.59042 to 0.58664, saving model to /content/keypoint_classifier.keras\n",
            "\u001b[1m41/41\u001b[0m \u001b[32m━━━━━━━━━━━━━━━━━━━━\u001b[0m\u001b[37m\u001b[0m \u001b[1m1s\u001b[0m 20ms/step - accuracy: 0.7824 - loss: 0.5603 - val_accuracy: 0.7668 - val_loss: 0.5866\n",
            "Epoch 21/1000\n",
            "\u001b[1m37/41\u001b[0m \u001b[32m━━━━━━━━━━━━━━━━━━\u001b[0m\u001b[37m━━\u001b[0m \u001b[1m0s\u001b[0m 14ms/step - accuracy: 0.7640 - loss: 0.5746\n",
            "Epoch 21: val_loss improved from 0.58664 to 0.52204, saving model to /content/keypoint_classifier.keras\n",
            "\u001b[1m41/41\u001b[0m \u001b[32m━━━━━━━━━━━━━━━━━━━━\u001b[0m\u001b[37m\u001b[0m \u001b[1m1s\u001b[0m 20ms/step - accuracy: 0.7650 - loss: 0.5736 - val_accuracy: 0.7971 - val_loss: 0.5220\n",
            "Epoch 22/1000\n",
            "\u001b[1m37/41\u001b[0m \u001b[32m━━━━━━━━━━━━━━━━━━\u001b[0m\u001b[37m━━\u001b[0m \u001b[1m0s\u001b[0m 14ms/step - accuracy: 0.7966 - loss: 0.5286\n",
            "Epoch 22: val_loss did not improve from 0.52204\n",
            "\u001b[1m41/41\u001b[0m \u001b[32m━━━━━━━━━━━━━━━━━━━━\u001b[0m\u001b[37m\u001b[0m \u001b[1m1s\u001b[0m 18ms/step - accuracy: 0.7969 - loss: 0.5277 - val_accuracy: 0.7930 - val_loss: 0.5223\n",
            "Epoch 23/1000\n",
            "\u001b[1m40/41\u001b[0m \u001b[32m━━━━━━━━━━━━━━━━━━━\u001b[0m\u001b[37m━\u001b[0m \u001b[1m0s\u001b[0m 15ms/step - accuracy: 0.8011 - loss: 0.5013\n",
            "Epoch 23: val_loss did not improve from 0.52204\n",
            "\u001b[1m41/41\u001b[0m \u001b[32m━━━━━━━━━━━━━━━━━━━━\u001b[0m\u001b[37m\u001b[0m \u001b[1m1s\u001b[0m 19ms/step - accuracy: 0.8009 - loss: 0.5018 - val_accuracy: 0.7627 - val_loss: 0.5432\n",
            "Epoch 24/1000\n",
            "\u001b[1m40/41\u001b[0m \u001b[32m━━━━━━━━━━━━━━━━━━━\u001b[0m\u001b[37m━\u001b[0m \u001b[1m0s\u001b[0m 15ms/step - accuracy: 0.7922 - loss: 0.5203\n",
            "Epoch 24: val_loss improved from 0.52204 to 0.49977, saving model to /content/keypoint_classifier.keras\n",
            "\u001b[1m41/41\u001b[0m \u001b[32m━━━━━━━━━━━━━━━━━━━━\u001b[0m\u001b[37m\u001b[0m \u001b[1m1s\u001b[0m 20ms/step - accuracy: 0.7924 - loss: 0.5198 - val_accuracy: 0.8041 - val_loss: 0.4998\n",
            "Epoch 25/1000\n",
            "\u001b[1m37/41\u001b[0m \u001b[32m━━━━━━━━━━━━━━━━━━\u001b[0m\u001b[37m━━\u001b[0m \u001b[1m0s\u001b[0m 14ms/step - accuracy: 0.7996 - loss: 0.4829\n",
            "Epoch 25: val_loss improved from 0.49977 to 0.47072, saving model to /content/keypoint_classifier.keras\n",
            "\u001b[1m41/41\u001b[0m \u001b[32m━━━━━━━━━━━━━━━━━━━━\u001b[0m\u001b[37m\u001b[0m \u001b[1m1s\u001b[0m 19ms/step - accuracy: 0.8001 - loss: 0.4831 - val_accuracy: 0.8251 - val_loss: 0.4707\n",
            "Epoch 26/1000\n",
            "\u001b[1m40/41\u001b[0m \u001b[32m━━━━━━━━━━━━━━━━━━━\u001b[0m\u001b[37m━\u001b[0m \u001b[1m0s\u001b[0m 15ms/step - accuracy: 0.8174 - loss: 0.4707\n",
            "Epoch 26: val_loss did not improve from 0.47072\n",
            "\u001b[1m41/41\u001b[0m \u001b[32m━━━━━━━━━━━━━━━━━━━━\u001b[0m\u001b[37m\u001b[0m \u001b[1m1s\u001b[0m 19ms/step - accuracy: 0.8169 - loss: 0.4711 - val_accuracy: 0.8105 - val_loss: 0.4724\n",
            "Epoch 27/1000\n",
            "\u001b[1m40/41\u001b[0m \u001b[32m━━━━━━━━━━━━━━━━━━━\u001b[0m\u001b[37m━\u001b[0m \u001b[1m0s\u001b[0m 15ms/step - accuracy: 0.8178 - loss: 0.4583\n",
            "Epoch 27: val_loss improved from 0.47072 to 0.45548, saving model to /content/keypoint_classifier.keras\n",
            "\u001b[1m41/41\u001b[0m \u001b[32m━━━━━━━━━━━━━━━━━━━━\u001b[0m\u001b[37m\u001b[0m \u001b[1m1s\u001b[0m 20ms/step - accuracy: 0.8179 - loss: 0.4579 - val_accuracy: 0.8292 - val_loss: 0.4555\n",
            "Epoch 28/1000\n",
            "\u001b[1m38/41\u001b[0m \u001b[32m━━━━━━━━━━━━━━━━━━\u001b[0m\u001b[37m━━\u001b[0m \u001b[1m0s\u001b[0m 15ms/step - accuracy: 0.8330 - loss: 0.4333\n",
            "Epoch 28: val_loss improved from 0.45548 to 0.45297, saving model to /content/keypoint_classifier.keras\n",
            "\u001b[1m41/41\u001b[0m \u001b[32m━━━━━━━━━━━━━━━━━━━━\u001b[0m\u001b[37m\u001b[0m \u001b[1m1s\u001b[0m 21ms/step - accuracy: 0.8321 - loss: 0.4351 - val_accuracy: 0.8315 - val_loss: 0.4530\n",
            "Epoch 29/1000\n",
            "\u001b[1m41/41\u001b[0m \u001b[32m━━━━━━━━━━━━━━━━━━━━\u001b[0m\u001b[37m\u001b[0m \u001b[1m0s\u001b[0m 25ms/step - accuracy: 0.8234 - loss: 0.4511\n",
            "Epoch 29: val_loss improved from 0.45297 to 0.44310, saving model to /content/keypoint_classifier.keras\n",
            "\u001b[1m41/41\u001b[0m \u001b[32m━━━━━━━━━━━━━━━━━━━━\u001b[0m\u001b[37m\u001b[0m \u001b[1m2s\u001b[0m 32ms/step - accuracy: 0.8234 - loss: 0.4509 - val_accuracy: 0.8175 - val_loss: 0.4431\n",
            "Epoch 30/1000\n",
            "\u001b[1m40/41\u001b[0m \u001b[32m━━━━━━━━━━━━━━━━━━━\u001b[0m\u001b[37m━\u001b[0m \u001b[1m0s\u001b[0m 21ms/step - accuracy: 0.8335 - loss: 0.4219\n",
            "Epoch 30: val_loss did not improve from 0.44310\n",
            "\u001b[1m41/41\u001b[0m \u001b[32m━━━━━━━━━━━━━━━━━━━━\u001b[0m\u001b[37m\u001b[0m \u001b[1m1s\u001b[0m 25ms/step - accuracy: 0.8333 - loss: 0.4225 - val_accuracy: 0.7977 - val_loss: 0.5090\n",
            "Epoch 31/1000\n",
            "\u001b[1m40/41\u001b[0m \u001b[32m━━━━━━━━━━━━━━━━━━━\u001b[0m\u001b[37m━\u001b[0m \u001b[1m0s\u001b[0m 14ms/step - accuracy: 0.8106 - loss: 0.4607\n",
            "Epoch 31: val_loss did not improve from 0.44310\n",
            "\u001b[1m41/41\u001b[0m \u001b[32m━━━━━━━━━━━━━━━━━━━━\u001b[0m\u001b[37m\u001b[0m \u001b[1m1s\u001b[0m 17ms/step - accuracy: 0.8113 - loss: 0.4592 - val_accuracy: 0.8251 - val_loss: 0.4611\n",
            "Epoch 32/1000\n",
            "\u001b[1m40/41\u001b[0m \u001b[32m━━━━━━━━━━━━━━━━━━━\u001b[0m\u001b[37m━\u001b[0m \u001b[1m0s\u001b[0m 15ms/step - accuracy: 0.8208 - loss: 0.4351\n",
            "Epoch 32: val_loss improved from 0.44310 to 0.40527, saving model to /content/keypoint_classifier.keras\n",
            "\u001b[1m41/41\u001b[0m \u001b[32m━━━━━━━━━━━━━━━━━━━━\u001b[0m\u001b[37m\u001b[0m \u001b[1m1s\u001b[0m 20ms/step - accuracy: 0.8212 - loss: 0.4346 - val_accuracy: 0.8373 - val_loss: 0.4053\n",
            "Epoch 33/1000\n",
            "\u001b[1m40/41\u001b[0m \u001b[32m━━━━━━━━━━━━━━━━━━━\u001b[0m\u001b[37m━\u001b[0m \u001b[1m0s\u001b[0m 15ms/step - accuracy: 0.8229 - loss: 0.4273\n",
            "Epoch 33: val_loss did not improve from 0.40527\n",
            "\u001b[1m41/41\u001b[0m \u001b[32m━━━━━━━━━━━━━━━━━━━━\u001b[0m\u001b[37m\u001b[0m \u001b[1m1s\u001b[0m 19ms/step - accuracy: 0.8236 - loss: 0.4263 - val_accuracy: 0.8338 - val_loss: 0.4293\n",
            "Epoch 34/1000\n",
            "\u001b[1m40/41\u001b[0m \u001b[32m━━━━━━━━━━━━━━━━━━━\u001b[0m\u001b[37m━\u001b[0m \u001b[1m0s\u001b[0m 15ms/step - accuracy: 0.8400 - loss: 0.4050\n",
            "Epoch 34: val_loss did not improve from 0.40527\n",
            "\u001b[1m41/41\u001b[0m \u001b[32m━━━━━━━━━━━━━━━━━━━━\u001b[0m\u001b[37m\u001b[0m \u001b[1m1s\u001b[0m 19ms/step - accuracy: 0.8399 - loss: 0.4052 - val_accuracy: 0.8338 - val_loss: 0.4130\n",
            "Epoch 35/1000\n",
            "\u001b[1m40/41\u001b[0m \u001b[32m━━━━━━━━━━━━━━━━━━━\u001b[0m\u001b[37m━\u001b[0m \u001b[1m0s\u001b[0m 15ms/step - accuracy: 0.8386 - loss: 0.4003\n",
            "Epoch 35: val_loss did not improve from 0.40527\n",
            "\u001b[1m41/41\u001b[0m \u001b[32m━━━━━━━━━━━━━━━━━━━━\u001b[0m\u001b[37m\u001b[0m \u001b[1m1s\u001b[0m 19ms/step - accuracy: 0.8385 - loss: 0.4001 - val_accuracy: 0.8041 - val_loss: 0.4727\n",
            "Epoch 36/1000\n",
            "\u001b[1m41/41\u001b[0m \u001b[32m━━━━━━━━━━━━━━━━━━━━\u001b[0m\u001b[37m\u001b[0m \u001b[1m0s\u001b[0m 15ms/step - accuracy: 0.8275 - loss: 0.4128\n",
            "Epoch 36: val_loss did not improve from 0.40527\n",
            "\u001b[1m41/41\u001b[0m \u001b[32m━━━━━━━━━━━━━━━━━━━━\u001b[0m\u001b[37m\u001b[0m \u001b[1m1s\u001b[0m 18ms/step - accuracy: 0.8278 - loss: 0.4123 - val_accuracy: 0.8117 - val_loss: 0.4296\n",
            "Epoch 37/1000\n",
            "\u001b[1m37/41\u001b[0m \u001b[32m━━━━━━━━━━━━━━━━━━\u001b[0m\u001b[37m━━\u001b[0m \u001b[1m0s\u001b[0m 14ms/step - accuracy: 0.8278 - loss: 0.4242\n",
            "Epoch 37: val_loss did not improve from 0.40527\n",
            "\u001b[1m41/41\u001b[0m \u001b[32m━━━━━━━━━━━━━━━━━━━━\u001b[0m\u001b[37m\u001b[0m \u001b[1m1s\u001b[0m 19ms/step - accuracy: 0.8293 - loss: 0.4206 - val_accuracy: 0.8367 - val_loss: 0.4233\n",
            "Epoch 38/1000\n",
            "\u001b[1m37/41\u001b[0m \u001b[32m━━━━━━━━━━━━━━━━━━\u001b[0m\u001b[37m━━\u001b[0m \u001b[1m0s\u001b[0m 14ms/step - accuracy: 0.8428 - loss: 0.3921\n",
            "Epoch 38: val_loss did not improve from 0.40527\n",
            "\u001b[1m41/41\u001b[0m \u001b[32m━━━━━━━━━━━━━━━━━━━━\u001b[0m\u001b[37m\u001b[0m \u001b[1m1s\u001b[0m 17ms/step - accuracy: 0.8436 - loss: 0.3905 - val_accuracy: 0.8093 - val_loss: 0.4634\n",
            "Epoch 39/1000\n",
            "\u001b[1m37/41\u001b[0m \u001b[32m━━━━━━━━━━━━━━━━━━\u001b[0m\u001b[37m━━\u001b[0m \u001b[1m0s\u001b[0m 14ms/step - accuracy: 0.8571 - loss: 0.3580\n",
            "Epoch 39: val_loss did not improve from 0.40527\n",
            "\u001b[1m41/41\u001b[0m \u001b[32m━━━━━━━━━━━━━━━━━━━━\u001b[0m\u001b[37m\u001b[0m \u001b[1m1s\u001b[0m 19ms/step - accuracy: 0.8567 - loss: 0.3594 - val_accuracy: 0.8210 - val_loss: 0.4452\n",
            "Epoch 40/1000\n",
            "\u001b[1m37/41\u001b[0m \u001b[32m━━━━━━━━━━━━━━━━━━\u001b[0m\u001b[37m━━\u001b[0m \u001b[1m0s\u001b[0m 14ms/step - accuracy: 0.8372 - loss: 0.3939\n",
            "Epoch 40: val_loss did not improve from 0.40527\n",
            "\u001b[1m41/41\u001b[0m \u001b[32m━━━━━━━━━━━━━━━━━━━━\u001b[0m\u001b[37m\u001b[0m \u001b[1m1s\u001b[0m 17ms/step - accuracy: 0.8396 - loss: 0.3895 - val_accuracy: 0.8303 - val_loss: 0.4166\n",
            "Epoch 41/1000\n",
            "\u001b[1m40/41\u001b[0m \u001b[32m━━━━━━━━━━━━━━━━━━━\u001b[0m\u001b[37m━\u001b[0m \u001b[1m0s\u001b[0m 17ms/step - accuracy: 0.8432 - loss: 0.3728\n",
            "Epoch 41: val_loss improved from 0.40527 to 0.38974, saving model to /content/keypoint_classifier.keras\n",
            "\u001b[1m41/41\u001b[0m \u001b[32m━━━━━━━━━━━━━━━━━━━━\u001b[0m\u001b[37m\u001b[0m \u001b[1m1s\u001b[0m 23ms/step - accuracy: 0.8437 - loss: 0.3720 - val_accuracy: 0.8536 - val_loss: 0.3897\n",
            "Epoch 42/1000\n",
            "\u001b[1m40/41\u001b[0m \u001b[32m━━━━━━━━━━━━━━━━━━━\u001b[0m\u001b[37m━\u001b[0m \u001b[1m0s\u001b[0m 25ms/step - accuracy: 0.8524 - loss: 0.3631\n",
            "Epoch 42: val_loss improved from 0.38974 to 0.38644, saving model to /content/keypoint_classifier.keras\n",
            "\u001b[1m41/41\u001b[0m \u001b[32m━━━━━━━━━━━━━━━━━━━━\u001b[0m\u001b[37m\u001b[0m \u001b[1m1s\u001b[0m 35ms/step - accuracy: 0.8524 - loss: 0.3631 - val_accuracy: 0.8478 - val_loss: 0.3864\n",
            "Epoch 43/1000\n",
            "\u001b[1m37/41\u001b[0m \u001b[32m━━━━━━━━━━━━━━━━━━\u001b[0m\u001b[37m━━\u001b[0m \u001b[1m0s\u001b[0m 13ms/step - accuracy: 0.8642 - loss: 0.3337\n",
            "Epoch 43: val_loss did not improve from 0.38644\n",
            "\u001b[1m41/41\u001b[0m \u001b[32m━━━━━━━━━━━━━━━━━━━━\u001b[0m\u001b[37m\u001b[0m \u001b[1m2s\u001b[0m 16ms/step - accuracy: 0.8641 - loss: 0.3340 - val_accuracy: 0.8303 - val_loss: 0.4119\n",
            "Epoch 44/1000\n",
            "\u001b[1m40/41\u001b[0m \u001b[32m━━━━━━━━━━━━━━━━━━━\u001b[0m\u001b[37m━\u001b[0m \u001b[1m0s\u001b[0m 14ms/step - accuracy: 0.8455 - loss: 0.3704\n",
            "Epoch 44: val_loss improved from 0.38644 to 0.34933, saving model to /content/keypoint_classifier.keras\n",
            "\u001b[1m41/41\u001b[0m \u001b[32m━━━━━━━━━━━━━━━━━━━━\u001b[0m\u001b[37m\u001b[0m \u001b[1m1s\u001b[0m 19ms/step - accuracy: 0.8460 - loss: 0.3693 - val_accuracy: 0.8653 - val_loss: 0.3493\n",
            "Epoch 45/1000\n",
            "\u001b[1m41/41\u001b[0m \u001b[32m━━━━━━━━━━━━━━━━━━━━\u001b[0m\u001b[37m\u001b[0m \u001b[1m0s\u001b[0m 14ms/step - accuracy: 0.8682 - loss: 0.3333\n",
            "Epoch 45: val_loss improved from 0.34933 to 0.33506, saving model to /content/keypoint_classifier.keras\n",
            "\u001b[1m41/41\u001b[0m \u001b[32m━━━━━━━━━━━━━━━━━━━━\u001b[0m\u001b[37m\u001b[0m \u001b[1m1s\u001b[0m 20ms/step - accuracy: 0.8683 - loss: 0.3330 - val_accuracy: 0.8706 - val_loss: 0.3351\n",
            "Epoch 46/1000\n",
            "\u001b[1m41/41\u001b[0m \u001b[32m━━━━━━━━━━━━━━━━━━━━\u001b[0m\u001b[37m\u001b[0m \u001b[1m0s\u001b[0m 14ms/step - accuracy: 0.8801 - loss: 0.3054\n",
            "Epoch 46: val_loss did not improve from 0.33506\n",
            "\u001b[1m41/41\u001b[0m \u001b[32m━━━━━━━━━━━━━━━━━━━━\u001b[0m\u001b[37m\u001b[0m \u001b[1m1s\u001b[0m 18ms/step - accuracy: 0.8801 - loss: 0.3055 - val_accuracy: 0.8216 - val_loss: 0.4603\n",
            "Epoch 47/1000\n",
            "\u001b[1m37/41\u001b[0m \u001b[32m━━━━━━━━━━━━━━━━━━\u001b[0m\u001b[37m━━\u001b[0m \u001b[1m0s\u001b[0m 15ms/step - accuracy: 0.8478 - loss: 0.3602\n",
            "Epoch 47: val_loss did not improve from 0.33506\n",
            "\u001b[1m41/41\u001b[0m \u001b[32m━━━━━━━━━━━━━━━━━━━━\u001b[0m\u001b[37m\u001b[0m \u001b[1m1s\u001b[0m 18ms/step - accuracy: 0.8491 - loss: 0.3584 - val_accuracy: 0.8606 - val_loss: 0.3480\n",
            "Epoch 48/1000\n",
            "\u001b[1m40/41\u001b[0m \u001b[32m━━━━━━━━━━━━━━━━━━━\u001b[0m\u001b[37m━\u001b[0m \u001b[1m0s\u001b[0m 15ms/step - accuracy: 0.8620 - loss: 0.3229\n",
            "Epoch 48: val_loss improved from 0.33506 to 0.33503, saving model to /content/keypoint_classifier.keras\n",
            "\u001b[1m41/41\u001b[0m \u001b[32m━━━━━━━━━━━━━━━━━━━━\u001b[0m\u001b[37m\u001b[0m \u001b[1m1s\u001b[0m 19ms/step - accuracy: 0.8625 - loss: 0.3223 - val_accuracy: 0.8636 - val_loss: 0.3350\n",
            "Epoch 49/1000\n",
            "\u001b[1m40/41\u001b[0m \u001b[32m━━━━━━━━━━━━━━━━━━━\u001b[0m\u001b[37m━\u001b[0m \u001b[1m0s\u001b[0m 15ms/step - accuracy: 0.8612 - loss: 0.3346\n",
            "Epoch 49: val_loss did not improve from 0.33503\n",
            "\u001b[1m41/41\u001b[0m \u001b[32m━━━━━━━━━━━━━━━━━━━━\u001b[0m\u001b[37m\u001b[0m \u001b[1m1s\u001b[0m 19ms/step - accuracy: 0.8615 - loss: 0.3341 - val_accuracy: 0.8694 - val_loss: 0.3376\n",
            "Epoch 50/1000\n",
            "\u001b[1m37/41\u001b[0m \u001b[32m━━━━━━━━━━━━━━━━━━\u001b[0m\u001b[37m━━\u001b[0m \u001b[1m0s\u001b[0m 14ms/step - accuracy: 0.8687 - loss: 0.3161\n",
            "Epoch 50: val_loss improved from 0.33503 to 0.32326, saving model to /content/keypoint_classifier.keras\n",
            "\u001b[1m41/41\u001b[0m \u001b[32m━━━━━━━━━━━━━━━━━━━━\u001b[0m\u001b[37m\u001b[0m \u001b[1m1s\u001b[0m 20ms/step - accuracy: 0.8683 - loss: 0.3166 - val_accuracy: 0.8746 - val_loss: 0.3233\n",
            "Epoch 51/1000\n",
            "\u001b[1m38/41\u001b[0m \u001b[32m━━━━━━━━━━━━━━━━━━\u001b[0m\u001b[37m━━\u001b[0m \u001b[1m0s\u001b[0m 15ms/step - accuracy: 0.8720 - loss: 0.3182\n",
            "Epoch 51: val_loss improved from 0.32326 to 0.30091, saving model to /content/keypoint_classifier.keras\n",
            "\u001b[1m41/41\u001b[0m \u001b[32m━━━━━━━━━━━━━━━━━━━━\u001b[0m\u001b[37m\u001b[0m \u001b[1m1s\u001b[0m 20ms/step - accuracy: 0.8721 - loss: 0.3179 - val_accuracy: 0.8822 - val_loss: 0.3009\n",
            "Epoch 52/1000\n",
            "\u001b[1m40/41\u001b[0m \u001b[32m━━━━━━━━━━━━━━━━━━━\u001b[0m\u001b[37m━\u001b[0m \u001b[1m0s\u001b[0m 27ms/step - accuracy: 0.8835 - loss: 0.2791\n",
            "Epoch 52: val_loss did not improve from 0.30091\n",
            "\u001b[1m41/41\u001b[0m \u001b[32m━━━━━━━━━━━━━━━━━━━━\u001b[0m\u001b[37m\u001b[0m \u001b[1m2s\u001b[0m 36ms/step - accuracy: 0.8834 - loss: 0.2794 - val_accuracy: 0.8636 - val_loss: 0.3341\n",
            "Epoch 53/1000\n",
            "\u001b[1m38/41\u001b[0m \u001b[32m━━━━━━━━━━━━━━━━━━\u001b[0m\u001b[37m━━\u001b[0m \u001b[1m0s\u001b[0m 21ms/step - accuracy: 0.8921 - loss: 0.2826\n",
            "Epoch 53: val_loss did not improve from 0.30091\n",
            "\u001b[1m41/41\u001b[0m \u001b[32m━━━━━━━━━━━━━━━━━━━━\u001b[0m\u001b[37m\u001b[0m \u001b[1m1s\u001b[0m 25ms/step - accuracy: 0.8915 - loss: 0.2826 - val_accuracy: 0.8618 - val_loss: 0.3292\n",
            "Epoch 54/1000\n",
            "\u001b[1m41/41\u001b[0m \u001b[32m━━━━━━━━━━━━━━━━━━━━\u001b[0m\u001b[37m\u001b[0m \u001b[1m0s\u001b[0m 14ms/step - accuracy: 0.8863 - loss: 0.2800\n",
            "Epoch 54: val_loss improved from 0.30091 to 0.28278, saving model to /content/keypoint_classifier.keras\n",
            "\u001b[1m41/41\u001b[0m \u001b[32m━━━━━━━━━━━━━━━━━━━━\u001b[0m\u001b[37m\u001b[0m \u001b[1m1s\u001b[0m 20ms/step - accuracy: 0.8863 - loss: 0.2801 - val_accuracy: 0.8898 - val_loss: 0.2828\n",
            "Epoch 55/1000\n",
            "\u001b[1m39/41\u001b[0m \u001b[32m━━━━━━━━━━━━━━━━━━━\u001b[0m\u001b[37m━\u001b[0m \u001b[1m0s\u001b[0m 15ms/step - accuracy: 0.8992 - loss: 0.2613\n",
            "Epoch 55: val_loss did not improve from 0.28278\n",
            "\u001b[1m41/41\u001b[0m \u001b[32m━━━━━━━━━━━━━━━━━━━━\u001b[0m\u001b[37m\u001b[0m \u001b[1m1s\u001b[0m 18ms/step - accuracy: 0.8981 - loss: 0.2631 - val_accuracy: 0.8262 - val_loss: 0.3981\n",
            "Epoch 56/1000\n",
            "\u001b[1m37/41\u001b[0m \u001b[32m━━━━━━━━━━━━━━━━━━\u001b[0m\u001b[37m━━\u001b[0m \u001b[1m0s\u001b[0m 15ms/step - accuracy: 0.8844 - loss: 0.2998\n",
            "Epoch 56: val_loss did not improve from 0.28278\n",
            "\u001b[1m41/41\u001b[0m \u001b[32m━━━━━━━━━━━━━━━━━━━━\u001b[0m\u001b[37m\u001b[0m \u001b[1m1s\u001b[0m 18ms/step - accuracy: 0.8848 - loss: 0.2974 - val_accuracy: 0.8717 - val_loss: 0.3213\n",
            "Epoch 57/1000\n",
            "\u001b[1m37/41\u001b[0m \u001b[32m━━━━━━━━━━━━━━━━━━\u001b[0m\u001b[37m━━\u001b[0m \u001b[1m0s\u001b[0m 16ms/step - accuracy: 0.8961 - loss: 0.2604\n",
            "Epoch 57: val_loss did not improve from 0.28278\n",
            "\u001b[1m41/41\u001b[0m \u001b[32m━━━━━━━━━━━━━━━━━━━━\u001b[0m\u001b[37m\u001b[0m \u001b[1m1s\u001b[0m 19ms/step - accuracy: 0.8962 - loss: 0.2608 - val_accuracy: 0.8694 - val_loss: 0.3091\n",
            "Epoch 58/1000\n",
            "\u001b[1m37/41\u001b[0m \u001b[32m━━━━━━━━━━━━━━━━━━\u001b[0m\u001b[37m━━\u001b[0m \u001b[1m0s\u001b[0m 14ms/step - accuracy: 0.8832 - loss: 0.2840\n",
            "Epoch 58: val_loss improved from 0.28278 to 0.28070, saving model to /content/keypoint_classifier.keras\n",
            "\u001b[1m41/41\u001b[0m \u001b[32m━━━━━━━━━━━━━━━━━━━━\u001b[0m\u001b[37m\u001b[0m \u001b[1m1s\u001b[0m 20ms/step - accuracy: 0.8836 - loss: 0.2831 - val_accuracy: 0.8945 - val_loss: 0.2807\n",
            "Epoch 59/1000\n",
            "\u001b[1m39/41\u001b[0m \u001b[32m━━━━━━━━━━━━━━━━━━━\u001b[0m\u001b[37m━\u001b[0m \u001b[1m0s\u001b[0m 15ms/step - accuracy: 0.8927 - loss: 0.2659\n",
            "Epoch 59: val_loss improved from 0.28070 to 0.26533, saving model to /content/keypoint_classifier.keras\n",
            "\u001b[1m41/41\u001b[0m \u001b[32m━━━━━━━━━━━━━━━━━━━━\u001b[0m\u001b[37m\u001b[0m \u001b[1m1s\u001b[0m 19ms/step - accuracy: 0.8927 - loss: 0.2657 - val_accuracy: 0.8945 - val_loss: 0.2653\n",
            "Epoch 60/1000\n",
            "\u001b[1m37/41\u001b[0m \u001b[32m━━━━━━━━━━━━━━━━━━\u001b[0m\u001b[37m━━\u001b[0m \u001b[1m0s\u001b[0m 15ms/step - accuracy: 0.8973 - loss: 0.2512\n",
            "Epoch 60: val_loss did not improve from 0.26533\n",
            "\u001b[1m41/41\u001b[0m \u001b[32m━━━━━━━━━━━━━━━━━━━━\u001b[0m\u001b[37m\u001b[0m \u001b[1m1s\u001b[0m 19ms/step - accuracy: 0.8980 - loss: 0.2503 - val_accuracy: 0.8577 - val_loss: 0.3415\n",
            "Epoch 61/1000\n",
            "\u001b[1m40/41\u001b[0m \u001b[32m━━━━━━━━━━━━━━━━━━━\u001b[0m\u001b[37m━\u001b[0m \u001b[1m0s\u001b[0m 15ms/step - accuracy: 0.8886 - loss: 0.2654\n",
            "Epoch 61: val_loss improved from 0.26533 to 0.26301, saving model to /content/keypoint_classifier.keras\n",
            "\u001b[1m41/41\u001b[0m \u001b[32m━━━━━━━━━━━━━━━━━━━━\u001b[0m\u001b[37m\u001b[0m \u001b[1m1s\u001b[0m 20ms/step - accuracy: 0.8887 - loss: 0.2652 - val_accuracy: 0.8985 - val_loss: 0.2630\n",
            "Epoch 62/1000\n",
            "\u001b[1m37/41\u001b[0m \u001b[32m━━━━━━━━━━━━━━━━━━\u001b[0m\u001b[37m━━\u001b[0m \u001b[1m0s\u001b[0m 15ms/step - accuracy: 0.9006 - loss: 0.2464\n",
            "Epoch 62: val_loss did not improve from 0.26301\n",
            "\u001b[1m41/41\u001b[0m \u001b[32m━━━━━━━━━━━━━━━━━━━━\u001b[0m\u001b[37m\u001b[0m \u001b[1m1s\u001b[0m 19ms/step - accuracy: 0.9012 - loss: 0.2457 - val_accuracy: 0.9009 - val_loss: 0.2633\n",
            "Epoch 63/1000\n",
            "\u001b[1m40/41\u001b[0m \u001b[32m━━━━━━━━━━━━━━━━━━━\u001b[0m\u001b[37m━\u001b[0m \u001b[1m0s\u001b[0m 23ms/step - accuracy: 0.9065 - loss: 0.2339\n",
            "Epoch 63: val_loss improved from 0.26301 to 0.25221, saving model to /content/keypoint_classifier.keras\n",
            "\u001b[1m41/41\u001b[0m \u001b[32m━━━━━━━━━━━━━━━━━━━━\u001b[0m\u001b[37m\u001b[0m \u001b[1m1s\u001b[0m 33ms/step - accuracy: 0.9064 - loss: 0.2341 - val_accuracy: 0.9015 - val_loss: 0.2522\n",
            "Epoch 64/1000\n",
            "\u001b[1m40/41\u001b[0m \u001b[32m━━━━━━━━━━━━━━━━━━━\u001b[0m\u001b[37m━\u001b[0m \u001b[1m0s\u001b[0m 27ms/step - accuracy: 0.9066 - loss: 0.2335\n",
            "Epoch 64: val_loss did not improve from 0.25221\n",
            "\u001b[1m41/41\u001b[0m \u001b[32m━━━━━━━━━━━━━━━━━━━━\u001b[0m\u001b[37m\u001b[0m \u001b[1m1s\u001b[0m 33ms/step - accuracy: 0.9066 - loss: 0.2337 - val_accuracy: 0.8630 - val_loss: 0.3449\n",
            "Epoch 65/1000\n",
            "\u001b[1m37/41\u001b[0m \u001b[32m━━━━━━━━━━━━━━━━━━\u001b[0m\u001b[37m━━\u001b[0m \u001b[1m0s\u001b[0m 14ms/step - accuracy: 0.8999 - loss: 0.2568\n",
            "Epoch 65: val_loss did not improve from 0.25221\n",
            "\u001b[1m41/41\u001b[0m \u001b[32m━━━━━━━━━━━━━━━━━━━━\u001b[0m\u001b[37m\u001b[0m \u001b[1m2s\u001b[0m 17ms/step - accuracy: 0.8993 - loss: 0.2575 - val_accuracy: 0.8787 - val_loss: 0.2989\n",
            "Epoch 66/1000\n",
            "\u001b[1m40/41\u001b[0m \u001b[32m━━━━━━━━━━━━━━━━━━━\u001b[0m\u001b[37m━\u001b[0m \u001b[1m0s\u001b[0m 15ms/step - accuracy: 0.8961 - loss: 0.2587\n",
            "Epoch 66: val_loss improved from 0.25221 to 0.24580, saving model to /content/keypoint_classifier.keras\n",
            "\u001b[1m41/41\u001b[0m \u001b[32m━━━━━━━━━━━━━━━━━━━━\u001b[0m\u001b[37m\u001b[0m \u001b[1m1s\u001b[0m 19ms/step - accuracy: 0.8964 - loss: 0.2578 - val_accuracy: 0.8980 - val_loss: 0.2458\n",
            "Epoch 67/1000\n",
            "\u001b[1m40/41\u001b[0m \u001b[32m━━━━━━━━━━━━━━━━━━━\u001b[0m\u001b[37m━\u001b[0m \u001b[1m0s\u001b[0m 15ms/step - accuracy: 0.9057 - loss: 0.2374\n",
            "Epoch 67: val_loss improved from 0.24580 to 0.23741, saving model to /content/keypoint_classifier.keras\n",
            "\u001b[1m41/41\u001b[0m \u001b[32m━━━━━━━━━━━━━━━━━━━━\u001b[0m\u001b[37m\u001b[0m \u001b[1m1s\u001b[0m 19ms/step - accuracy: 0.9057 - loss: 0.2373 - val_accuracy: 0.9114 - val_loss: 0.2374\n",
            "Epoch 68/1000\n",
            "\u001b[1m40/41\u001b[0m \u001b[32m━━━━━━━━━━━━━━━━━━━\u001b[0m\u001b[37m━\u001b[0m \u001b[1m0s\u001b[0m 15ms/step - accuracy: 0.9193 - loss: 0.2125\n",
            "Epoch 68: val_loss did not improve from 0.23741\n",
            "\u001b[1m41/41\u001b[0m \u001b[32m━━━━━━━━━━━━━━━━━━━━\u001b[0m\u001b[37m\u001b[0m \u001b[1m1s\u001b[0m 20ms/step - accuracy: 0.9192 - loss: 0.2127 - val_accuracy: 0.9026 - val_loss: 0.2543\n",
            "Epoch 69/1000\n",
            "\u001b[1m40/41\u001b[0m \u001b[32m━━━━━━━━━━━━━━━━━━━\u001b[0m\u001b[37m━\u001b[0m \u001b[1m0s\u001b[0m 14ms/step - accuracy: 0.9101 - loss: 0.2251\n",
            "Epoch 69: val_loss did not improve from 0.23741\n",
            "\u001b[1m41/41\u001b[0m \u001b[32m━━━━━━━━━━━━━━━━━━━━\u001b[0m\u001b[37m\u001b[0m \u001b[1m1s\u001b[0m 18ms/step - accuracy: 0.9099 - loss: 0.2253 - val_accuracy: 0.8962 - val_loss: 0.2602\n",
            "Epoch 70/1000\n",
            "\u001b[1m40/41\u001b[0m \u001b[32m━━━━━━━━━━━━━━━━━━━\u001b[0m\u001b[37m━\u001b[0m \u001b[1m0s\u001b[0m 15ms/step - accuracy: 0.8950 - loss: 0.2511\n",
            "Epoch 70: val_loss did not improve from 0.23741\n",
            "\u001b[1m41/41\u001b[0m \u001b[32m━━━━━━━━━━━━━━━━━━━━\u001b[0m\u001b[37m\u001b[0m \u001b[1m1s\u001b[0m 18ms/step - accuracy: 0.8952 - loss: 0.2508 - val_accuracy: 0.8927 - val_loss: 0.2539\n",
            "Epoch 71/1000\n",
            "\u001b[1m37/41\u001b[0m \u001b[32m━━━━━━━━━━━━━━━━━━\u001b[0m\u001b[37m━━\u001b[0m \u001b[1m0s\u001b[0m 15ms/step - accuracy: 0.9234 - loss: 0.1945\n",
            "Epoch 71: val_loss did not improve from 0.23741\n",
            "\u001b[1m41/41\u001b[0m \u001b[32m━━━━━━━━━━━━━━━━━━━━\u001b[0m\u001b[37m\u001b[0m \u001b[1m1s\u001b[0m 19ms/step - accuracy: 0.9229 - loss: 0.1958 - val_accuracy: 0.8641 - val_loss: 0.3419\n",
            "Epoch 72/1000\n",
            "\u001b[1m38/41\u001b[0m \u001b[32m━━━━━━━━━━━━━━━━━━\u001b[0m\u001b[37m━━\u001b[0m \u001b[1m0s\u001b[0m 15ms/step - accuracy: 0.9062 - loss: 0.2313\n",
            "Epoch 72: val_loss improved from 0.23741 to 0.22795, saving model to /content/keypoint_classifier.keras\n",
            "\u001b[1m41/41\u001b[0m \u001b[32m━━━━━━━━━━━━━━━━━━━━\u001b[0m\u001b[37m\u001b[0m \u001b[1m1s\u001b[0m 20ms/step - accuracy: 0.9068 - loss: 0.2302 - val_accuracy: 0.9026 - val_loss: 0.2280\n",
            "Epoch 73/1000\n",
            "\u001b[1m39/41\u001b[0m \u001b[32m━━━━━━━━━━━━━━━━━━━\u001b[0m\u001b[37m━\u001b[0m \u001b[1m0s\u001b[0m 24ms/step - accuracy: 0.9064 - loss: 0.2268\n",
            "Epoch 73: val_loss did not improve from 0.22795\n",
            "\u001b[1m41/41\u001b[0m \u001b[32m━━━━━━━━━━━━━━━━━━━━\u001b[0m\u001b[37m\u001b[0m \u001b[1m1s\u001b[0m 33ms/step - accuracy: 0.9068 - loss: 0.2261 - val_accuracy: 0.8939 - val_loss: 0.2483\n",
            "Epoch 74/1000\n",
            "\u001b[1m37/41\u001b[0m \u001b[32m━━━━━━━━━━━━━━━━━━\u001b[0m\u001b[37m━━\u001b[0m \u001b[1m0s\u001b[0m 15ms/step - accuracy: 0.8932 - loss: 0.2617\n",
            "Epoch 74: val_loss did not improve from 0.22795\n",
            "\u001b[1m41/41\u001b[0m \u001b[32m━━━━━━━━━━━━━━━━━━━━\u001b[0m\u001b[37m\u001b[0m \u001b[1m2s\u001b[0m 19ms/step - accuracy: 0.8941 - loss: 0.2595 - val_accuracy: 0.9149 - val_loss: 0.2329\n",
            "Epoch 75/1000\n",
            "\u001b[1m37/41\u001b[0m \u001b[32m━━━━━━━━━━━━━━━━━━\u001b[0m\u001b[37m━━\u001b[0m \u001b[1m0s\u001b[0m 15ms/step - accuracy: 0.9192 - loss: 0.2009\n",
            "Epoch 75: val_loss did not improve from 0.22795\n",
            "\u001b[1m41/41\u001b[0m \u001b[32m━━━━━━━━━━━━━━━━━━━━\u001b[0m\u001b[37m\u001b[0m \u001b[1m1s\u001b[0m 19ms/step - accuracy: 0.9191 - loss: 0.2012 - val_accuracy: 0.8950 - val_loss: 0.2804\n",
            "Epoch 76/1000\n",
            "\u001b[1m39/41\u001b[0m \u001b[32m━━━━━━━━━━━━━━━━━━━\u001b[0m\u001b[37m━\u001b[0m \u001b[1m0s\u001b[0m 15ms/step - accuracy: 0.9118 - loss: 0.2220\n",
            "Epoch 76: val_loss did not improve from 0.22795\n",
            "\u001b[1m41/41\u001b[0m \u001b[32m━━━━━━━━━━━━━━━━━━━━\u001b[0m\u001b[37m\u001b[0m \u001b[1m1s\u001b[0m 19ms/step - accuracy: 0.9120 - loss: 0.2215 - val_accuracy: 0.9102 - val_loss: 0.2288\n",
            "Epoch 77/1000\n",
            "\u001b[1m39/41\u001b[0m \u001b[32m━━━━━━━━━━━━━━━━━━━\u001b[0m\u001b[37m━\u001b[0m \u001b[1m0s\u001b[0m 15ms/step - accuracy: 0.9184 - loss: 0.2042\n",
            "Epoch 77: val_loss did not improve from 0.22795\n",
            "\u001b[1m41/41\u001b[0m \u001b[32m━━━━━━━━━━━━━━━━━━━━\u001b[0m\u001b[37m\u001b[0m \u001b[1m1s\u001b[0m 19ms/step - accuracy: 0.9187 - loss: 0.2039 - val_accuracy: 0.9055 - val_loss: 0.2424\n",
            "Epoch 78/1000\n",
            "\u001b[1m40/41\u001b[0m \u001b[32m━━━━━━━━━━━━━━━━━━━\u001b[0m\u001b[37m━\u001b[0m \u001b[1m0s\u001b[0m 15ms/step - accuracy: 0.9075 - loss: 0.2210\n",
            "Epoch 78: val_loss improved from 0.22795 to 0.21858, saving model to /content/keypoint_classifier.keras\n",
            "\u001b[1m41/41\u001b[0m \u001b[32m━━━━━━━━━━━━━━━━━━━━\u001b[0m\u001b[37m\u001b[0m \u001b[1m1s\u001b[0m 21ms/step - accuracy: 0.9078 - loss: 0.2205 - val_accuracy: 0.9149 - val_loss: 0.2186\n",
            "Epoch 79/1000\n",
            "\u001b[1m39/41\u001b[0m \u001b[32m━━━━━━━━━━━━━━━━━━━\u001b[0m\u001b[37m━\u001b[0m \u001b[1m0s\u001b[0m 15ms/step - accuracy: 0.9168 - loss: 0.2021\n",
            "Epoch 79: val_loss did not improve from 0.21858\n",
            "\u001b[1m41/41\u001b[0m \u001b[32m━━━━━━━━━━━━━━━━━━━━\u001b[0m\u001b[37m\u001b[0m \u001b[1m1s\u001b[0m 20ms/step - accuracy: 0.9170 - loss: 0.2019 - val_accuracy: 0.8810 - val_loss: 0.2968\n",
            "Epoch 80/1000\n",
            "\u001b[1m40/41\u001b[0m \u001b[32m━━━━━━━━━━━━━━━━━━━\u001b[0m\u001b[37m━\u001b[0m \u001b[1m0s\u001b[0m 15ms/step - accuracy: 0.9141 - loss: 0.2074\n",
            "Epoch 80: val_loss improved from 0.21858 to 0.21456, saving model to /content/keypoint_classifier.keras\n",
            "\u001b[1m41/41\u001b[0m \u001b[32m━━━━━━━━━━━━━━━━━━━━\u001b[0m\u001b[37m\u001b[0m \u001b[1m1s\u001b[0m 19ms/step - accuracy: 0.9145 - loss: 0.2068 - val_accuracy: 0.9166 - val_loss: 0.2146\n",
            "Epoch 81/1000\n",
            "\u001b[1m39/41\u001b[0m \u001b[32m━━━━━━━━━━━━━━━━━━━\u001b[0m\u001b[37m━\u001b[0m \u001b[1m0s\u001b[0m 15ms/step - accuracy: 0.9258 - loss: 0.1971\n",
            "Epoch 81: val_loss did not improve from 0.21456\n",
            "\u001b[1m41/41\u001b[0m \u001b[32m━━━━━━━━━━━━━━━━━━━━\u001b[0m\u001b[37m\u001b[0m \u001b[1m1s\u001b[0m 20ms/step - accuracy: 0.9257 - loss: 0.1969 - val_accuracy: 0.9044 - val_loss: 0.2436\n",
            "Epoch 82/1000\n",
            "\u001b[1m38/41\u001b[0m \u001b[32m━━━━━━━━━━━━━━━━━━\u001b[0m\u001b[37m━━\u001b[0m \u001b[1m0s\u001b[0m 17ms/step - accuracy: 0.9238 - loss: 0.1878\n",
            "Epoch 82: val_loss improved from 0.21456 to 0.20315, saving model to /content/keypoint_classifier.keras\n",
            "\u001b[1m41/41\u001b[0m \u001b[32m━━━━━━━━━━━━━━━━━━━━\u001b[0m\u001b[37m\u001b[0m \u001b[1m1s\u001b[0m 22ms/step - accuracy: 0.9232 - loss: 0.1893 - val_accuracy: 0.9259 - val_loss: 0.2031\n",
            "Epoch 83/1000\n",
            "\u001b[1m39/41\u001b[0m \u001b[32m━━━━━━━━━━━━━━━━━━━\u001b[0m\u001b[37m━\u001b[0m \u001b[1m0s\u001b[0m 25ms/step - accuracy: 0.9335 - loss: 0.1735\n",
            "Epoch 83: val_loss did not improve from 0.20315\n",
            "\u001b[1m41/41\u001b[0m \u001b[32m━━━━━━━━━━━━━━━━━━━━\u001b[0m\u001b[37m\u001b[0m \u001b[1m2s\u001b[0m 34ms/step - accuracy: 0.9329 - loss: 0.1747 - val_accuracy: 0.9155 - val_loss: 0.2247\n",
            "Epoch 84/1000\n",
            "\u001b[1m40/41\u001b[0m \u001b[32m━━━━━━━━━━━━━━━━━━━\u001b[0m\u001b[37m━\u001b[0m \u001b[1m0s\u001b[0m 18ms/step - accuracy: 0.9146 - loss: 0.2098\n",
            "Epoch 84: val_loss did not improve from 0.20315\n",
            "\u001b[1m41/41\u001b[0m \u001b[32m━━━━━━━━━━━━━━━━━━━━\u001b[0m\u001b[37m\u001b[0m \u001b[1m2s\u001b[0m 22ms/step - accuracy: 0.9150 - loss: 0.2090 - val_accuracy: 0.9015 - val_loss: 0.2579\n",
            "Epoch 85/1000\n",
            "\u001b[1m40/41\u001b[0m \u001b[32m━━━━━━━━━━━━━━━━━━━\u001b[0m\u001b[37m━\u001b[0m \u001b[1m0s\u001b[0m 16ms/step - accuracy: 0.9197 - loss: 0.2011\n",
            "Epoch 85: val_loss did not improve from 0.20315\n",
            "\u001b[1m41/41\u001b[0m \u001b[32m━━━━━━━━━━━━━━━━━━━━\u001b[0m\u001b[37m\u001b[0m \u001b[1m1s\u001b[0m 19ms/step - accuracy: 0.9198 - loss: 0.2010 - val_accuracy: 0.9079 - val_loss: 0.2457\n",
            "Epoch 86/1000\n",
            "\u001b[1m40/41\u001b[0m \u001b[32m━━━━━━━━━━━━━━━━━━━\u001b[0m\u001b[37m━\u001b[0m \u001b[1m0s\u001b[0m 15ms/step - accuracy: 0.9175 - loss: 0.2050\n",
            "Epoch 86: val_loss did not improve from 0.20315\n",
            "\u001b[1m41/41\u001b[0m \u001b[32m━━━━━━━━━━━━━━━━━━━━\u001b[0m\u001b[37m\u001b[0m \u001b[1m1s\u001b[0m 18ms/step - accuracy: 0.9175 - loss: 0.2050 - val_accuracy: 0.8915 - val_loss: 0.2682\n",
            "Epoch 87/1000\n",
            "\u001b[1m39/41\u001b[0m \u001b[32m━━━━━━━━━━━━━━━━━━━\u001b[0m\u001b[37m━\u001b[0m \u001b[1m0s\u001b[0m 16ms/step - accuracy: 0.9125 - loss: 0.2202\n",
            "Epoch 87: val_loss improved from 0.20315 to 0.20138, saving model to /content/keypoint_classifier.keras\n",
            "\u001b[1m41/41\u001b[0m \u001b[32m━━━━━━━━━━━━━━━━━━━━\u001b[0m\u001b[37m\u001b[0m \u001b[1m1s\u001b[0m 20ms/step - accuracy: 0.9130 - loss: 0.2192 - val_accuracy: 0.9195 - val_loss: 0.2014\n",
            "Epoch 88/1000\n",
            "\u001b[1m41/41\u001b[0m \u001b[32m━━━━━━━━━━━━━━━━━━━━\u001b[0m\u001b[37m\u001b[0m \u001b[1m0s\u001b[0m 15ms/step - accuracy: 0.9272 - loss: 0.1868\n",
            "Epoch 88: val_loss did not improve from 0.20138\n",
            "\u001b[1m41/41\u001b[0m \u001b[32m━━━━━━━━━━━━━━━━━━━━\u001b[0m\u001b[37m\u001b[0m \u001b[1m1s\u001b[0m 18ms/step - accuracy: 0.9272 - loss: 0.1869 - val_accuracy: 0.9038 - val_loss: 0.2193\n",
            "Epoch 89/1000\n",
            "\u001b[1m37/41\u001b[0m \u001b[32m━━━━━━━━━━━━━━━━━━\u001b[0m\u001b[37m━━\u001b[0m \u001b[1m0s\u001b[0m 16ms/step - accuracy: 0.9324 - loss: 0.1772\n",
            "Epoch 89: val_loss did not improve from 0.20138\n",
            "\u001b[1m41/41\u001b[0m \u001b[32m━━━━━━━━━━━━━━━━━━━━\u001b[0m\u001b[37m\u001b[0m \u001b[1m1s\u001b[0m 20ms/step - accuracy: 0.9321 - loss: 0.1777 - val_accuracy: 0.9125 - val_loss: 0.2258\n",
            "Epoch 90/1000\n",
            "\u001b[1m40/41\u001b[0m \u001b[32m━━━━━━━━━━━━━━━━━━━\u001b[0m\u001b[37m━\u001b[0m \u001b[1m0s\u001b[0m 16ms/step - accuracy: 0.9278 - loss: 0.1853\n",
            "Epoch 90: val_loss did not improve from 0.20138\n",
            "\u001b[1m41/41\u001b[0m \u001b[32m━━━━━━━━━━━━━━━━━━━━\u001b[0m\u001b[37m\u001b[0m \u001b[1m1s\u001b[0m 19ms/step - accuracy: 0.9281 - loss: 0.1849 - val_accuracy: 0.9090 - val_loss: 0.2124\n",
            "Epoch 91/1000\n",
            "\u001b[1m40/41\u001b[0m \u001b[32m━━━━━━━━━━━━━━━━━━━\u001b[0m\u001b[37m━\u001b[0m \u001b[1m0s\u001b[0m 15ms/step - accuracy: 0.9163 - loss: 0.2029\n",
            "Epoch 91: val_loss improved from 0.20138 to 0.19816, saving model to /content/keypoint_classifier.keras\n",
            "\u001b[1m41/41\u001b[0m \u001b[32m━━━━━━━━━━━━━━━━━━━━\u001b[0m\u001b[37m\u001b[0m \u001b[1m1s\u001b[0m 21ms/step - accuracy: 0.9166 - loss: 0.2023 - val_accuracy: 0.9201 - val_loss: 0.1982\n",
            "Epoch 92/1000\n",
            "\u001b[1m41/41\u001b[0m \u001b[32m━━━━━━━━━━━━━━━━━━━━\u001b[0m\u001b[37m\u001b[0m \u001b[1m0s\u001b[0m 14ms/step - accuracy: 0.9310 - loss: 0.1794\n",
            "Epoch 92: val_loss did not improve from 0.19816\n",
            "\u001b[1m41/41\u001b[0m \u001b[32m━━━━━━━━━━━━━━━━━━━━\u001b[0m\u001b[37m\u001b[0m \u001b[1m1s\u001b[0m 18ms/step - accuracy: 0.9311 - loss: 0.1792 - val_accuracy: 0.9131 - val_loss: 0.2185\n",
            "Epoch 93/1000\n",
            "\u001b[1m40/41\u001b[0m \u001b[32m━━━━━━━━━━━━━━━━━━━\u001b[0m\u001b[37m━\u001b[0m \u001b[1m0s\u001b[0m 15ms/step - accuracy: 0.9337 - loss: 0.1610\n",
            "Epoch 93: val_loss did not improve from 0.19816\n",
            "\u001b[1m41/41\u001b[0m \u001b[32m━━━━━━━━━━━━━━━━━━━━\u001b[0m\u001b[37m\u001b[0m \u001b[1m1s\u001b[0m 19ms/step - accuracy: 0.9339 - loss: 0.1609 - val_accuracy: 0.9149 - val_loss: 0.2173\n",
            "Epoch 94/1000\n",
            "\u001b[1m41/41\u001b[0m \u001b[32m━━━━━━━━━━━━━━━━━━━━\u001b[0m\u001b[37m\u001b[0m \u001b[1m0s\u001b[0m 25ms/step - accuracy: 0.9316 - loss: 0.1710\n",
            "Epoch 94: val_loss did not improve from 0.19816\n",
            "\u001b[1m41/41\u001b[0m \u001b[32m━━━━━━━━━━━━━━━━━━━━\u001b[0m\u001b[37m\u001b[0m \u001b[1m2s\u001b[0m 30ms/step - accuracy: 0.9316 - loss: 0.1711 - val_accuracy: 0.9032 - val_loss: 0.2560\n",
            "Epoch 95/1000\n",
            "\u001b[1m40/41\u001b[0m \u001b[32m━━━━━━━━━━━━━━━━━━━\u001b[0m\u001b[37m━\u001b[0m \u001b[1m0s\u001b[0m 15ms/step - accuracy: 0.9339 - loss: 0.1790\n",
            "Epoch 95: val_loss did not improve from 0.19816\n",
            "\u001b[1m41/41\u001b[0m \u001b[32m━━━━━━━━━━━━━━━━━━━━\u001b[0m\u001b[37m\u001b[0m \u001b[1m2s\u001b[0m 19ms/step - accuracy: 0.9338 - loss: 0.1789 - val_accuracy: 0.9125 - val_loss: 0.2096\n",
            "Epoch 96/1000\n",
            "\u001b[1m41/41\u001b[0m \u001b[32m━━━━━━━━━━━━━━━━━━━━\u001b[0m\u001b[37m\u001b[0m \u001b[1m0s\u001b[0m 15ms/step - accuracy: 0.9347 - loss: 0.1741\n",
            "Epoch 96: val_loss improved from 0.19816 to 0.18835, saving model to /content/keypoint_classifier.keras\n",
            "\u001b[1m41/41\u001b[0m \u001b[32m━━━━━━━━━━━━━━━━━━━━\u001b[0m\u001b[37m\u001b[0m \u001b[1m1s\u001b[0m 22ms/step - accuracy: 0.9346 - loss: 0.1741 - val_accuracy: 0.9318 - val_loss: 0.1884\n",
            "Epoch 97/1000\n",
            "\u001b[1m39/41\u001b[0m \u001b[32m━━━━━━━━━━━━━━━━━━━\u001b[0m\u001b[37m━\u001b[0m \u001b[1m0s\u001b[0m 16ms/step - accuracy: 0.9351 - loss: 0.1808\n",
            "Epoch 97: val_loss improved from 0.18835 to 0.18599, saving model to /content/keypoint_classifier.keras\n",
            "\u001b[1m41/41\u001b[0m \u001b[32m━━━━━━━━━━━━━━━━━━━━\u001b[0m\u001b[37m\u001b[0m \u001b[1m1s\u001b[0m 21ms/step - accuracy: 0.9354 - loss: 0.1799 - val_accuracy: 0.9259 - val_loss: 0.1860\n",
            "Epoch 98/1000\n",
            "\u001b[1m37/41\u001b[0m \u001b[32m━━━━━━━━━━━━━━━━━━\u001b[0m\u001b[37m━━\u001b[0m \u001b[1m0s\u001b[0m 22ms/step - accuracy: 0.9367 - loss: 0.1629\n",
            "Epoch 98: val_loss improved from 0.18599 to 0.18431, saving model to /content/keypoint_classifier.keras\n",
            "\u001b[1m41/41\u001b[0m \u001b[32m━━━━━━━━━━━━━━━━━━━━\u001b[0m\u001b[37m\u001b[0m \u001b[1m2s\u001b[0m 27ms/step - accuracy: 0.9367 - loss: 0.1632 - val_accuracy: 0.9300 - val_loss: 0.1843\n",
            "Epoch 99/1000\n",
            "\u001b[1m37/41\u001b[0m \u001b[32m━━━━━━━━━━━━━━━━━━\u001b[0m\u001b[37m━━\u001b[0m \u001b[1m0s\u001b[0m 15ms/step - accuracy: 0.9408 - loss: 0.1520\n",
            "Epoch 99: val_loss did not improve from 0.18431\n",
            "\u001b[1m41/41\u001b[0m \u001b[32m━━━━━━━━━━━━━━━━━━━━\u001b[0m\u001b[37m\u001b[0m \u001b[1m1s\u001b[0m 19ms/step - accuracy: 0.9401 - loss: 0.1532 - val_accuracy: 0.9201 - val_loss: 0.2102\n",
            "Epoch 100/1000\n",
            "\u001b[1m39/41\u001b[0m \u001b[32m━━━━━━━━━━━━━━━━━━━\u001b[0m\u001b[37m━\u001b[0m \u001b[1m0s\u001b[0m 16ms/step - accuracy: 0.9281 - loss: 0.1832\n",
            "Epoch 100: val_loss did not improve from 0.18431\n",
            "\u001b[1m41/41\u001b[0m \u001b[32m━━━━━━━━━━━━━━━━━━━━\u001b[0m\u001b[37m\u001b[0m \u001b[1m1s\u001b[0m 19ms/step - accuracy: 0.9285 - loss: 0.1824 - val_accuracy: 0.9178 - val_loss: 0.1863\n",
            "Epoch 101/1000\n",
            "\u001b[1m41/41\u001b[0m \u001b[32m━━━━━━━━━━━━━━━━━━━━\u001b[0m\u001b[37m\u001b[0m \u001b[1m0s\u001b[0m 16ms/step - accuracy: 0.9391 - loss: 0.1535\n",
            "Epoch 101: val_loss did not improve from 0.18431\n",
            "\u001b[1m41/41\u001b[0m \u001b[32m━━━━━━━━━━━━━━━━━━━━\u001b[0m\u001b[37m\u001b[0m \u001b[1m1s\u001b[0m 19ms/step - accuracy: 0.9391 - loss: 0.1535 - val_accuracy: 0.9178 - val_loss: 0.1887\n",
            "Epoch 102/1000\n",
            "\u001b[1m40/41\u001b[0m \u001b[32m━━━━━━━━━━━━━━━━━━━\u001b[0m\u001b[37m━\u001b[0m \u001b[1m0s\u001b[0m 15ms/step - accuracy: 0.9458 - loss: 0.1469\n",
            "Epoch 102: val_loss did not improve from 0.18431\n",
            "\u001b[1m41/41\u001b[0m \u001b[32m━━━━━━━━━━━━━━━━━━━━\u001b[0m\u001b[37m\u001b[0m \u001b[1m1s\u001b[0m 20ms/step - accuracy: 0.9456 - loss: 0.1471 - val_accuracy: 0.9230 - val_loss: 0.1958\n",
            "Epoch 103/1000\n",
            "\u001b[1m39/41\u001b[0m \u001b[32m━━━━━━━━━━━━━━━━━━━\u001b[0m\u001b[37m━\u001b[0m \u001b[1m0s\u001b[0m 24ms/step - accuracy: 0.9366 - loss: 0.1627\n",
            "Epoch 103: val_loss did not improve from 0.18431\n",
            "\u001b[1m41/41\u001b[0m \u001b[32m━━━━━━━━━━━━━━━━━━━━\u001b[0m\u001b[37m\u001b[0m \u001b[1m2s\u001b[0m 33ms/step - accuracy: 0.9367 - loss: 0.1625 - val_accuracy: 0.9061 - val_loss: 0.2315\n",
            "Epoch 104/1000\n",
            "\u001b[1m40/41\u001b[0m \u001b[32m━━━━━━━━━━━━━━━━━━━\u001b[0m\u001b[37m━\u001b[0m \u001b[1m0s\u001b[0m 25ms/step - accuracy: 0.9328 - loss: 0.1723\n",
            "Epoch 104: val_loss did not improve from 0.18431\n",
            "\u001b[1m41/41\u001b[0m \u001b[32m━━━━━━━━━━━━━━━━━━━━\u001b[0m\u001b[37m\u001b[0m \u001b[1m1s\u001b[0m 35ms/step - accuracy: 0.9330 - loss: 0.1720 - val_accuracy: 0.9259 - val_loss: 0.1940\n",
            "Epoch 105/1000\n",
            "\u001b[1m40/41\u001b[0m \u001b[32m━━━━━━━━━━━━━━━━━━━\u001b[0m\u001b[37m━\u001b[0m \u001b[1m0s\u001b[0m 16ms/step - accuracy: 0.9362 - loss: 0.1581\n",
            "Epoch 105: val_loss did not improve from 0.18431\n",
            "\u001b[1m41/41\u001b[0m \u001b[32m━━━━━━━━━━━━━━━━━━━━\u001b[0m\u001b[37m\u001b[0m \u001b[1m1s\u001b[0m 20ms/step - accuracy: 0.9360 - loss: 0.1586 - val_accuracy: 0.9224 - val_loss: 0.1992\n",
            "Epoch 106/1000\n",
            "\u001b[1m39/41\u001b[0m \u001b[32m━━━━━━━━━━━━━━━━━━━\u001b[0m\u001b[37m━\u001b[0m \u001b[1m0s\u001b[0m 17ms/step - accuracy: 0.9171 - loss: 0.2052\n",
            "Epoch 106: val_loss did not improve from 0.18431\n",
            "\u001b[1m41/41\u001b[0m \u001b[32m━━━━━━━━━━━━━━━━━━━━\u001b[0m\u001b[37m\u001b[0m \u001b[1m1s\u001b[0m 22ms/step - accuracy: 0.9176 - loss: 0.2047 - val_accuracy: 0.9166 - val_loss: 0.2302\n",
            "Epoch 107/1000\n",
            "\u001b[1m41/41\u001b[0m \u001b[32m━━━━━━━━━━━━━━━━━━━━\u001b[0m\u001b[37m\u001b[0m \u001b[1m0s\u001b[0m 16ms/step - accuracy: 0.9015 - loss: 0.2600\n",
            "Epoch 107: val_loss did not improve from 0.18431\n",
            "\u001b[1m41/41\u001b[0m \u001b[32m━━━━━━━━━━━━━━━━━━━━\u001b[0m\u001b[37m\u001b[0m \u001b[1m1s\u001b[0m 19ms/step - accuracy: 0.9017 - loss: 0.2593 - val_accuracy: 0.9125 - val_loss: 0.2126\n",
            "Epoch 108/1000\n",
            "\u001b[1m40/41\u001b[0m \u001b[32m━━━━━━━━━━━━━━━━━━━\u001b[0m\u001b[37m━\u001b[0m \u001b[1m0s\u001b[0m 15ms/step - accuracy: 0.9084 - loss: 0.2200\n",
            "Epoch 108: val_loss did not improve from 0.18431\n",
            "\u001b[1m41/41\u001b[0m \u001b[32m━━━━━━━━━━━━━━━━━━━━\u001b[0m\u001b[37m\u001b[0m \u001b[1m1s\u001b[0m 20ms/step - accuracy: 0.9089 - loss: 0.2189 - val_accuracy: 0.9009 - val_loss: 0.2620\n",
            "Epoch 109/1000\n",
            "\u001b[1m39/41\u001b[0m \u001b[32m━━━━━━━━━━━━━━━━━━━\u001b[0m\u001b[37m━\u001b[0m \u001b[1m0s\u001b[0m 20ms/step - accuracy: 0.9258 - loss: 0.1875\n",
            "Epoch 109: val_loss did not improve from 0.18431\n",
            "\u001b[1m41/41\u001b[0m \u001b[32m━━━━━━━━━━━━━━━━━━━━\u001b[0m\u001b[37m\u001b[0m \u001b[1m1s\u001b[0m 25ms/step - accuracy: 0.9264 - loss: 0.1864 - val_accuracy: 0.9207 - val_loss: 0.2090\n",
            "Epoch 110/1000\n",
            "\u001b[1m39/41\u001b[0m \u001b[32m━━━━━━━━━━━━━━━━━━━\u001b[0m\u001b[37m━\u001b[0m \u001b[1m0s\u001b[0m 27ms/step - accuracy: 0.9354 - loss: 0.1654\n",
            "Epoch 110: val_loss did not improve from 0.18431\n",
            "\u001b[1m41/41\u001b[0m \u001b[32m━━━━━━━━━━━━━━━━━━━━\u001b[0m\u001b[37m\u001b[0m \u001b[1m1s\u001b[0m 32ms/step - accuracy: 0.9352 - loss: 0.1656 - val_accuracy: 0.9230 - val_loss: 0.1998\n",
            "Epoch 111/1000\n",
            "\u001b[1m39/41\u001b[0m \u001b[32m━━━━━━━━━━━━━━━━━━━\u001b[0m\u001b[37m━\u001b[0m \u001b[1m0s\u001b[0m 15ms/step - accuracy: 0.9268 - loss: 0.1787\n",
            "Epoch 111: val_loss did not improve from 0.18431\n",
            "\u001b[1m41/41\u001b[0m \u001b[32m━━━━━━━━━━━━━━━━━━━━\u001b[0m\u001b[37m\u001b[0m \u001b[1m2s\u001b[0m 20ms/step - accuracy: 0.9275 - loss: 0.1773 - val_accuracy: 0.9277 - val_loss: 0.1857\n",
            "Epoch 112/1000\n",
            "\u001b[1m39/41\u001b[0m \u001b[32m━━━━━━━━━━━━━━━━━━━\u001b[0m\u001b[37m━\u001b[0m \u001b[1m0s\u001b[0m 15ms/step - accuracy: 0.9380 - loss: 0.1567\n",
            "Epoch 112: val_loss improved from 0.18431 to 0.16515, saving model to /content/keypoint_classifier.keras\n",
            "\u001b[1m41/41\u001b[0m \u001b[32m━━━━━━━━━━━━━━━━━━━━\u001b[0m\u001b[37m\u001b[0m \u001b[1m1s\u001b[0m 21ms/step - accuracy: 0.9381 - loss: 0.1566 - val_accuracy: 0.9405 - val_loss: 0.1652\n",
            "Epoch 113/1000\n",
            "\u001b[1m41/41\u001b[0m \u001b[32m━━━━━━━━━━━━━━━━━━━━\u001b[0m\u001b[37m\u001b[0m \u001b[1m0s\u001b[0m 25ms/step - accuracy: 0.9475 - loss: 0.1313\n",
            "Epoch 113: val_loss improved from 0.16515 to 0.16342, saving model to /content/keypoint_classifier.keras\n",
            "\u001b[1m41/41\u001b[0m \u001b[32m━━━━━━━━━━━━━━━━━━━━\u001b[0m\u001b[37m\u001b[0m \u001b[1m2s\u001b[0m 31ms/step - accuracy: 0.9476 - loss: 0.1314 - val_accuracy: 0.9329 - val_loss: 0.1634\n",
            "Epoch 114/1000\n",
            "\u001b[1m39/41\u001b[0m \u001b[32m━━━━━━━━━━━━━━━━━━━\u001b[0m\u001b[37m━\u001b[0m \u001b[1m0s\u001b[0m 26ms/step - accuracy: 0.9443 - loss: 0.1345\n",
            "Epoch 114: val_loss did not improve from 0.16342\n",
            "\u001b[1m41/41\u001b[0m \u001b[32m━━━━━━━━━━━━━━━━━━━━\u001b[0m\u001b[37m\u001b[0m \u001b[1m1s\u001b[0m 31ms/step - accuracy: 0.9443 - loss: 0.1347 - val_accuracy: 0.9294 - val_loss: 0.1710\n",
            "Epoch 115/1000\n",
            "\u001b[1m37/41\u001b[0m \u001b[32m━━━━━━━━━━━━━━━━━━\u001b[0m\u001b[37m━━\u001b[0m \u001b[1m0s\u001b[0m 19ms/step - accuracy: 0.9546 - loss: 0.1278\n",
            "Epoch 115: val_loss did not improve from 0.16342\n",
            "\u001b[1m41/41\u001b[0m \u001b[32m━━━━━━━━━━━━━━━━━━━━\u001b[0m\u001b[37m\u001b[0m \u001b[1m1s\u001b[0m 22ms/step - accuracy: 0.9542 - loss: 0.1287 - val_accuracy: 0.9172 - val_loss: 0.2160\n",
            "Epoch 116/1000\n",
            "\u001b[1m40/41\u001b[0m \u001b[32m━━━━━━━━━━━━━━━━━━━\u001b[0m\u001b[37m━\u001b[0m \u001b[1m0s\u001b[0m 15ms/step - accuracy: 0.9192 - loss: 0.2091\n",
            "Epoch 116: val_loss did not improve from 0.16342\n",
            "\u001b[1m41/41\u001b[0m \u001b[32m━━━━━━━━━━━━━━━━━━━━\u001b[0m\u001b[37m\u001b[0m \u001b[1m1s\u001b[0m 20ms/step - accuracy: 0.9196 - loss: 0.2082 - val_accuracy: 0.9283 - val_loss: 0.2002\n",
            "Epoch 117/1000\n",
            "\u001b[1m40/41\u001b[0m \u001b[32m━━━━━━━━━━━━━━━━━━━\u001b[0m\u001b[37m━\u001b[0m \u001b[1m0s\u001b[0m 16ms/step - accuracy: 0.9310 - loss: 0.1679\n",
            "Epoch 117: val_loss did not improve from 0.16342\n",
            "\u001b[1m41/41\u001b[0m \u001b[32m━━━━━━━━━━━━━━━━━━━━\u001b[0m\u001b[37m\u001b[0m \u001b[1m1s\u001b[0m 20ms/step - accuracy: 0.9311 - loss: 0.1677 - val_accuracy: 0.9242 - val_loss: 0.1800\n",
            "Epoch 118/1000\n",
            "\u001b[1m39/41\u001b[0m \u001b[32m━━━━━━━━━━━━━━━━━━━\u001b[0m\u001b[37m━\u001b[0m \u001b[1m0s\u001b[0m 15ms/step - accuracy: 0.9440 - loss: 0.1526\n",
            "Epoch 118: val_loss did not improve from 0.16342\n",
            "\u001b[1m41/41\u001b[0m \u001b[32m━━━━━━━━━━━━━━━━━━━━\u001b[0m\u001b[37m\u001b[0m \u001b[1m1s\u001b[0m 19ms/step - accuracy: 0.9438 - loss: 0.1527 - val_accuracy: 0.9236 - val_loss: 0.2137\n",
            "Epoch 119/1000\n",
            "\u001b[1m40/41\u001b[0m \u001b[32m━━━━━━━━━━━━━━━━━━━\u001b[0m\u001b[37m━\u001b[0m \u001b[1m0s\u001b[0m 14ms/step - accuracy: 0.9444 - loss: 0.1489\n",
            "Epoch 119: val_loss did not improve from 0.16342\n",
            "\u001b[1m41/41\u001b[0m \u001b[32m━━━━━━━━━━━━━━━━━━━━\u001b[0m\u001b[37m\u001b[0m \u001b[1m1s\u001b[0m 17ms/step - accuracy: 0.9442 - loss: 0.1489 - val_accuracy: 0.8799 - val_loss: 0.3218\n",
            "Epoch 120/1000\n",
            "\u001b[1m39/41\u001b[0m \u001b[32m━━━━━━━━━━━━━━━━━━━\u001b[0m\u001b[37m━\u001b[0m \u001b[1m0s\u001b[0m 15ms/step - accuracy: 0.9180 - loss: 0.2156\n",
            "Epoch 120: val_loss did not improve from 0.16342\n",
            "\u001b[1m41/41\u001b[0m \u001b[32m━━━━━━━━━━━━━━━━━━━━\u001b[0m\u001b[37m\u001b[0m \u001b[1m1s\u001b[0m 19ms/step - accuracy: 0.9187 - loss: 0.2134 - val_accuracy: 0.9026 - val_loss: 0.2508\n",
            "Epoch 121/1000\n",
            "\u001b[1m40/41\u001b[0m \u001b[32m━━━━━━━━━━━━━━━━━━━\u001b[0m\u001b[37m━\u001b[0m \u001b[1m0s\u001b[0m 14ms/step - accuracy: 0.9386 - loss: 0.1593\n",
            "Epoch 121: val_loss did not improve from 0.16342\n",
            "\u001b[1m41/41\u001b[0m \u001b[32m━━━━━━━━━━━━━━━━━━━━\u001b[0m\u001b[37m\u001b[0m \u001b[1m1s\u001b[0m 19ms/step - accuracy: 0.9389 - loss: 0.1584 - val_accuracy: 0.9335 - val_loss: 0.1800\n",
            "Epoch 122/1000\n",
            "\u001b[1m38/41\u001b[0m \u001b[32m━━━━━━━━━━━━━━━━━━\u001b[0m\u001b[37m━━\u001b[0m \u001b[1m0s\u001b[0m 15ms/step - accuracy: 0.9461 - loss: 0.1358\n",
            "Epoch 122: val_loss did not improve from 0.16342\n",
            "\u001b[1m41/41\u001b[0m \u001b[32m━━━━━━━━━━━━━━━━━━━━\u001b[0m\u001b[37m\u001b[0m \u001b[1m1s\u001b[0m 19ms/step - accuracy: 0.9461 - loss: 0.1359 - val_accuracy: 0.9335 - val_loss: 0.1769\n",
            "Epoch 123/1000\n",
            "\u001b[1m40/41\u001b[0m \u001b[32m━━━━━━━━━━━━━━━━━━━\u001b[0m\u001b[37m━\u001b[0m \u001b[1m0s\u001b[0m 15ms/step - accuracy: 0.9316 - loss: 0.1693\n",
            "Epoch 123: val_loss did not improve from 0.16342\n",
            "\u001b[1m41/41\u001b[0m \u001b[32m━━━━━━━━━━━━━━━━━━━━\u001b[0m\u001b[37m\u001b[0m \u001b[1m1s\u001b[0m 20ms/step - accuracy: 0.9315 - loss: 0.1699 - val_accuracy: 0.9254 - val_loss: 0.1940\n",
            "Epoch 124/1000\n",
            "\u001b[1m38/41\u001b[0m \u001b[32m━━━━━━━━━━━━━━━━━━\u001b[0m\u001b[37m━━\u001b[0m \u001b[1m0s\u001b[0m 15ms/step - accuracy: 0.9279 - loss: 0.1791\n",
            "Epoch 124: val_loss did not improve from 0.16342\n",
            "\u001b[1m41/41\u001b[0m \u001b[32m━━━━━━━━━━━━━━━━━━━━\u001b[0m\u001b[37m\u001b[0m \u001b[1m1s\u001b[0m 19ms/step - accuracy: 0.9285 - loss: 0.1777 - val_accuracy: 0.9265 - val_loss: 0.1999\n",
            "Epoch 125/1000\n",
            "\u001b[1m40/41\u001b[0m \u001b[32m━━━━━━━━━━━━━━━━━━━\u001b[0m\u001b[37m━\u001b[0m \u001b[1m0s\u001b[0m 25ms/step - accuracy: 0.9403 - loss: 0.1609\n",
            "Epoch 125: val_loss did not improve from 0.16342\n",
            "\u001b[1m41/41\u001b[0m \u001b[32m━━━━━━━━━━━━━━━━━━━━\u001b[0m\u001b[37m\u001b[0m \u001b[1m1s\u001b[0m 30ms/step - accuracy: 0.9402 - loss: 0.1609 - val_accuracy: 0.9178 - val_loss: 0.2024\n",
            "Epoch 126/1000\n",
            "\u001b[1m37/41\u001b[0m \u001b[32m━━━━━━━━━━━━━━━━━━\u001b[0m\u001b[37m━━\u001b[0m \u001b[1m0s\u001b[0m 15ms/step - accuracy: 0.9436 - loss: 0.1425\n",
            "Epoch 126: val_loss did not improve from 0.16342\n",
            "\u001b[1m41/41\u001b[0m \u001b[32m━━━━━━━━━━━━━━━━━━━━\u001b[0m\u001b[37m\u001b[0m \u001b[1m2s\u001b[0m 19ms/step - accuracy: 0.9439 - loss: 0.1420 - val_accuracy: 0.9201 - val_loss: 0.2079\n",
            "Epoch 127/1000\n",
            "\u001b[1m39/41\u001b[0m \u001b[32m━━━━━━━━━━━━━━━━━━━\u001b[0m\u001b[37m━\u001b[0m \u001b[1m0s\u001b[0m 16ms/step - accuracy: 0.9421 - loss: 0.1449\n",
            "Epoch 127: val_loss did not improve from 0.16342\n",
            "\u001b[1m41/41\u001b[0m \u001b[32m━━━━━━━━━━━━━━━━━━━━\u001b[0m\u001b[37m\u001b[0m \u001b[1m1s\u001b[0m 20ms/step - accuracy: 0.9424 - loss: 0.1441 - val_accuracy: 0.9277 - val_loss: 0.1779\n",
            "Epoch 128/1000\n",
            "\u001b[1m39/41\u001b[0m \u001b[32m━━━━━━━━━━━━━━━━━━━\u001b[0m\u001b[37m━\u001b[0m \u001b[1m0s\u001b[0m 15ms/step - accuracy: 0.9426 - loss: 0.1465\n",
            "Epoch 128: val_loss did not improve from 0.16342\n",
            "\u001b[1m41/41\u001b[0m \u001b[32m━━━━━━━━━━━━━━━━━━━━\u001b[0m\u001b[37m\u001b[0m \u001b[1m1s\u001b[0m 19ms/step - accuracy: 0.9420 - loss: 0.1478 - val_accuracy: 0.9248 - val_loss: 0.2101\n",
            "Epoch 129/1000\n",
            "\u001b[1m40/41\u001b[0m \u001b[32m━━━━━━━━━━━━━━━━━━━\u001b[0m\u001b[37m━\u001b[0m \u001b[1m0s\u001b[0m 15ms/step - accuracy: 0.9392 - loss: 0.1520\n",
            "Epoch 129: val_loss did not improve from 0.16342\n",
            "\u001b[1m41/41\u001b[0m \u001b[32m━━━━━━━━━━━━━━━━━━━━\u001b[0m\u001b[37m\u001b[0m \u001b[1m1s\u001b[0m 18ms/step - accuracy: 0.9394 - loss: 0.1515 - val_accuracy: 0.9259 - val_loss: 0.1945\n",
            "Epoch 130/1000\n",
            "\u001b[1m39/41\u001b[0m \u001b[32m━━━━━━━━━━━━━━━━━━━\u001b[0m\u001b[37m━\u001b[0m \u001b[1m0s\u001b[0m 15ms/step - accuracy: 0.9444 - loss: 0.1340\n",
            "Epoch 130: val_loss did not improve from 0.16342\n",
            "\u001b[1m41/41\u001b[0m \u001b[32m━━━━━━━━━━━━━━━━━━━━\u001b[0m\u001b[37m\u001b[0m \u001b[1m1s\u001b[0m 19ms/step - accuracy: 0.9450 - loss: 0.1332 - val_accuracy: 0.9318 - val_loss: 0.1723\n",
            "Epoch 131/1000\n",
            "\u001b[1m39/41\u001b[0m \u001b[32m━━━━━━━━━━━━━━━━━━━\u001b[0m\u001b[37m━\u001b[0m \u001b[1m0s\u001b[0m 15ms/step - accuracy: 0.9527 - loss: 0.1259\n",
            "Epoch 131: val_loss improved from 0.16342 to 0.15689, saving model to /content/keypoint_classifier.keras\n",
            "\u001b[1m41/41\u001b[0m \u001b[32m━━━━━━━━━━━━━━━━━━━━\u001b[0m\u001b[37m\u001b[0m \u001b[1m1s\u001b[0m 21ms/step - accuracy: 0.9530 - loss: 0.1254 - val_accuracy: 0.9423 - val_loss: 0.1569\n",
            "Epoch 132/1000\n",
            "\u001b[1m41/41\u001b[0m \u001b[32m━━━━━━━━━━━━━━━━━━━━\u001b[0m\u001b[37m\u001b[0m \u001b[1m0s\u001b[0m 16ms/step - accuracy: 0.9571 - loss: 0.1249\n",
            "Epoch 132: val_loss did not improve from 0.15689\n",
            "\u001b[1m41/41\u001b[0m \u001b[32m━━━━━━━━━━━━━━━━━━━━\u001b[0m\u001b[37m\u001b[0m \u001b[1m1s\u001b[0m 19ms/step - accuracy: 0.9571 - loss: 0.1248 - val_accuracy: 0.9382 - val_loss: 0.1585\n",
            "Epoch 133/1000\n",
            "\u001b[1m41/41\u001b[0m \u001b[32m━━━━━━━━━━━━━━━━━━━━\u001b[0m\u001b[37m\u001b[0m \u001b[1m0s\u001b[0m 15ms/step - accuracy: 0.9559 - loss: 0.1158\n",
            "Epoch 133: val_loss did not improve from 0.15689\n",
            "\u001b[1m41/41\u001b[0m \u001b[32m━━━━━━━━━━━━━━━━━━━━\u001b[0m\u001b[37m\u001b[0m \u001b[1m1s\u001b[0m 20ms/step - accuracy: 0.9559 - loss: 0.1160 - val_accuracy: 0.9329 - val_loss: 0.1718\n",
            "Epoch 134/1000\n",
            "\u001b[1m38/41\u001b[0m \u001b[32m━━━━━━━━━━━━━━━━━━\u001b[0m\u001b[37m━━\u001b[0m \u001b[1m0s\u001b[0m 16ms/step - accuracy: 0.9542 - loss: 0.1226\n",
            "Epoch 134: val_loss did not improve from 0.15689\n",
            "\u001b[1m41/41\u001b[0m \u001b[32m━━━━━━━━━━━━━━━━━━━━\u001b[0m\u001b[37m\u001b[0m \u001b[1m1s\u001b[0m 19ms/step - accuracy: 0.9541 - loss: 0.1224 - val_accuracy: 0.9265 - val_loss: 0.1872\n",
            "Epoch 135/1000\n",
            "\u001b[1m39/41\u001b[0m \u001b[32m━━━━━━━━━━━━━━━━━━━\u001b[0m\u001b[37m━\u001b[0m \u001b[1m0s\u001b[0m 19ms/step - accuracy: 0.9478 - loss: 0.1318\n",
            "Epoch 135: val_loss did not improve from 0.15689\n",
            "\u001b[1m41/41\u001b[0m \u001b[32m━━━━━━━━━━━━━━━━━━━━\u001b[0m\u001b[37m\u001b[0m \u001b[1m1s\u001b[0m 24ms/step - accuracy: 0.9478 - loss: 0.1316 - val_accuracy: 0.9329 - val_loss: 0.1603\n",
            "Epoch 136/1000\n",
            "\u001b[1m41/41\u001b[0m \u001b[32m━━━━━━━━━━━━━━━━━━━━\u001b[0m\u001b[37m\u001b[0m \u001b[1m0s\u001b[0m 26ms/step - accuracy: 0.9562 - loss: 0.1221\n",
            "Epoch 136: val_loss did not improve from 0.15689\n",
            "\u001b[1m41/41\u001b[0m \u001b[32m━━━━━━━━━━━━━━━━━━━━\u001b[0m\u001b[37m\u001b[0m \u001b[1m1s\u001b[0m 31ms/step - accuracy: 0.9561 - loss: 0.1223 - val_accuracy: 0.9248 - val_loss: 0.2022\n",
            "Epoch 137/1000\n",
            "\u001b[1m40/41\u001b[0m \u001b[32m━━━━━━━━━━━━━━━━━━━\u001b[0m\u001b[37m━\u001b[0m \u001b[1m0s\u001b[0m 15ms/step - accuracy: 0.9552 - loss: 0.1281\n",
            "Epoch 137: val_loss improved from 0.15689 to 0.14379, saving model to /content/keypoint_classifier.keras\n",
            "\u001b[1m41/41\u001b[0m \u001b[32m━━━━━━━━━━━━━━━━━━━━\u001b[0m\u001b[37m\u001b[0m \u001b[1m2s\u001b[0m 18ms/step - accuracy: 0.9552 - loss: 0.1278 - val_accuracy: 0.9423 - val_loss: 0.1438\n",
            "Epoch 138/1000\n",
            "\u001b[1m38/41\u001b[0m \u001b[32m━━━━━━━━━━━━━━━━━━\u001b[0m\u001b[37m━━\u001b[0m \u001b[1m0s\u001b[0m 16ms/step - accuracy: 0.9548 - loss: 0.1240\n",
            "Epoch 138: val_loss did not improve from 0.14379\n",
            "\u001b[1m41/41\u001b[0m \u001b[32m━━━━━━━━━━━━━━━━━━━━\u001b[0m\u001b[37m\u001b[0m \u001b[1m1s\u001b[0m 21ms/step - accuracy: 0.9545 - loss: 0.1245 - val_accuracy: 0.9120 - val_loss: 0.2468\n",
            "Epoch 139/1000\n",
            "\u001b[1m38/41\u001b[0m \u001b[32m━━━━━━━━━━━━━━━━━━\u001b[0m\u001b[37m━━\u001b[0m \u001b[1m0s\u001b[0m 15ms/step - accuracy: 0.9373 - loss: 0.1522\n",
            "Epoch 139: val_loss did not improve from 0.14379\n",
            "\u001b[1m41/41\u001b[0m \u001b[32m━━━━━━━━━━━━━━━━━━━━\u001b[0m\u001b[37m\u001b[0m \u001b[1m1s\u001b[0m 19ms/step - accuracy: 0.9375 - loss: 0.1520 - val_accuracy: 0.9201 - val_loss: 0.1951\n",
            "Epoch 140/1000\n",
            "\u001b[1m40/41\u001b[0m \u001b[32m━━━━━━━━━━━━━━━━━━━\u001b[0m\u001b[37m━\u001b[0m \u001b[1m0s\u001b[0m 15ms/step - accuracy: 0.9491 - loss: 0.1361\n",
            "Epoch 140: val_loss did not improve from 0.14379\n",
            "\u001b[1m41/41\u001b[0m \u001b[32m━━━━━━━━━━━━━━━━━━━━\u001b[0m\u001b[37m\u001b[0m \u001b[1m1s\u001b[0m 19ms/step - accuracy: 0.9492 - loss: 0.1356 - val_accuracy: 0.9370 - val_loss: 0.1699\n",
            "Epoch 141/1000\n",
            "\u001b[1m39/41\u001b[0m \u001b[32m━━━━━━━━━━━━━━━━━━━\u001b[0m\u001b[37m━\u001b[0m \u001b[1m0s\u001b[0m 15ms/step - accuracy: 0.9396 - loss: 0.1584\n",
            "Epoch 141: val_loss did not improve from 0.14379\n",
            "\u001b[1m41/41\u001b[0m \u001b[32m━━━━━━━━━━━━━━━━━━━━\u001b[0m\u001b[37m\u001b[0m \u001b[1m1s\u001b[0m 20ms/step - accuracy: 0.9399 - loss: 0.1576 - val_accuracy: 0.9411 - val_loss: 0.1546\n",
            "Epoch 142/1000\n",
            "\u001b[1m39/41\u001b[0m \u001b[32m━━━━━━━━━━━━━━━━━━━\u001b[0m\u001b[37m━\u001b[0m \u001b[1m0s\u001b[0m 16ms/step - accuracy: 0.9491 - loss: 0.1347\n",
            "Epoch 142: val_loss did not improve from 0.14379\n",
            "\u001b[1m41/41\u001b[0m \u001b[32m━━━━━━━━━━━━━━━━━━━━\u001b[0m\u001b[37m\u001b[0m \u001b[1m1s\u001b[0m 19ms/step - accuracy: 0.9490 - loss: 0.1350 - val_accuracy: 0.9230 - val_loss: 0.1915\n",
            "Epoch 143/1000\n",
            "\u001b[1m40/41\u001b[0m \u001b[32m━━━━━━━━━━━━━━━━━━━\u001b[0m\u001b[37m━\u001b[0m \u001b[1m0s\u001b[0m 14ms/step - accuracy: 0.9521 - loss: 0.1235\n",
            "Epoch 143: val_loss did not improve from 0.14379\n",
            "\u001b[1m41/41\u001b[0m \u001b[32m━━━━━━━━━━━━━━━━━━━━\u001b[0m\u001b[37m\u001b[0m \u001b[1m1s\u001b[0m 17ms/step - accuracy: 0.9524 - loss: 0.1231 - val_accuracy: 0.9347 - val_loss: 0.1760\n",
            "Epoch 144/1000\n",
            "\u001b[1m39/41\u001b[0m \u001b[32m━━━━━━━━━━━━━━━━━━━\u001b[0m\u001b[37m━\u001b[0m \u001b[1m0s\u001b[0m 16ms/step - accuracy: 0.9536 - loss: 0.1208\n",
            "Epoch 144: val_loss did not improve from 0.14379\n",
            "\u001b[1m41/41\u001b[0m \u001b[32m━━━━━━━━━━━━━━━━━━━━\u001b[0m\u001b[37m\u001b[0m \u001b[1m1s\u001b[0m 20ms/step - accuracy: 0.9539 - loss: 0.1203 - val_accuracy: 0.9271 - val_loss: 0.1719\n",
            "Epoch 145/1000\n",
            "\u001b[1m40/41\u001b[0m \u001b[32m━━━━━━━━━━━━━━━━━━━\u001b[0m\u001b[37m━\u001b[0m \u001b[1m0s\u001b[0m 26ms/step - accuracy: 0.9515 - loss: 0.1281\n",
            "Epoch 145: val_loss did not improve from 0.14379\n",
            "\u001b[1m41/41\u001b[0m \u001b[32m━━━━━━━━━━━━━━━━━━━━\u001b[0m\u001b[37m\u001b[0m \u001b[1m1s\u001b[0m 35ms/step - accuracy: 0.9517 - loss: 0.1277 - val_accuracy: 0.9224 - val_loss: 0.1929\n",
            "Epoch 146/1000\n",
            "\u001b[1m39/41\u001b[0m \u001b[32m━━━━━━━━━━━━━━━━━━━\u001b[0m\u001b[37m━\u001b[0m \u001b[1m0s\u001b[0m 15ms/step - accuracy: 0.9573 - loss: 0.1149\n",
            "Epoch 146: val_loss did not improve from 0.14379\n",
            "\u001b[1m41/41\u001b[0m \u001b[32m━━━━━━━━━━━━━━━━━━━━\u001b[0m\u001b[37m\u001b[0m \u001b[1m2s\u001b[0m 19ms/step - accuracy: 0.9571 - loss: 0.1152 - val_accuracy: 0.9224 - val_loss: 0.1736\n",
            "Epoch 147/1000\n",
            "\u001b[1m39/41\u001b[0m \u001b[32m━━━━━━━━━━━━━━━━━━━\u001b[0m\u001b[37m━\u001b[0m \u001b[1m0s\u001b[0m 16ms/step - accuracy: 0.9485 - loss: 0.1323\n",
            "Epoch 147: val_loss did not improve from 0.14379\n",
            "\u001b[1m41/41\u001b[0m \u001b[32m━━━━━━━━━━━━━━━━━━━━\u001b[0m\u001b[37m\u001b[0m \u001b[1m1s\u001b[0m 19ms/step - accuracy: 0.9483 - loss: 0.1324 - val_accuracy: 0.9353 - val_loss: 0.1678\n",
            "Epoch 148/1000\n",
            "\u001b[1m40/41\u001b[0m \u001b[32m━━━━━━━━━━━━━━━━━━━\u001b[0m\u001b[37m━\u001b[0m \u001b[1m0s\u001b[0m 14ms/step - accuracy: 0.9501 - loss: 0.1335\n",
            "Epoch 148: val_loss improved from 0.14379 to 0.14314, saving model to /content/keypoint_classifier.keras\n",
            "\u001b[1m41/41\u001b[0m \u001b[32m━━━━━━━━━━━━━━━━━━━━\u001b[0m\u001b[37m\u001b[0m \u001b[1m1s\u001b[0m 18ms/step - accuracy: 0.9503 - loss: 0.1331 - val_accuracy: 0.9434 - val_loss: 0.1431\n",
            "Epoch 149/1000\n",
            "\u001b[1m39/41\u001b[0m \u001b[32m━━━━━━━━━━━━━━━━━━━\u001b[0m\u001b[37m━\u001b[0m \u001b[1m0s\u001b[0m 15ms/step - accuracy: 0.9586 - loss: 0.1155\n",
            "Epoch 149: val_loss did not improve from 0.14314\n",
            "\u001b[1m41/41\u001b[0m \u001b[32m━━━━━━━━━━━━━━━━━━━━\u001b[0m\u001b[37m\u001b[0m \u001b[1m1s\u001b[0m 20ms/step - accuracy: 0.9584 - loss: 0.1155 - val_accuracy: 0.9324 - val_loss: 0.1722\n",
            "Epoch 150/1000\n",
            "\u001b[1m41/41\u001b[0m \u001b[32m━━━━━━━━━━━━━━━━━━━━\u001b[0m\u001b[37m\u001b[0m \u001b[1m0s\u001b[0m 16ms/step - accuracy: 0.9417 - loss: 0.1426\n",
            "Epoch 150: val_loss did not improve from 0.14314\n",
            "\u001b[1m41/41\u001b[0m \u001b[32m━━━━━━━━━━━━━━━━━━━━\u001b[0m\u001b[37m\u001b[0m \u001b[1m1s\u001b[0m 20ms/step - accuracy: 0.9418 - loss: 0.1424 - val_accuracy: 0.9335 - val_loss: 0.1757\n",
            "Epoch 151/1000\n",
            "\u001b[1m39/41\u001b[0m \u001b[32m━━━━━━━━━━━━━━━━━━━\u001b[0m\u001b[37m━\u001b[0m \u001b[1m0s\u001b[0m 16ms/step - accuracy: 0.9153 - loss: 0.2256\n",
            "Epoch 151: val_loss did not improve from 0.14314\n",
            "\u001b[1m41/41\u001b[0m \u001b[32m━━━━━━━━━━━━━━━━━━━━\u001b[0m\u001b[37m\u001b[0m \u001b[1m1s\u001b[0m 20ms/step - accuracy: 0.9156 - loss: 0.2247 - val_accuracy: 0.9137 - val_loss: 0.2148\n",
            "Epoch 152/1000\n",
            "\u001b[1m39/41\u001b[0m \u001b[32m━━━━━━━━━━━━━━━━━━━\u001b[0m\u001b[37m━\u001b[0m \u001b[1m0s\u001b[0m 16ms/step - accuracy: 0.9345 - loss: 0.1650\n",
            "Epoch 152: val_loss did not improve from 0.14314\n",
            "\u001b[1m41/41\u001b[0m \u001b[32m━━━━━━━━━━━━━━━━━━━━\u001b[0m\u001b[37m\u001b[0m \u001b[1m1s\u001b[0m 20ms/step - accuracy: 0.9347 - loss: 0.1646 - val_accuracy: 0.9306 - val_loss: 0.1627\n",
            "Epoch 153/1000\n",
            "\u001b[1m40/41\u001b[0m \u001b[32m━━━━━━━━━━━━━━━━━━━\u001b[0m\u001b[37m━\u001b[0m \u001b[1m0s\u001b[0m 16ms/step - accuracy: 0.9556 - loss: 0.1082\n",
            "Epoch 153: val_loss did not improve from 0.14314\n",
            "\u001b[1m41/41\u001b[0m \u001b[32m━━━━━━━━━━━━━━━━━━━━\u001b[0m\u001b[37m\u001b[0m \u001b[1m1s\u001b[0m 19ms/step - accuracy: 0.9555 - loss: 0.1085 - val_accuracy: 0.9423 - val_loss: 0.1456\n",
            "Epoch 154/1000\n",
            "\u001b[1m39/41\u001b[0m \u001b[32m━━━━━━━━━━━━━━━━━━━\u001b[0m\u001b[37m━\u001b[0m \u001b[1m0s\u001b[0m 17ms/step - accuracy: 0.9581 - loss: 0.1105\n",
            "Epoch 154: val_loss did not improve from 0.14314\n",
            "\u001b[1m41/41\u001b[0m \u001b[32m━━━━━━━━━━━━━━━━━━━━\u001b[0m\u001b[37m\u001b[0m \u001b[1m2s\u001b[0m 27ms/step - accuracy: 0.9584 - loss: 0.1101 - val_accuracy: 0.9475 - val_loss: 0.1482\n",
            "Epoch 155/1000\n",
            "\u001b[1m39/41\u001b[0m \u001b[32m━━━━━━━━━━━━━━━━━━━\u001b[0m\u001b[37m━\u001b[0m \u001b[1m0s\u001b[0m 26ms/step - accuracy: 0.9564 - loss: 0.1114\n",
            "Epoch 155: val_loss did not improve from 0.14314\n",
            "\u001b[1m41/41\u001b[0m \u001b[32m━━━━━━━━━━━━━━━━━━━━\u001b[0m\u001b[37m\u001b[0m \u001b[1m2s\u001b[0m 35ms/step - accuracy: 0.9565 - loss: 0.1115 - val_accuracy: 0.9405 - val_loss: 0.1596\n",
            "Epoch 156/1000\n",
            "\u001b[1m40/41\u001b[0m \u001b[32m━━━━━━━━━━━━━━━━━━━\u001b[0m\u001b[37m━\u001b[0m \u001b[1m0s\u001b[0m 20ms/step - accuracy: 0.9559 - loss: 0.1173\n",
            "Epoch 156: val_loss did not improve from 0.14314\n",
            "\u001b[1m41/41\u001b[0m \u001b[32m━━━━━━━━━━━━━━━━━━━━\u001b[0m\u001b[37m\u001b[0m \u001b[1m1s\u001b[0m 23ms/step - accuracy: 0.9560 - loss: 0.1169 - val_accuracy: 0.9364 - val_loss: 0.1457\n",
            "Epoch 157/1000\n",
            "\u001b[1m39/41\u001b[0m \u001b[32m━━━━━━━━━━━━━━━━━━━\u001b[0m\u001b[37m━\u001b[0m \u001b[1m0s\u001b[0m 16ms/step - accuracy: 0.9601 - loss: 0.1111\n",
            "Epoch 157: val_loss did not improve from 0.14314\n",
            "\u001b[1m41/41\u001b[0m \u001b[32m━━━━━━━━━━━━━━━━━━━━\u001b[0m\u001b[37m\u001b[0m \u001b[1m1s\u001b[0m 20ms/step - accuracy: 0.9601 - loss: 0.1111 - val_accuracy: 0.9324 - val_loss: 0.1848\n",
            "Epoch 158/1000\n",
            "\u001b[1m39/41\u001b[0m \u001b[32m━━━━━━━━━━━━━━━━━━━\u001b[0m\u001b[37m━\u001b[0m \u001b[1m0s\u001b[0m 16ms/step - accuracy: 0.9571 - loss: 0.1175\n",
            "Epoch 158: val_loss did not improve from 0.14314\n",
            "\u001b[1m41/41\u001b[0m \u001b[32m━━━━━━━━━━━━━━━━━━━━\u001b[0m\u001b[37m\u001b[0m \u001b[1m1s\u001b[0m 20ms/step - accuracy: 0.9572 - loss: 0.1175 - val_accuracy: 0.9434 - val_loss: 0.1600\n",
            "Epoch 159/1000\n",
            "\u001b[1m39/41\u001b[0m \u001b[32m━━━━━━━━━━━━━━━━━━━\u001b[0m\u001b[37m━\u001b[0m \u001b[1m0s\u001b[0m 15ms/step - accuracy: 0.9672 - loss: 0.0973\n",
            "Epoch 159: val_loss did not improve from 0.14314\n",
            "\u001b[1m41/41\u001b[0m \u001b[32m━━━━━━━━━━━━━━━━━━━━\u001b[0m\u001b[37m\u001b[0m \u001b[1m1s\u001b[0m 20ms/step - accuracy: 0.9670 - loss: 0.0974 - val_accuracy: 0.9423 - val_loss: 0.1496\n",
            "Epoch 160/1000\n",
            "\u001b[1m41/41\u001b[0m \u001b[32m━━━━━━━━━━━━━━━━━━━━\u001b[0m\u001b[37m\u001b[0m \u001b[1m0s\u001b[0m 14ms/step - accuracy: 0.9627 - loss: 0.0982\n",
            "Epoch 160: val_loss improved from 0.14314 to 0.14153, saving model to /content/keypoint_classifier.keras\n",
            "\u001b[1m41/41\u001b[0m \u001b[32m━━━━━━━━━━━━━━━━━━━━\u001b[0m\u001b[37m\u001b[0m \u001b[1m1s\u001b[0m 18ms/step - accuracy: 0.9627 - loss: 0.0983 - val_accuracy: 0.9440 - val_loss: 0.1415\n",
            "Epoch 161/1000\n",
            "\u001b[1m40/41\u001b[0m \u001b[32m━━━━━━━━━━━━━━━━━━━\u001b[0m\u001b[37m━\u001b[0m \u001b[1m0s\u001b[0m 15ms/step - accuracy: 0.9643 - loss: 0.1018\n",
            "Epoch 161: val_loss did not improve from 0.14153\n",
            "\u001b[1m41/41\u001b[0m \u001b[32m━━━━━━━━━━━━━━━━━━━━\u001b[0m\u001b[37m\u001b[0m \u001b[1m1s\u001b[0m 20ms/step - accuracy: 0.9642 - loss: 0.1020 - val_accuracy: 0.9411 - val_loss: 0.1592\n",
            "Epoch 162/1000\n",
            "\u001b[1m41/41\u001b[0m \u001b[32m━━━━━━━━━━━━━━━━━━━━\u001b[0m\u001b[37m\u001b[0m \u001b[1m0s\u001b[0m 16ms/step - accuracy: 0.9596 - loss: 0.1066\n",
            "Epoch 162: val_loss did not improve from 0.14153\n",
            "\u001b[1m41/41\u001b[0m \u001b[32m━━━━━━━━━━━━━━━━━━━━\u001b[0m\u001b[37m\u001b[0m \u001b[1m1s\u001b[0m 19ms/step - accuracy: 0.9597 - loss: 0.1065 - val_accuracy: 0.9236 - val_loss: 0.1716\n",
            "Epoch 163/1000\n",
            "\u001b[1m38/41\u001b[0m \u001b[32m━━━━━━━━━━━━━━━━━━\u001b[0m\u001b[37m━━\u001b[0m \u001b[1m0s\u001b[0m 16ms/step - accuracy: 0.9485 - loss: 0.1211\n",
            "Epoch 163: val_loss did not improve from 0.14153\n",
            "\u001b[1m41/41\u001b[0m \u001b[32m━━━━━━━━━━━━━━━━━━━━\u001b[0m\u001b[37m\u001b[0m \u001b[1m1s\u001b[0m 20ms/step - accuracy: 0.9491 - loss: 0.1204 - val_accuracy: 0.9184 - val_loss: 0.1888\n",
            "Epoch 164/1000\n",
            "\u001b[1m41/41\u001b[0m \u001b[32m━━━━━━━━━━━━━━━━━━━━\u001b[0m\u001b[37m\u001b[0m \u001b[1m0s\u001b[0m 16ms/step - accuracy: 0.9458 - loss: 0.1313\n",
            "Epoch 164: val_loss did not improve from 0.14153\n",
            "\u001b[1m41/41\u001b[0m \u001b[32m━━━━━━━━━━━━━━━━━━━━\u001b[0m\u001b[37m\u001b[0m \u001b[1m1s\u001b[0m 21ms/step - accuracy: 0.9457 - loss: 0.1315 - val_accuracy: 0.9294 - val_loss: 0.1984\n",
            "Epoch 165/1000\n",
            "\u001b[1m39/41\u001b[0m \u001b[32m━━━━━━━━━━━━━━━━━━━\u001b[0m\u001b[37m━\u001b[0m \u001b[1m0s\u001b[0m 16ms/step - accuracy: 0.9351 - loss: 0.1717\n",
            "Epoch 165: val_loss did not improve from 0.14153\n",
            "\u001b[1m41/41\u001b[0m \u001b[32m━━━━━━━━━━━━━━━━━━━━\u001b[0m\u001b[37m\u001b[0m \u001b[1m1s\u001b[0m 20ms/step - accuracy: 0.9355 - loss: 0.1705 - val_accuracy: 0.9423 - val_loss: 0.1487\n",
            "Epoch 166/1000\n",
            "\u001b[1m40/41\u001b[0m \u001b[32m━━━━━━━━━━━━━━━━━━━\u001b[0m\u001b[37m━\u001b[0m \u001b[1m0s\u001b[0m 26ms/step - accuracy: 0.9525 - loss: 0.1296\n",
            "Epoch 166: val_loss did not improve from 0.14153\n",
            "\u001b[1m41/41\u001b[0m \u001b[32m━━━━━━━━━━━━━━━━━━━━\u001b[0m\u001b[37m\u001b[0m \u001b[1m2s\u001b[0m 31ms/step - accuracy: 0.9526 - loss: 0.1291 - val_accuracy: 0.9376 - val_loss: 0.1638\n",
            "Epoch 167/1000\n",
            "\u001b[1m40/41\u001b[0m \u001b[32m━━━━━━━━━━━━━━━━━━━\u001b[0m\u001b[37m━\u001b[0m \u001b[1m0s\u001b[0m 16ms/step - accuracy: 0.9593 - loss: 0.1100\n",
            "Epoch 167: val_loss did not improve from 0.14153\n",
            "\u001b[1m41/41\u001b[0m \u001b[32m━━━━━━━━━━━━━━━━━━━━\u001b[0m\u001b[37m\u001b[0m \u001b[1m2s\u001b[0m 21ms/step - accuracy: 0.9591 - loss: 0.1105 - val_accuracy: 0.9213 - val_loss: 0.2206\n",
            "Epoch 168/1000\n",
            "\u001b[1m40/41\u001b[0m \u001b[32m━━━━━━━━━━━━━━━━━━━\u001b[0m\u001b[37m━\u001b[0m \u001b[1m0s\u001b[0m 16ms/step - accuracy: 0.9366 - loss: 0.1606\n",
            "Epoch 168: val_loss did not improve from 0.14153\n",
            "\u001b[1m41/41\u001b[0m \u001b[32m━━━━━━━━━━━━━━━━━━━━\u001b[0m\u001b[37m\u001b[0m \u001b[1m1s\u001b[0m 20ms/step - accuracy: 0.9370 - loss: 0.1598 - val_accuracy: 0.9335 - val_loss: 0.1817\n",
            "Epoch 169/1000\n",
            "\u001b[1m38/41\u001b[0m \u001b[32m━━━━━━━━━━━━━━━━━━\u001b[0m\u001b[37m━━\u001b[0m \u001b[1m0s\u001b[0m 16ms/step - accuracy: 0.9362 - loss: 0.1545\n",
            "Epoch 169: val_loss improved from 0.14153 to 0.12776, saving model to /content/keypoint_classifier.keras\n",
            "\u001b[1m41/41\u001b[0m \u001b[32m━━━━━━━━━━━━━━━━━━━━\u001b[0m\u001b[37m\u001b[0m \u001b[1m1s\u001b[0m 20ms/step - accuracy: 0.9370 - loss: 0.1531 - val_accuracy: 0.9516 - val_loss: 0.1278\n",
            "Epoch 170/1000\n",
            "\u001b[1m38/41\u001b[0m \u001b[32m━━━━━━━━━━━━━━━━━━\u001b[0m\u001b[37m━━\u001b[0m \u001b[1m0s\u001b[0m 16ms/step - accuracy: 0.9592 - loss: 0.1035\n",
            "Epoch 170: val_loss did not improve from 0.12776\n",
            "\u001b[1m41/41\u001b[0m \u001b[32m━━━━━━━━━━━━━━━━━━━━\u001b[0m\u001b[37m\u001b[0m \u001b[1m1s\u001b[0m 20ms/step - accuracy: 0.9593 - loss: 0.1032 - val_accuracy: 0.9516 - val_loss: 0.1434\n",
            "Epoch 171/1000\n",
            "\u001b[1m38/41\u001b[0m \u001b[32m━━━━━━━━━━━━━━━━━━\u001b[0m\u001b[37m━━\u001b[0m \u001b[1m0s\u001b[0m 16ms/step - accuracy: 0.9559 - loss: 0.1073\n",
            "Epoch 171: val_loss did not improve from 0.12776\n",
            "\u001b[1m41/41\u001b[0m \u001b[32m━━━━━━━━━━━━━━━━━━━━\u001b[0m\u001b[37m\u001b[0m \u001b[1m1s\u001b[0m 20ms/step - accuracy: 0.9563 - loss: 0.1069 - val_accuracy: 0.9335 - val_loss: 0.1712\n",
            "Epoch 172/1000\n",
            "\u001b[1m40/41\u001b[0m \u001b[32m━━━━━━━━━━━━━━━━━━━\u001b[0m\u001b[37m━\u001b[0m \u001b[1m0s\u001b[0m 16ms/step - accuracy: 0.9625 - loss: 0.1032\n",
            "Epoch 172: val_loss did not improve from 0.12776\n",
            "\u001b[1m41/41\u001b[0m \u001b[32m━━━━━━━━━━━━━━━━━━━━\u001b[0m\u001b[37m\u001b[0m \u001b[1m1s\u001b[0m 21ms/step - accuracy: 0.9623 - loss: 0.1038 - val_accuracy: 0.9399 - val_loss: 0.1785\n",
            "Epoch 173/1000\n",
            "\u001b[1m38/41\u001b[0m \u001b[32m━━━━━━━━━━━━━━━━━━\u001b[0m\u001b[37m━━\u001b[0m \u001b[1m0s\u001b[0m 16ms/step - accuracy: 0.9362 - loss: 0.1544\n",
            "Epoch 173: val_loss did not improve from 0.12776\n",
            "\u001b[1m41/41\u001b[0m \u001b[32m━━━━━━━━━━━━━━━━━━━━\u001b[0m\u001b[37m\u001b[0m \u001b[1m1s\u001b[0m 20ms/step - accuracy: 0.9372 - loss: 0.1522 - val_accuracy: 0.9382 - val_loss: 0.1683\n",
            "Epoch 174/1000\n",
            "\u001b[1m41/41\u001b[0m \u001b[32m━━━━━━━━━━━━━━━━━━━━\u001b[0m\u001b[37m\u001b[0m \u001b[1m0s\u001b[0m 16ms/step - accuracy: 0.9591 - loss: 0.1092\n",
            "Epoch 174: val_loss did not improve from 0.12776\n",
            "\u001b[1m41/41\u001b[0m \u001b[32m━━━━━━━━━━━━━━━━━━━━\u001b[0m\u001b[37m\u001b[0m \u001b[1m1s\u001b[0m 21ms/step - accuracy: 0.9591 - loss: 0.1094 - val_accuracy: 0.9417 - val_loss: 0.1340\n",
            "Epoch 175/1000\n",
            "\u001b[1m40/41\u001b[0m \u001b[32m━━━━━━━━━━━━━━━━━━━\u001b[0m\u001b[37m━\u001b[0m \u001b[1m0s\u001b[0m 16ms/step - accuracy: 0.9573 - loss: 0.1075\n",
            "Epoch 175: val_loss did not improve from 0.12776\n",
            "\u001b[1m41/41\u001b[0m \u001b[32m━━━━━━━━━━━━━━━━━━━━\u001b[0m\u001b[37m\u001b[0m \u001b[1m1s\u001b[0m 21ms/step - accuracy: 0.9573 - loss: 0.1075 - val_accuracy: 0.9440 - val_loss: 0.1575\n",
            "Epoch 176/1000\n",
            "\u001b[1m40/41\u001b[0m \u001b[32m━━━━━━━━━━━━━━━━━━━\u001b[0m\u001b[37m━\u001b[0m \u001b[1m0s\u001b[0m 17ms/step - accuracy: 0.9589 - loss: 0.1015\n",
            "Epoch 176: val_loss improved from 0.12776 to 0.10970, saving model to /content/keypoint_classifier.keras\n",
            "\u001b[1m41/41\u001b[0m \u001b[32m━━━━━━━━━━━━━━━━━━━━\u001b[0m\u001b[37m\u001b[0m \u001b[1m1s\u001b[0m 24ms/step - accuracy: 0.9591 - loss: 0.1013 - val_accuracy: 0.9615 - val_loss: 0.1097\n",
            "Epoch 177/1000\n",
            "\u001b[1m39/41\u001b[0m \u001b[32m━━━━━━━━━━━━━━━━━━━\u001b[0m\u001b[37m━\u001b[0m \u001b[1m0s\u001b[0m 26ms/step - accuracy: 0.9701 - loss: 0.0823\n",
            "Epoch 177: val_loss did not improve from 0.10970\n",
            "\u001b[1m41/41\u001b[0m \u001b[32m━━━━━━━━━━━━━━━━━━━━\u001b[0m\u001b[37m\u001b[0m \u001b[1m2s\u001b[0m 35ms/step - accuracy: 0.9697 - loss: 0.0829 - val_accuracy: 0.9405 - val_loss: 0.1490\n",
            "Epoch 178/1000\n",
            "\u001b[1m41/41\u001b[0m \u001b[32m━━━━━━━━━━━━━━━━━━━━\u001b[0m\u001b[37m\u001b[0m \u001b[1m0s\u001b[0m 21ms/step - accuracy: 0.9583 - loss: 0.1066\n",
            "Epoch 178: val_loss did not improve from 0.10970\n",
            "\u001b[1m41/41\u001b[0m \u001b[32m━━━━━━━━━━━━━━━━━━━━\u001b[0m\u001b[37m\u001b[0m \u001b[1m1s\u001b[0m 26ms/step - accuracy: 0.9583 - loss: 0.1067 - val_accuracy: 0.9440 - val_loss: 0.1466\n",
            "Epoch 179/1000\n",
            "\u001b[1m39/41\u001b[0m \u001b[32m━━━━━━━━━━━━━━━━━━━\u001b[0m\u001b[37m━\u001b[0m \u001b[1m0s\u001b[0m 16ms/step - accuracy: 0.9549 - loss: 0.1204\n",
            "Epoch 179: val_loss did not improve from 0.10970\n",
            "\u001b[1m41/41\u001b[0m \u001b[32m━━━━━━━━━━━━━━━━━━━━\u001b[0m\u001b[37m\u001b[0m \u001b[1m1s\u001b[0m 21ms/step - accuracy: 0.9549 - loss: 0.1202 - val_accuracy: 0.9464 - val_loss: 0.1302\n",
            "Epoch 180/1000\n",
            "\u001b[1m39/41\u001b[0m \u001b[32m━━━━━━━━━━━━━━━━━━━\u001b[0m\u001b[37m━\u001b[0m \u001b[1m0s\u001b[0m 15ms/step - accuracy: 0.9589 - loss: 0.1014\n",
            "Epoch 180: val_loss did not improve from 0.10970\n",
            "\u001b[1m41/41\u001b[0m \u001b[32m━━━━━━━━━━━━━━━━━━━━\u001b[0m\u001b[37m\u001b[0m \u001b[1m1s\u001b[0m 20ms/step - accuracy: 0.9589 - loss: 0.1014 - val_accuracy: 0.9382 - val_loss: 0.1557\n",
            "Epoch 181/1000\n",
            "\u001b[1m38/41\u001b[0m \u001b[32m━━━━━━━━━━━━━━━━━━\u001b[0m\u001b[37m━━\u001b[0m \u001b[1m0s\u001b[0m 16ms/step - accuracy: 0.9605 - loss: 0.1066\n",
            "Epoch 181: val_loss did not improve from 0.10970\n",
            "\u001b[1m41/41\u001b[0m \u001b[32m━━━━━━━━━━━━━━━━━━━━\u001b[0m\u001b[37m\u001b[0m \u001b[1m1s\u001b[0m 21ms/step - accuracy: 0.9602 - loss: 0.1071 - val_accuracy: 0.9417 - val_loss: 0.1483\n",
            "Epoch 182/1000\n",
            "\u001b[1m39/41\u001b[0m \u001b[32m━━━━━━━━━━━━━━━━━━━\u001b[0m\u001b[37m━\u001b[0m \u001b[1m0s\u001b[0m 16ms/step - accuracy: 0.9661 - loss: 0.0924\n",
            "Epoch 182: val_loss did not improve from 0.10970\n",
            "\u001b[1m41/41\u001b[0m \u001b[32m━━━━━━━━━━━━━━━━━━━━\u001b[0m\u001b[37m\u001b[0m \u001b[1m1s\u001b[0m 20ms/step - accuracy: 0.9654 - loss: 0.0938 - val_accuracy: 0.9493 - val_loss: 0.1342\n",
            "Epoch 183/1000\n",
            "\u001b[1m38/41\u001b[0m \u001b[32m━━━━━━━━━━━━━━━━━━\u001b[0m\u001b[37m━━\u001b[0m \u001b[1m0s\u001b[0m 16ms/step - accuracy: 0.9578 - loss: 0.1147\n",
            "Epoch 183: val_loss did not improve from 0.10970\n",
            "\u001b[1m41/41\u001b[0m \u001b[32m━━━━━━━━━━━━━━━━━━━━\u001b[0m\u001b[37m\u001b[0m \u001b[1m1s\u001b[0m 20ms/step - accuracy: 0.9582 - loss: 0.1137 - val_accuracy: 0.9516 - val_loss: 0.1339\n",
            "Epoch 184/1000\n",
            "\u001b[1m39/41\u001b[0m \u001b[32m━━━━━━━━━━━━━━━━━━━\u001b[0m\u001b[37m━\u001b[0m \u001b[1m0s\u001b[0m 16ms/step - accuracy: 0.9675 - loss: 0.0847\n",
            "Epoch 184: val_loss did not improve from 0.10970\n",
            "\u001b[1m41/41\u001b[0m \u001b[32m━━━━━━━━━━━━━━━━━━━━\u001b[0m\u001b[37m\u001b[0m \u001b[1m1s\u001b[0m 20ms/step - accuracy: 0.9675 - loss: 0.0850 - val_accuracy: 0.9411 - val_loss: 0.1533\n",
            "Epoch 185/1000\n",
            "\u001b[1m40/41\u001b[0m \u001b[32m━━━━━━━━━━━━━━━━━━━\u001b[0m\u001b[37m━\u001b[0m \u001b[1m0s\u001b[0m 17ms/step - accuracy: 0.9547 - loss: 0.1061\n",
            "Epoch 185: val_loss did not improve from 0.10970\n",
            "\u001b[1m41/41\u001b[0m \u001b[32m━━━━━━━━━━━━━━━━━━━━\u001b[0m\u001b[37m\u001b[0m \u001b[1m1s\u001b[0m 21ms/step - accuracy: 0.9548 - loss: 0.1061 - val_accuracy: 0.9434 - val_loss: 0.1455\n",
            "Epoch 186/1000\n",
            "\u001b[1m40/41\u001b[0m \u001b[32m━━━━━━━━━━━━━━━━━━━\u001b[0m\u001b[37m━\u001b[0m \u001b[1m0s\u001b[0m 16ms/step - accuracy: 0.9428 - loss: 0.1415\n",
            "Epoch 186: val_loss did not improve from 0.10970\n",
            "\u001b[1m41/41\u001b[0m \u001b[32m━━━━━━━━━━━━━━━━━━━━\u001b[0m\u001b[37m\u001b[0m \u001b[1m1s\u001b[0m 21ms/step - accuracy: 0.9428 - loss: 0.1412 - val_accuracy: 0.9411 - val_loss: 0.1593\n",
            "Epoch 187/1000\n",
            "\u001b[1m41/41\u001b[0m \u001b[32m━━━━━━━━━━━━━━━━━━━━\u001b[0m\u001b[37m\u001b[0m \u001b[1m0s\u001b[0m 21ms/step - accuracy: 0.9604 - loss: 0.1102\n",
            "Epoch 187: val_loss did not improve from 0.10970\n",
            "\u001b[1m41/41\u001b[0m \u001b[32m━━━━━━━━━━━━━━━━━━━━\u001b[0m\u001b[37m\u001b[0m \u001b[1m1s\u001b[0m 30ms/step - accuracy: 0.9605 - loss: 0.1100 - val_accuracy: 0.9510 - val_loss: 0.1266\n",
            "Epoch 188/1000\n",
            "\u001b[1m39/41\u001b[0m \u001b[32m━━━━━━━━━━━━━━━━━━━\u001b[0m\u001b[37m━\u001b[0m \u001b[1m0s\u001b[0m 25ms/step - accuracy: 0.9504 - loss: 0.1253\n",
            "Epoch 188: val_loss did not improve from 0.10970\n",
            "\u001b[1m41/41\u001b[0m \u001b[32m━━━━━━━━━━━━━━━━━━━━\u001b[0m\u001b[37m\u001b[0m \u001b[1m1s\u001b[0m 34ms/step - accuracy: 0.9497 - loss: 0.1272 - val_accuracy: 0.9178 - val_loss: 0.2254\n",
            "Epoch 189/1000\n",
            "\u001b[1m39/41\u001b[0m \u001b[32m━━━━━━━━━━━━━━━━━━━\u001b[0m\u001b[37m━\u001b[0m \u001b[1m0s\u001b[0m 23ms/step - accuracy: 0.9336 - loss: 0.1710\n",
            "Epoch 189: val_loss did not improve from 0.10970\n",
            "\u001b[1m41/41\u001b[0m \u001b[32m━━━━━━━━━━━━━━━━━━━━\u001b[0m\u001b[37m\u001b[0m \u001b[1m1s\u001b[0m 26ms/step - accuracy: 0.9341 - loss: 0.1699 - val_accuracy: 0.9481 - val_loss: 0.1415\n",
            "Epoch 190/1000\n",
            "\u001b[1m41/41\u001b[0m \u001b[32m━━━━━━━━━━━━━━━━━━━━\u001b[0m\u001b[37m\u001b[0m \u001b[1m0s\u001b[0m 16ms/step - accuracy: 0.9592 - loss: 0.1025\n",
            "Epoch 190: val_loss did not improve from 0.10970\n",
            "\u001b[1m41/41\u001b[0m \u001b[32m━━━━━━━━━━━━━━━━━━━━\u001b[0m\u001b[37m\u001b[0m \u001b[1m1s\u001b[0m 21ms/step - accuracy: 0.9594 - loss: 0.1023 - val_accuracy: 0.9504 - val_loss: 0.1307\n",
            "Epoch 191/1000\n",
            "\u001b[1m40/41\u001b[0m \u001b[32m━━━━━━━━━━━━━━━━━━━\u001b[0m\u001b[37m━\u001b[0m \u001b[1m0s\u001b[0m 15ms/step - accuracy: 0.9690 - loss: 0.0874\n",
            "Epoch 191: val_loss did not improve from 0.10970\n",
            "\u001b[1m41/41\u001b[0m \u001b[32m━━━━━━━━━━━━━━━━━━━━\u001b[0m\u001b[37m\u001b[0m \u001b[1m1s\u001b[0m 19ms/step - accuracy: 0.9690 - loss: 0.0874 - val_accuracy: 0.9551 - val_loss: 0.1177\n",
            "Epoch 192/1000\n",
            "\u001b[1m40/41\u001b[0m \u001b[32m━━━━━━━━━━━━━━━━━━━\u001b[0m\u001b[37m━\u001b[0m \u001b[1m0s\u001b[0m 15ms/step - accuracy: 0.9654 - loss: 0.0867\n",
            "Epoch 192: val_loss did not improve from 0.10970\n",
            "\u001b[1m41/41\u001b[0m \u001b[32m━━━━━━━━━━━━━━━━━━━━\u001b[0m\u001b[37m\u001b[0m \u001b[1m1s\u001b[0m 19ms/step - accuracy: 0.9653 - loss: 0.0871 - val_accuracy: 0.9499 - val_loss: 0.1257\n",
            "Epoch 193/1000\n",
            "\u001b[1m38/41\u001b[0m \u001b[32m━━━━━━━━━━━━━━━━━━\u001b[0m\u001b[37m━━\u001b[0m \u001b[1m0s\u001b[0m 16ms/step - accuracy: 0.9742 - loss: 0.0783\n",
            "Epoch 193: val_loss did not improve from 0.10970\n",
            "\u001b[1m41/41\u001b[0m \u001b[32m━━━━━━━━━━━━━━━━━━━━\u001b[0m\u001b[37m\u001b[0m \u001b[1m1s\u001b[0m 20ms/step - accuracy: 0.9741 - loss: 0.0788 - val_accuracy: 0.9469 - val_loss: 0.1312\n",
            "Epoch 194/1000\n",
            "\u001b[1m40/41\u001b[0m \u001b[32m━━━━━━━━━━━━━━━━━━━\u001b[0m\u001b[37m━\u001b[0m \u001b[1m0s\u001b[0m 15ms/step - accuracy: 0.9644 - loss: 0.0953\n",
            "Epoch 194: val_loss did not improve from 0.10970\n",
            "\u001b[1m41/41\u001b[0m \u001b[32m━━━━━━━━━━━━━━━━━━━━\u001b[0m\u001b[37m\u001b[0m \u001b[1m1s\u001b[0m 18ms/step - accuracy: 0.9643 - loss: 0.0956 - val_accuracy: 0.9528 - val_loss: 0.1257\n",
            "Epoch 195/1000\n",
            "\u001b[1m40/41\u001b[0m \u001b[32m━━━━━━━━━━━━━━━━━━━\u001b[0m\u001b[37m━\u001b[0m \u001b[1m0s\u001b[0m 16ms/step - accuracy: 0.9599 - loss: 0.1040\n",
            "Epoch 195: val_loss did not improve from 0.10970\n",
            "\u001b[1m41/41\u001b[0m \u001b[32m━━━━━━━━━━━━━━━━━━━━\u001b[0m\u001b[37m\u001b[0m \u001b[1m1s\u001b[0m 20ms/step - accuracy: 0.9598 - loss: 0.1044 - val_accuracy: 0.9172 - val_loss: 0.2009\n",
            "Epoch 196/1000\n",
            "\u001b[1m40/41\u001b[0m \u001b[32m━━━━━━━━━━━━━━━━━━━\u001b[0m\u001b[37m━\u001b[0m \u001b[1m0s\u001b[0m 16ms/step - accuracy: 0.9587 - loss: 0.1067\n",
            "Epoch 196: val_loss did not improve from 0.10970\n",
            "\u001b[1m41/41\u001b[0m \u001b[32m━━━━━━━━━━━━━━━━━━━━\u001b[0m\u001b[37m\u001b[0m \u001b[1m1s\u001b[0m 21ms/step - accuracy: 0.9587 - loss: 0.1064 - val_accuracy: 0.9499 - val_loss: 0.1221\n",
            "Epoch 197/1000\n",
            "\u001b[1m40/41\u001b[0m \u001b[32m━━━━━━━━━━━━━━━━━━━\u001b[0m\u001b[37m━\u001b[0m \u001b[1m0s\u001b[0m 16ms/step - accuracy: 0.9632 - loss: 0.0916\n",
            "Epoch 197: val_loss did not improve from 0.10970\n",
            "\u001b[1m41/41\u001b[0m \u001b[32m━━━━━━━━━━━━━━━━━━━━\u001b[0m\u001b[37m\u001b[0m \u001b[1m1s\u001b[0m 20ms/step - accuracy: 0.9633 - loss: 0.0915 - val_accuracy: 0.9306 - val_loss: 0.1923\n",
            "Epoch 198/1000\n",
            "\u001b[1m39/41\u001b[0m \u001b[32m━━━━━━━━━━━━━━━━━━━\u001b[0m\u001b[37m━\u001b[0m \u001b[1m0s\u001b[0m 16ms/step - accuracy: 0.9482 - loss: 0.1409\n",
            "Epoch 198: val_loss did not improve from 0.10970\n",
            "\u001b[1m41/41\u001b[0m \u001b[32m━━━━━━━━━━━━━━━━━━━━\u001b[0m\u001b[37m\u001b[0m \u001b[1m1s\u001b[0m 21ms/step - accuracy: 0.9485 - loss: 0.1396 - val_accuracy: 0.9464 - val_loss: 0.1491\n",
            "Epoch 199/1000\n",
            "\u001b[1m41/41\u001b[0m \u001b[32m━━━━━━━━━━━━━━━━━━━━\u001b[0m\u001b[37m\u001b[0m \u001b[1m0s\u001b[0m 26ms/step - accuracy: 0.9599 - loss: 0.0996\n",
            "Epoch 199: val_loss improved from 0.10970 to 0.10404, saving model to /content/keypoint_classifier.keras\n",
            "\u001b[1m41/41\u001b[0m \u001b[32m━━━━━━━━━━━━━━━━━━━━\u001b[0m\u001b[37m\u001b[0m \u001b[1m2s\u001b[0m 37ms/step - accuracy: 0.9599 - loss: 0.0995 - val_accuracy: 0.9621 - val_loss: 0.1040\n",
            "Epoch 200/1000\n",
            "\u001b[1m39/41\u001b[0m \u001b[32m━━━━━━━━━━━━━━━━━━━\u001b[0m\u001b[37m━\u001b[0m \u001b[1m0s\u001b[0m 17ms/step - accuracy: 0.9669 - loss: 0.0867\n",
            "Epoch 200: val_loss did not improve from 0.10404\n",
            "\u001b[1m41/41\u001b[0m \u001b[32m━━━━━━━━━━━━━━━━━━━━\u001b[0m\u001b[37m\u001b[0m \u001b[1m2s\u001b[0m 20ms/step - accuracy: 0.9668 - loss: 0.0871 - val_accuracy: 0.9510 - val_loss: 0.1449\n",
            "Epoch 201/1000\n",
            "\u001b[1m39/41\u001b[0m \u001b[32m━━━━━━━━━━━━━━━━━━━\u001b[0m\u001b[37m━\u001b[0m \u001b[1m0s\u001b[0m 15ms/step - accuracy: 0.9615 - loss: 0.0984\n",
            "Epoch 201: val_loss did not improve from 0.10404\n",
            "\u001b[1m41/41\u001b[0m \u001b[32m━━━━━━━━━━━━━━━━━━━━\u001b[0m\u001b[37m\u001b[0m \u001b[1m1s\u001b[0m 18ms/step - accuracy: 0.9615 - loss: 0.0982 - val_accuracy: 0.9563 - val_loss: 0.1139\n",
            "Epoch 202/1000\n",
            "\u001b[1m40/41\u001b[0m \u001b[32m━━━━━━━━━━━━━━━━━━━\u001b[0m\u001b[37m━\u001b[0m \u001b[1m0s\u001b[0m 17ms/step - accuracy: 0.9709 - loss: 0.0824\n",
            "Epoch 202: val_loss did not improve from 0.10404\n",
            "\u001b[1m41/41\u001b[0m \u001b[32m━━━━━━━━━━━━━━━━━━━━\u001b[0m\u001b[37m\u001b[0m \u001b[1m1s\u001b[0m 22ms/step - accuracy: 0.9709 - loss: 0.0823 - val_accuracy: 0.9615 - val_loss: 0.1103\n",
            "Epoch 203/1000\n",
            "\u001b[1m40/41\u001b[0m \u001b[32m━━━━━━━━━━━━━━━━━━━\u001b[0m\u001b[37m━\u001b[0m \u001b[1m0s\u001b[0m 16ms/step - accuracy: 0.9655 - loss: 0.0892\n",
            "Epoch 203: val_loss did not improve from 0.10404\n",
            "\u001b[1m41/41\u001b[0m \u001b[32m━━━━━━━━━━━━━━━━━━━━\u001b[0m\u001b[37m\u001b[0m \u001b[1m1s\u001b[0m 19ms/step - accuracy: 0.9654 - loss: 0.0893 - val_accuracy: 0.9499 - val_loss: 0.1383\n",
            "Epoch 204/1000\n",
            "\u001b[1m39/41\u001b[0m \u001b[32m━━━━━━━━━━━━━━━━━━━\u001b[0m\u001b[37m━\u001b[0m \u001b[1m0s\u001b[0m 16ms/step - accuracy: 0.9599 - loss: 0.1133\n",
            "Epoch 204: val_loss did not improve from 0.10404\n",
            "\u001b[1m41/41\u001b[0m \u001b[32m━━━━━━━━━━━━━━━━━━━━\u001b[0m\u001b[37m\u001b[0m \u001b[1m1s\u001b[0m 20ms/step - accuracy: 0.9601 - loss: 0.1126 - val_accuracy: 0.9464 - val_loss: 0.1312\n",
            "Epoch 205/1000\n",
            "\u001b[1m38/41\u001b[0m \u001b[32m━━━━━━━━━━━━━━━━━━\u001b[0m\u001b[37m━━\u001b[0m \u001b[1m0s\u001b[0m 16ms/step - accuracy: 0.9599 - loss: 0.1034\n",
            "Epoch 205: val_loss did not improve from 0.10404\n",
            "\u001b[1m41/41\u001b[0m \u001b[32m━━━━━━━━━━━━━━━━━━━━\u001b[0m\u001b[37m\u001b[0m \u001b[1m1s\u001b[0m 20ms/step - accuracy: 0.9605 - loss: 0.1022 - val_accuracy: 0.9522 - val_loss: 0.1241\n",
            "Epoch 206/1000\n",
            "\u001b[1m41/41\u001b[0m \u001b[32m━━━━━━━━━━━━━━━━━━━━\u001b[0m\u001b[37m\u001b[0m \u001b[1m0s\u001b[0m 16ms/step - accuracy: 0.9598 - loss: 0.1066\n",
            "Epoch 206: val_loss did not improve from 0.10404\n",
            "\u001b[1m41/41\u001b[0m \u001b[32m━━━━━━━━━━━━━━━━━━━━\u001b[0m\u001b[37m\u001b[0m \u001b[1m1s\u001b[0m 19ms/step - accuracy: 0.9598 - loss: 0.1065 - val_accuracy: 0.9464 - val_loss: 0.1449\n",
            "Epoch 207/1000\n",
            "\u001b[1m39/41\u001b[0m \u001b[32m━━━━━━━━━━━━━━━━━━━\u001b[0m\u001b[37m━\u001b[0m \u001b[1m0s\u001b[0m 16ms/step - accuracy: 0.9575 - loss: 0.1167\n",
            "Epoch 207: val_loss did not improve from 0.10404\n",
            "\u001b[1m41/41\u001b[0m \u001b[32m━━━━━━━━━━━━━━━━━━━━\u001b[0m\u001b[37m\u001b[0m \u001b[1m1s\u001b[0m 19ms/step - accuracy: 0.9580 - loss: 0.1155 - val_accuracy: 0.9551 - val_loss: 0.1127\n",
            "Epoch 208/1000\n",
            "\u001b[1m38/41\u001b[0m \u001b[32m━━━━━━━━━━━━━━━━━━\u001b[0m\u001b[37m━━\u001b[0m \u001b[1m0s\u001b[0m 16ms/step - accuracy: 0.9609 - loss: 0.0889\n",
            "Epoch 208: val_loss did not improve from 0.10404\n",
            "\u001b[1m41/41\u001b[0m \u001b[32m━━━━━━━━━━━━━━━━━━━━\u001b[0m\u001b[37m\u001b[0m \u001b[1m1s\u001b[0m 20ms/step - accuracy: 0.9611 - loss: 0.0891 - val_accuracy: 0.9405 - val_loss: 0.1395\n",
            "Epoch 209/1000\n",
            "\u001b[1m39/41\u001b[0m \u001b[32m━━━━━━━━━━━━━━━━━━━\u001b[0m\u001b[37m━\u001b[0m \u001b[1m0s\u001b[0m 23ms/step - accuracy: 0.9669 - loss: 0.0900\n",
            "Epoch 209: val_loss did not improve from 0.10404\n",
            "\u001b[1m41/41\u001b[0m \u001b[32m━━━━━━━━━━━━━━━━━━━━\u001b[0m\u001b[37m\u001b[0m \u001b[1m2s\u001b[0m 32ms/step - accuracy: 0.9669 - loss: 0.0900 - val_accuracy: 0.9615 - val_loss: 0.1223\n",
            "Epoch 210/1000\n",
            "\u001b[1m38/41\u001b[0m \u001b[32m━━━━━━━━━━━━━━━━━━\u001b[0m\u001b[37m━━\u001b[0m \u001b[1m0s\u001b[0m 17ms/step - accuracy: 0.9653 - loss: 0.0835\n",
            "Epoch 210: val_loss did not improve from 0.10404\n",
            "\u001b[1m41/41\u001b[0m \u001b[32m━━━━━━━━━━━━━━━━━━━━\u001b[0m\u001b[37m\u001b[0m \u001b[1m2s\u001b[0m 21ms/step - accuracy: 0.9646 - loss: 0.0850 - val_accuracy: 0.9388 - val_loss: 0.1489\n",
            "Epoch 211/1000\n",
            "\u001b[1m39/41\u001b[0m \u001b[32m━━━━━━━━━━━━━━━━━━━\u001b[0m\u001b[37m━\u001b[0m \u001b[1m0s\u001b[0m 16ms/step - accuracy: 0.9571 - loss: 0.1108\n",
            "Epoch 211: val_loss did not improve from 0.10404\n",
            "\u001b[1m41/41\u001b[0m \u001b[32m━━━━━━━━━━━━━━━━━━━━\u001b[0m\u001b[37m\u001b[0m \u001b[1m1s\u001b[0m 21ms/step - accuracy: 0.9572 - loss: 0.1107 - val_accuracy: 0.9195 - val_loss: 0.2184\n",
            "Epoch 212/1000\n",
            "\u001b[1m38/41\u001b[0m \u001b[32m━━━━━━━━━━━━━━━━━━\u001b[0m\u001b[37m━━\u001b[0m \u001b[1m0s\u001b[0m 16ms/step - accuracy: 0.9538 - loss: 0.1156\n",
            "Epoch 212: val_loss did not improve from 0.10404\n",
            "\u001b[1m41/41\u001b[0m \u001b[32m━━━━━━━━━━━━━━━━━━━━\u001b[0m\u001b[37m\u001b[0m \u001b[1m1s\u001b[0m 20ms/step - accuracy: 0.9541 - loss: 0.1149 - val_accuracy: 0.9499 - val_loss: 0.1329\n",
            "Epoch 213/1000\n",
            "\u001b[1m41/41\u001b[0m \u001b[32m━━━━━━━━━━━━━━━━━━━━\u001b[0m\u001b[37m\u001b[0m \u001b[1m0s\u001b[0m 16ms/step - accuracy: 0.9603 - loss: 0.1109\n",
            "Epoch 213: val_loss did not improve from 0.10404\n",
            "\u001b[1m41/41\u001b[0m \u001b[32m━━━━━━━━━━━━━━━━━━━━\u001b[0m\u001b[37m\u001b[0m \u001b[1m1s\u001b[0m 20ms/step - accuracy: 0.9605 - loss: 0.1104 - val_accuracy: 0.9563 - val_loss: 0.1096\n",
            "Epoch 214/1000\n",
            "\u001b[1m40/41\u001b[0m \u001b[32m━━━━━━━━━━━━━━━━━━━\u001b[0m\u001b[37m━\u001b[0m \u001b[1m0s\u001b[0m 15ms/step - accuracy: 0.9666 - loss: 0.0824\n",
            "Epoch 214: val_loss did not improve from 0.10404\n",
            "\u001b[1m41/41\u001b[0m \u001b[32m━━━━━━━━━━━━━━━━━━━━\u001b[0m\u001b[37m\u001b[0m \u001b[1m1s\u001b[0m 18ms/step - accuracy: 0.9667 - loss: 0.0824 - val_accuracy: 0.9504 - val_loss: 0.1378\n",
            "Epoch 215/1000\n",
            "\u001b[1m40/41\u001b[0m \u001b[32m━━━━━━━━━━━━━━━━━━━\u001b[0m\u001b[37m━\u001b[0m \u001b[1m0s\u001b[0m 16ms/step - accuracy: 0.9644 - loss: 0.0908\n",
            "Epoch 215: val_loss did not improve from 0.10404\n",
            "\u001b[1m41/41\u001b[0m \u001b[32m━━━━━━━━━━━━━━━━━━━━\u001b[0m\u001b[37m\u001b[0m \u001b[1m1s\u001b[0m 19ms/step - accuracy: 0.9645 - loss: 0.0906 - val_accuracy: 0.9557 - val_loss: 0.1149\n",
            "Epoch 216/1000\n",
            "\u001b[1m38/41\u001b[0m \u001b[32m━━━━━━━━━━━━━━━━━━\u001b[0m\u001b[37m━━\u001b[0m \u001b[1m0s\u001b[0m 15ms/step - accuracy: 0.9593 - loss: 0.1016\n",
            "Epoch 216: val_loss did not improve from 0.10404\n",
            "\u001b[1m41/41\u001b[0m \u001b[32m━━━━━━━━━━━━━━━━━━━━\u001b[0m\u001b[37m\u001b[0m \u001b[1m1s\u001b[0m 19ms/step - accuracy: 0.9593 - loss: 0.1014 - val_accuracy: 0.9528 - val_loss: 0.1356\n",
            "Epoch 217/1000\n",
            "\u001b[1m38/41\u001b[0m \u001b[32m━━━━━━━━━━━━━━━━━━\u001b[0m\u001b[37m━━\u001b[0m \u001b[1m0s\u001b[0m 16ms/step - accuracy: 0.9619 - loss: 0.0894\n",
            "Epoch 217: val_loss did not improve from 0.10404\n",
            "\u001b[1m41/41\u001b[0m \u001b[32m━━━━━━━━━━━━━━━━━━━━\u001b[0m\u001b[37m\u001b[0m \u001b[1m1s\u001b[0m 19ms/step - accuracy: 0.9621 - loss: 0.0892 - val_accuracy: 0.9563 - val_loss: 0.1212\n",
            "Epoch 218/1000\n",
            "\u001b[1m41/41\u001b[0m \u001b[32m━━━━━━━━━━━━━━━━━━━━\u001b[0m\u001b[37m\u001b[0m \u001b[1m0s\u001b[0m 16ms/step - accuracy: 0.9692 - loss: 0.0825\n",
            "Epoch 218: val_loss did not improve from 0.10404\n",
            "\u001b[1m41/41\u001b[0m \u001b[32m━━━━━━━━━━━━━━━━━━━━\u001b[0m\u001b[37m\u001b[0m \u001b[1m1s\u001b[0m 20ms/step - accuracy: 0.9691 - loss: 0.0826 - val_accuracy: 0.9563 - val_loss: 0.1274\n",
            "Epoch 219/1000\n",
            "\u001b[1m39/41\u001b[0m \u001b[32m━━━━━━━━━━━━━━━━━━━\u001b[0m\u001b[37m━\u001b[0m \u001b[1m0s\u001b[0m 25ms/step - accuracy: 0.9645 - loss: 0.0898\n",
            "Epoch 219: val_loss did not improve from 0.10404\n",
            "\u001b[1m41/41\u001b[0m \u001b[32m━━━━━━━━━━━━━━━━━━━━\u001b[0m\u001b[37m\u001b[0m \u001b[1m2s\u001b[0m 31ms/step - accuracy: 0.9641 - loss: 0.0909 - val_accuracy: 0.9464 - val_loss: 0.1454\n",
            "Epoch 220/1000\n",
            "\u001b[1m39/41\u001b[0m \u001b[32m━━━━━━━━━━━━━━━━━━━\u001b[0m\u001b[37m━\u001b[0m \u001b[1m0s\u001b[0m 16ms/step - accuracy: 0.9630 - loss: 0.1004\n",
            "Epoch 220: val_loss did not improve from 0.10404\n",
            "\u001b[1m41/41\u001b[0m \u001b[32m━━━━━━━━━━━━━━━━━━━━\u001b[0m\u001b[37m\u001b[0m \u001b[1m2s\u001b[0m 21ms/step - accuracy: 0.9632 - loss: 0.0996 - val_accuracy: 0.9446 - val_loss: 0.1362\n",
            "Epoch 221/1000\n",
            "\u001b[1m38/41\u001b[0m \u001b[32m━━━━━━━━━━━━━━━━━━\u001b[0m\u001b[37m━━\u001b[0m \u001b[1m0s\u001b[0m 16ms/step - accuracy: 0.9695 - loss: 0.0799\n",
            "Epoch 221: val_loss did not improve from 0.10404\n",
            "\u001b[1m41/41\u001b[0m \u001b[32m━━━━━━━━━━━━━━━━━━━━\u001b[0m\u001b[37m\u001b[0m \u001b[1m1s\u001b[0m 20ms/step - accuracy: 0.9692 - loss: 0.0806 - val_accuracy: 0.9364 - val_loss: 0.1643\n",
            "Epoch 222/1000\n",
            "\u001b[1m40/41\u001b[0m \u001b[32m━━━━━━━━━━━━━━━━━━━\u001b[0m\u001b[37m━\u001b[0m \u001b[1m0s\u001b[0m 16ms/step - accuracy: 0.9642 - loss: 0.0931\n",
            "Epoch 222: val_loss did not improve from 0.10404\n",
            "\u001b[1m41/41\u001b[0m \u001b[32m━━━━━━━━━━━━━━━━━━━━\u001b[0m\u001b[37m\u001b[0m \u001b[1m1s\u001b[0m 19ms/step - accuracy: 0.9642 - loss: 0.0933 - val_accuracy: 0.9539 - val_loss: 0.1377\n",
            "Epoch 223/1000\n",
            "\u001b[1m38/41\u001b[0m \u001b[32m━━━━━━━━━━━━━━━━━━\u001b[0m\u001b[37m━━\u001b[0m \u001b[1m0s\u001b[0m 16ms/step - accuracy: 0.9703 - loss: 0.0887\n",
            "Epoch 223: val_loss did not improve from 0.10404\n",
            "\u001b[1m41/41\u001b[0m \u001b[32m━━━━━━━━━━━━━━━━━━━━\u001b[0m\u001b[37m\u001b[0m \u001b[1m1s\u001b[0m 19ms/step - accuracy: 0.9700 - loss: 0.0888 - val_accuracy: 0.9522 - val_loss: 0.1186\n",
            "Epoch 224/1000\n",
            "\u001b[1m38/41\u001b[0m \u001b[32m━━━━━━━━━━━━━━━━━━\u001b[0m\u001b[37m━━\u001b[0m \u001b[1m0s\u001b[0m 17ms/step - accuracy: 0.9517 - loss: 0.1261\n",
            "Epoch 224: val_loss did not improve from 0.10404\n",
            "\u001b[1m41/41\u001b[0m \u001b[32m━━━━━━━━━━━━━━━━━━━━\u001b[0m\u001b[37m\u001b[0m \u001b[1m1s\u001b[0m 21ms/step - accuracy: 0.9522 - loss: 0.1249 - val_accuracy: 0.9388 - val_loss: 0.1416\n",
            "Epoch 225/1000\n",
            "\u001b[1m38/41\u001b[0m \u001b[32m━━━━━━━━━━━━━━━━━━\u001b[0m\u001b[37m━━\u001b[0m \u001b[1m0s\u001b[0m 17ms/step - accuracy: 0.9532 - loss: 0.1183\n",
            "Epoch 225: val_loss did not improve from 0.10404\n",
            "\u001b[1m41/41\u001b[0m \u001b[32m━━━━━━━━━━━━━━━━━━━━\u001b[0m\u001b[37m\u001b[0m \u001b[1m1s\u001b[0m 21ms/step - accuracy: 0.9535 - loss: 0.1178 - val_accuracy: 0.9411 - val_loss: 0.1583\n",
            "Epoch 226/1000\n",
            "\u001b[1m38/41\u001b[0m \u001b[32m━━━━━━━━━━━━━━━━━━\u001b[0m\u001b[37m━━\u001b[0m \u001b[1m0s\u001b[0m 17ms/step - accuracy: 0.9691 - loss: 0.0797\n",
            "Epoch 226: val_loss did not improve from 0.10404\n",
            "\u001b[1m41/41\u001b[0m \u001b[32m━━━━━━━━━━━━━━━━━━━━\u001b[0m\u001b[37m\u001b[0m \u001b[1m1s\u001b[0m 21ms/step - accuracy: 0.9690 - loss: 0.0800 - val_accuracy: 0.9569 - val_loss: 0.1225\n",
            "Epoch 227/1000\n",
            "\u001b[1m38/41\u001b[0m \u001b[32m━━━━━━━━━━━━━━━━━━\u001b[0m\u001b[37m━━\u001b[0m \u001b[1m0s\u001b[0m 17ms/step - accuracy: 0.9678 - loss: 0.0877\n",
            "Epoch 227: val_loss did not improve from 0.10404\n",
            "\u001b[1m41/41\u001b[0m \u001b[32m━━━━━━━━━━━━━━━━━━━━\u001b[0m\u001b[37m\u001b[0m \u001b[1m1s\u001b[0m 21ms/step - accuracy: 0.9675 - loss: 0.0882 - val_accuracy: 0.9411 - val_loss: 0.1719\n",
            "Epoch 228/1000\n",
            "\u001b[1m39/41\u001b[0m \u001b[32m━━━━━━━━━━━━━━━━━━━\u001b[0m\u001b[37m━\u001b[0m \u001b[1m0s\u001b[0m 17ms/step - accuracy: 0.9348 - loss: 0.1686\n",
            "Epoch 228: val_loss did not improve from 0.10404\n",
            "\u001b[1m41/41\u001b[0m \u001b[32m━━━━━━━━━━━━━━━━━━━━\u001b[0m\u001b[37m\u001b[0m \u001b[1m1s\u001b[0m 20ms/step - accuracy: 0.9356 - loss: 0.1672 - val_accuracy: 0.9539 - val_loss: 0.1307\n",
            "Epoch 229/1000\n",
            "\u001b[1m41/41\u001b[0m \u001b[32m━━━━━━━━━━━━━━━━━━━━\u001b[0m\u001b[37m\u001b[0m \u001b[1m0s\u001b[0m 17ms/step - accuracy: 0.9589 - loss: 0.1115\n",
            "Epoch 229: val_loss did not improve from 0.10404\n",
            "\u001b[1m41/41\u001b[0m \u001b[32m━━━━━━━━━━━━━━━━━━━━\u001b[0m\u001b[37m\u001b[0m \u001b[1m1s\u001b[0m 20ms/step - accuracy: 0.9590 - loss: 0.1112 - val_accuracy: 0.9452 - val_loss: 0.1289\n",
            "Epoch 229: early stopping\n"
          ]
        }
      ],
      "source": [
        "history = model.fit(\n",
        "    X_train,\n",
        "    y_train,\n",
        "    epochs=1000,\n",
        "    batch_size=128,\n",
        "    validation_data=(X_test, y_test),\n",
        "    callbacks=[cp_callback, es_callback]\n",
        ")"
      ]
    },
    {
      "cell_type": "code",
      "execution_count": 116,
      "metadata": {
        "colab": {
          "base_uri": "https://localhost:8080/"
        },
        "id": "CFlTKHTo3ZDa",
        "outputId": "9ae12a44-69b0-4ef1-f6cb-f795c8887755"
      },
      "outputs": [
        {
          "output_type": "stream",
          "name": "stdout",
          "text": [
            "\u001b[1m14/14\u001b[0m \u001b[32m━━━━━━━━━━━━━━━━━━━━\u001b[0m\u001b[37m\u001b[0m \u001b[1m0s\u001b[0m 7ms/step - accuracy: 0.9405 - loss: 0.1307\n"
          ]
        }
      ],
      "source": [
        "# 모델 평가\n",
        "val_loss, val_acc = model.evaluate(X_test, y_test, batch_size=128)"
      ]
    },
    {
      "cell_type": "code",
      "execution_count": 117,
      "metadata": {
        "id": "WHFScujJ3ZDa"
      },
      "outputs": [],
      "source": [
        "# 저장 모델 불러오기\n",
        "model = tf.keras.models.load_model(model_save_path)"
      ]
    },
    {
      "cell_type": "code",
      "execution_count": 118,
      "metadata": {
        "colab": {
          "base_uri": "https://localhost:8080/"
        },
        "id": "vqmnLuZC3ZDa",
        "outputId": "9aa99660-c6e8-4e7e-eeb6-c3233bbb298d"
      },
      "outputs": [
        {
          "output_type": "stream",
          "name": "stdout",
          "text": [
            "\u001b[1m1/1\u001b[0m \u001b[32m━━━━━━━━━━━━━━━━━━━━\u001b[0m\u001b[37m\u001b[0m \u001b[1m0s\u001b[0m 108ms/step\n",
            "[6.4825952e-05 9.9993324e-01 1.8559870e-06 3.0354990e-16]\n",
            "1\n"
          ]
        }
      ],
      "source": [
        "# 모델 predict\n",
        "predict_result = model.predict(np.array([X_test[0]]))\n",
        "print(np.squeeze(predict_result))\n",
        "print(np.argmax(np.squeeze(predict_result)))"
      ]
    },
    {
      "cell_type": "markdown",
      "metadata": {
        "id": "W7Lu8M4F3ZDa"
      },
      "source": [
        "# 결과 시각화\n"
      ]
    },
    {
      "cell_type": "code",
      "execution_count": 119,
      "metadata": {
        "colab": {
          "base_uri": "https://localhost:8080/",
          "height": 352
        },
        "id": "EByVkq3laxVc",
        "outputId": "f08f419f-77eb-4589-99dc-ccde332ff391"
      },
      "outputs": [
        {
          "output_type": "display_data",
          "data": {
            "text/plain": [
              "<Figure size 1200x500 with 2 Axes>"
            ],
            "image/png": "[encoded data removed]"
          },
          "metadata": {}
        }
      ],
      "source": [
        "plt.figure(figsize=(12, 5))\n",
        "\n",
        "plt.subplot(1, 2, 1)\n",
        "plt.plot(history.history['accuracy'])\n",
        "plt.plot(history.history['val_accuracy'])\n",
        "plt.title('Model Accuracy')\n",
        "plt.ylabel('Accuracy')\n",
        "plt.xlabel('Epoch')\n",
        "plt.legend(['Train', 'Test'], loc='upper left')\n",
        "\n",
        "plt.subplot(1, 2, 2)\n",
        "plt.plot(history.history['loss'])\n",
        "plt.plot(history.history['val_loss'])\n",
        "plt.title('Model Loss')\n",
        "plt.ylabel('Loss')\n",
        "plt.xlabel('Epoch')\n",
        "plt.legend(['Train', 'Test'], loc='upper left')\n",
        "\n",
        "plt.tight_layout()\n",
        "plt.show()"
      ]
    },
    {
      "cell_type": "code",
      "execution_count": 120,
      "metadata": {
        "colab": {
          "base_uri": "https://localhost:8080/",
          "height": 761
        },
        "id": "txTBNx_I3ZDa",
        "outputId": "9c03b0fa-0d2d-4194-ac36-7a8d0ea4c4f2"
      },
      "outputs": [
        {
          "output_type": "stream",
          "name": "stdout",
          "text": [
            "\u001b[1m54/54\u001b[0m \u001b[32m━━━━━━━━━━━━━━━━━━━━\u001b[0m\u001b[37m\u001b[0m \u001b[1m0s\u001b[0m 5ms/step\n"
          ]
        },
        {
          "output_type": "display_data",
          "data": {
            "text/plain": [
              "<Figure size 700x600 with 2 Axes>"
            ],
            "image/png": "[encoded data removed]"
          },
          "metadata": {}
        },
        {
          "output_type": "stream",
          "name": "stdout",
          "text": [
            "Classification Report\n",
            "              precision    recall  f1-score   support\n",
            "\n",
            "           0       0.99      0.99      0.99       739\n",
            "           1       0.92      0.91      0.91       224\n",
            "           2       0.96      0.98      0.97       563\n",
            "           3       0.94      0.88      0.91       189\n",
            "\n",
            "    accuracy                           0.96      1715\n",
            "   macro avg       0.95      0.94      0.94      1715\n",
            "weighted avg       0.96      0.96      0.96      1715\n",
            "\n"
          ]
        }
      ],
      "source": [
        "def print_confusion_matrix(y_true, y_pred, report=True):\n",
        "    labels = sorted(list(set(y_true)))\n",
        "    cmx_data = confusion_matrix(y_true, y_pred, labels=labels)\n",
        "\n",
        "    df_cmx = pd.DataFrame(cmx_data, index=labels, columns=labels)\n",
        "\n",
        "    fig, ax = plt.subplots(figsize=(7, 6))\n",
        "    sns.heatmap(df_cmx, annot=True, fmt='g' ,square=False)\n",
        "    ax.set_ylim(len(set(y_true)), 0)\n",
        "    plt.show()\n",
        "\n",
        "    if report:\n",
        "        print('Classification Report')\n",
        "        print(classification_report(y_test, y_pred))\n",
        "\n",
        "Y_pred = model.predict(X_test)\n",
        "y_pred = np.argmax(Y_pred, axis=1)\n",
        "\n",
        "print_confusion_matrix(y_test, y_pred)"
      ]
    },
    {
      "cell_type": "code",
      "source": [
        "Y_pred = model.predict(X_test)\n",
        "y_pred = np.argmax(Y_pred, axis=1)\n",
        "\n",
        "try:\n",
        "    cm = confusion_matrix(y_test, y_pred)\n",
        "\n",
        "    # 클래스별 정확도 계산 및 시각화\n",
        "    class_accuracy = np.zeros(4)  # 0~3 클래스에 대한 정확도 배열 초기화\n",
        "    for i in range(min(4, len(cm))):\n",
        "        if cm.sum(axis=1)[i] > 0:  # 0으로 나누기 방지\n",
        "            class_accuracy[i] = cm[i, i] / cm.sum(axis=1)[i]\n",
        "\n",
        "    plt.figure(figsize=(10, 6))\n",
        "    plt.bar(['Standing', 'Start Walking', 'Walking','Finish Walking'], class_accuracy)\n",
        "    plt.xlabel('Class')\n",
        "    plt.ylabel('Accuracy')\n",
        "    plt.title('Class-wise Accuracy')\n",
        "    plt.ylim(0, 1)\n",
        "    plt.show()\n",
        "except Exception as e:\n",
        "    print(f\"시각화 중 오류 발생: {e}\")\n",
        "    import traceback\n",
        "    traceback.print_exc()"
      ],
      "metadata": {
        "colab": {
          "base_uri": "https://localhost:8080/",
          "height": 560
        },
        "id": "ZcZO8Wlqxmmk",
        "outputId": "1f022ece-21dc-431d-e0c2-e61d7c4952d1"
      },
      "execution_count": 121,
      "outputs": [
        {
          "output_type": "stream",
          "name": "stdout",
          "text": [
            "\u001b[1m54/54\u001b[0m \u001b[32m━━━━━━━━━━━━━━━━━━━━\u001b[0m\u001b[37m\u001b[0m \u001b[1m0s\u001b[0m 4ms/step\n"
          ]
        },
        {
          "output_type": "display_data",
          "data": {
            "text/plain": [
              "<Figure size 1000x600 with 1 Axes>"
            ],
            "image/png": "[encoded data removed]"
          },
          "metadata": {}
        }
      ]
    },
    {
      "cell_type": "markdown",
      "metadata": {
        "id": "Vz9VfbaH3ZDb"
      },
      "source": [
        "# Tensorflow-Lite용 모델로 변환"
      ]
    },
    {
      "cell_type": "code",
      "execution_count": 122,
      "metadata": {
        "id": "c9MMTxSq3ZDb"
      },
      "outputs": [],
      "source": [
        "# 추론 전용 모델 저장\n",
        "model.save(model_save_path, include_optimizer=False)"
      ]
    },
    {
      "cell_type": "code",
      "execution_count": 123,
      "metadata": {
        "id": "PT4ScxGv3ZDb",
        "outputId": "03d0baae-6cbc-4161-d2bd-ac61bb6d96b6",
        "colab": {
          "base_uri": "https://localhost:8080/"
        }
      },
      "outputs": [
        {
          "output_type": "stream",
          "name": "stdout",
          "text": [
            "Saved artifact at '/tmp/tmp0ym8t16p'. The following endpoints are available:\n",
            "\n",
            "* Endpoint 'serve'\n",
            "  args_0 (POSITIONAL_ONLY): TensorSpec(shape=(None, 20, 69), dtype=tf.float32, name='input_layer_3')\n",
            "Output Type:\n",
            "  TensorSpec(shape=(None, 4), dtype=tf.float32, name=None)\n",
            "Captures:\n",
            "  139947657199440: TensorSpec(shape=(), dtype=tf.resource, name=None)\n",
            "  139947657196944: TensorSpec(shape=(), dtype=tf.resource, name=None)\n",
            "  139947653256912: TensorSpec(shape=(), dtype=tf.resource, name=None)\n",
            "  139947653254416: TensorSpec(shape=(), dtype=tf.resource, name=None)\n",
            "  139947653257488: TensorSpec(shape=(), dtype=tf.resource, name=None)\n",
            "  139947653256336: TensorSpec(shape=(), dtype=tf.resource, name=None)\n",
            "  139947653254992: TensorSpec(shape=(), dtype=tf.resource, name=None)\n",
            "  139947653255952: TensorSpec(shape=(), dtype=tf.resource, name=None)\n"
          ]
        },
        {
          "output_type": "execute_result",
          "data": {
            "text/plain": [
              "55368"
            ]
          },
          "metadata": {},
          "execution_count": 123
        }
      ],
      "source": [
        "# 경량화\n",
        "tflite_save_path = '/content/keypoint_classifier.tflite'\n",
        "\n",
        "converter = tf.lite.TFLiteConverter.from_keras_model(model)\n",
        "converter.optimizations = [tf.lite.Optimize.DEFAULT]\n",
        "tflite_quantized_model = converter.convert()\n",
        "\n",
        "open(tflite_save_path, 'wb').write(tflite_quantized_model)"
      ]
    },
    {
      "cell_type": "markdown",
      "metadata": {
        "id": "B9rK1NSQ3ZDb"
      },
      "source": [
        "# Inference 테스트"
      ]
    },
    {
      "cell_type": "code",
      "execution_count": 124,
      "metadata": {
        "id": "419MFpa03ZDb"
      },
      "outputs": [],
      "source": [
        "interpreter = tf.lite.Interpreter(model_path=tflite_save_path)\n",
        "interpreter.allocate_tensors()"
      ]
    },
    {
      "cell_type": "code",
      "execution_count": 125,
      "metadata": {
        "id": "M6c0bE1m3ZDb"
      },
      "outputs": [],
      "source": [
        "# input, output tenser 추출\n",
        "input_details = interpreter.get_input_details()\n",
        "output_details = interpreter.get_output_details()"
      ]
    },
    {
      "cell_type": "code",
      "execution_count": 126,
      "metadata": {
        "id": "vlZfT1jE3ZDb"
      },
      "outputs": [],
      "source": [
        "input_data = np.array([X_test[0]], dtype=np.float32)\n",
        "interpreter.set_tensor(input_details[0]['index'], input_data)"
      ]
    },
    {
      "cell_type": "code",
      "execution_count": 127,
      "metadata": {
        "id": "lNCt_f_m3ZDb",
        "outputId": "cf961c03-a725-4bf3-a7b7-e8c3859a0cec",
        "scrolled": true,
        "colab": {
          "base_uri": "https://localhost:8080/"
        }
      },
      "outputs": [
        {
          "output_type": "stream",
          "name": "stdout",
          "text": [
            "CPU times: user 432 µs, sys: 16 µs, total: 448 µs\n",
            "Wall time: 393 µs\n"
          ]
        }
      ],
      "source": [
        "%%time\n",
        "# 예측 시간\n",
        "interpreter.invoke()\n",
        "tflite_results = interpreter.get_tensor(output_details[0]['index'])"
      ]
    },
    {
      "cell_type": "code",
      "execution_count": 128,
      "metadata": {
        "id": "Cu43GSee3ZDc",
        "outputId": "0479e639-7413-4e86-81b3-65d9d734db71",
        "colab": {
          "base_uri": "https://localhost:8080/"
        }
      },
      "outputs": [
        {
          "output_type": "stream",
          "name": "stdout",
          "text": [
            "[6.4635235e-05 9.9993384e-01 1.4983336e-06 3.5655505e-16]\n",
            "1\n"
          ]
        }
      ],
      "source": [
        "print(np.squeeze(tflite_results))\n",
        "print(np.argmax(np.squeeze(tflite_results)))"
      ]
    }
  ],
  "metadata": {
    "colab": {
      "provenance": []
    },
    "kernelspec": {
      "display_name": "Python 3",
      "language": "python",
      "name": "python3"
    },
    "language_info": {
      "codemirror_mode": {
        "name": "ipython",
        "version": 3
      },
      "file_extension": ".py",
      "mimetype": "text/x-python",
      "name": "python",
      "nbconvert_exporter": "python",
      "pygments_lexer": "ipython3",
      "version": "3.8.5"
    }
  },
  "nbformat": 4,
  "nbformat_minor": 0
}