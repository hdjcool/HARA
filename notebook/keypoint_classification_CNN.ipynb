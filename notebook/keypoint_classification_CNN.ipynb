{
  "cells": [
    {
      "cell_type": "markdown",
      "metadata": {
        "id": "-N140wraS3om"
      },
      "source": [
        "# 라이브러리 Import"
      ]
    },
    {
      "cell_type": "code",
      "execution_count": 3,
      "metadata": {
        "id": "YxTd1q1o3ZDQ"
      },
      "outputs": [],
      "source": [
        "import csv\n",
        "import numpy as np\n",
        "import tensorflow as tf\n",
        "from sklearn.model_selection import train_test_split\n",
        "import re\n",
        "import os\n",
        "import pandas as pd\n",
        "import numpy as np\n",
        "import shutil\n",
        "import matplotlib.pyplot as plt\n",
        "import seaborn as sns\n",
        "from sklearn.metrics import confusion_matrix, classification_report\n",
        "\n",
        "RANDOM_SEED = 42"
      ]
    },
    {
      "cell_type": "markdown",
      "metadata": {
        "id": "PlSsvhuiS8p-"
      },
      "source": [
        "# 학습 데이터 병합"
      ]
    },
    {
      "cell_type": "code",
      "execution_count": 4,
      "metadata": {
        "id": "mNasPp886JBs"
      },
      "outputs": [],
      "source": [
        "zip_path1 = \"/content/train4a.zip\" # ZIP 파일 경로\n",
        "extract_path1 = \"/content/train4a/\"  # 압축 해제 경로\n",
        "\n",
        "shutil.unpack_archive(zip_path1, extract_path1)"
      ]
    },
    {
      "cell_type": "code",
      "execution_count": 5,
      "metadata": {
        "id": "gPy1ICEERTt1"
      },
      "outputs": [],
      "source": [
        "fixed_file_path = \"/content/merged_pedestrian_behavior.csv\""
      ]
    },
    {
      "cell_type": "code",
      "execution_count": 6,
      "metadata": {
        "colab": {
          "base_uri": "https://localhost:8080/"
        },
        "id": "C8sAwzGhRQp_",
        "outputId": "b0e51259-500b-46df-874f-c551e116f158"
      },
      "outputs": [
        {
          "output_type": "stream",
          "name": "stdout",
          "text": [
            "CSV 파일 로드 시작...\n",
            "처리 중: Video_1_dataset.csv\n",
            "처리 완료: Video_1_dataset.csv (Samples: 203)\n",
            "처리 중: Video_2_dataset.csv\n",
            "처리 완료: Video_2_dataset.csv (Samples: 98)\n",
            "처리 중: Video_3_dataset.csv\n",
            "처리 완료: Video_3_dataset.csv (Samples: 128)\n",
            "처리 중: Video_4_dataset.csv\n",
            "처리 완료: Video_4_dataset.csv (Samples: 146)\n",
            "처리 중: Video_5_dataset.csv\n",
            "처리 완료: Video_5_dataset.csv (Samples: 144)\n",
            "처리 중: Video_6_dataset.csv\n",
            "처리 완료: Video_6_dataset.csv (Samples: 81)\n",
            "처리 중: Video_7_dataset.csv\n",
            "처리 완료: Video_7_dataset.csv (Samples: 59)\n",
            "처리 중: Video_8_dataset.csv\n",
            "처리 완료: Video_8_dataset.csv (Samples: 345)\n",
            "처리 중: Video_9_dataset.csv\n",
            "처리 완료: Video_9_dataset.csv (Samples: 165)\n",
            "처리 중: Video_10_dataset.csv\n",
            "처리 완료: Video_10_dataset.csv (Samples: 125)\n",
            "처리 중: Video_11_dataset.csv\n",
            "처리 완료: Video_11_dataset.csv (Samples: 134)\n",
            "처리 중: Video_12_dataset.csv\n",
            "처리 완료: Video_12_dataset.csv (Samples: 38)\n",
            "처리 중: Video_13_dataset.csv\n",
            "처리 완료: Video_13_dataset.csv (Samples: 159)\n",
            "처리 중: Video_14_dataset.csv\n",
            "처리 완료: Video_14_dataset.csv (Samples: 38)\n",
            "처리 중: Video_15_dataset.csv\n",
            "처리 완료: Video_15_dataset.csv (Samples: 209)\n",
            "처리 중: Video_16_dataset.csv\n",
            "처리 완료: Video_16_dataset.csv (Samples: 111)\n",
            "처리 중: Video_17_dataset.csv\n",
            "처리 완료: Video_17_dataset.csv (Samples: 170)\n",
            "처리 중: Video_18_dataset.csv\n",
            "처리 완료: Video_18_dataset.csv (Samples: 329)\n",
            "처리 중: Video_19_dataset.csv\n",
            "처리 완료: Video_19_dataset.csv (Samples: 104)\n",
            "처리 중: Video_20_dataset.csv\n",
            "처리 완료: Video_20_dataset.csv (Samples: 570)\n",
            "처리 중: Video_21_dataset.csv\n",
            "처리 완료: Video_21_dataset.csv (Samples: 56)\n",
            "처리 중: Video_22_dataset.csv\n",
            "처리 완료: Video_22_dataset.csv (Samples: 270)\n",
            "처리 중: Video_23_dataset.csv\n",
            "처리 완료: Video_23_dataset.csv (Samples: 239)\n",
            "처리 중: Video_24_dataset.csv\n",
            "처리 완료: Video_24_dataset.csv (Samples: 98)\n",
            "처리 중: Video_25_dataset.csv\n",
            "처리 완료: Video_25_dataset.csv (Samples: 166)\n",
            "처리 중: Video_26_dataset.csv\n",
            "처리 완료: Video_26_dataset.csv (Samples: 56)\n",
            "처리 중: Video_27_dataset.csv\n",
            "처리 완료: Video_27_dataset.csv (Samples: 358)\n",
            "처리 중: Video_28_dataset.csv\n",
            "처리 완료: Video_28_dataset.csv (Samples: 173)\n",
            "처리 중: Video_29_dataset.csv\n",
            "처리 완료: Video_29_dataset.csv (Samples: 40)\n",
            "처리 중: Video_30_dataset.csv\n",
            "처리 완료: Video_30_dataset.csv (Samples: 81)\n",
            "처리 중: Video_31_dataset.csv\n",
            "처리 완료: Video_31_dataset.csv (Samples: 54)\n",
            "처리 중: Video_32_dataset.csv\n",
            "처리 완료: Video_32_dataset.csv (Samples: 66)\n",
            "처리 중: Video_33_dataset.csv\n",
            "처리 완료: Video_33_dataset.csv (Samples: 128)\n",
            "처리 중: Video_34_dataset.csv\n",
            "처리 완료: Video_34_dataset.csv (Samples: 213)\n",
            "처리 중: Video_35_dataset.csv\n",
            "처리 완료: Video_35_dataset.csv (Samples: 775)\n",
            "처리 중: Video_36_dataset.csv\n",
            "처리 완료: Video_36_dataset.csv (Samples: 355)\n",
            "처리 중: Video_70_dataset.csv\n",
            "처리 완료: Video_70_dataset.csv (Samples: 250)\n",
            "처리 중: Video_71_dataset.csv\n",
            "처리 완료: Video_71_dataset.csv (Samples: 217)\n",
            "처리 중: Video_72_dataset.csv\n",
            "처리 완료: Video_72_dataset.csv (Samples: 232)\n",
            "처리 중: Video_73_dataset.csv\n",
            "처리 완료: Video_73_dataset.csv (Samples: 264)\n",
            "처리 중: Video_74_dataset.csv\n",
            "처리 완료: Video_74_dataset.csv (Samples: 419)\n",
            "\n",
            "데이터 타입 확인:\n",
            "frame: int64\n",
            "pedestrian_id: int64\n",
            "behavior_label: float64\n",
            "\n",
            "행동 라벨 분포:\n",
            "behavior_label\n",
            "0.0    3416\n",
            "2.0    2508\n",
            "1.0     998\n",
            "3.0     774\n",
            "Name: count, dtype: int64\n"
          ]
        }
      ],
      "source": [
        "# 보행자 CSV 파일이 저장된 폴더 경로\n",
        "data_folder = \"/content/train4a/train4a\"\n",
        "\n",
        "# 모든 CSV 파일 찾기\n",
        "csv_files = [f for f in os.listdir(data_folder) if f.endswith(\".csv\")]\n",
        "\n",
        "# 숫자 기준으로 파일 정렬 (Video_1_dataset.csv → Video_2_dataset.csv → ...)\n",
        "csv_files_sorted = sorted(csv_files, key=lambda x: int(re.search(r\"Video_(\\d+)_dataset\\.csv\", x).group(1)) if re.search(r\"Video_(\\d+)_dataset\\.csv\", x) else float('inf'))\n",
        "\n",
        "# 모든 CSV 파일 로드 및 frame 컬럼 추가\n",
        "all_dataframes = []\n",
        "\n",
        "print(\"CSV 파일 로드 시작...\")\n",
        "\n",
        "for filename in csv_files_sorted:\n",
        "    file_path = os.path.join(data_folder, filename)\n",
        "\n",
        "    # 파일 로드 로그 출력\n",
        "    print(f\"처리 중: {filename}\")\n",
        "\n",
        "    # 파일 이름에서 pedestrian_id 추출 (예: Video_1_dataset.csv → pedestrian_id = 1)\n",
        "    match = re.search(r\"Video_(\\d+)_dataset\\.csv\", filename)\n",
        "    if match:\n",
        "        pedestrian_id = int(match.group(1))  # \"Video_1_dataset.csv\" → 1\n",
        "\n",
        "        # CSV 파일 로드\n",
        "        df = pd.read_csv(file_path, header=None)  # 컬럼명이 없을 수도 있으므로 header=None 사용\n",
        "\n",
        "        # 입력 데이터 (69개)와 행동 라벨 (마지막 열) 분리\n",
        "        num_features = 69  # Keypoints(22개) + CoM(3D) = 69차원 입력\n",
        "        df_features = df.iloc[:, :num_features]  # 69개 입력 피처\n",
        "        df_labels = df.iloc[:, num_features]  # 마지막 열이 행동 클래스 라벨 (0~3)\n",
        "\n",
        "        # 컬럼 이름 설정\n",
        "        keypoint_columns = [f\"kp_{i}\" for i in range(num_features)]  # \"kp_0\", \"kp_1\", ..., \"kp_68\"\n",
        "        df_features.columns = keypoint_columns  # 입력 피처 이름 지정\n",
        "        df_labels.name = \"behavior_label\"  # 행동 클래스 열 이름 지정\n",
        "\n",
        "        # 보행자 ID 추가\n",
        "        df_features[\"pedestrian_id\"] = pedestrian_id\n",
        "\n",
        "        # 행동 라벨 추가 - 명시적으로 정수형(int)으로 변환\n",
        "        df_features[\"behavior_label\"] = df_labels\n",
        "\n",
        "        # frame 컬럼 추가 (0부터 시작하는 인덱스)\n",
        "        df_features.insert(0, \"frame\", range(len(df_features)))\n",
        "\n",
        "        # 리스트에 저장\n",
        "        all_dataframes.append(df_features)\n",
        "\n",
        "        # 파일 처리 완료 로그 출력\n",
        "        print(f\"처리 완료: {filename} (Samples: {len(df_features)})\")\n",
        "\n",
        "# 모든 데이터를 하나의 DataFrame으로 합침\n",
        "full_df = pd.concat(all_dataframes, ignore_index=True)\n",
        "\n",
        "# 데이터 타입 확인\n",
        "print(\"\\n데이터 타입 확인:\")\n",
        "for col in [\"frame\", \"pedestrian_id\", \"behavior_label\"]:\n",
        "    print(f\"{col}: {full_df[col].dtype}\")\n",
        "\n",
        "# 행동 라벨 분포 확인\n",
        "print(\"\\n행동 라벨 분포:\")\n",
        "print(full_df[\"behavior_label\"].value_counts())"
      ]
    },
    {
      "cell_type": "code",
      "execution_count": 7,
      "metadata": {
        "colab": {
          "base_uri": "https://localhost:8080/"
        },
        "id": "BWKMKZcMR2rn",
        "outputId": "340c3124-66a5-4ecf-db44-c04fa8c346df"
      },
      "outputs": [
        {
          "output_type": "stream",
          "name": "stdout",
          "text": [
            "NaN (결측값) 개수:\n",
            " kp_1              170\n",
            "kp_2              170\n",
            "kp_3              170\n",
            "kp_4              170\n",
            "kp_5              170\n",
            "                 ... \n",
            "kp_65             170\n",
            "kp_66             170\n",
            "kp_67             170\n",
            "kp_68             170\n",
            "behavior_label    170\n",
            "Length: 69, dtype: int64\n",
            "\n",
            "Inf (무한대) 개수:\n",
            " Series([], dtype: int64)\n"
          ]
        }
      ],
      "source": [
        "# 숫자형 데이터만 선택하여 NaN 및 inf 값 확인\n",
        "numeric_df = full_df.select_dtypes(include=[np.number])  # 숫자형(float, int) 데이터만 선택\n",
        "\n",
        "# NaN(결측값) 개수 확인\n",
        "missing_values = numeric_df.isna().sum()\n",
        "print(\"NaN (결측값) 개수:\\n\", missing_values[missing_values > 0])\n",
        "\n",
        "# Inf(무한대) 값 확인\n",
        "infinite_values = np.isinf(numeric_df).sum()\n",
        "print(\"\\nInf (무한대) 개수:\\n\", infinite_values[infinite_values > 0])"
      ]
    },
    {
      "cell_type": "code",
      "execution_count": 8,
      "metadata": {
        "colab": {
          "base_uri": "https://localhost:8080/"
        },
        "id": "e5uO3JDHR4mq",
        "outputId": "bf27ed67-0088-4c49-ee64-cf74cc485f9b"
      },
      "outputs": [
        {
          "output_type": "stream",
          "name": "stdout",
          "text": [
            "결측값 제거\n",
            "\n",
            "NaN (결측값) 개수:\n",
            " Series([], dtype: int64)\n",
            "\n",
            "Inf (무한대) 개수:\n",
            " Series([], dtype: int64)\n"
          ]
        }
      ],
      "source": [
        "# 결측치 제거\n",
        "full_df.dropna(inplace=True)\n",
        "print(\"결측값 제거\\n\")\n",
        "\n",
        "# 숫자형 데이터만 선택하여 NaN 및 inf 값 확인\n",
        "numeric_df = full_df.select_dtypes(include=[np.number])  # 숫자형(float, int) 데이터만 선택\n",
        "\n",
        "# NaN(결측값) 개수 확인\n",
        "missing_values = numeric_df.isna().sum()\n",
        "print(\"NaN (결측값) 개수:\\n\", missing_values[missing_values > 0])\n",
        "\n",
        "# Inf(무한대) 값 확인\n",
        "infinite_values = np.isinf(numeric_df).sum()\n",
        "print(\"\\nInf (무한대) 개수:\\n\", infinite_values[infinite_values > 0])"
      ]
    },
    {
      "cell_type": "markdown",
      "metadata": {
        "id": "K73RZ-EWaCv0"
      },
      "source": [
        "## Binary Classification"
      ]
    },
    {
      "cell_type": "code",
      "execution_count": 9,
      "metadata": {
        "id": "zT7QeanB_Ler"
      },
      "outputs": [],
      "source": [
        "# binary 클래스로 변경\n",
        "# full_df[\"behavior_label\"] = full_df[\"behavior_label\"].replace({3: 0, 2: 1})\n",
        "\n",
        "# standing 제외 모두 walking\n",
        "# full_df[\"behavior_label\"] = full_df[\"behavior_label\"].replace({3: 1, 2: 1})"
      ]
    },
    {
      "cell_type": "code",
      "execution_count": 10,
      "metadata": {
        "colab": {
          "base_uri": "https://localhost:8080/"
        },
        "id": "rUeG3vRxR7jC",
        "outputId": "1dccedf6-714c-4915-c46c-fd3d59fd2772"
      },
      "outputs": [
        {
          "output_type": "stream",
          "name": "stdout",
          "text": [
            "모든 CSV 파일 처리 완료!\n",
            "최종 데이터 저장: /content/merged_pedestrian_behavior.csv\n"
          ]
        }
      ],
      "source": [
        "# 정수로 변환\n",
        "full_df[\"behavior_label\"] = full_df[\"behavior_label\"].astype(int)\n",
        "\n",
        "# 최종 데이터 저장\n",
        "full_df.to_csv(fixed_file_path, index=False)\n",
        "\n",
        "print(\"모든 CSV 파일 처리 완료!\")\n",
        "print(f\"최종 데이터 저장: {fixed_file_path}\")"
      ]
    },
    {
      "cell_type": "markdown",
      "metadata": {
        "id": "eeXyfD-W2fTI"
      },
      "source": [
        "## Z좌표 제거, CoM 값 제거"
      ]
    },
    {
      "cell_type": "code",
      "execution_count": 11,
      "metadata": {
        "id": "0esqvAGqWA--"
      },
      "outputs": [],
      "source": [
        "# # Z 좌표 제거\n",
        "# # cols_to_keep = [0] + [i for i in range(1, (23 * 3) + 1) if (i % 3) != 0] + [71]\n",
        "# # df_filtered = full_df.iloc[:, cols_to_keep]\n",
        "\n",
        "# # CoM 좌표 제거\n",
        "# cols_to_keep = [0] + list(range(1, (22 * 3) + 1)) + [71]\n",
        "# df_filtered = full_df.iloc[:, cols_to_keep]\n",
        "\n",
        "# print(df_filtered.columns)\n",
        "# # 새 CSV 파일로 저장\n",
        "# df_filtered.to_csv(\"except_CoM.csv\", index=False)"
      ]
    },
    {
      "cell_type": "markdown",
      "metadata": {
        "id": "IFxrjr4b3ZDT"
      },
      "source": [
        "#경로 지정"
      ]
    },
    {
      "cell_type": "code",
      "execution_count": 12,
      "metadata": {
        "id": "elYMc8Bd3ZDU"
      },
      "outputs": [],
      "source": [
        "dataset = '/content/merged_pedestrian_behavior.csv'\n",
        "model_save_path = '/content/keypoint_classifier.keras'"
      ]
    },
    {
      "cell_type": "markdown",
      "metadata": {
        "id": "nXKmIcXt3ZDV"
      },
      "source": [
        "# 클래스 설정"
      ]
    },
    {
      "cell_type": "code",
      "execution_count": 13,
      "metadata": {
        "id": "Hv6_8HS_3ZDV"
      },
      "outputs": [],
      "source": [
        "NUM_CLASSES = 4"
      ]
    },
    {
      "cell_type": "markdown",
      "metadata": {
        "id": "1TCD6Eic3ZDV"
      },
      "source": [
        "# 학습 데이터 로드"
      ]
    },
    {
      "cell_type": "code",
      "execution_count": 14,
      "metadata": {
        "id": "JjIeMCAoWKqB"
      },
      "outputs": [],
      "source": [
        "def extract_sequences_from_dataframe(\n",
        "    df,\n",
        "    sequence_length=20,\n",
        "    future_offset=0,  # recognization=0, prediction=5\n",
        "    feature_prefix='kp_',\n",
        "    label_column='behavior_label',\n",
        "    group_column='pedestrian_id',\n",
        "    num_keypoints=23  # keypoint 개수\n",
        "):\n",
        "    \"\"\"\n",
        "    DataFrame으로부터 시퀀스 데이터를 추출하고, 모델 입력 형식으로 reshape합니다.\n",
        "\n",
        "    Returns:\n",
        "        X (np.ndarray): 시퀀스 입력 데이터, shape=(num_seq, sequence_length, num_keypoints * 3)\n",
        "        y (np.ndarray): 시퀀스 타겟 라벨, shape=(num_seq,)\n",
        "    \"\"\"\n",
        "    feature_cols = [col for col in df.columns if col.startswith(feature_prefix)]\n",
        "    X, y = [], []\n",
        "\n",
        "    for ped_id, group in df.groupby(group_column):\n",
        "        group = group.reset_index(drop=True)\n",
        "\n",
        "        if len(group) < sequence_length + future_offset:\n",
        "            continue\n",
        "\n",
        "        data = group[feature_cols].values  # shape: (num_frames, 69)\n",
        "        labels = group[label_column].values\n",
        "\n",
        "        for i in range(len(data) - sequence_length - future_offset + 1):\n",
        "            seq_x = data[i:i + sequence_length]  # shape: (20, 69)\n",
        "            seq_y = labels[i + sequence_length + future_offset - 1]\n",
        "            X.append(seq_x)\n",
        "            y.append(seq_y)\n",
        "\n",
        "    X = np.array(X)\n",
        "    y = np.array(y)\n",
        "\n",
        "    # reshape: (num_seq, 20, 69) → (num_seq, 20, 23 * 3)\n",
        "    X = X.reshape(-1, sequence_length, num_keypoints * 3)\n",
        "    return X, y\n"
      ]
    },
    {
      "cell_type": "code",
      "execution_count": 15,
      "metadata": {
        "colab": {
          "base_uri": "https://localhost:8080/"
        },
        "id": "VpPzXAipcWTY",
        "outputId": "806706e6-1547-4301-815f-22bfbaeefe04"
      },
      "outputs": [
        {
          "output_type": "stream",
          "name": "stdout",
          "text": [
            "X shape: (6917, 20, 69)\n",
            "y shape: (6917,)\n",
            "y 클래스 분포: (array([0, 1, 2, 3]), array([2983,  900, 2264,  770]))\n"
          ]
        }
      ],
      "source": [
        "df = pd.read_csv('/content/merged_pedestrian_behavior.csv')\n",
        "\n",
        "X, y = extract_sequences_from_dataframe(df)\n",
        "\n",
        "print(\"X shape:\", X.shape)  # (num_seq, 20, 69)\n",
        "print(\"y shape:\", y.shape)\n",
        "print(\"y 클래스 분포:\", np.unique(y, return_counts=True))\n",
        "\n",
        "X_train, X_temp, y_train, y_temp = train_test_split(\n",
        "    X, y,\n",
        "    train_size=0.7,\n",
        "    stratify=y,\n",
        "    random_state=42\n",
        ")\n",
        "\n",
        "X_val, X_test, y_val, y_test = train_test_split(\n",
        "    X_temp, y_temp,\n",
        "    train_size=0.5,\n",
        "    stratify=y_temp,\n",
        "    random_state=42\n",
        ")"
      ]
    },
    {
      "cell_type": "markdown",
      "metadata": {
        "id": "QhGl0NqW3ZDX"
      },
      "source": [
        "# 모델 생성"
      ]
    },
    {
      "cell_type": "code",
      "execution_count": 16,
      "metadata": {
        "colab": {
          "base_uri": "https://localhost:8080/"
        },
        "id": "8rfJYiycSnhb",
        "outputId": "59def577-9d7a-4513-f78d-1d2f053cf0b7"
      },
      "outputs": [
        {
          "output_type": "stream",
          "name": "stderr",
          "text": [
            "/usr/local/lib/python3.11/dist-packages/keras/src/layers/convolutional/base_conv.py:107: UserWarning: Do not pass an `input_shape`/`input_dim` argument to a layer. When using Sequential models, prefer using an `Input(shape)` object as the first layer in the model instead.\n",
            "  super().__init__(activity_regularizer=activity_regularizer, **kwargs)\n"
          ]
        }
      ],
      "source": [
        "model = tf.keras.Sequential([\n",
        "    tf.keras.layers.Conv1D(64, kernel_size=3, activation='relu', input_shape=(20, (23 * 3))),\n",
        "    tf.keras.layers.Conv1D(128, kernel_size=3, activation='relu'),\n",
        "    tf.keras.layers.GlobalAveragePooling1D(),\n",
        "    tf.keras.layers.Dense(64, activation='relu'),\n",
        "    tf.keras.layers.Dense(NUM_CLASSES, activation='softmax')\n",
        "])"
      ]
    },
    {
      "cell_type": "code",
      "execution_count": 17,
      "metadata": {
        "colab": {
          "base_uri": "https://localhost:8080/",
          "height": 314
        },
        "id": "1nh3zwP_3ZDY",
        "outputId": "af73eef1-d151-4da1-de19-315164f35d9b"
      },
      "outputs": [
        {
          "output_type": "display_data",
          "data": {
            "text/plain": [
              "\u001b[1mModel: \"sequential\"\u001b[0m\n"
            ],
            "text/html": [
              "<pre style=\"white-space:pre;overflow-x:auto;line-height:normal;font-family:Menlo,'DejaVu Sans Mono',consolas,'Courier New',monospace\"><span style=\"font-weight: bold\">Model: \"sequential\"</span>\n",
              "</pre>\n"
            ]
          },
          "metadata": {}
        },
        {
          "output_type": "display_data",
          "data": {
            "text/plain": [
              "┏━━━━━━━━━━━━━━━━━━━━━━━━━━━━━━━━━━━━━━┳━━━━━━━━━━━━━━━━━━━━━━━━━━━━━┳━━━━━━━━━━━━━━━━━┓\n",
              "┃\u001b[1m \u001b[0m\u001b[1mLayer (type)                        \u001b[0m\u001b[1m \u001b[0m┃\u001b[1m \u001b[0m\u001b[1mOutput Shape               \u001b[0m\u001b[1m \u001b[0m┃\u001b[1m \u001b[0m\u001b[1m        Param #\u001b[0m\u001b[1m \u001b[0m┃\n",
              "┡━━━━━━━━━━━━━━━━━━━━━━━━━━━━━━━━━━━━━━╇━━━━━━━━━━━━━━━━━━━━━━━━━━━━━╇━━━━━━━━━━━━━━━━━┩\n",
              "│ conv1d (\u001b[38;5;33mConv1D\u001b[0m)                      │ (\u001b[38;5;45mNone\u001b[0m, \u001b[38;5;34m18\u001b[0m, \u001b[38;5;34m64\u001b[0m)              │          \u001b[38;5;34m13,312\u001b[0m │\n",
              "├──────────────────────────────────────┼─────────────────────────────┼─────────────────┤\n",
              "│ conv1d_1 (\u001b[38;5;33mConv1D\u001b[0m)                    │ (\u001b[38;5;45mNone\u001b[0m, \u001b[38;5;34m16\u001b[0m, \u001b[38;5;34m128\u001b[0m)             │          \u001b[38;5;34m24,704\u001b[0m │\n",
              "├──────────────────────────────────────┼─────────────────────────────┼─────────────────┤\n",
              "│ global_average_pooling1d             │ (\u001b[38;5;45mNone\u001b[0m, \u001b[38;5;34m128\u001b[0m)                 │               \u001b[38;5;34m0\u001b[0m │\n",
              "│ (\u001b[38;5;33mGlobalAveragePooling1D\u001b[0m)             │                             │                 │\n",
              "├──────────────────────────────────────┼─────────────────────────────┼─────────────────┤\n",
              "│ dense (\u001b[38;5;33mDense\u001b[0m)                        │ (\u001b[38;5;45mNone\u001b[0m, \u001b[38;5;34m64\u001b[0m)                  │           \u001b[38;5;34m8,256\u001b[0m │\n",
              "├──────────────────────────────────────┼─────────────────────────────┼─────────────────┤\n",
              "│ dense_1 (\u001b[38;5;33mDense\u001b[0m)                      │ (\u001b[38;5;45mNone\u001b[0m, \u001b[38;5;34m4\u001b[0m)                   │             \u001b[38;5;34m260\u001b[0m │\n",
              "└──────────────────────────────────────┴─────────────────────────────┴─────────────────┘\n"
            ],
            "text/html": [
              "<pre style=\"white-space:pre;overflow-x:auto;line-height:normal;font-family:Menlo,'DejaVu Sans Mono',consolas,'Courier New',monospace\">┏━━━━━━━━━━━━━━━━━━━━━━━━━━━━━━━━━━━━━━┳━━━━━━━━━━━━━━━━━━━━━━━━━━━━━┳━━━━━━━━━━━━━━━━━┓\n",
              "┃<span style=\"font-weight: bold\"> Layer (type)                         </span>┃<span style=\"font-weight: bold\"> Output Shape                </span>┃<span style=\"font-weight: bold\">         Param # </span>┃\n",
              "┡━━━━━━━━━━━━━━━━━━━━━━━━━━━━━━━━━━━━━━╇━━━━━━━━━━━━━━━━━━━━━━━━━━━━━╇━━━━━━━━━━━━━━━━━┩\n",
              "│ conv1d (<span style=\"color: #0087ff; text-decoration-color: #0087ff\">Conv1D</span>)                      │ (<span style=\"color: #00d7ff; text-decoration-color: #00d7ff\">None</span>, <span style=\"color: #00af00; text-decoration-color: #00af00\">18</span>, <span style=\"color: #00af00; text-decoration-color: #00af00\">64</span>)              │          <span style=\"color: #00af00; text-decoration-color: #00af00\">13,312</span> │\n",
              "├──────────────────────────────────────┼─────────────────────────────┼─────────────────┤\n",
              "│ conv1d_1 (<span style=\"color: #0087ff; text-decoration-color: #0087ff\">Conv1D</span>)                    │ (<span style=\"color: #00d7ff; text-decoration-color: #00d7ff\">None</span>, <span style=\"color: #00af00; text-decoration-color: #00af00\">16</span>, <span style=\"color: #00af00; text-decoration-color: #00af00\">128</span>)             │          <span style=\"color: #00af00; text-decoration-color: #00af00\">24,704</span> │\n",
              "├──────────────────────────────────────┼─────────────────────────────┼─────────────────┤\n",
              "│ global_average_pooling1d             │ (<span style=\"color: #00d7ff; text-decoration-color: #00d7ff\">None</span>, <span style=\"color: #00af00; text-decoration-color: #00af00\">128</span>)                 │               <span style=\"color: #00af00; text-decoration-color: #00af00\">0</span> │\n",
              "│ (<span style=\"color: #0087ff; text-decoration-color: #0087ff\">GlobalAveragePooling1D</span>)             │                             │                 │\n",
              "├──────────────────────────────────────┼─────────────────────────────┼─────────────────┤\n",
              "│ dense (<span style=\"color: #0087ff; text-decoration-color: #0087ff\">Dense</span>)                        │ (<span style=\"color: #00d7ff; text-decoration-color: #00d7ff\">None</span>, <span style=\"color: #00af00; text-decoration-color: #00af00\">64</span>)                  │           <span style=\"color: #00af00; text-decoration-color: #00af00\">8,256</span> │\n",
              "├──────────────────────────────────────┼─────────────────────────────┼─────────────────┤\n",
              "│ dense_1 (<span style=\"color: #0087ff; text-decoration-color: #0087ff\">Dense</span>)                      │ (<span style=\"color: #00d7ff; text-decoration-color: #00d7ff\">None</span>, <span style=\"color: #00af00; text-decoration-color: #00af00\">4</span>)                   │             <span style=\"color: #00af00; text-decoration-color: #00af00\">260</span> │\n",
              "└──────────────────────────────────────┴─────────────────────────────┴─────────────────┘\n",
              "</pre>\n"
            ]
          },
          "metadata": {}
        },
        {
          "output_type": "display_data",
          "data": {
            "text/plain": [
              "\u001b[1m Total params: \u001b[0m\u001b[38;5;34m46,532\u001b[0m (181.77 KB)\n"
            ],
            "text/html": [
              "<pre style=\"white-space:pre;overflow-x:auto;line-height:normal;font-family:Menlo,'DejaVu Sans Mono',consolas,'Courier New',monospace\"><span style=\"font-weight: bold\"> Total params: </span><span style=\"color: #00af00; text-decoration-color: #00af00\">46,532</span> (181.77 KB)\n",
              "</pre>\n"
            ]
          },
          "metadata": {}
        },
        {
          "output_type": "display_data",
          "data": {
            "text/plain": [
              "\u001b[1m Trainable params: \u001b[0m\u001b[38;5;34m46,532\u001b[0m (181.77 KB)\n"
            ],
            "text/html": [
              "<pre style=\"white-space:pre;overflow-x:auto;line-height:normal;font-family:Menlo,'DejaVu Sans Mono',consolas,'Courier New',monospace\"><span style=\"font-weight: bold\"> Trainable params: </span><span style=\"color: #00af00; text-decoration-color: #00af00\">46,532</span> (181.77 KB)\n",
              "</pre>\n"
            ]
          },
          "metadata": {}
        },
        {
          "output_type": "display_data",
          "data": {
            "text/plain": [
              "\u001b[1m Non-trainable params: \u001b[0m\u001b[38;5;34m0\u001b[0m (0.00 B)\n"
            ],
            "text/html": [
              "<pre style=\"white-space:pre;overflow-x:auto;line-height:normal;font-family:Menlo,'DejaVu Sans Mono',consolas,'Courier New',monospace\"><span style=\"font-weight: bold\"> Non-trainable params: </span><span style=\"color: #00af00; text-decoration-color: #00af00\">0</span> (0.00 B)\n",
              "</pre>\n"
            ]
          },
          "metadata": {}
        }
      ],
      "source": [
        "model.summary()  # tf.keras.utils.plot_model(model, show_shapes=True)"
      ]
    },
    {
      "cell_type": "code",
      "execution_count": 18,
      "metadata": {
        "id": "loZeENCY3ZDZ"
      },
      "outputs": [],
      "source": [
        "# 모델 체크포인트 콜백\n",
        "cp_callback = tf.keras.callbacks.ModelCheckpoint(\n",
        "    model_save_path, verbose=1, save_weights_only=False, save_best_only=True)\n",
        "# Early Stopping 콜백\n",
        "es_callback = tf.keras.callbacks.EarlyStopping(patience=30, verbose=1)"
      ]
    },
    {
      "cell_type": "code",
      "execution_count": 19,
      "metadata": {
        "id": "il2iULZF3ZDZ"
      },
      "outputs": [],
      "source": [
        "# 모델 컴파일\n",
        "model.compile(\n",
        "    optimizer='adam',\n",
        "    loss='sparse_categorical_crossentropy',\n",
        "    metrics=['accuracy']\n",
        ")"
      ]
    },
    {
      "cell_type": "markdown",
      "metadata": {
        "id": "NZamvtOF3ZDZ"
      },
      "source": [
        "# 모델 훈련"
      ]
    },
    {
      "cell_type": "code",
      "execution_count": 20,
      "metadata": {
        "colab": {
          "base_uri": "https://localhost:8080/"
        },
        "id": "ioenPNg73ZDZ",
        "scrolled": true,
        "outputId": "49c9a3d8-ff87-4c2d-89fa-92a418bffcbc"
      },
      "outputs": [
        {
          "output_type": "stream",
          "name": "stdout",
          "text": [
            "Epoch 1/1000\n",
            "\u001b[1m35/38\u001b[0m \u001b[32m━━━━━━━━━━━━━━━━━━\u001b[0m\u001b[37m━━\u001b[0m \u001b[1m0s\u001b[0m 16ms/step - accuracy: 0.4203 - loss: 1.2698\n",
            "Epoch 1: val_loss improved from inf to 1.17094, saving model to /content/keypoint_classifier.keras\n",
            "\u001b[1m38/38\u001b[0m \u001b[32m━━━━━━━━━━━━━━━━━━━━\u001b[0m\u001b[37m\u001b[0m \u001b[1m3s\u001b[0m 26ms/step - accuracy: 0.4226 - loss: 1.2652 - val_accuracy: 0.5376 - val_loss: 1.1709\n",
            "Epoch 2/1000\n",
            "\u001b[1m35/38\u001b[0m \u001b[32m━━━━━━━━━━━━━━━━━━\u001b[0m\u001b[37m━━\u001b[0m \u001b[1m0s\u001b[0m 16ms/step - accuracy: 0.5160 - loss: 1.1509\n",
            "Epoch 2: val_loss improved from 1.17094 to 1.07372, saving model to /content/keypoint_classifier.keras\n",
            "\u001b[1m38/38\u001b[0m \u001b[32m━━━━━━━━━━━━━━━━━━━━\u001b[0m\u001b[37m\u001b[0m \u001b[1m1s\u001b[0m 20ms/step - accuracy: 0.5180 - loss: 1.1479 - val_accuracy: 0.5674 - val_loss: 1.0737\n",
            "Epoch 3/1000\n",
            "\u001b[1m37/38\u001b[0m \u001b[32m━━━━━━━━━━━━━━━━━━━\u001b[0m\u001b[37m━\u001b[0m \u001b[1m0s\u001b[0m 18ms/step - accuracy: 0.5890 - loss: 1.0482\n",
            "Epoch 3: val_loss improved from 1.07372 to 1.01362, saving model to /content/keypoint_classifier.keras\n",
            "\u001b[1m38/38\u001b[0m \u001b[32m━━━━━━━━━━━━━━━━━━━━\u001b[0m\u001b[37m\u001b[0m \u001b[1m1s\u001b[0m 25ms/step - accuracy: 0.5886 - loss: 1.0482 - val_accuracy: 0.5848 - val_loss: 1.0136\n",
            "Epoch 4/1000\n",
            "\u001b[1m37/38\u001b[0m \u001b[32m━━━━━━━━━━━━━━━━━━━\u001b[0m\u001b[37m━\u001b[0m \u001b[1m0s\u001b[0m 26ms/step - accuracy: 0.6130 - loss: 0.9867\n",
            "Epoch 4: val_loss improved from 1.01362 to 0.96233, saving model to /content/keypoint_classifier.keras\n",
            "\u001b[1m38/38\u001b[0m \u001b[32m━━━━━━━━━━━━━━━━━━━━\u001b[0m\u001b[37m\u001b[0m \u001b[1m2s\u001b[0m 33ms/step - accuracy: 0.6128 - loss: 0.9865 - val_accuracy: 0.6146 - val_loss: 0.9623\n",
            "Epoch 5/1000\n",
            "\u001b[1m35/38\u001b[0m \u001b[32m━━━━━━━━━━━━━━━━━━\u001b[0m\u001b[37m━━\u001b[0m \u001b[1m0s\u001b[0m 22ms/step - accuracy: 0.6264 - loss: 0.9428\n",
            "Epoch 5: val_loss improved from 0.96233 to 0.86702, saving model to /content/keypoint_classifier.keras\n",
            "\u001b[1m38/38\u001b[0m \u001b[32m━━━━━━━━━━━━━━━━━━━━\u001b[0m\u001b[37m\u001b[0m \u001b[1m1s\u001b[0m 25ms/step - accuracy: 0.6283 - loss: 0.9397 - val_accuracy: 0.6590 - val_loss: 0.8670\n",
            "Epoch 6/1000\n",
            "\u001b[1m35/38\u001b[0m \u001b[32m━━━━━━━━━━━━━━━━━━\u001b[0m\u001b[37m━━\u001b[0m \u001b[1m0s\u001b[0m 16ms/step - accuracy: 0.6629 - loss: 0.8611\n",
            "Epoch 6: val_loss improved from 0.86702 to 0.83954, saving model to /content/keypoint_classifier.keras\n",
            "\u001b[1m38/38\u001b[0m \u001b[32m━━━━━━━━━━━━━━━━━━━━\u001b[0m\u001b[37m\u001b[0m \u001b[1m1s\u001b[0m 20ms/step - accuracy: 0.6631 - loss: 0.8612 - val_accuracy: 0.6830 - val_loss: 0.8395\n",
            "Epoch 7/1000\n",
            "\u001b[1m36/38\u001b[0m \u001b[32m━━━━━━━━━━━━━━━━━━\u001b[0m\u001b[37m━━\u001b[0m \u001b[1m0s\u001b[0m 15ms/step - accuracy: 0.6935 - loss: 0.8094\n",
            "Epoch 7: val_loss improved from 0.83954 to 0.77604, saving model to /content/keypoint_classifier.keras\n",
            "\u001b[1m38/38\u001b[0m \u001b[32m━━━━━━━━━━━━━━━━━━━━\u001b[0m\u001b[37m\u001b[0m \u001b[1m1s\u001b[0m 19ms/step - accuracy: 0.6939 - loss: 0.8083 - val_accuracy: 0.7004 - val_loss: 0.7760\n",
            "Epoch 8/1000\n",
            "\u001b[1m36/38\u001b[0m \u001b[32m━━━━━━━━━━━━━━━━━━\u001b[0m\u001b[37m━━\u001b[0m \u001b[1m0s\u001b[0m 15ms/step - accuracy: 0.7140 - loss: 0.7616\n",
            "Epoch 8: val_loss improved from 0.77604 to 0.74370, saving model to /content/keypoint_classifier.keras\n",
            "\u001b[1m38/38\u001b[0m \u001b[32m━━━━━━━━━━━━━━━━━━━━\u001b[0m\u001b[37m\u001b[0m \u001b[1m1s\u001b[0m 19ms/step - accuracy: 0.7134 - loss: 0.7617 - val_accuracy: 0.7158 - val_loss: 0.7437\n",
            "Epoch 9/1000\n",
            "\u001b[1m37/38\u001b[0m \u001b[32m━━━━━━━━━━━━━━━━━━━\u001b[0m\u001b[37m━\u001b[0m \u001b[1m0s\u001b[0m 15ms/step - accuracy: 0.7177 - loss: 0.7258\n",
            "Epoch 9: val_loss improved from 0.74370 to 0.71853, saving model to /content/keypoint_classifier.keras\n",
            "\u001b[1m38/38\u001b[0m \u001b[32m━━━━━━━━━━━━━━━━━━━━\u001b[0m\u001b[37m\u001b[0m \u001b[1m1s\u001b[0m 19ms/step - accuracy: 0.7176 - loss: 0.7256 - val_accuracy: 0.7177 - val_loss: 0.7185\n",
            "Epoch 10/1000\n",
            "\u001b[1m36/38\u001b[0m \u001b[32m━━━━━━━━━━━━━━━━━━\u001b[0m\u001b[37m━━\u001b[0m \u001b[1m0s\u001b[0m 15ms/step - accuracy: 0.7036 - loss: 0.7246\n",
            "Epoch 10: val_loss improved from 0.71853 to 0.68817, saving model to /content/keypoint_classifier.keras\n",
            "\u001b[1m38/38\u001b[0m \u001b[32m━━━━━━━━━━━━━━━━━━━━\u001b[0m\u001b[37m\u001b[0m \u001b[1m1s\u001b[0m 19ms/step - accuracy: 0.7048 - loss: 0.7223 - val_accuracy: 0.7293 - val_loss: 0.6882\n",
            "Epoch 11/1000\n",
            "\u001b[1m36/38\u001b[0m \u001b[32m━━━━━━━━━━━━━━━━━━\u001b[0m\u001b[37m━━\u001b[0m \u001b[1m0s\u001b[0m 15ms/step - accuracy: 0.7350 - loss: 0.6586\n",
            "Epoch 11: val_loss improved from 0.68817 to 0.68503, saving model to /content/keypoint_classifier.keras\n",
            "\u001b[1m38/38\u001b[0m \u001b[32m━━━━━━━━━━━━━━━━━━━━\u001b[0m\u001b[37m\u001b[0m \u001b[1m1s\u001b[0m 19ms/step - accuracy: 0.7348 - loss: 0.6588 - val_accuracy: 0.7283 - val_loss: 0.6850\n",
            "Epoch 12/1000\n",
            "\u001b[1m37/38\u001b[0m \u001b[32m━━━━━━━━━━━━━━━━━━━\u001b[0m\u001b[37m━\u001b[0m \u001b[1m0s\u001b[0m 15ms/step - accuracy: 0.7377 - loss: 0.6562\n",
            "Epoch 12: val_loss improved from 0.68503 to 0.67814, saving model to /content/keypoint_classifier.keras\n",
            "\u001b[1m38/38\u001b[0m \u001b[32m━━━━━━━━━━━━━━━━━━━━\u001b[0m\u001b[37m\u001b[0m \u001b[1m1s\u001b[0m 19ms/step - accuracy: 0.7374 - loss: 0.6565 - val_accuracy: 0.7283 - val_loss: 0.6781\n",
            "Epoch 13/1000\n",
            "\u001b[1m37/38\u001b[0m \u001b[32m━━━━━━━━━━━━━━━━━━━\u001b[0m\u001b[37m━\u001b[0m \u001b[1m0s\u001b[0m 15ms/step - accuracy: 0.7291 - loss: 0.6523\n",
            "Epoch 13: val_loss improved from 0.67814 to 0.63804, saving model to /content/keypoint_classifier.keras\n",
            "\u001b[1m38/38\u001b[0m \u001b[32m━━━━━━━━━━━━━━━━━━━━\u001b[0m\u001b[37m\u001b[0m \u001b[1m1s\u001b[0m 19ms/step - accuracy: 0.7297 - loss: 0.6517 - val_accuracy: 0.7476 - val_loss: 0.6380\n",
            "Epoch 14/1000\n",
            "\u001b[1m36/38\u001b[0m \u001b[32m━━━━━━━━━━━━━━━━━━\u001b[0m\u001b[37m━━\u001b[0m \u001b[1m0s\u001b[0m 15ms/step - accuracy: 0.7417 - loss: 0.6473\n",
            "Epoch 14: val_loss improved from 0.63804 to 0.63344, saving model to /content/keypoint_classifier.keras\n",
            "\u001b[1m38/38\u001b[0m \u001b[32m━━━━━━━━━━━━━━━━━━━━\u001b[0m\u001b[37m\u001b[0m \u001b[1m1s\u001b[0m 19ms/step - accuracy: 0.7422 - loss: 0.6458 - val_accuracy: 0.7466 - val_loss: 0.6334\n",
            "Epoch 15/1000\n",
            "\u001b[1m37/38\u001b[0m \u001b[32m━━━━━━━━━━━━━━━━━━━\u001b[0m\u001b[37m━\u001b[0m \u001b[1m0s\u001b[0m 18ms/step - accuracy: 0.7495 - loss: 0.6159\n",
            "Epoch 15: val_loss improved from 0.63344 to 0.63138, saving model to /content/keypoint_classifier.keras\n",
            "\u001b[1m38/38\u001b[0m \u001b[32m━━━━━━━━━━━━━━━━━━━━\u001b[0m\u001b[37m\u001b[0m \u001b[1m1s\u001b[0m 26ms/step - accuracy: 0.7498 - loss: 0.6154 - val_accuracy: 0.7457 - val_loss: 0.6314\n",
            "Epoch 16/1000\n",
            "\u001b[1m37/38\u001b[0m \u001b[32m━━━━━━━━━━━━━━━━━━━\u001b[0m\u001b[37m━\u001b[0m \u001b[1m0s\u001b[0m 26ms/step - accuracy: 0.7603 - loss: 0.5917\n",
            "Epoch 16: val_loss did not improve from 0.63138\n",
            "\u001b[1m38/38\u001b[0m \u001b[32m━━━━━━━━━━━━━━━━━━━━\u001b[0m\u001b[37m\u001b[0m \u001b[1m1s\u001b[0m 31ms/step - accuracy: 0.7600 - loss: 0.5918 - val_accuracy: 0.7351 - val_loss: 0.6945\n",
            "Epoch 17/1000\n",
            "\u001b[1m36/38\u001b[0m \u001b[32m━━━━━━━━━━━━━━━━━━\u001b[0m\u001b[37m━━\u001b[0m \u001b[1m0s\u001b[0m 26ms/step - accuracy: 0.7627 - loss: 0.5908\n",
            "Epoch 17: val_loss did not improve from 0.63138\n",
            "\u001b[1m38/38\u001b[0m \u001b[32m━━━━━━━━━━━━━━━━━━━━\u001b[0m\u001b[37m\u001b[0m \u001b[1m1s\u001b[0m 31ms/step - accuracy: 0.7630 - loss: 0.5902 - val_accuracy: 0.7168 - val_loss: 0.6482\n",
            "Epoch 18/1000\n",
            "\u001b[1m36/38\u001b[0m \u001b[32m━━━━━━━━━━━━━━━━━━\u001b[0m\u001b[37m━━\u001b[0m \u001b[1m0s\u001b[0m 15ms/step - accuracy: 0.7376 - loss: 0.6271\n",
            "Epoch 18: val_loss improved from 0.63138 to 0.59045, saving model to /content/keypoint_classifier.keras\n",
            "\u001b[1m38/38\u001b[0m \u001b[32m━━━━━━━━━━━━━━━━━━━━\u001b[0m\u001b[37m\u001b[0m \u001b[1m1s\u001b[0m 19ms/step - accuracy: 0.7385 - loss: 0.6264 - val_accuracy: 0.7601 - val_loss: 0.5904\n",
            "Epoch 19/1000\n",
            "\u001b[1m35/38\u001b[0m \u001b[32m━━━━━━━━━━━━━━━━━━\u001b[0m\u001b[37m━━\u001b[0m \u001b[1m0s\u001b[0m 16ms/step - accuracy: 0.7684 - loss: 0.5734\n",
            "Epoch 19: val_loss did not improve from 0.59045\n",
            "\u001b[1m38/38\u001b[0m \u001b[32m━━━━━━━━━━━━━━━━━━━━\u001b[0m\u001b[37m\u001b[0m \u001b[1m1s\u001b[0m 19ms/step - accuracy: 0.7688 - loss: 0.5725 - val_accuracy: 0.7466 - val_loss: 0.6038\n",
            "Epoch 20/1000\n",
            "\u001b[1m36/38\u001b[0m \u001b[32m━━━━━━━━━━━━━━━━━━\u001b[0m\u001b[37m━━\u001b[0m \u001b[1m0s\u001b[0m 15ms/step - accuracy: 0.7606 - loss: 0.5817\n",
            "Epoch 20: val_loss did not improve from 0.59045\n",
            "\u001b[1m38/38\u001b[0m \u001b[32m━━━━━━━━━━━━━━━━━━━━\u001b[0m\u001b[37m\u001b[0m \u001b[1m1s\u001b[0m 18ms/step - accuracy: 0.7613 - loss: 0.5808 - val_accuracy: 0.7707 - val_loss: 0.6188\n",
            "Epoch 21/1000\n",
            "\u001b[1m37/38\u001b[0m \u001b[32m━━━━━━━━━━━━━━━━━━━\u001b[0m\u001b[37m━\u001b[0m \u001b[1m0s\u001b[0m 15ms/step - accuracy: 0.7828 - loss: 0.5638\n",
            "Epoch 21: val_loss improved from 0.59045 to 0.56351, saving model to /content/keypoint_classifier.keras\n",
            "\u001b[1m38/38\u001b[0m \u001b[32m━━━━━━━━━━━━━━━━━━━━\u001b[0m\u001b[37m\u001b[0m \u001b[1m1s\u001b[0m 19ms/step - accuracy: 0.7827 - loss: 0.5633 - val_accuracy: 0.7909 - val_loss: 0.5635\n",
            "Epoch 22/1000\n",
            "\u001b[1m37/38\u001b[0m \u001b[32m━━━━━━━━━━━━━━━━━━━\u001b[0m\u001b[37m━\u001b[0m \u001b[1m0s\u001b[0m 15ms/step - accuracy: 0.7924 - loss: 0.5321\n",
            "Epoch 22: val_loss did not improve from 0.56351\n",
            "\u001b[1m38/38\u001b[0m \u001b[32m━━━━━━━━━━━━━━━━━━━━\u001b[0m\u001b[37m\u001b[0m \u001b[1m1s\u001b[0m 18ms/step - accuracy: 0.7923 - loss: 0.5319 - val_accuracy: 0.7775 - val_loss: 0.5689\n",
            "Epoch 23/1000\n",
            "\u001b[1m37/38\u001b[0m \u001b[32m━━━━━━━━━━━━━━━━━━━\u001b[0m\u001b[37m━\u001b[0m \u001b[1m0s\u001b[0m 15ms/step - accuracy: 0.7941 - loss: 0.5207\n",
            "Epoch 23: val_loss did not improve from 0.56351\n",
            "\u001b[1m38/38\u001b[0m \u001b[32m━━━━━━━━━━━━━━━━━━━━\u001b[0m\u001b[37m\u001b[0m \u001b[1m1s\u001b[0m 18ms/step - accuracy: 0.7935 - loss: 0.5214 - val_accuracy: 0.7813 - val_loss: 0.5695\n",
            "Epoch 24/1000\n",
            "\u001b[1m36/38\u001b[0m \u001b[32m━━━━━━━━━━━━━━━━━━\u001b[0m\u001b[37m━━\u001b[0m \u001b[1m0s\u001b[0m 15ms/step - accuracy: 0.7963 - loss: 0.5283\n",
            "Epoch 24: val_loss improved from 0.56351 to 0.53506, saving model to /content/keypoint_classifier.keras\n",
            "\u001b[1m38/38\u001b[0m \u001b[32m━━━━━━━━━━━━━━━━━━━━\u001b[0m\u001b[37m\u001b[0m \u001b[1m1s\u001b[0m 19ms/step - accuracy: 0.7969 - loss: 0.5267 - val_accuracy: 0.8006 - val_loss: 0.5351\n",
            "Epoch 25/1000\n",
            "\u001b[1m37/38\u001b[0m \u001b[32m━━━━━━━━━━━━━━━━━━━\u001b[0m\u001b[37m━\u001b[0m \u001b[1m0s\u001b[0m 15ms/step - accuracy: 0.8095 - loss: 0.4931\n",
            "Epoch 25: val_loss did not improve from 0.53506\n",
            "\u001b[1m38/38\u001b[0m \u001b[32m━━━━━━━━━━━━━━━━━━━━\u001b[0m\u001b[37m\u001b[0m \u001b[1m1s\u001b[0m 20ms/step - accuracy: 0.8092 - loss: 0.4935 - val_accuracy: 0.7987 - val_loss: 0.5493\n",
            "Epoch 26/1000\n",
            "\u001b[1m35/38\u001b[0m \u001b[32m━━━━━━━━━━━━━━━━━━\u001b[0m\u001b[37m━━\u001b[0m \u001b[1m0s\u001b[0m 15ms/step - accuracy: 0.8038 - loss: 0.5042\n",
            "Epoch 26: val_loss did not improve from 0.53506\n",
            "\u001b[1m38/38\u001b[0m \u001b[32m━━━━━━━━━━━━━━━━━━━━\u001b[0m\u001b[37m\u001b[0m \u001b[1m1s\u001b[0m 18ms/step - accuracy: 0.8036 - loss: 0.5043 - val_accuracy: 0.7929 - val_loss: 0.5425\n",
            "Epoch 27/1000\n",
            "\u001b[1m36/38\u001b[0m \u001b[32m━━━━━━━━━━━━━━━━━━\u001b[0m\u001b[37m━━\u001b[0m \u001b[1m0s\u001b[0m 15ms/step - accuracy: 0.8044 - loss: 0.4881\n",
            "Epoch 27: val_loss improved from 0.53506 to 0.51762, saving model to /content/keypoint_classifier.keras\n",
            "\u001b[1m38/38\u001b[0m \u001b[32m━━━━━━━━━━━━━━━━━━━━\u001b[0m\u001b[37m\u001b[0m \u001b[1m1s\u001b[0m 20ms/step - accuracy: 0.8039 - loss: 0.4891 - val_accuracy: 0.7977 - val_loss: 0.5176\n",
            "Epoch 28/1000\n",
            "\u001b[1m38/38\u001b[0m \u001b[32m━━━━━━━━━━━━━━━━━━━━\u001b[0m\u001b[37m\u001b[0m \u001b[1m0s\u001b[0m 27ms/step - accuracy: 0.8000 - loss: 0.4939\n",
            "Epoch 28: val_loss improved from 0.51762 to 0.50475, saving model to /content/keypoint_classifier.keras\n",
            "\u001b[1m38/38\u001b[0m \u001b[32m━━━━━━━━━━━━━━━━━━━━\u001b[0m\u001b[37m\u001b[0m \u001b[1m1s\u001b[0m 34ms/step - accuracy: 0.8002 - loss: 0.4935 - val_accuracy: 0.8064 - val_loss: 0.5048\n",
            "Epoch 29/1000\n",
            "\u001b[1m37/38\u001b[0m \u001b[32m━━━━━━━━━━━━━━━━━━━\u001b[0m\u001b[37m━\u001b[0m \u001b[1m0s\u001b[0m 15ms/step - accuracy: 0.8220 - loss: 0.4521\n",
            "Epoch 29: val_loss did not improve from 0.50475\n",
            "\u001b[1m38/38\u001b[0m \u001b[32m━━━━━━━━━━━━━━━━━━━━\u001b[0m\u001b[37m\u001b[0m \u001b[1m2s\u001b[0m 18ms/step - accuracy: 0.8218 - loss: 0.4525 - val_accuracy: 0.7996 - val_loss: 0.5081\n",
            "Epoch 30/1000\n",
            "\u001b[1m36/38\u001b[0m \u001b[32m━━━━━━━━━━━━━━━━━━\u001b[0m\u001b[37m━━\u001b[0m \u001b[1m0s\u001b[0m 15ms/step - accuracy: 0.8127 - loss: 0.4554\n",
            "Epoch 30: val_loss improved from 0.50475 to 0.50304, saving model to /content/keypoint_classifier.keras\n",
            "\u001b[1m38/38\u001b[0m \u001b[32m━━━━━━━━━━━━━━━━━━━━\u001b[0m\u001b[37m\u001b[0m \u001b[1m1s\u001b[0m 19ms/step - accuracy: 0.8122 - loss: 0.4566 - val_accuracy: 0.8073 - val_loss: 0.5030\n",
            "Epoch 31/1000\n",
            "\u001b[1m37/38\u001b[0m \u001b[32m━━━━━━━━━━━━━━━━━━━\u001b[0m\u001b[37m━\u001b[0m \u001b[1m0s\u001b[0m 15ms/step - accuracy: 0.8198 - loss: 0.4676\n",
            "Epoch 31: val_loss improved from 0.50304 to 0.49948, saving model to /content/keypoint_classifier.keras\n",
            "\u001b[1m38/38\u001b[0m \u001b[32m━━━━━━━━━━━━━━━━━━━━\u001b[0m\u001b[37m\u001b[0m \u001b[1m1s\u001b[0m 19ms/step - accuracy: 0.8193 - loss: 0.4684 - val_accuracy: 0.8102 - val_loss: 0.4995\n",
            "Epoch 32/1000\n",
            "\u001b[1m36/38\u001b[0m \u001b[32m━━━━━━━━━━━━━━━━━━\u001b[0m\u001b[37m━━\u001b[0m \u001b[1m0s\u001b[0m 15ms/step - accuracy: 0.8122 - loss: 0.4611\n",
            "Epoch 32: val_loss did not improve from 0.49948\n",
            "\u001b[1m38/38\u001b[0m \u001b[32m━━━━━━━━━━━━━━━━━━━━\u001b[0m\u001b[37m\u001b[0m \u001b[1m1s\u001b[0m 20ms/step - accuracy: 0.8118 - loss: 0.4626 - val_accuracy: 0.8006 - val_loss: 0.5030\n",
            "Epoch 33/1000\n",
            "\u001b[1m36/38\u001b[0m \u001b[32m━━━━━━━━━━━━━━━━━━\u001b[0m\u001b[37m━━\u001b[0m \u001b[1m0s\u001b[0m 15ms/step - accuracy: 0.8082 - loss: 0.4735\n",
            "Epoch 33: val_loss did not improve from 0.49948\n",
            "\u001b[1m38/38\u001b[0m \u001b[32m━━━━━━━━━━━━━━━━━━━━\u001b[0m\u001b[37m\u001b[0m \u001b[1m1s\u001b[0m 18ms/step - accuracy: 0.8091 - loss: 0.4719 - val_accuracy: 0.7996 - val_loss: 0.5163\n",
            "Epoch 34/1000\n",
            "\u001b[1m36/38\u001b[0m \u001b[32m━━━━━━━━━━━━━━━━━━\u001b[0m\u001b[37m━━\u001b[0m \u001b[1m0s\u001b[0m 15ms/step - accuracy: 0.8294 - loss: 0.4341\n",
            "Epoch 34: val_loss improved from 0.49948 to 0.46907, saving model to /content/keypoint_classifier.keras\n",
            "\u001b[1m38/38\u001b[0m \u001b[32m━━━━━━━━━━━━━━━━━━━━\u001b[0m\u001b[37m\u001b[0m \u001b[1m1s\u001b[0m 19ms/step - accuracy: 0.8296 - loss: 0.4341 - val_accuracy: 0.8150 - val_loss: 0.4691\n",
            "Epoch 35/1000\n",
            "\u001b[1m37/38\u001b[0m \u001b[32m━━━━━━━━━━━━━━━━━━━\u001b[0m\u001b[37m━\u001b[0m \u001b[1m0s\u001b[0m 16ms/step - accuracy: 0.8458 - loss: 0.3998\n",
            "Epoch 35: val_loss did not improve from 0.46907\n",
            "\u001b[1m38/38\u001b[0m \u001b[32m━━━━━━━━━━━━━━━━━━━━\u001b[0m\u001b[37m\u001b[0m \u001b[1m1s\u001b[0m 19ms/step - accuracy: 0.8453 - loss: 0.4007 - val_accuracy: 0.7987 - val_loss: 0.5099\n",
            "Epoch 36/1000\n",
            "\u001b[1m35/38\u001b[0m \u001b[32m━━━━━━━━━━━━━━━━━━\u001b[0m\u001b[37m━━\u001b[0m \u001b[1m0s\u001b[0m 15ms/step - accuracy: 0.8128 - loss: 0.4639\n",
            "Epoch 36: val_loss improved from 0.46907 to 0.44538, saving model to /content/keypoint_classifier.keras\n",
            "\u001b[1m38/38\u001b[0m \u001b[32m━━━━━━━━━━━━━━━━━━━━\u001b[0m\u001b[37m\u001b[0m \u001b[1m1s\u001b[0m 19ms/step - accuracy: 0.8142 - loss: 0.4607 - val_accuracy: 0.8304 - val_loss: 0.4454\n",
            "Epoch 37/1000\n",
            "\u001b[1m36/38\u001b[0m \u001b[32m━━━━━━━━━━━━━━━━━━\u001b[0m\u001b[37m━━\u001b[0m \u001b[1m0s\u001b[0m 15ms/step - accuracy: 0.8457 - loss: 0.3971\n",
            "Epoch 37: val_loss did not improve from 0.44538\n",
            "\u001b[1m38/38\u001b[0m \u001b[32m━━━━━━━━━━━━━━━━━━━━\u001b[0m\u001b[37m\u001b[0m \u001b[1m1s\u001b[0m 18ms/step - accuracy: 0.8451 - loss: 0.3983 - val_accuracy: 0.8256 - val_loss: 0.4764\n",
            "Epoch 38/1000\n",
            "\u001b[1m36/38\u001b[0m \u001b[32m━━━━━━━━━━━━━━━━━━\u001b[0m\u001b[37m━━\u001b[0m \u001b[1m0s\u001b[0m 15ms/step - accuracy: 0.8440 - loss: 0.4024\n",
            "Epoch 38: val_loss did not improve from 0.44538\n",
            "\u001b[1m38/38\u001b[0m \u001b[32m━━━━━━━━━━━━━━━━━━━━\u001b[0m\u001b[37m\u001b[0m \u001b[1m1s\u001b[0m 18ms/step - accuracy: 0.8443 - loss: 0.4024 - val_accuracy: 0.8025 - val_loss: 0.5098\n",
            "Epoch 39/1000\n",
            "\u001b[1m37/38\u001b[0m \u001b[32m━━━━━━━━━━━━━━━━━━━\u001b[0m\u001b[37m━\u001b[0m \u001b[1m0s\u001b[0m 27ms/step - accuracy: 0.8399 - loss: 0.4076\n",
            "Epoch 39: val_loss did not improve from 0.44538\n",
            "\u001b[1m38/38\u001b[0m \u001b[32m━━━━━━━━━━━━━━━━━━━━\u001b[0m\u001b[37m\u001b[0m \u001b[1m2s\u001b[0m 31ms/step - accuracy: 0.8396 - loss: 0.4080 - val_accuracy: 0.7958 - val_loss: 0.5233\n",
            "Epoch 40/1000\n",
            "\u001b[1m36/38\u001b[0m \u001b[32m━━━━━━━━━━━━━━━━━━\u001b[0m\u001b[37m━━\u001b[0m \u001b[1m0s\u001b[0m 28ms/step - accuracy: 0.8490 - loss: 0.4025\n",
            "Epoch 40: val_loss improved from 0.44538 to 0.44515, saving model to /content/keypoint_classifier.keras\n",
            "\u001b[1m38/38\u001b[0m \u001b[32m━━━━━━━━━━━━━━━━━━━━\u001b[0m\u001b[37m\u001b[0m \u001b[1m1s\u001b[0m 35ms/step - accuracy: 0.8493 - loss: 0.4015 - val_accuracy: 0.8189 - val_loss: 0.4451\n",
            "Epoch 41/1000\n",
            "\u001b[1m37/38\u001b[0m \u001b[32m━━━━━━━━━━━━━━━━━━━\u001b[0m\u001b[37m━\u001b[0m \u001b[1m0s\u001b[0m 14ms/step - accuracy: 0.8598 - loss: 0.3633\n",
            "Epoch 41: val_loss improved from 0.44515 to 0.41938, saving model to /content/keypoint_classifier.keras\n",
            "\u001b[1m38/38\u001b[0m \u001b[32m━━━━━━━━━━━━━━━━━━━━\u001b[0m\u001b[37m\u001b[0m \u001b[1m2s\u001b[0m 19ms/step - accuracy: 0.8597 - loss: 0.3635 - val_accuracy: 0.8372 - val_loss: 0.4194\n",
            "Epoch 42/1000\n",
            "\u001b[1m36/38\u001b[0m \u001b[32m━━━━━━━━━━━━━━━━━━\u001b[0m\u001b[37m━━\u001b[0m \u001b[1m0s\u001b[0m 15ms/step - accuracy: 0.8574 - loss: 0.3549\n",
            "Epoch 42: val_loss did not improve from 0.41938\n",
            "\u001b[1m38/38\u001b[0m \u001b[32m━━━━━━━━━━━━━━━━━━━━\u001b[0m\u001b[37m\u001b[0m \u001b[1m1s\u001b[0m 18ms/step - accuracy: 0.8575 - loss: 0.3554 - val_accuracy: 0.8304 - val_loss: 0.4395\n",
            "Epoch 43/1000\n",
            "\u001b[1m36/38\u001b[0m \u001b[32m━━━━━━━━━━━━━━━━━━\u001b[0m\u001b[37m━━\u001b[0m \u001b[1m0s\u001b[0m 15ms/step - accuracy: 0.8523 - loss: 0.3867\n",
            "Epoch 43: val_loss improved from 0.41938 to 0.39028, saving model to /content/keypoint_classifier.keras\n",
            "\u001b[1m38/38\u001b[0m \u001b[32m━━━━━━━━━━━━━━━━━━━━\u001b[0m\u001b[37m\u001b[0m \u001b[1m1s\u001b[0m 19ms/step - accuracy: 0.8517 - loss: 0.3870 - val_accuracy: 0.8468 - val_loss: 0.3903\n",
            "Epoch 44/1000\n",
            "\u001b[1m36/38\u001b[0m \u001b[32m━━━━━━━━━━━━━━━━━━\u001b[0m\u001b[37m━━\u001b[0m \u001b[1m0s\u001b[0m 15ms/step - accuracy: 0.8523 - loss: 0.3741\n",
            "Epoch 44: val_loss improved from 0.39028 to 0.38379, saving model to /content/keypoint_classifier.keras\n",
            "\u001b[1m38/38\u001b[0m \u001b[32m━━━━━━━━━━━━━━━━━━━━\u001b[0m\u001b[37m\u001b[0m \u001b[1m1s\u001b[0m 19ms/step - accuracy: 0.8530 - loss: 0.3729 - val_accuracy: 0.8584 - val_loss: 0.3838\n",
            "Epoch 45/1000\n",
            "\u001b[1m35/38\u001b[0m \u001b[32m━━━━━━━━━━━━━━━━━━\u001b[0m\u001b[37m━━\u001b[0m \u001b[1m0s\u001b[0m 15ms/step - accuracy: 0.8657 - loss: 0.3446\n",
            "Epoch 45: val_loss did not improve from 0.38379\n",
            "\u001b[1m38/38\u001b[0m \u001b[32m━━━━━━━━━━━━━━━━━━━━\u001b[0m\u001b[37m\u001b[0m \u001b[1m1s\u001b[0m 18ms/step - accuracy: 0.8661 - loss: 0.3447 - val_accuracy: 0.8526 - val_loss: 0.3875\n",
            "Epoch 46/1000\n",
            "\u001b[1m37/38\u001b[0m \u001b[32m━━━━━━━━━━━━━━━━━━━\u001b[0m\u001b[37m━\u001b[0m \u001b[1m0s\u001b[0m 15ms/step - accuracy: 0.8800 - loss: 0.3264\n",
            "Epoch 46: val_loss did not improve from 0.38379\n",
            "\u001b[1m38/38\u001b[0m \u001b[32m━━━━━━━━━━━━━━━━━━━━\u001b[0m\u001b[37m\u001b[0m \u001b[1m1s\u001b[0m 20ms/step - accuracy: 0.8799 - loss: 0.3264 - val_accuracy: 0.8497 - val_loss: 0.3901\n",
            "Epoch 47/1000\n",
            "\u001b[1m37/38\u001b[0m \u001b[32m━━━━━━━━━━━━━━━━━━━\u001b[0m\u001b[37m━\u001b[0m \u001b[1m0s\u001b[0m 15ms/step - accuracy: 0.8652 - loss: 0.3498\n",
            "Epoch 47: val_loss did not improve from 0.38379\n",
            "\u001b[1m38/38\u001b[0m \u001b[32m━━━━━━━━━━━━━━━━━━━━\u001b[0m\u001b[37m\u001b[0m \u001b[1m1s\u001b[0m 20ms/step - accuracy: 0.8651 - loss: 0.3498 - val_accuracy: 0.8449 - val_loss: 0.4012\n",
            "Epoch 48/1000\n",
            "\u001b[1m36/38\u001b[0m \u001b[32m━━━━━━━━━━━━━━━━━━\u001b[0m\u001b[37m━━\u001b[0m \u001b[1m0s\u001b[0m 15ms/step - accuracy: 0.8879 - loss: 0.3128\n",
            "Epoch 48: val_loss did not improve from 0.38379\n",
            "\u001b[1m38/38\u001b[0m \u001b[32m━━━━━━━━━━━━━━━━━━━━\u001b[0m\u001b[37m\u001b[0m \u001b[1m1s\u001b[0m 18ms/step - accuracy: 0.8869 - loss: 0.3145 - val_accuracy: 0.8410 - val_loss: 0.4256\n",
            "Epoch 49/1000\n",
            "\u001b[1m36/38\u001b[0m \u001b[32m━━━━━━━━━━━━━━━━━━\u001b[0m\u001b[37m━━\u001b[0m \u001b[1m0s\u001b[0m 15ms/step - accuracy: 0.8791 - loss: 0.3137\n",
            "Epoch 49: val_loss improved from 0.38379 to 0.35049, saving model to /content/keypoint_classifier.keras\n",
            "\u001b[1m38/38\u001b[0m \u001b[32m━━━━━━━━━━━━━━━━━━━━\u001b[0m\u001b[37m\u001b[0m \u001b[1m1s\u001b[0m 23ms/step - accuracy: 0.8791 - loss: 0.3138 - val_accuracy: 0.8661 - val_loss: 0.3505\n",
            "Epoch 50/1000\n",
            "\u001b[1m36/38\u001b[0m \u001b[32m━━━━━━━━━━━━━━━━━━\u001b[0m\u001b[37m━━\u001b[0m \u001b[1m0s\u001b[0m 25ms/step - accuracy: 0.8704 - loss: 0.3374\n",
            "Epoch 50: val_loss did not improve from 0.35049\n",
            "\u001b[1m38/38\u001b[0m \u001b[32m━━━━━━━━━━━━━━━━━━━━\u001b[0m\u001b[37m\u001b[0m \u001b[1m1s\u001b[0m 30ms/step - accuracy: 0.8707 - loss: 0.3365 - val_accuracy: 0.8584 - val_loss: 0.3794\n",
            "Epoch 51/1000\n",
            "\u001b[1m38/38\u001b[0m \u001b[32m━━━━━━━━━━━━━━━━━━━━\u001b[0m\u001b[37m\u001b[0m \u001b[1m0s\u001b[0m 25ms/step - accuracy: 0.8808 - loss: 0.3124\n",
            "Epoch 51: val_loss improved from 0.35049 to 0.34976, saving model to /content/keypoint_classifier.keras\n",
            "\u001b[1m38/38\u001b[0m \u001b[32m━━━━━━━━━━━━━━━━━━━━\u001b[0m\u001b[37m\u001b[0m \u001b[1m1s\u001b[0m 32ms/step - accuracy: 0.8808 - loss: 0.3122 - val_accuracy: 0.8757 - val_loss: 0.3498\n",
            "Epoch 52/1000\n",
            "\u001b[1m36/38\u001b[0m \u001b[32m━━━━━━━━━━━━━━━━━━\u001b[0m\u001b[37m━━\u001b[0m \u001b[1m0s\u001b[0m 15ms/step - accuracy: 0.8903 - loss: 0.2915\n",
            "Epoch 52: val_loss did not improve from 0.34976\n",
            "\u001b[1m38/38\u001b[0m \u001b[32m━━━━━━━━━━━━━━━━━━━━\u001b[0m\u001b[37m\u001b[0m \u001b[1m1s\u001b[0m 18ms/step - accuracy: 0.8897 - loss: 0.2925 - val_accuracy: 0.8420 - val_loss: 0.4256\n",
            "Epoch 53/1000\n",
            "\u001b[1m37/38\u001b[0m \u001b[32m━━━━━━━━━━━━━━━━━━━\u001b[0m\u001b[37m━\u001b[0m \u001b[1m0s\u001b[0m 15ms/step - accuracy: 0.8696 - loss: 0.3215\n",
            "Epoch 53: val_loss did not improve from 0.34976\n",
            "\u001b[1m38/38\u001b[0m \u001b[32m━━━━━━━━━━━━━━━━━━━━\u001b[0m\u001b[37m\u001b[0m \u001b[1m1s\u001b[0m 18ms/step - accuracy: 0.8703 - loss: 0.3207 - val_accuracy: 0.8487 - val_loss: 0.3709\n",
            "Epoch 54/1000\n",
            "\u001b[1m37/38\u001b[0m \u001b[32m━━━━━━━━━━━━━━━━━━━\u001b[0m\u001b[37m━\u001b[0m \u001b[1m0s\u001b[0m 15ms/step - accuracy: 0.8837 - loss: 0.2967\n",
            "Epoch 54: val_loss improved from 0.34976 to 0.33407, saving model to /content/keypoint_classifier.keras\n",
            "\u001b[1m38/38\u001b[0m \u001b[32m━━━━━━━━━━━━━━━━━━━━\u001b[0m\u001b[37m\u001b[0m \u001b[1m1s\u001b[0m 19ms/step - accuracy: 0.8841 - loss: 0.2963 - val_accuracy: 0.8699 - val_loss: 0.3341\n",
            "Epoch 55/1000\n",
            "\u001b[1m36/38\u001b[0m \u001b[32m━━━━━━━━━━━━━━━━━━\u001b[0m\u001b[37m━━\u001b[0m \u001b[1m0s\u001b[0m 15ms/step - accuracy: 0.8881 - loss: 0.2907\n",
            "Epoch 55: val_loss improved from 0.33407 to 0.31542, saving model to /content/keypoint_classifier.keras\n",
            "\u001b[1m38/38\u001b[0m \u001b[32m━━━━━━━━━━━━━━━━━━━━\u001b[0m\u001b[37m\u001b[0m \u001b[1m1s\u001b[0m 19ms/step - accuracy: 0.8881 - loss: 0.2906 - val_accuracy: 0.8786 - val_loss: 0.3154\n",
            "Epoch 56/1000\n",
            "\u001b[1m37/38\u001b[0m \u001b[32m━━━━━━━━━━━━━━━━━━━\u001b[0m\u001b[37m━\u001b[0m \u001b[1m0s\u001b[0m 14ms/step - accuracy: 0.9037 - loss: 0.2641\n",
            "Epoch 56: val_loss did not improve from 0.31542\n",
            "\u001b[1m38/38\u001b[0m \u001b[32m━━━━━━━━━━━━━━━━━━━━\u001b[0m\u001b[37m\u001b[0m \u001b[1m1s\u001b[0m 19ms/step - accuracy: 0.9032 - loss: 0.2647 - val_accuracy: 0.8651 - val_loss: 0.3485\n",
            "Epoch 57/1000\n",
            "\u001b[1m37/38\u001b[0m \u001b[32m━━━━━━━━━━━━━━━━━━━\u001b[0m\u001b[37m━\u001b[0m \u001b[1m0s\u001b[0m 15ms/step - accuracy: 0.8940 - loss: 0.2824\n",
            "Epoch 57: val_loss did not improve from 0.31542\n",
            "\u001b[1m38/38\u001b[0m \u001b[32m━━━━━━━━━━━━━━━━━━━━\u001b[0m\u001b[37m\u001b[0m \u001b[1m1s\u001b[0m 18ms/step - accuracy: 0.8940 - loss: 0.2820 - val_accuracy: 0.8661 - val_loss: 0.3331\n",
            "Epoch 58/1000\n",
            "\u001b[1m37/38\u001b[0m \u001b[32m━━━━━━━━━━━━━━━━━━━\u001b[0m\u001b[37m━\u001b[0m \u001b[1m0s\u001b[0m 15ms/step - accuracy: 0.9035 - loss: 0.2535\n",
            "Epoch 58: val_loss improved from 0.31542 to 0.30729, saving model to /content/keypoint_classifier.keras\n",
            "\u001b[1m38/38\u001b[0m \u001b[32m━━━━━━━━━━━━━━━━━━━━\u001b[0m\u001b[37m\u001b[0m \u001b[1m1s\u001b[0m 21ms/step - accuracy: 0.9035 - loss: 0.2537 - val_accuracy: 0.8882 - val_loss: 0.3073\n",
            "Epoch 59/1000\n",
            "\u001b[1m36/38\u001b[0m \u001b[32m━━━━━━━━━━━━━━━━━━\u001b[0m\u001b[37m━━\u001b[0m \u001b[1m0s\u001b[0m 15ms/step - accuracy: 0.9013 - loss: 0.2495\n",
            "Epoch 59: val_loss did not improve from 0.30729\n",
            "\u001b[1m38/38\u001b[0m \u001b[32m━━━━━━━━━━━━━━━━━━━━\u001b[0m\u001b[37m\u001b[0m \u001b[1m1s\u001b[0m 18ms/step - accuracy: 0.9006 - loss: 0.2511 - val_accuracy: 0.8748 - val_loss: 0.3295\n",
            "Epoch 60/1000\n",
            "\u001b[1m37/38\u001b[0m \u001b[32m━━━━━━━━━━━━━━━━━━━\u001b[0m\u001b[37m━\u001b[0m \u001b[1m0s\u001b[0m 15ms/step - accuracy: 0.8863 - loss: 0.2884\n",
            "Epoch 60: val_loss improved from 0.30729 to 0.30083, saving model to /content/keypoint_classifier.keras\n",
            "\u001b[1m38/38\u001b[0m \u001b[32m━━━━━━━━━━━━━━━━━━━━\u001b[0m\u001b[37m\u001b[0m \u001b[1m1s\u001b[0m 19ms/step - accuracy: 0.8862 - loss: 0.2884 - val_accuracy: 0.8805 - val_loss: 0.3008\n",
            "Epoch 61/1000\n",
            "\u001b[1m37/38\u001b[0m \u001b[32m━━━━━━━━━━━━━━━━━━━\u001b[0m\u001b[37m━\u001b[0m \u001b[1m0s\u001b[0m 15ms/step - accuracy: 0.8962 - loss: 0.2669\n",
            "Epoch 61: val_loss did not improve from 0.30083\n",
            "\u001b[1m38/38\u001b[0m \u001b[32m━━━━━━━━━━━━━━━━━━━━\u001b[0m\u001b[37m\u001b[0m \u001b[1m1s\u001b[0m 18ms/step - accuracy: 0.8958 - loss: 0.2678 - val_accuracy: 0.8565 - val_loss: 0.3386\n",
            "Epoch 62/1000\n",
            "\u001b[1m38/38\u001b[0m \u001b[32m━━━━━━━━━━━━━━━━━━━━\u001b[0m\u001b[37m\u001b[0m \u001b[1m0s\u001b[0m 26ms/step - accuracy: 0.9077 - loss: 0.2328\n",
            "Epoch 62: val_loss did not improve from 0.30083\n",
            "\u001b[1m38/38\u001b[0m \u001b[32m━━━━━━━━━━━━━━━━━━━━\u001b[0m\u001b[37m\u001b[0m \u001b[1m2s\u001b[0m 32ms/step - accuracy: 0.9076 - loss: 0.2331 - val_accuracy: 0.8584 - val_loss: 0.3430\n",
            "Epoch 63/1000\n",
            "\u001b[1m37/38\u001b[0m \u001b[32m━━━━━━━━━━━━━━━━━━━\u001b[0m\u001b[37m━\u001b[0m \u001b[1m0s\u001b[0m 26ms/step - accuracy: 0.9050 - loss: 0.2493\n",
            "Epoch 63: val_loss improved from 0.30083 to 0.28455, saving model to /content/keypoint_classifier.keras\n",
            "\u001b[1m38/38\u001b[0m \u001b[32m━━━━━━━━━━━━━━━━━━━━\u001b[0m\u001b[37m\u001b[0m \u001b[1m1s\u001b[0m 33ms/step - accuracy: 0.9051 - loss: 0.2488 - val_accuracy: 0.8815 - val_loss: 0.2845\n",
            "Epoch 64/1000\n",
            "\u001b[1m37/38\u001b[0m \u001b[32m━━━━━━━━━━━━━━━━━━━\u001b[0m\u001b[37m━\u001b[0m \u001b[1m0s\u001b[0m 16ms/step - accuracy: 0.9031 - loss: 0.2489\n",
            "Epoch 64: val_loss improved from 0.28455 to 0.28310, saving model to /content/keypoint_classifier.keras\n",
            "\u001b[1m38/38\u001b[0m \u001b[32m━━━━━━━━━━━━━━━━━━━━\u001b[0m\u001b[37m\u001b[0m \u001b[1m1s\u001b[0m 20ms/step - accuracy: 0.9033 - loss: 0.2487 - val_accuracy: 0.8805 - val_loss: 0.2831\n",
            "Epoch 65/1000\n",
            "\u001b[1m36/38\u001b[0m \u001b[32m━━━━━━━━━━━━━━━━━━\u001b[0m\u001b[37m━━\u001b[0m \u001b[1m0s\u001b[0m 15ms/step - accuracy: 0.9100 - loss: 0.2347\n",
            "Epoch 65: val_loss did not improve from 0.28310\n",
            "\u001b[1m38/38\u001b[0m \u001b[32m━━━━━━━━━━━━━━━━━━━━\u001b[0m\u001b[37m\u001b[0m \u001b[1m1s\u001b[0m 18ms/step - accuracy: 0.9095 - loss: 0.2352 - val_accuracy: 0.8757 - val_loss: 0.3238\n",
            "Epoch 66/1000\n",
            "\u001b[1m37/38\u001b[0m \u001b[32m━━━━━━━━━━━━━━━━━━━\u001b[0m\u001b[37m━\u001b[0m \u001b[1m0s\u001b[0m 15ms/step - accuracy: 0.9027 - loss: 0.2394\n",
            "Epoch 66: val_loss did not improve from 0.28310\n",
            "\u001b[1m38/38\u001b[0m \u001b[32m━━━━━━━━━━━━━━━━━━━━\u001b[0m\u001b[37m\u001b[0m \u001b[1m1s\u001b[0m 20ms/step - accuracy: 0.9026 - loss: 0.2396 - val_accuracy: 0.8960 - val_loss: 0.2882\n",
            "Epoch 67/1000\n",
            "\u001b[1m37/38\u001b[0m \u001b[32m━━━━━━━━━━━━━━━━━━━\u001b[0m\u001b[37m━\u001b[0m \u001b[1m0s\u001b[0m 15ms/step - accuracy: 0.9176 - loss: 0.2204\n",
            "Epoch 67: val_loss improved from 0.28310 to 0.26059, saving model to /content/keypoint_classifier.keras\n",
            "\u001b[1m38/38\u001b[0m \u001b[32m━━━━━━━━━━━━━━━━━━━━\u001b[0m\u001b[37m\u001b[0m \u001b[1m1s\u001b[0m 20ms/step - accuracy: 0.9173 - loss: 0.2209 - val_accuracy: 0.8979 - val_loss: 0.2606\n",
            "Epoch 68/1000\n",
            "\u001b[1m38/38\u001b[0m \u001b[32m━━━━━━━━━━━━━━━━━━━━\u001b[0m\u001b[37m\u001b[0m \u001b[1m0s\u001b[0m 16ms/step - accuracy: 0.9157 - loss: 0.2156\n",
            "Epoch 68: val_loss improved from 0.26059 to 0.24420, saving model to /content/keypoint_classifier.keras\n",
            "\u001b[1m38/38\u001b[0m \u001b[32m━━━━━━━━━━━━━━━━━━━━\u001b[0m\u001b[37m\u001b[0m \u001b[1m1s\u001b[0m 20ms/step - accuracy: 0.9158 - loss: 0.2156 - val_accuracy: 0.9056 - val_loss: 0.2442\n",
            "Epoch 69/1000\n",
            "\u001b[1m37/38\u001b[0m \u001b[32m━━━━━━━━━━━━━━━━━━━\u001b[0m\u001b[37m━\u001b[0m \u001b[1m0s\u001b[0m 15ms/step - accuracy: 0.9134 - loss: 0.2213\n",
            "Epoch 69: val_loss did not improve from 0.24420\n",
            "\u001b[1m38/38\u001b[0m \u001b[32m━━━━━━━━━━━━━━━━━━━━\u001b[0m\u001b[37m\u001b[0m \u001b[1m1s\u001b[0m 20ms/step - accuracy: 0.9132 - loss: 0.2217 - val_accuracy: 0.8969 - val_loss: 0.2601\n",
            "Epoch 70/1000\n",
            "\u001b[1m37/38\u001b[0m \u001b[32m━━━━━━━━━━━━━━━━━━━\u001b[0m\u001b[37m━\u001b[0m \u001b[1m0s\u001b[0m 15ms/step - accuracy: 0.9232 - loss: 0.1949\n",
            "Epoch 70: val_loss improved from 0.24420 to 0.24179, saving model to /content/keypoint_classifier.keras\n",
            "\u001b[1m38/38\u001b[0m \u001b[32m━━━━━━━━━━━━━━━━━━━━\u001b[0m\u001b[37m\u001b[0m \u001b[1m1s\u001b[0m 19ms/step - accuracy: 0.9231 - loss: 0.1951 - val_accuracy: 0.8931 - val_loss: 0.2418\n",
            "Epoch 71/1000\n",
            "\u001b[1m36/38\u001b[0m \u001b[32m━━━━━━━━━━━━━━━━━━\u001b[0m\u001b[37m━━\u001b[0m \u001b[1m0s\u001b[0m 16ms/step - accuracy: 0.9202 - loss: 0.2147\n",
            "Epoch 71: val_loss did not improve from 0.24179\n",
            "\u001b[1m38/38\u001b[0m \u001b[32m━━━━━━━━━━━━━━━━━━━━\u001b[0m\u001b[37m\u001b[0m \u001b[1m1s\u001b[0m 19ms/step - accuracy: 0.9193 - loss: 0.2163 - val_accuracy: 0.8757 - val_loss: 0.3301\n",
            "Epoch 72/1000\n",
            "\u001b[1m37/38\u001b[0m \u001b[32m━━━━━━━━━━━━━━━━━━━\u001b[0m\u001b[37m━\u001b[0m \u001b[1m0s\u001b[0m 16ms/step - accuracy: 0.8691 - loss: 0.3189\n",
            "Epoch 72: val_loss did not improve from 0.24179\n",
            "\u001b[1m38/38\u001b[0m \u001b[32m━━━━━━━━━━━━━━━━━━━━\u001b[0m\u001b[37m\u001b[0m \u001b[1m1s\u001b[0m 19ms/step - accuracy: 0.8701 - loss: 0.3169 - val_accuracy: 0.8882 - val_loss: 0.2699\n",
            "Epoch 73/1000\n",
            "\u001b[1m38/38\u001b[0m \u001b[32m━━━━━━━━━━━━━━━━━━━━\u001b[0m\u001b[37m\u001b[0m \u001b[1m0s\u001b[0m 16ms/step - accuracy: 0.9118 - loss: 0.2121\n",
            "Epoch 73: val_loss did not improve from 0.24179\n",
            "\u001b[1m38/38\u001b[0m \u001b[32m━━━━━━━━━━━━━━━━━━━━\u001b[0m\u001b[37m\u001b[0m \u001b[1m1s\u001b[0m 19ms/step - accuracy: 0.9119 - loss: 0.2120 - val_accuracy: 0.8979 - val_loss: 0.2653\n",
            "Epoch 74/1000\n",
            "\u001b[1m38/38\u001b[0m \u001b[32m━━━━━━━━━━━━━━━━━━━━\u001b[0m\u001b[37m\u001b[0m \u001b[1m0s\u001b[0m 25ms/step - accuracy: 0.9252 - loss: 0.2057\n",
            "Epoch 74: val_loss did not improve from 0.24179\n",
            "\u001b[1m38/38\u001b[0m \u001b[32m━━━━━━━━━━━━━━━━━━━━\u001b[0m\u001b[37m\u001b[0m \u001b[1m1s\u001b[0m 30ms/step - accuracy: 0.9250 - loss: 0.2058 - val_accuracy: 0.9046 - val_loss: 0.2621\n",
            "Epoch 75/1000\n",
            "\u001b[1m37/38\u001b[0m \u001b[32m━━━━━━━━━━━━━━━━━━━\u001b[0m\u001b[37m━\u001b[0m \u001b[1m0s\u001b[0m 27ms/step - accuracy: 0.9125 - loss: 0.2148\n",
            "Epoch 75: val_loss improved from 0.24179 to 0.23692, saving model to /content/keypoint_classifier.keras\n",
            "\u001b[1m38/38\u001b[0m \u001b[32m━━━━━━━━━━━━━━━━━━━━\u001b[0m\u001b[37m\u001b[0m \u001b[1m1s\u001b[0m 34ms/step - accuracy: 0.9126 - loss: 0.2146 - val_accuracy: 0.8988 - val_loss: 0.2369\n",
            "Epoch 76/1000\n",
            "\u001b[1m37/38\u001b[0m \u001b[32m━━━━━━━━━━━━━━━━━━━\u001b[0m\u001b[37m━\u001b[0m \u001b[1m0s\u001b[0m 20ms/step - accuracy: 0.9211 - loss: 0.1922\n",
            "Epoch 76: val_loss improved from 0.23692 to 0.21331, saving model to /content/keypoint_classifier.keras\n",
            "\u001b[1m38/38\u001b[0m \u001b[32m━━━━━━━━━━━━━━━━━━━━\u001b[0m\u001b[37m\u001b[0m \u001b[1m1s\u001b[0m 24ms/step - accuracy: 0.9214 - loss: 0.1921 - val_accuracy: 0.9123 - val_loss: 0.2133\n",
            "Epoch 77/1000\n",
            "\u001b[1m36/38\u001b[0m \u001b[32m━━━━━━━━━━━━━━━━━━\u001b[0m\u001b[37m━━\u001b[0m \u001b[1m0s\u001b[0m 15ms/step - accuracy: 0.9273 - loss: 0.1829\n",
            "Epoch 77: val_loss did not improve from 0.21331\n",
            "\u001b[1m38/38\u001b[0m \u001b[32m━━━━━━━━━━━━━━━━━━━━\u001b[0m\u001b[37m\u001b[0m \u001b[1m1s\u001b[0m 20ms/step - accuracy: 0.9270 - loss: 0.1835 - val_accuracy: 0.9200 - val_loss: 0.2170\n",
            "Epoch 78/1000\n",
            "\u001b[1m36/38\u001b[0m \u001b[32m━━━━━━━━━━━━━━━━━━\u001b[0m\u001b[37m━━\u001b[0m \u001b[1m0s\u001b[0m 15ms/step - accuracy: 0.9254 - loss: 0.1866\n",
            "Epoch 78: val_loss did not improve from 0.21331\n",
            "\u001b[1m38/38\u001b[0m \u001b[32m━━━━━━━━━━━━━━━━━━━━\u001b[0m\u001b[37m\u001b[0m \u001b[1m1s\u001b[0m 19ms/step - accuracy: 0.9252 - loss: 0.1870 - val_accuracy: 0.8979 - val_loss: 0.2421\n",
            "Epoch 79/1000\n",
            "\u001b[1m35/38\u001b[0m \u001b[32m━━━━━━━━━━━━━━━━━━\u001b[0m\u001b[37m━━\u001b[0m \u001b[1m0s\u001b[0m 16ms/step - accuracy: 0.9358 - loss: 0.1829\n",
            "Epoch 79: val_loss did not improve from 0.21331\n",
            "\u001b[1m38/38\u001b[0m \u001b[32m━━━━━━━━━━━━━━━━━━━━\u001b[0m\u001b[37m\u001b[0m \u001b[1m1s\u001b[0m 19ms/step - accuracy: 0.9351 - loss: 0.1840 - val_accuracy: 0.9114 - val_loss: 0.2304\n",
            "Epoch 80/1000\n",
            "\u001b[1m35/38\u001b[0m \u001b[32m━━━━━━━━━━━━━━━━━━\u001b[0m\u001b[37m━━\u001b[0m \u001b[1m0s\u001b[0m 15ms/step - accuracy: 0.9230 - loss: 0.1889\n",
            "Epoch 80: val_loss did not improve from 0.21331\n",
            "\u001b[1m38/38\u001b[0m \u001b[32m━━━━━━━━━━━━━━━━━━━━\u001b[0m\u001b[37m\u001b[0m \u001b[1m1s\u001b[0m 19ms/step - accuracy: 0.9230 - loss: 0.1892 - val_accuracy: 0.9123 - val_loss: 0.2302\n",
            "Epoch 81/1000\n",
            "\u001b[1m37/38\u001b[0m \u001b[32m━━━━━━━━━━━━━━━━━━━\u001b[0m\u001b[37m━\u001b[0m \u001b[1m0s\u001b[0m 16ms/step - accuracy: 0.9209 - loss: 0.1928\n",
            "Epoch 81: val_loss improved from 0.21331 to 0.19989, saving model to /content/keypoint_classifier.keras\n",
            "\u001b[1m38/38\u001b[0m \u001b[32m━━━━━━━━━━━━━━━━━━━━\u001b[0m\u001b[37m\u001b[0m \u001b[1m1s\u001b[0m 22ms/step - accuracy: 0.9213 - loss: 0.1921 - val_accuracy: 0.9220 - val_loss: 0.1999\n",
            "Epoch 82/1000\n",
            "\u001b[1m38/38\u001b[0m \u001b[32m━━━━━━━━━━━━━━━━━━━━\u001b[0m\u001b[37m\u001b[0m \u001b[1m0s\u001b[0m 15ms/step - accuracy: 0.9325 - loss: 0.1782\n",
            "Epoch 82: val_loss did not improve from 0.19989\n",
            "\u001b[1m38/38\u001b[0m \u001b[32m━━━━━━━━━━━━━━━━━━━━\u001b[0m\u001b[37m\u001b[0m \u001b[1m1s\u001b[0m 21ms/step - accuracy: 0.9326 - loss: 0.1782 - val_accuracy: 0.9075 - val_loss: 0.2105\n",
            "Epoch 83/1000\n",
            "\u001b[1m35/38\u001b[0m \u001b[32m━━━━━━━━━━━━━━━━━━\u001b[0m\u001b[37m━━\u001b[0m \u001b[1m0s\u001b[0m 15ms/step - accuracy: 0.9336 - loss: 0.1793\n",
            "Epoch 83: val_loss did not improve from 0.19989\n",
            "\u001b[1m38/38\u001b[0m \u001b[32m━━━━━━━━━━━━━━━━━━━━\u001b[0m\u001b[37m\u001b[0m \u001b[1m1s\u001b[0m 18ms/step - accuracy: 0.9337 - loss: 0.1790 - val_accuracy: 0.9037 - val_loss: 0.2465\n",
            "Epoch 84/1000\n",
            "\u001b[1m37/38\u001b[0m \u001b[32m━━━━━━━━━━━━━━━━━━━\u001b[0m\u001b[37m━\u001b[0m \u001b[1m0s\u001b[0m 15ms/step - accuracy: 0.9173 - loss: 0.2134\n",
            "Epoch 84: val_loss did not improve from 0.19989\n",
            "\u001b[1m38/38\u001b[0m \u001b[32m━━━━━━━━━━━━━━━━━━━━\u001b[0m\u001b[37m\u001b[0m \u001b[1m1s\u001b[0m 19ms/step - accuracy: 0.9176 - loss: 0.2125 - val_accuracy: 0.9210 - val_loss: 0.2094\n",
            "Epoch 85/1000\n",
            "\u001b[1m37/38\u001b[0m \u001b[32m━━━━━━━━━━━━━━━━━━━\u001b[0m\u001b[37m━\u001b[0m \u001b[1m0s\u001b[0m 18ms/step - accuracy: 0.9335 - loss: 0.1759\n",
            "Epoch 85: val_loss did not improve from 0.19989\n",
            "\u001b[1m38/38\u001b[0m \u001b[32m━━━━━━━━━━━━━━━━━━━━\u001b[0m\u001b[37m\u001b[0m \u001b[1m1s\u001b[0m 23ms/step - accuracy: 0.9333 - loss: 0.1764 - val_accuracy: 0.9181 - val_loss: 0.2208\n",
            "Epoch 86/1000\n",
            "\u001b[1m37/38\u001b[0m \u001b[32m━━━━━━━━━━━━━━━━━━━\u001b[0m\u001b[37m━\u001b[0m \u001b[1m0s\u001b[0m 26ms/step - accuracy: 0.9205 - loss: 0.2062\n",
            "Epoch 86: val_loss did not improve from 0.19989\n",
            "\u001b[1m38/38\u001b[0m \u001b[32m━━━━━━━━━━━━━━━━━━━━\u001b[0m\u001b[37m\u001b[0m \u001b[1m2s\u001b[0m 32ms/step - accuracy: 0.9200 - loss: 0.2070 - val_accuracy: 0.9104 - val_loss: 0.2093\n",
            "Epoch 87/1000\n",
            "\u001b[1m37/38\u001b[0m \u001b[32m━━━━━━━━━━━━━━━━━━━\u001b[0m\u001b[37m━\u001b[0m \u001b[1m0s\u001b[0m 22ms/step - accuracy: 0.9210 - loss: 0.2052\n",
            "Epoch 87: val_loss did not improve from 0.19989\n",
            "\u001b[1m38/38\u001b[0m \u001b[32m━━━━━━━━━━━━━━━━━━━━\u001b[0m\u001b[37m\u001b[0m \u001b[1m1s\u001b[0m 25ms/step - accuracy: 0.9211 - loss: 0.2046 - val_accuracy: 0.9200 - val_loss: 0.2194\n",
            "Epoch 88/1000\n",
            "\u001b[1m37/38\u001b[0m \u001b[32m━━━━━━━━━━━━━━━━━━━\u001b[0m\u001b[37m━\u001b[0m \u001b[1m0s\u001b[0m 15ms/step - accuracy: 0.9406 - loss: 0.1551\n",
            "Epoch 88: val_loss improved from 0.19989 to 0.19260, saving model to /content/keypoint_classifier.keras\n",
            "\u001b[1m38/38\u001b[0m \u001b[32m━━━━━━━━━━━━━━━━━━━━\u001b[0m\u001b[37m\u001b[0m \u001b[1m1s\u001b[0m 21ms/step - accuracy: 0.9406 - loss: 0.1552 - val_accuracy: 0.9191 - val_loss: 0.1926\n",
            "Epoch 89/1000\n",
            "\u001b[1m37/38\u001b[0m \u001b[32m━━━━━━━━━━━━━━━━━━━\u001b[0m\u001b[37m━\u001b[0m \u001b[1m0s\u001b[0m 17ms/step - accuracy: 0.9392 - loss: 0.1523\n",
            "Epoch 89: val_loss did not improve from 0.19260\n",
            "\u001b[1m38/38\u001b[0m \u001b[32m━━━━━━━━━━━━━━━━━━━━\u001b[0m\u001b[37m\u001b[0m \u001b[1m1s\u001b[0m 20ms/step - accuracy: 0.9393 - loss: 0.1525 - val_accuracy: 0.9268 - val_loss: 0.1951\n",
            "Epoch 90/1000\n",
            "\u001b[1m36/38\u001b[0m \u001b[32m━━━━━━━━━━━━━━━━━━\u001b[0m\u001b[37m━━\u001b[0m \u001b[1m0s\u001b[0m 15ms/step - accuracy: 0.9225 - loss: 0.1954\n",
            "Epoch 90: val_loss did not improve from 0.19260\n",
            "\u001b[1m38/38\u001b[0m \u001b[32m━━━━━━━━━━━━━━━━━━━━\u001b[0m\u001b[37m\u001b[0m \u001b[1m1s\u001b[0m 18ms/step - accuracy: 0.9230 - loss: 0.1949 - val_accuracy: 0.9094 - val_loss: 0.2246\n",
            "Epoch 91/1000\n",
            "\u001b[1m38/38\u001b[0m \u001b[32m━━━━━━━━━━━━━━━━━━━━\u001b[0m\u001b[37m\u001b[0m \u001b[1m0s\u001b[0m 16ms/step - accuracy: 0.9422 - loss: 0.1598\n",
            "Epoch 91: val_loss did not improve from 0.19260\n",
            "\u001b[1m38/38\u001b[0m \u001b[32m━━━━━━━━━━━━━━━━━━━━\u001b[0m\u001b[37m\u001b[0m \u001b[1m1s\u001b[0m 21ms/step - accuracy: 0.9420 - loss: 0.1599 - val_accuracy: 0.9094 - val_loss: 0.2240\n",
            "Epoch 92/1000\n",
            "\u001b[1m36/38\u001b[0m \u001b[32m━━━━━━━━━━━━━━━━━━\u001b[0m\u001b[37m━━\u001b[0m \u001b[1m0s\u001b[0m 15ms/step - accuracy: 0.9449 - loss: 0.1568\n",
            "Epoch 92: val_loss improved from 0.19260 to 0.18173, saving model to /content/keypoint_classifier.keras\n",
            "\u001b[1m38/38\u001b[0m \u001b[32m━━━━━━━━━━━━━━━━━━━━\u001b[0m\u001b[37m\u001b[0m \u001b[1m1s\u001b[0m 22ms/step - accuracy: 0.9446 - loss: 0.1570 - val_accuracy: 0.9326 - val_loss: 0.1817\n",
            "Epoch 93/1000\n",
            "\u001b[1m36/38\u001b[0m \u001b[32m━━━━━━━━━━━━━━━━━━\u001b[0m\u001b[37m━━\u001b[0m \u001b[1m0s\u001b[0m 16ms/step - accuracy: 0.9260 - loss: 0.1842\n",
            "Epoch 93: val_loss did not improve from 0.18173\n",
            "\u001b[1m38/38\u001b[0m \u001b[32m━━━━━━━━━━━━━━━━━━━━\u001b[0m\u001b[37m\u001b[0m \u001b[1m1s\u001b[0m 19ms/step - accuracy: 0.9266 - loss: 0.1834 - val_accuracy: 0.9239 - val_loss: 0.1919\n",
            "Epoch 94/1000\n",
            "\u001b[1m38/38\u001b[0m \u001b[32m━━━━━━━━━━━━━━━━━━━━\u001b[0m\u001b[37m\u001b[0m \u001b[1m0s\u001b[0m 16ms/step - accuracy: 0.9440 - loss: 0.1643\n",
            "Epoch 94: val_loss did not improve from 0.18173\n",
            "\u001b[1m38/38\u001b[0m \u001b[32m━━━━━━━━━━━━━━━━━━━━\u001b[0m\u001b[37m\u001b[0m \u001b[1m1s\u001b[0m 19ms/step - accuracy: 0.9436 - loss: 0.1648 - val_accuracy: 0.9075 - val_loss: 0.2313\n",
            "Epoch 95/1000\n",
            "\u001b[1m38/38\u001b[0m \u001b[32m━━━━━━━━━━━━━━━━━━━━\u001b[0m\u001b[37m\u001b[0m \u001b[1m0s\u001b[0m 16ms/step - accuracy: 0.9349 - loss: 0.1702\n",
            "Epoch 95: val_loss improved from 0.18173 to 0.17318, saving model to /content/keypoint_classifier.keras\n",
            "\u001b[1m38/38\u001b[0m \u001b[32m━━━━━━━━━━━━━━━━━━━━\u001b[0m\u001b[37m\u001b[0m \u001b[1m1s\u001b[0m 20ms/step - accuracy: 0.9349 - loss: 0.1701 - val_accuracy: 0.9306 - val_loss: 0.1732\n",
            "Epoch 96/1000\n",
            "\u001b[1m35/38\u001b[0m \u001b[32m━━━━━━━━━━━━━━━━━━\u001b[0m\u001b[37m━━\u001b[0m \u001b[1m0s\u001b[0m 15ms/step - accuracy: 0.9443 - loss: 0.1475\n",
            "Epoch 96: val_loss did not improve from 0.17318\n",
            "\u001b[1m38/38\u001b[0m \u001b[32m━━━━━━━━━━━━━━━━━━━━\u001b[0m\u001b[37m\u001b[0m \u001b[1m1s\u001b[0m 18ms/step - accuracy: 0.9442 - loss: 0.1478 - val_accuracy: 0.9133 - val_loss: 0.2011\n",
            "Epoch 97/1000\n",
            "\u001b[1m37/38\u001b[0m \u001b[32m━━━━━━━━━━━━━━━━━━━\u001b[0m\u001b[37m━\u001b[0m \u001b[1m0s\u001b[0m 27ms/step - accuracy: 0.9512 - loss: 0.1421\n",
            "Epoch 97: val_loss did not improve from 0.17318\n",
            "\u001b[1m38/38\u001b[0m \u001b[32m━━━━━━━━━━━━━━━━━━━━\u001b[0m\u001b[37m\u001b[0m \u001b[1m2s\u001b[0m 31ms/step - accuracy: 0.9509 - loss: 0.1425 - val_accuracy: 0.9046 - val_loss: 0.2286\n",
            "Epoch 98/1000\n",
            "\u001b[1m38/38\u001b[0m \u001b[32m━━━━━━━━━━━━━━━━━━━━\u001b[0m\u001b[37m\u001b[0m \u001b[1m0s\u001b[0m 27ms/step - accuracy: 0.9355 - loss: 0.1762\n",
            "Epoch 98: val_loss did not improve from 0.17318\n",
            "\u001b[1m38/38\u001b[0m \u001b[32m━━━━━━━━━━━━━━━━━━━━\u001b[0m\u001b[37m\u001b[0m \u001b[1m1s\u001b[0m 32ms/step - accuracy: 0.9355 - loss: 0.1760 - val_accuracy: 0.9210 - val_loss: 0.1940\n",
            "Epoch 99/1000\n",
            "\u001b[1m36/38\u001b[0m \u001b[32m━━━━━━━━━━━━━━━━━━\u001b[0m\u001b[37m━━\u001b[0m \u001b[1m0s\u001b[0m 18ms/step - accuracy: 0.9450 - loss: 0.1505\n",
            "Epoch 99: val_loss did not improve from 0.17318\n",
            "\u001b[1m38/38\u001b[0m \u001b[32m━━━━━━━━━━━━━━━━━━━━\u001b[0m\u001b[37m\u001b[0m \u001b[1m1s\u001b[0m 21ms/step - accuracy: 0.9450 - loss: 0.1501 - val_accuracy: 0.9326 - val_loss: 0.1742\n",
            "Epoch 100/1000\n",
            "\u001b[1m37/38\u001b[0m \u001b[32m━━━━━━━━━━━━━━━━━━━\u001b[0m\u001b[37m━\u001b[0m \u001b[1m0s\u001b[0m 16ms/step - accuracy: 0.9483 - loss: 0.1331\n",
            "Epoch 100: val_loss improved from 0.17318 to 0.16908, saving model to /content/keypoint_classifier.keras\n",
            "\u001b[1m38/38\u001b[0m \u001b[32m━━━━━━━━━━━━━━━━━━━━\u001b[0m\u001b[37m\u001b[0m \u001b[1m1s\u001b[0m 20ms/step - accuracy: 0.9481 - loss: 0.1335 - val_accuracy: 0.9316 - val_loss: 0.1691\n",
            "Epoch 101/1000\n",
            "\u001b[1m36/38\u001b[0m \u001b[32m━━━━━━━━━━━━━━━━━━\u001b[0m\u001b[37m━━\u001b[0m \u001b[1m0s\u001b[0m 16ms/step - accuracy: 0.9453 - loss: 0.1485\n",
            "Epoch 101: val_loss did not improve from 0.16908\n",
            "\u001b[1m38/38\u001b[0m \u001b[32m━━━━━━━━━━━━━━━━━━━━\u001b[0m\u001b[37m\u001b[0m \u001b[1m1s\u001b[0m 18ms/step - accuracy: 0.9451 - loss: 0.1488 - val_accuracy: 0.9316 - val_loss: 0.1742\n",
            "Epoch 102/1000\n",
            "\u001b[1m38/38\u001b[0m \u001b[32m━━━━━━━━━━━━━━━━━━━━\u001b[0m\u001b[37m\u001b[0m \u001b[1m0s\u001b[0m 16ms/step - accuracy: 0.9462 - loss: 0.1427\n",
            "Epoch 102: val_loss did not improve from 0.16908\n",
            "\u001b[1m38/38\u001b[0m \u001b[32m━━━━━━━━━━━━━━━━━━━━\u001b[0m\u001b[37m\u001b[0m \u001b[1m1s\u001b[0m 19ms/step - accuracy: 0.9462 - loss: 0.1428 - val_accuracy: 0.9239 - val_loss: 0.1989\n",
            "Epoch 103/1000\n",
            "\u001b[1m35/38\u001b[0m \u001b[32m━━━━━━━━━━━━━━━━━━\u001b[0m\u001b[37m━━\u001b[0m \u001b[1m0s\u001b[0m 16ms/step - accuracy: 0.9364 - loss: 0.1521\n",
            "Epoch 103: val_loss did not improve from 0.16908\n",
            "\u001b[1m38/38\u001b[0m \u001b[32m━━━━━━━━━━━━━━━━━━━━\u001b[0m\u001b[37m\u001b[0m \u001b[1m1s\u001b[0m 21ms/step - accuracy: 0.9368 - loss: 0.1518 - val_accuracy: 0.9277 - val_loss: 0.1746\n",
            "Epoch 104/1000\n",
            "\u001b[1m38/38\u001b[0m \u001b[32m━━━━━━━━━━━━━━━━━━━━\u001b[0m\u001b[37m\u001b[0m \u001b[1m0s\u001b[0m 16ms/step - accuracy: 0.9480 - loss: 0.1394\n",
            "Epoch 104: val_loss did not improve from 0.16908\n",
            "\u001b[1m38/38\u001b[0m \u001b[32m━━━━━━━━━━━━━━━━━━━━\u001b[0m\u001b[37m\u001b[0m \u001b[1m1s\u001b[0m 19ms/step - accuracy: 0.9480 - loss: 0.1395 - val_accuracy: 0.9229 - val_loss: 0.1774\n",
            "Epoch 105/1000\n",
            "\u001b[1m37/38\u001b[0m \u001b[32m━━━━━━━━━━━━━━━━━━━\u001b[0m\u001b[37m━\u001b[0m \u001b[1m0s\u001b[0m 16ms/step - accuracy: 0.9461 - loss: 0.1404\n",
            "Epoch 105: val_loss did not improve from 0.16908\n",
            "\u001b[1m38/38\u001b[0m \u001b[32m━━━━━━━━━━━━━━━━━━━━\u001b[0m\u001b[37m\u001b[0m \u001b[1m1s\u001b[0m 19ms/step - accuracy: 0.9463 - loss: 0.1404 - val_accuracy: 0.9335 - val_loss: 0.1732\n",
            "Epoch 106/1000\n",
            "\u001b[1m35/38\u001b[0m \u001b[32m━━━━━━━━━━━━━━━━━━\u001b[0m\u001b[37m━━\u001b[0m \u001b[1m0s\u001b[0m 16ms/step - accuracy: 0.9450 - loss: 0.1361\n",
            "Epoch 106: val_loss did not improve from 0.16908\n",
            "\u001b[1m38/38\u001b[0m \u001b[32m━━━━━━━━━━━━━━━━━━━━\u001b[0m\u001b[37m\u001b[0m \u001b[1m1s\u001b[0m 19ms/step - accuracy: 0.9448 - loss: 0.1366 - val_accuracy: 0.9316 - val_loss: 0.1697\n",
            "Epoch 107/1000\n",
            "\u001b[1m38/38\u001b[0m \u001b[32m━━━━━━━━━━━━━━━━━━━━\u001b[0m\u001b[37m\u001b[0m \u001b[1m0s\u001b[0m 16ms/step - accuracy: 0.9440 - loss: 0.1469\n",
            "Epoch 107: val_loss did not improve from 0.16908\n",
            "\u001b[1m38/38\u001b[0m \u001b[32m━━━━━━━━━━━━━━━━━━━━\u001b[0m\u001b[37m\u001b[0m \u001b[1m1s\u001b[0m 19ms/step - accuracy: 0.9439 - loss: 0.1470 - val_accuracy: 0.9316 - val_loss: 0.1818\n",
            "Epoch 108/1000\n",
            "\u001b[1m37/38\u001b[0m \u001b[32m━━━━━━━━━━━━━━━━━━━\u001b[0m\u001b[37m━\u001b[0m \u001b[1m0s\u001b[0m 20ms/step - accuracy: 0.9447 - loss: 0.1497\n",
            "Epoch 108: val_loss improved from 0.16908 to 0.16505, saving model to /content/keypoint_classifier.keras\n",
            "\u001b[1m38/38\u001b[0m \u001b[32m━━━━━━━━━━━━━━━━━━━━\u001b[0m\u001b[37m\u001b[0m \u001b[1m2s\u001b[0m 26ms/step - accuracy: 0.9449 - loss: 0.1490 - val_accuracy: 0.9383 - val_loss: 0.1651\n",
            "Epoch 109/1000\n",
            "\u001b[1m37/38\u001b[0m \u001b[32m━━━━━━━━━━━━━━━━━━━\u001b[0m\u001b[37m━\u001b[0m \u001b[1m0s\u001b[0m 28ms/step - accuracy: 0.9373 - loss: 0.1586\n",
            "Epoch 109: val_loss did not improve from 0.16505\n",
            "\u001b[1m38/38\u001b[0m \u001b[32m━━━━━━━━━━━━━━━━━━━━\u001b[0m\u001b[37m\u001b[0m \u001b[1m2s\u001b[0m 33ms/step - accuracy: 0.9374 - loss: 0.1585 - val_accuracy: 0.9277 - val_loss: 0.1769\n",
            "Epoch 110/1000\n",
            "\u001b[1m38/38\u001b[0m \u001b[32m━━━━━━━━━━━━━━━━━━━━\u001b[0m\u001b[37m\u001b[0m \u001b[1m0s\u001b[0m 24ms/step - accuracy: 0.9493 - loss: 0.1366\n",
            "Epoch 110: val_loss did not improve from 0.16505\n",
            "\u001b[1m38/38\u001b[0m \u001b[32m━━━━━━━━━━━━━━━━━━━━\u001b[0m\u001b[37m\u001b[0m \u001b[1m1s\u001b[0m 27ms/step - accuracy: 0.9492 - loss: 0.1368 - val_accuracy: 0.9143 - val_loss: 0.2388\n",
            "Epoch 111/1000\n",
            "\u001b[1m37/38\u001b[0m \u001b[32m━━━━━━━━━━━━━━━━━━━\u001b[0m\u001b[37m━\u001b[0m \u001b[1m0s\u001b[0m 16ms/step - accuracy: 0.9375 - loss: 0.1635\n",
            "Epoch 111: val_loss did not improve from 0.16505\n",
            "\u001b[1m38/38\u001b[0m \u001b[32m━━━━━━━━━━━━━━━━━━━━\u001b[0m\u001b[37m\u001b[0m \u001b[1m1s\u001b[0m 20ms/step - accuracy: 0.9377 - loss: 0.1630 - val_accuracy: 0.9364 - val_loss: 0.1776\n",
            "Epoch 112/1000\n",
            "\u001b[1m35/38\u001b[0m \u001b[32m━━━━━━━━━━━━━━━━━━\u001b[0m\u001b[37m━━\u001b[0m \u001b[1m0s\u001b[0m 16ms/step - accuracy: 0.9472 - loss: 0.1406\n",
            "Epoch 112: val_loss did not improve from 0.16505\n",
            "\u001b[1m38/38\u001b[0m \u001b[32m━━━━━━━━━━━━━━━━━━━━\u001b[0m\u001b[37m\u001b[0m \u001b[1m1s\u001b[0m 21ms/step - accuracy: 0.9476 - loss: 0.1396 - val_accuracy: 0.9239 - val_loss: 0.1771\n",
            "Epoch 113/1000\n",
            "\u001b[1m38/38\u001b[0m \u001b[32m━━━━━━━━━━━━━━━━━━━━\u001b[0m\u001b[37m\u001b[0m \u001b[1m0s\u001b[0m 16ms/step - accuracy: 0.9508 - loss: 0.1393\n",
            "Epoch 113: val_loss did not improve from 0.16505\n",
            "\u001b[1m38/38\u001b[0m \u001b[32m━━━━━━━━━━━━━━━━━━━━\u001b[0m\u001b[37m\u001b[0m \u001b[1m1s\u001b[0m 19ms/step - accuracy: 0.9506 - loss: 0.1396 - val_accuracy: 0.9017 - val_loss: 0.2334\n",
            "Epoch 114/1000\n",
            "\u001b[1m36/38\u001b[0m \u001b[32m━━━━━━━━━━━━━━━━━━\u001b[0m\u001b[37m━━\u001b[0m \u001b[1m0s\u001b[0m 16ms/step - accuracy: 0.9319 - loss: 0.1836\n",
            "Epoch 114: val_loss did not improve from 0.16505\n",
            "\u001b[1m38/38\u001b[0m \u001b[32m━━━━━━━━━━━━━━━━━━━━\u001b[0m\u001b[37m\u001b[0m \u001b[1m1s\u001b[0m 19ms/step - accuracy: 0.9318 - loss: 0.1836 - val_accuracy: 0.9085 - val_loss: 0.2304\n",
            "Epoch 115/1000\n",
            "\u001b[1m37/38\u001b[0m \u001b[32m━━━━━━━━━━━━━━━━━━━\u001b[0m\u001b[37m━\u001b[0m \u001b[1m0s\u001b[0m 16ms/step - accuracy: 0.9412 - loss: 0.1551\n",
            "Epoch 115: val_loss did not improve from 0.16505\n",
            "\u001b[1m38/38\u001b[0m \u001b[32m━━━━━━━━━━━━━━━━━━━━\u001b[0m\u001b[37m\u001b[0m \u001b[1m1s\u001b[0m 19ms/step - accuracy: 0.9415 - loss: 0.1547 - val_accuracy: 0.9383 - val_loss: 0.1673\n",
            "Epoch 116/1000\n",
            "\u001b[1m36/38\u001b[0m \u001b[32m━━━━━━━━━━━━━━━━━━\u001b[0m\u001b[37m━━\u001b[0m \u001b[1m0s\u001b[0m 16ms/step - accuracy: 0.9464 - loss: 0.1349\n",
            "Epoch 116: val_loss did not improve from 0.16505\n",
            "\u001b[1m38/38\u001b[0m \u001b[32m━━━━━━━━━━━━━━━━━━━━\u001b[0m\u001b[37m\u001b[0m \u001b[1m1s\u001b[0m 19ms/step - accuracy: 0.9464 - loss: 0.1351 - val_accuracy: 0.9017 - val_loss: 0.2458\n",
            "Epoch 117/1000\n",
            "\u001b[1m38/38\u001b[0m \u001b[32m━━━━━━━━━━━━━━━━━━━━\u001b[0m\u001b[37m\u001b[0m \u001b[1m0s\u001b[0m 17ms/step - accuracy: 0.9432 - loss: 0.1522\n",
            "Epoch 117: val_loss did not improve from 0.16505\n",
            "\u001b[1m38/38\u001b[0m \u001b[32m━━━━━━━━━━━━━━━━━━━━\u001b[0m\u001b[37m\u001b[0m \u001b[1m1s\u001b[0m 22ms/step - accuracy: 0.9431 - loss: 0.1521 - val_accuracy: 0.9268 - val_loss: 0.1763\n",
            "Epoch 118/1000\n",
            "\u001b[1m38/38\u001b[0m \u001b[32m━━━━━━━━━━━━━━━━━━━━\u001b[0m\u001b[37m\u001b[0m \u001b[1m0s\u001b[0m 16ms/step - accuracy: 0.9535 - loss: 0.1319\n",
            "Epoch 118: val_loss improved from 0.16505 to 0.15712, saving model to /content/keypoint_classifier.keras\n",
            "\u001b[1m38/38\u001b[0m \u001b[32m━━━━━━━━━━━━━━━━━━━━\u001b[0m\u001b[37m\u001b[0m \u001b[1m1s\u001b[0m 20ms/step - accuracy: 0.9534 - loss: 0.1320 - val_accuracy: 0.9383 - val_loss: 0.1571\n",
            "Epoch 119/1000\n",
            "\u001b[1m36/38\u001b[0m \u001b[32m━━━━━━━━━━━━━━━━━━\u001b[0m\u001b[37m━━\u001b[0m \u001b[1m0s\u001b[0m 16ms/step - accuracy: 0.9573 - loss: 0.1223\n",
            "Epoch 119: val_loss improved from 0.15712 to 0.15609, saving model to /content/keypoint_classifier.keras\n",
            "\u001b[1m38/38\u001b[0m \u001b[32m━━━━━━━━━━━━━━━━━━━━\u001b[0m\u001b[37m\u001b[0m \u001b[1m1s\u001b[0m 20ms/step - accuracy: 0.9569 - loss: 0.1226 - val_accuracy: 0.9364 - val_loss: 0.1561\n",
            "Epoch 120/1000\n",
            "\u001b[1m37/38\u001b[0m \u001b[32m━━━━━━━━━━━━━━━━━━━\u001b[0m\u001b[37m━\u001b[0m \u001b[1m0s\u001b[0m 26ms/step - accuracy: 0.9499 - loss: 0.1291\n",
            "Epoch 120: val_loss improved from 0.15609 to 0.14869, saving model to /content/keypoint_classifier.keras\n",
            "\u001b[1m38/38\u001b[0m \u001b[32m━━━━━━━━━━━━━━━━━━━━\u001b[0m\u001b[37m\u001b[0m \u001b[1m2s\u001b[0m 31ms/step - accuracy: 0.9497 - loss: 0.1296 - val_accuracy: 0.9383 - val_loss: 0.1487\n",
            "Epoch 121/1000\n",
            "\u001b[1m37/38\u001b[0m \u001b[32m━━━━━━━━━━━━━━━━━━━\u001b[0m\u001b[37m━\u001b[0m \u001b[1m0s\u001b[0m 27ms/step - accuracy: 0.9571 - loss: 0.1174\n",
            "Epoch 121: val_loss did not improve from 0.14869\n",
            "\u001b[1m38/38\u001b[0m \u001b[32m━━━━━━━━━━━━━━━━━━━━\u001b[0m\u001b[37m\u001b[0m \u001b[1m1s\u001b[0m 33ms/step - accuracy: 0.9571 - loss: 0.1174 - val_accuracy: 0.9393 - val_loss: 0.1594\n",
            "Epoch 122/1000\n",
            "\u001b[1m38/38\u001b[0m \u001b[32m━━━━━━━━━━━━━━━━━━━━\u001b[0m\u001b[37m\u001b[0m \u001b[1m0s\u001b[0m 16ms/step - accuracy: 0.9501 - loss: 0.1310\n",
            "Epoch 122: val_loss did not improve from 0.14869\n",
            "\u001b[1m38/38\u001b[0m \u001b[32m━━━━━━━━━━━━━━━━━━━━\u001b[0m\u001b[37m\u001b[0m \u001b[1m2s\u001b[0m 19ms/step - accuracy: 0.9500 - loss: 0.1312 - val_accuracy: 0.9383 - val_loss: 0.1519\n",
            "Epoch 123/1000\n",
            "\u001b[1m35/38\u001b[0m \u001b[32m━━━━━━━━━━━━━━━━━━\u001b[0m\u001b[37m━━\u001b[0m \u001b[1m0s\u001b[0m 16ms/step - accuracy: 0.9536 - loss: 0.1220\n",
            "Epoch 123: val_loss did not improve from 0.14869\n",
            "\u001b[1m38/38\u001b[0m \u001b[32m━━━━━━━━━━━━━━━━━━━━\u001b[0m\u001b[37m\u001b[0m \u001b[1m1s\u001b[0m 19ms/step - accuracy: 0.9536 - loss: 0.1224 - val_accuracy: 0.9383 - val_loss: 0.1712\n",
            "Epoch 124/1000\n",
            "\u001b[1m38/38\u001b[0m \u001b[32m━━━━━━━━━━━━━━━━━━━━\u001b[0m\u001b[37m\u001b[0m \u001b[1m0s\u001b[0m 16ms/step - accuracy: 0.9428 - loss: 0.1441\n",
            "Epoch 124: val_loss did not improve from 0.14869\n",
            "\u001b[1m38/38\u001b[0m \u001b[32m━━━━━━━━━━━━━━━━━━━━\u001b[0m\u001b[37m\u001b[0m \u001b[1m1s\u001b[0m 19ms/step - accuracy: 0.9430 - loss: 0.1438 - val_accuracy: 0.9277 - val_loss: 0.1805\n",
            "Epoch 125/1000\n",
            "\u001b[1m38/38\u001b[0m \u001b[32m━━━━━━━━━━━━━━━━━━━━\u001b[0m\u001b[37m\u001b[0m \u001b[1m0s\u001b[0m 16ms/step - accuracy: 0.9467 - loss: 0.1320\n",
            "Epoch 125: val_loss did not improve from 0.14869\n",
            "\u001b[1m38/38\u001b[0m \u001b[32m━━━━━━━━━━━━━━━━━━━━\u001b[0m\u001b[37m\u001b[0m \u001b[1m1s\u001b[0m 19ms/step - accuracy: 0.9467 - loss: 0.1320 - val_accuracy: 0.9335 - val_loss: 0.1583\n",
            "Epoch 126/1000\n",
            "\u001b[1m37/38\u001b[0m \u001b[32m━━━━━━━━━━━━━━━━━━━\u001b[0m\u001b[37m━\u001b[0m \u001b[1m0s\u001b[0m 16ms/step - accuracy: 0.9541 - loss: 0.1226\n",
            "Epoch 126: val_loss did not improve from 0.14869\n",
            "\u001b[1m38/38\u001b[0m \u001b[32m━━━━━━━━━━━━━━━━━━━━\u001b[0m\u001b[37m\u001b[0m \u001b[1m1s\u001b[0m 20ms/step - accuracy: 0.9543 - loss: 0.1222 - val_accuracy: 0.9316 - val_loss: 0.1693\n",
            "Epoch 127/1000\n",
            "\u001b[1m37/38\u001b[0m \u001b[32m━━━━━━━━━━━━━━━━━━━\u001b[0m\u001b[37m━\u001b[0m \u001b[1m0s\u001b[0m 16ms/step - accuracy: 0.9579 - loss: 0.1100\n",
            "Epoch 127: val_loss did not improve from 0.14869\n",
            "\u001b[1m38/38\u001b[0m \u001b[32m━━━━━━━━━━━━━━━━━━━━\u001b[0m\u001b[37m\u001b[0m \u001b[1m1s\u001b[0m 20ms/step - accuracy: 0.9579 - loss: 0.1101 - val_accuracy: 0.9412 - val_loss: 0.1587\n",
            "Epoch 128/1000\n",
            "\u001b[1m38/38\u001b[0m \u001b[32m━━━━━━━━━━━━━━━━━━━━\u001b[0m\u001b[37m\u001b[0m \u001b[1m0s\u001b[0m 16ms/step - accuracy: 0.9647 - loss: 0.1042\n",
            "Epoch 128: val_loss did not improve from 0.14869\n",
            "\u001b[1m38/38\u001b[0m \u001b[32m━━━━━━━━━━━━━━━━━━━━\u001b[0m\u001b[37m\u001b[0m \u001b[1m1s\u001b[0m 19ms/step - accuracy: 0.9646 - loss: 0.1044 - val_accuracy: 0.9268 - val_loss: 0.1777\n",
            "Epoch 129/1000\n",
            "\u001b[1m35/38\u001b[0m \u001b[32m━━━━━━━━━━━━━━━━━━\u001b[0m\u001b[37m━━\u001b[0m \u001b[1m0s\u001b[0m 16ms/step - accuracy: 0.9440 - loss: 0.1433\n",
            "Epoch 129: val_loss did not improve from 0.14869\n",
            "\u001b[1m38/38\u001b[0m \u001b[32m━━━━━━━━━━━━━━━━━━━━\u001b[0m\u001b[37m\u001b[0m \u001b[1m1s\u001b[0m 19ms/step - accuracy: 0.9443 - loss: 0.1428 - val_accuracy: 0.9316 - val_loss: 0.1825\n",
            "Epoch 130/1000\n",
            "\u001b[1m36/38\u001b[0m \u001b[32m━━━━━━━━━━━━━━━━━━\u001b[0m\u001b[37m━━\u001b[0m \u001b[1m0s\u001b[0m 18ms/step - accuracy: 0.9549 - loss: 0.1242\n",
            "Epoch 130: val_loss did not improve from 0.14869\n",
            "\u001b[1m38/38\u001b[0m \u001b[32m━━━━━━━━━━━━━━━━━━━━\u001b[0m\u001b[37m\u001b[0m \u001b[1m1s\u001b[0m 24ms/step - accuracy: 0.9549 - loss: 0.1242 - val_accuracy: 0.9383 - val_loss: 0.1544\n",
            "Epoch 131/1000\n",
            "\u001b[1m37/38\u001b[0m \u001b[32m━━━━━━━━━━━━━━━━━━━\u001b[0m\u001b[37m━\u001b[0m \u001b[1m0s\u001b[0m 27ms/step - accuracy: 0.9662 - loss: 0.1007\n",
            "Epoch 131: val_loss did not improve from 0.14869\n",
            "\u001b[1m38/38\u001b[0m \u001b[32m━━━━━━━━━━━━━━━━━━━━\u001b[0m\u001b[37m\u001b[0m \u001b[1m1s\u001b[0m 32ms/step - accuracy: 0.9662 - loss: 0.1008 - val_accuracy: 0.9229 - val_loss: 0.1808\n",
            "Epoch 132/1000\n",
            "\u001b[1m36/38\u001b[0m \u001b[32m━━━━━━━━━━━━━━━━━━\u001b[0m\u001b[37m━━\u001b[0m \u001b[1m0s\u001b[0m 27ms/step - accuracy: 0.9609 - loss: 0.1044\n",
            "Epoch 132: val_loss did not improve from 0.14869\n",
            "\u001b[1m38/38\u001b[0m \u001b[32m━━━━━━━━━━━━━━━━━━━━\u001b[0m\u001b[37m\u001b[0m \u001b[1m1s\u001b[0m 32ms/step - accuracy: 0.9611 - loss: 0.1045 - val_accuracy: 0.9374 - val_loss: 0.1614\n",
            "Epoch 133/1000\n",
            "\u001b[1m35/38\u001b[0m \u001b[32m━━━━━━━━━━━━━━━━━━\u001b[0m\u001b[37m━━\u001b[0m \u001b[1m0s\u001b[0m 18ms/step - accuracy: 0.9551 - loss: 0.1186\n",
            "Epoch 133: val_loss did not improve from 0.14869\n",
            "\u001b[1m38/38\u001b[0m \u001b[32m━━━━━━━━━━━━━━━━━━━━\u001b[0m\u001b[37m\u001b[0m \u001b[1m1s\u001b[0m 22ms/step - accuracy: 0.9543 - loss: 0.1195 - val_accuracy: 0.9200 - val_loss: 0.2078\n",
            "Epoch 134/1000\n",
            "\u001b[1m35/38\u001b[0m \u001b[32m━━━━━━━━━━━━━━━━━━\u001b[0m\u001b[37m━━\u001b[0m \u001b[1m0s\u001b[0m 16ms/step - accuracy: 0.9519 - loss: 0.1286\n",
            "Epoch 134: val_loss did not improve from 0.14869\n",
            "\u001b[1m38/38\u001b[0m \u001b[32m━━━━━━━━━━━━━━━━━━━━\u001b[0m\u001b[37m\u001b[0m \u001b[1m1s\u001b[0m 19ms/step - accuracy: 0.9520 - loss: 0.1282 - val_accuracy: 0.9335 - val_loss: 0.1856\n",
            "Epoch 135/1000\n",
            "\u001b[1m35/38\u001b[0m \u001b[32m━━━━━━━━━━━━━━━━━━\u001b[0m\u001b[37m━━\u001b[0m \u001b[1m0s\u001b[0m 17ms/step - accuracy: 0.9433 - loss: 0.1414\n",
            "Epoch 135: val_loss improved from 0.14869 to 0.14212, saving model to /content/keypoint_classifier.keras\n",
            "\u001b[1m38/38\u001b[0m \u001b[32m━━━━━━━━━━━━━━━━━━━━\u001b[0m\u001b[37m\u001b[0m \u001b[1m1s\u001b[0m 23ms/step - accuracy: 0.9438 - loss: 0.1405 - val_accuracy: 0.9441 - val_loss: 0.1421\n",
            "Epoch 136/1000\n",
            "\u001b[1m35/38\u001b[0m \u001b[32m━━━━━━━━━━━━━━━━━━\u001b[0m\u001b[37m━━\u001b[0m \u001b[1m0s\u001b[0m 17ms/step - accuracy: 0.9577 - loss: 0.1119\n",
            "Epoch 136: val_loss did not improve from 0.14212\n",
            "\u001b[1m38/38\u001b[0m \u001b[32m━━━━━━━━━━━━━━━━━━━━\u001b[0m\u001b[37m\u001b[0m \u001b[1m1s\u001b[0m 20ms/step - accuracy: 0.9573 - loss: 0.1127 - val_accuracy: 0.9480 - val_loss: 0.1470\n",
            "Epoch 137/1000\n",
            "\u001b[1m38/38\u001b[0m \u001b[32m━━━━━━━━━━━━━━━━━━━━\u001b[0m\u001b[37m\u001b[0m \u001b[1m0s\u001b[0m 16ms/step - accuracy: 0.9571 - loss: 0.1166\n",
            "Epoch 137: val_loss did not improve from 0.14212\n",
            "\u001b[1m38/38\u001b[0m \u001b[32m━━━━━━━━━━━━━━━━━━━━\u001b[0m\u001b[37m\u001b[0m \u001b[1m1s\u001b[0m 19ms/step - accuracy: 0.9571 - loss: 0.1167 - val_accuracy: 0.9393 - val_loss: 0.1441\n",
            "Epoch 138/1000\n",
            "\u001b[1m36/38\u001b[0m \u001b[32m━━━━━━━━━━━━━━━━━━\u001b[0m\u001b[37m━━\u001b[0m \u001b[1m0s\u001b[0m 16ms/step - accuracy: 0.9574 - loss: 0.1095\n",
            "Epoch 138: val_loss did not improve from 0.14212\n",
            "\u001b[1m38/38\u001b[0m \u001b[32m━━━━━━━━━━━━━━━━━━━━\u001b[0m\u001b[37m\u001b[0m \u001b[1m1s\u001b[0m 19ms/step - accuracy: 0.9570 - loss: 0.1102 - val_accuracy: 0.9355 - val_loss: 0.1591\n",
            "Epoch 139/1000\n",
            "\u001b[1m37/38\u001b[0m \u001b[32m━━━━━━━━━━━━━━━━━━━\u001b[0m\u001b[37m━\u001b[0m \u001b[1m0s\u001b[0m 17ms/step - accuracy: 0.9544 - loss: 0.1119\n",
            "Epoch 139: val_loss did not improve from 0.14212\n",
            "\u001b[1m38/38\u001b[0m \u001b[32m━━━━━━━━━━━━━━━━━━━━\u001b[0m\u001b[37m\u001b[0m \u001b[1m1s\u001b[0m 20ms/step - accuracy: 0.9546 - loss: 0.1117 - val_accuracy: 0.9441 - val_loss: 0.1647\n",
            "Epoch 140/1000\n",
            "\u001b[1m35/38\u001b[0m \u001b[32m━━━━━━━━━━━━━━━━━━\u001b[0m\u001b[37m━━\u001b[0m \u001b[1m0s\u001b[0m 16ms/step - accuracy: 0.9560 - loss: 0.1130\n",
            "Epoch 140: val_loss did not improve from 0.14212\n",
            "\u001b[1m38/38\u001b[0m \u001b[32m━━━━━━━━━━━━━━━━━━━━\u001b[0m\u001b[37m\u001b[0m \u001b[1m1s\u001b[0m 21ms/step - accuracy: 0.9553 - loss: 0.1145 - val_accuracy: 0.9364 - val_loss: 0.1606\n",
            "Epoch 141/1000\n",
            "\u001b[1m35/38\u001b[0m \u001b[32m━━━━━━━━━━━━━━━━━━\u001b[0m\u001b[37m━━\u001b[0m \u001b[1m0s\u001b[0m 16ms/step - accuracy: 0.9572 - loss: 0.1155\n",
            "Epoch 141: val_loss did not improve from 0.14212\n",
            "\u001b[1m38/38\u001b[0m \u001b[32m━━━━━━━━━━━━━━━━━━━━\u001b[0m\u001b[37m\u001b[0m \u001b[1m1s\u001b[0m 19ms/step - accuracy: 0.9570 - loss: 0.1156 - val_accuracy: 0.9335 - val_loss: 0.1636\n",
            "Epoch 142/1000\n",
            "\u001b[1m38/38\u001b[0m \u001b[32m━━━━━━━━━━━━━━━━━━━━\u001b[0m\u001b[37m\u001b[0m \u001b[1m0s\u001b[0m 16ms/step - accuracy: 0.9656 - loss: 0.1018\n",
            "Epoch 142: val_loss improved from 0.14212 to 0.14071, saving model to /content/keypoint_classifier.keras\n",
            "\u001b[1m38/38\u001b[0m \u001b[32m━━━━━━━━━━━━━━━━━━━━\u001b[0m\u001b[37m\u001b[0m \u001b[1m1s\u001b[0m 20ms/step - accuracy: 0.9655 - loss: 0.1019 - val_accuracy: 0.9547 - val_loss: 0.1407\n",
            "Epoch 143/1000\n",
            "\u001b[1m38/38\u001b[0m \u001b[32m━━━━━━━━━━━━━━━━━━━━\u001b[0m\u001b[37m\u001b[0m \u001b[1m0s\u001b[0m 27ms/step - accuracy: 0.9605 - loss: 0.1133\n",
            "Epoch 143: val_loss did not improve from 0.14071\n",
            "\u001b[1m38/38\u001b[0m \u001b[32m━━━━━━━━━━━━━━━━━━━━\u001b[0m\u001b[37m\u001b[0m \u001b[1m2s\u001b[0m 32ms/step - accuracy: 0.9604 - loss: 0.1134 - val_accuracy: 0.9393 - val_loss: 0.1568\n",
            "Epoch 144/1000\n",
            "\u001b[1m37/38\u001b[0m \u001b[32m━━━━━━━━━━━━━━━━━━━\u001b[0m\u001b[37m━\u001b[0m \u001b[1m0s\u001b[0m 29ms/step - accuracy: 0.9502 - loss: 0.1177\n",
            "Epoch 144: val_loss did not improve from 0.14071\n",
            "\u001b[1m38/38\u001b[0m \u001b[32m━━━━━━━━━━━━━━━━━━━━\u001b[0m\u001b[37m\u001b[0m \u001b[1m1s\u001b[0m 34ms/step - accuracy: 0.9505 - loss: 0.1175 - val_accuracy: 0.9432 - val_loss: 0.1472\n",
            "Epoch 145/1000\n",
            "\u001b[1m35/38\u001b[0m \u001b[32m━━━━━━━━━━━━━━━━━━\u001b[0m\u001b[37m━━\u001b[0m \u001b[1m0s\u001b[0m 16ms/step - accuracy: 0.9568 - loss: 0.1101\n",
            "Epoch 145: val_loss improved from 0.14071 to 0.13839, saving model to /content/keypoint_classifier.keras\n",
            "\u001b[1m38/38\u001b[0m \u001b[32m━━━━━━━━━━━━━━━━━━━━\u001b[0m\u001b[37m\u001b[0m \u001b[1m2s\u001b[0m 20ms/step - accuracy: 0.9568 - loss: 0.1104 - val_accuracy: 0.9422 - val_loss: 0.1384\n",
            "Epoch 146/1000\n",
            "\u001b[1m36/38\u001b[0m \u001b[32m━━━━━━━━━━━━━━━━━━\u001b[0m\u001b[37m━━\u001b[0m \u001b[1m0s\u001b[0m 16ms/step - accuracy: 0.9589 - loss: 0.1065\n",
            "Epoch 146: val_loss did not improve from 0.13839\n",
            "\u001b[1m38/38\u001b[0m \u001b[32m━━━━━━━━━━━━━━━━━━━━\u001b[0m\u001b[37m\u001b[0m \u001b[1m1s\u001b[0m 19ms/step - accuracy: 0.9588 - loss: 0.1068 - val_accuracy: 0.9403 - val_loss: 0.1699\n",
            "Epoch 147/1000\n",
            "\u001b[1m37/38\u001b[0m \u001b[32m━━━━━━━━━━━━━━━━━━━\u001b[0m\u001b[37m━\u001b[0m \u001b[1m0s\u001b[0m 16ms/step - accuracy: 0.9624 - loss: 0.1062\n",
            "Epoch 147: val_loss did not improve from 0.13839\n",
            "\u001b[1m38/38\u001b[0m \u001b[32m━━━━━━━━━━━━━━━━━━━━\u001b[0m\u001b[37m\u001b[0m \u001b[1m1s\u001b[0m 19ms/step - accuracy: 0.9621 - loss: 0.1067 - val_accuracy: 0.9393 - val_loss: 0.1606\n",
            "Epoch 148/1000\n",
            "\u001b[1m36/38\u001b[0m \u001b[32m━━━━━━━━━━━━━━━━━━\u001b[0m\u001b[37m━━\u001b[0m \u001b[1m0s\u001b[0m 16ms/step - accuracy: 0.9618 - loss: 0.1052\n",
            "Epoch 148: val_loss improved from 0.13839 to 0.13319, saving model to /content/keypoint_classifier.keras\n",
            "\u001b[1m38/38\u001b[0m \u001b[32m━━━━━━━━━━━━━━━━━━━━\u001b[0m\u001b[37m\u001b[0m \u001b[1m1s\u001b[0m 21ms/step - accuracy: 0.9617 - loss: 0.1052 - val_accuracy: 0.9557 - val_loss: 0.1332\n",
            "Epoch 149/1000\n",
            "\u001b[1m37/38\u001b[0m \u001b[32m━━━━━━━━━━━━━━━━━━━\u001b[0m\u001b[37m━\u001b[0m \u001b[1m0s\u001b[0m 17ms/step - accuracy: 0.9672 - loss: 0.1017\n",
            "Epoch 149: val_loss did not improve from 0.13319\n",
            "\u001b[1m38/38\u001b[0m \u001b[32m━━━━━━━━━━━━━━━━━━━━\u001b[0m\u001b[37m\u001b[0m \u001b[1m1s\u001b[0m 22ms/step - accuracy: 0.9671 - loss: 0.1015 - val_accuracy: 0.9037 - val_loss: 0.2597\n",
            "Epoch 150/1000\n",
            "\u001b[1m37/38\u001b[0m \u001b[32m━━━━━━━━━━━━━━━━━━━\u001b[0m\u001b[37m━\u001b[0m \u001b[1m0s\u001b[0m 17ms/step - accuracy: 0.9369 - loss: 0.1488\n",
            "Epoch 150: val_loss improved from 0.13319 to 0.12944, saving model to /content/keypoint_classifier.keras\n",
            "\u001b[1m38/38\u001b[0m \u001b[32m━━━━━━━━━━━━━━━━━━━━\u001b[0m\u001b[37m\u001b[0m \u001b[1m1s\u001b[0m 21ms/step - accuracy: 0.9374 - loss: 0.1478 - val_accuracy: 0.9566 - val_loss: 0.1294\n",
            "Epoch 151/1000\n",
            "\u001b[1m36/38\u001b[0m \u001b[32m━━━━━━━━━━━━━━━━━━\u001b[0m\u001b[37m━━\u001b[0m \u001b[1m0s\u001b[0m 17ms/step - accuracy: 0.9522 - loss: 0.1215\n",
            "Epoch 151: val_loss did not improve from 0.12944\n",
            "\u001b[1m38/38\u001b[0m \u001b[32m━━━━━━━━━━━━━━━━━━━━\u001b[0m\u001b[37m\u001b[0m \u001b[1m1s\u001b[0m 19ms/step - accuracy: 0.9521 - loss: 0.1216 - val_accuracy: 0.9422 - val_loss: 0.1516\n",
            "Epoch 152/1000\n",
            "\u001b[1m36/38\u001b[0m \u001b[32m━━━━━━━━━━━━━━━━━━\u001b[0m\u001b[37m━━\u001b[0m \u001b[1m0s\u001b[0m 16ms/step - accuracy: 0.9593 - loss: 0.1040\n",
            "Epoch 152: val_loss did not improve from 0.12944\n",
            "\u001b[1m38/38\u001b[0m \u001b[32m━━━━━━━━━━━━━━━━━━━━\u001b[0m\u001b[37m\u001b[0m \u001b[1m1s\u001b[0m 20ms/step - accuracy: 0.9593 - loss: 0.1040 - val_accuracy: 0.9470 - val_loss: 0.1474\n",
            "Epoch 153/1000\n",
            "\u001b[1m38/38\u001b[0m \u001b[32m━━━━━━━━━━━━━━━━━━━━\u001b[0m\u001b[37m\u001b[0m \u001b[1m0s\u001b[0m 16ms/step - accuracy: 0.9615 - loss: 0.1039\n",
            "Epoch 153: val_loss improved from 0.12944 to 0.12921, saving model to /content/keypoint_classifier.keras\n",
            "\u001b[1m38/38\u001b[0m \u001b[32m━━━━━━━━━━━━━━━━━━━━\u001b[0m\u001b[37m\u001b[0m \u001b[1m1s\u001b[0m 23ms/step - accuracy: 0.9614 - loss: 0.1039 - val_accuracy: 0.9566 - val_loss: 0.1292\n",
            "Epoch 154/1000\n",
            "\u001b[1m36/38\u001b[0m \u001b[32m━━━━━━━━━━━━━━━━━━\u001b[0m\u001b[37m━━\u001b[0m \u001b[1m0s\u001b[0m 28ms/step - accuracy: 0.9631 - loss: 0.1017\n",
            "Epoch 154: val_loss did not improve from 0.12921\n",
            "\u001b[1m38/38\u001b[0m \u001b[32m━━━━━━━━━━━━━━━━━━━━\u001b[0m\u001b[37m\u001b[0m \u001b[1m2s\u001b[0m 33ms/step - accuracy: 0.9629 - loss: 0.1019 - val_accuracy: 0.9355 - val_loss: 0.1582\n",
            "Epoch 155/1000\n",
            "\u001b[1m35/38\u001b[0m \u001b[32m━━━━━━━━━━━━━━━━━━\u001b[0m\u001b[37m━━\u001b[0m \u001b[1m0s\u001b[0m 17ms/step - accuracy: 0.9535 - loss: 0.1138\n",
            "Epoch 155: val_loss did not improve from 0.12921\n",
            "\u001b[1m38/38\u001b[0m \u001b[32m━━━━━━━━━━━━━━━━━━━━\u001b[0m\u001b[37m\u001b[0m \u001b[1m2s\u001b[0m 20ms/step - accuracy: 0.9535 - loss: 0.1141 - val_accuracy: 0.9239 - val_loss: 0.2037\n",
            "Epoch 156/1000\n",
            "\u001b[1m37/38\u001b[0m \u001b[32m━━━━━━━━━━━━━━━━━━━\u001b[0m\u001b[37m━\u001b[0m \u001b[1m0s\u001b[0m 17ms/step - accuracy: 0.9501 - loss: 0.1312\n",
            "Epoch 156: val_loss did not improve from 0.12921\n",
            "\u001b[1m38/38\u001b[0m \u001b[32m━━━━━━━━━━━━━━━━━━━━\u001b[0m\u001b[37m\u001b[0m \u001b[1m1s\u001b[0m 20ms/step - accuracy: 0.9503 - loss: 0.1307 - val_accuracy: 0.9432 - val_loss: 0.1427\n",
            "Epoch 157/1000\n",
            "\u001b[1m35/38\u001b[0m \u001b[32m━━━━━━━━━━━━━━━━━━\u001b[0m\u001b[37m━━\u001b[0m \u001b[1m0s\u001b[0m 17ms/step - accuracy: 0.9572 - loss: 0.1071\n",
            "Epoch 157: val_loss did not improve from 0.12921\n",
            "\u001b[1m38/38\u001b[0m \u001b[32m━━━━━━━━━━━━━━━━━━━━\u001b[0m\u001b[37m\u001b[0m \u001b[1m1s\u001b[0m 20ms/step - accuracy: 0.9571 - loss: 0.1071 - val_accuracy: 0.9422 - val_loss: 0.1410\n",
            "Epoch 158/1000\n",
            "\u001b[1m35/38\u001b[0m \u001b[32m━━━━━━━━━━━━━━━━━━\u001b[0m\u001b[37m━━\u001b[0m \u001b[1m0s\u001b[0m 17ms/step - accuracy: 0.9608 - loss: 0.1060\n",
            "Epoch 158: val_loss improved from 0.12921 to 0.12457, saving model to /content/keypoint_classifier.keras\n",
            "\u001b[1m38/38\u001b[0m \u001b[32m━━━━━━━━━━━━━━━━━━━━\u001b[0m\u001b[37m\u001b[0m \u001b[1m1s\u001b[0m 21ms/step - accuracy: 0.9607 - loss: 0.1061 - val_accuracy: 0.9557 - val_loss: 0.1246\n",
            "Epoch 159/1000\n",
            "\u001b[1m37/38\u001b[0m \u001b[32m━━━━━━━━━━━━━━━━━━━\u001b[0m\u001b[37m━\u001b[0m \u001b[1m0s\u001b[0m 17ms/step - accuracy: 0.9636 - loss: 0.0958\n",
            "Epoch 159: val_loss did not improve from 0.12457\n",
            "\u001b[1m38/38\u001b[0m \u001b[32m━━━━━━━━━━━━━━━━━━━━\u001b[0m\u001b[37m\u001b[0m \u001b[1m1s\u001b[0m 20ms/step - accuracy: 0.9635 - loss: 0.0958 - val_accuracy: 0.9461 - val_loss: 0.1526\n",
            "Epoch 160/1000\n",
            "\u001b[1m36/38\u001b[0m \u001b[32m━━━━━━━━━━━━━━━━━━\u001b[0m\u001b[37m━━\u001b[0m \u001b[1m0s\u001b[0m 17ms/step - accuracy: 0.9558 - loss: 0.1090\n",
            "Epoch 160: val_loss improved from 0.12457 to 0.11586, saving model to /content/keypoint_classifier.keras\n",
            "\u001b[1m38/38\u001b[0m \u001b[32m━━━━━━━━━━━━━━━━━━━━\u001b[0m\u001b[37m\u001b[0m \u001b[1m1s\u001b[0m 21ms/step - accuracy: 0.9560 - loss: 0.1087 - val_accuracy: 0.9576 - val_loss: 0.1159\n",
            "Epoch 161/1000\n",
            "\u001b[1m35/38\u001b[0m \u001b[32m━━━━━━━━━━━━━━━━━━\u001b[0m\u001b[37m━━\u001b[0m \u001b[1m0s\u001b[0m 17ms/step - accuracy: 0.9688 - loss: 0.0864\n",
            "Epoch 161: val_loss improved from 0.11586 to 0.11178, saving model to /content/keypoint_classifier.keras\n",
            "\u001b[1m38/38\u001b[0m \u001b[32m━━━━━━━━━━━━━━━━━━━━\u001b[0m\u001b[37m\u001b[0m \u001b[1m1s\u001b[0m 21ms/step - accuracy: 0.9684 - loss: 0.0873 - val_accuracy: 0.9557 - val_loss: 0.1118\n",
            "Epoch 162/1000\n",
            "\u001b[1m37/38\u001b[0m \u001b[32m━━━━━━━━━━━━━━━━━━━\u001b[0m\u001b[37m━\u001b[0m \u001b[1m0s\u001b[0m 17ms/step - accuracy: 0.9675 - loss: 0.0889\n",
            "Epoch 162: val_loss did not improve from 0.11178\n",
            "\u001b[1m38/38\u001b[0m \u001b[32m━━━━━━━━━━━━━━━━━━━━\u001b[0m\u001b[37m\u001b[0m \u001b[1m1s\u001b[0m 23ms/step - accuracy: 0.9675 - loss: 0.0892 - val_accuracy: 0.9470 - val_loss: 0.1173\n",
            "Epoch 163/1000\n",
            "\u001b[1m38/38\u001b[0m \u001b[32m━━━━━━━━━━━━━━━━━━━━\u001b[0m\u001b[37m\u001b[0m \u001b[1m0s\u001b[0m 17ms/step - accuracy: 0.9610 - loss: 0.0915\n",
            "Epoch 163: val_loss did not improve from 0.11178\n",
            "\u001b[1m38/38\u001b[0m \u001b[32m━━━━━━━━━━━━━━━━━━━━\u001b[0m\u001b[37m\u001b[0m \u001b[1m1s\u001b[0m 20ms/step - accuracy: 0.9610 - loss: 0.0916 - val_accuracy: 0.9393 - val_loss: 0.1459\n",
            "Epoch 164/1000\n",
            "\u001b[1m37/38\u001b[0m \u001b[32m━━━━━━━━━━━━━━━━━━━\u001b[0m\u001b[37m━\u001b[0m \u001b[1m0s\u001b[0m 27ms/step - accuracy: 0.9585 - loss: 0.1034\n",
            "Epoch 164: val_loss did not improve from 0.11178\n",
            "\u001b[1m38/38\u001b[0m \u001b[32m━━━━━━━━━━━━━━━━━━━━\u001b[0m\u001b[37m\u001b[0m \u001b[1m2s\u001b[0m 33ms/step - accuracy: 0.9584 - loss: 0.1039 - val_accuracy: 0.9451 - val_loss: 0.1234\n",
            "Epoch 165/1000\n",
            "\u001b[1m37/38\u001b[0m \u001b[32m━━━━━━━━━━━━━━━━━━━\u001b[0m\u001b[37m━\u001b[0m \u001b[1m0s\u001b[0m 16ms/step - accuracy: 0.9633 - loss: 0.1029\n",
            "Epoch 165: val_loss did not improve from 0.11178\n",
            "\u001b[1m38/38\u001b[0m \u001b[32m━━━━━━━━━━━━━━━━━━━━\u001b[0m\u001b[37m\u001b[0m \u001b[1m2s\u001b[0m 19ms/step - accuracy: 0.9630 - loss: 0.1033 - val_accuracy: 0.9451 - val_loss: 0.1587\n",
            "Epoch 166/1000\n",
            "\u001b[1m35/38\u001b[0m \u001b[32m━━━━━━━━━━━━━━━━━━\u001b[0m\u001b[37m━━\u001b[0m \u001b[1m0s\u001b[0m 17ms/step - accuracy: 0.9614 - loss: 0.1049\n",
            "Epoch 166: val_loss did not improve from 0.11178\n",
            "\u001b[1m38/38\u001b[0m \u001b[32m━━━━━━━━━━━━━━━━━━━━\u001b[0m\u001b[37m\u001b[0m \u001b[1m1s\u001b[0m 22ms/step - accuracy: 0.9612 - loss: 0.1052 - val_accuracy: 0.9412 - val_loss: 0.1424\n",
            "Epoch 167/1000\n",
            "\u001b[1m37/38\u001b[0m \u001b[32m━━━━━━━━━━━━━━━━━━━\u001b[0m\u001b[37m━\u001b[0m \u001b[1m0s\u001b[0m 18ms/step - accuracy: 0.9596 - loss: 0.1050\n",
            "Epoch 167: val_loss did not improve from 0.11178\n",
            "\u001b[1m38/38\u001b[0m \u001b[32m━━━━━━━━━━━━━━━━━━━━\u001b[0m\u001b[37m\u001b[0m \u001b[1m1s\u001b[0m 21ms/step - accuracy: 0.9599 - loss: 0.1044 - val_accuracy: 0.9480 - val_loss: 0.1492\n",
            "Epoch 168/1000\n",
            "\u001b[1m37/38\u001b[0m \u001b[32m━━━━━━━━━━━━━━━━━━━\u001b[0m\u001b[37m━\u001b[0m \u001b[1m0s\u001b[0m 17ms/step - accuracy: 0.9638 - loss: 0.1064\n",
            "Epoch 168: val_loss did not improve from 0.11178\n",
            "\u001b[1m38/38\u001b[0m \u001b[32m━━━━━━━━━━━━━━━━━━━━\u001b[0m\u001b[37m\u001b[0m \u001b[1m1s\u001b[0m 22ms/step - accuracy: 0.9636 - loss: 0.1064 - val_accuracy: 0.9538 - val_loss: 0.1235\n",
            "Epoch 169/1000\n",
            "\u001b[1m37/38\u001b[0m \u001b[32m━━━━━━━━━━━━━━━━━━━\u001b[0m\u001b[37m━\u001b[0m \u001b[1m0s\u001b[0m 17ms/step - accuracy: 0.9632 - loss: 0.0947\n",
            "Epoch 169: val_loss did not improve from 0.11178\n",
            "\u001b[1m38/38\u001b[0m \u001b[32m━━━━━━━━━━━━━━━━━━━━\u001b[0m\u001b[37m\u001b[0m \u001b[1m1s\u001b[0m 22ms/step - accuracy: 0.9632 - loss: 0.0949 - val_accuracy: 0.9547 - val_loss: 0.1158\n",
            "Epoch 170/1000\n",
            "\u001b[1m35/38\u001b[0m \u001b[32m━━━━━━━━━━━━━━━━━━\u001b[0m\u001b[37m━━\u001b[0m \u001b[1m0s\u001b[0m 17ms/step - accuracy: 0.9601 - loss: 0.1162\n",
            "Epoch 170: val_loss did not improve from 0.11178\n",
            "\u001b[1m38/38\u001b[0m \u001b[32m━━━━━━━━━━━━━━━━━━━━\u001b[0m\u001b[37m\u001b[0m \u001b[1m1s\u001b[0m 22ms/step - accuracy: 0.9597 - loss: 0.1169 - val_accuracy: 0.9605 - val_loss: 0.1237\n",
            "Epoch 171/1000\n",
            "\u001b[1m37/38\u001b[0m \u001b[32m━━━━━━━━━━━━━━━━━━━\u001b[0m\u001b[37m━\u001b[0m \u001b[1m0s\u001b[0m 17ms/step - accuracy: 0.9610 - loss: 0.0927\n",
            "Epoch 171: val_loss did not improve from 0.11178\n",
            "\u001b[1m38/38\u001b[0m \u001b[32m━━━━━━━━━━━━━━━━━━━━\u001b[0m\u001b[37m\u001b[0m \u001b[1m1s\u001b[0m 22ms/step - accuracy: 0.9608 - loss: 0.0931 - val_accuracy: 0.9461 - val_loss: 0.1429\n",
            "Epoch 172/1000\n",
            "\u001b[1m36/38\u001b[0m \u001b[32m━━━━━━━━━━━━━━━━━━\u001b[0m\u001b[37m━━\u001b[0m \u001b[1m0s\u001b[0m 17ms/step - accuracy: 0.9571 - loss: 0.1144\n",
            "Epoch 172: val_loss did not improve from 0.11178\n",
            "\u001b[1m38/38\u001b[0m \u001b[32m━━━━━━━━━━━━━━━━━━━━\u001b[0m\u001b[37m\u001b[0m \u001b[1m1s\u001b[0m 20ms/step - accuracy: 0.9570 - loss: 0.1148 - val_accuracy: 0.9451 - val_loss: 0.1318\n",
            "Epoch 173/1000\n",
            "\u001b[1m36/38\u001b[0m \u001b[32m━━━━━━━━━━━━━━━━━━\u001b[0m\u001b[37m━━\u001b[0m \u001b[1m0s\u001b[0m 17ms/step - accuracy: 0.9640 - loss: 0.0943\n",
            "Epoch 173: val_loss did not improve from 0.11178\n",
            "\u001b[1m38/38\u001b[0m \u001b[32m━━━━━━━━━━━━━━━━━━━━\u001b[0m\u001b[37m\u001b[0m \u001b[1m1s\u001b[0m 22ms/step - accuracy: 0.9640 - loss: 0.0944 - val_accuracy: 0.9480 - val_loss: 0.1443\n",
            "Epoch 174/1000\n",
            "\u001b[1m35/38\u001b[0m \u001b[32m━━━━━━━━━━━━━━━━━━\u001b[0m\u001b[37m━━\u001b[0m \u001b[1m0s\u001b[0m 17ms/step - accuracy: 0.9646 - loss: 0.1002\n",
            "Epoch 174: val_loss did not improve from 0.11178\n",
            "\u001b[1m38/38\u001b[0m \u001b[32m━━━━━━━━━━━━━━━━━━━━\u001b[0m\u001b[37m\u001b[0m \u001b[1m1s\u001b[0m 20ms/step - accuracy: 0.9643 - loss: 0.1009 - val_accuracy: 0.9461 - val_loss: 0.1521\n",
            "Epoch 175/1000\n",
            "\u001b[1m38/38\u001b[0m \u001b[32m━━━━━━━━━━━━━━━━━━━━\u001b[0m\u001b[37m\u001b[0m \u001b[1m0s\u001b[0m 25ms/step - accuracy: 0.9509 - loss: 0.1207\n",
            "Epoch 175: val_loss did not improve from 0.11178\n",
            "\u001b[1m38/38\u001b[0m \u001b[32m━━━━━━━━━━━━━━━━━━━━\u001b[0m\u001b[37m\u001b[0m \u001b[1m1s\u001b[0m 30ms/step - accuracy: 0.9510 - loss: 0.1205 - val_accuracy: 0.9451 - val_loss: 0.1465\n",
            "Epoch 176/1000\n",
            "\u001b[1m37/38\u001b[0m \u001b[32m━━━━━━━━━━━━━━━━━━━\u001b[0m\u001b[37m━\u001b[0m \u001b[1m0s\u001b[0m 28ms/step - accuracy: 0.9624 - loss: 0.1001\n",
            "Epoch 176: val_loss did not improve from 0.11178\n",
            "\u001b[1m38/38\u001b[0m \u001b[32m━━━━━━━━━━━━━━━━━━━━\u001b[0m\u001b[37m\u001b[0m \u001b[1m1s\u001b[0m 34ms/step - accuracy: 0.9626 - loss: 0.0998 - val_accuracy: 0.9489 - val_loss: 0.1270\n",
            "Epoch 177/1000\n",
            "\u001b[1m36/38\u001b[0m \u001b[32m━━━━━━━━━━━━━━━━━━\u001b[0m\u001b[37m━━\u001b[0m \u001b[1m0s\u001b[0m 17ms/step - accuracy: 0.9689 - loss: 0.0817\n",
            "Epoch 177: val_loss did not improve from 0.11178\n",
            "\u001b[1m38/38\u001b[0m \u001b[32m━━━━━━━━━━━━━━━━━━━━\u001b[0m\u001b[37m\u001b[0m \u001b[1m2s\u001b[0m 20ms/step - accuracy: 0.9687 - loss: 0.0824 - val_accuracy: 0.9557 - val_loss: 0.1150\n",
            "Epoch 178/1000\n",
            "\u001b[1m37/38\u001b[0m \u001b[32m━━━━━━━━━━━━━━━━━━━\u001b[0m\u001b[37m━\u001b[0m \u001b[1m0s\u001b[0m 17ms/step - accuracy: 0.9697 - loss: 0.0825\n",
            "Epoch 178: val_loss did not improve from 0.11178\n",
            "\u001b[1m38/38\u001b[0m \u001b[32m━━━━━━━━━━━━━━━━━━━━\u001b[0m\u001b[37m\u001b[0m \u001b[1m1s\u001b[0m 20ms/step - accuracy: 0.9693 - loss: 0.0832 - val_accuracy: 0.9528 - val_loss: 0.1437\n",
            "Epoch 179/1000\n",
            "\u001b[1m36/38\u001b[0m \u001b[32m━━━━━━━━━━━━━━━━━━\u001b[0m\u001b[37m━━\u001b[0m \u001b[1m0s\u001b[0m 17ms/step - accuracy: 0.9394 - loss: 0.1511\n",
            "Epoch 179: val_loss did not improve from 0.11178\n",
            "\u001b[1m38/38\u001b[0m \u001b[32m━━━━━━━━━━━━━━━━━━━━\u001b[0m\u001b[37m\u001b[0m \u001b[1m1s\u001b[0m 22ms/step - accuracy: 0.9396 - loss: 0.1509 - val_accuracy: 0.9393 - val_loss: 0.1414\n",
            "Epoch 180/1000\n",
            "\u001b[1m37/38\u001b[0m \u001b[32m━━━━━━━━━━━━━━━━━━━\u001b[0m\u001b[37m━\u001b[0m \u001b[1m0s\u001b[0m 16ms/step - accuracy: 0.9562 - loss: 0.1099\n",
            "Epoch 180: val_loss did not improve from 0.11178\n",
            "\u001b[1m38/38\u001b[0m \u001b[32m━━━━━━━━━━━━━━━━━━━━\u001b[0m\u001b[37m\u001b[0m \u001b[1m1s\u001b[0m 20ms/step - accuracy: 0.9563 - loss: 0.1097 - val_accuracy: 0.9480 - val_loss: 0.1126\n",
            "Epoch 181/1000\n",
            "\u001b[1m35/38\u001b[0m \u001b[32m━━━━━━━━━━━━━━━━━━\u001b[0m\u001b[37m━━\u001b[0m \u001b[1m0s\u001b[0m 17ms/step - accuracy: 0.9726 - loss: 0.0865\n",
            "Epoch 181: val_loss did not improve from 0.11178\n",
            "\u001b[1m38/38\u001b[0m \u001b[32m━━━━━━━━━━━━━━━━━━━━\u001b[0m\u001b[37m\u001b[0m \u001b[1m1s\u001b[0m 19ms/step - accuracy: 0.9721 - loss: 0.0875 - val_accuracy: 0.9412 - val_loss: 0.1525\n",
            "Epoch 182/1000\n",
            "\u001b[1m35/38\u001b[0m \u001b[32m━━━━━━━━━━━━━━━━━━\u001b[0m\u001b[37m━━\u001b[0m \u001b[1m0s\u001b[0m 17ms/step - accuracy: 0.9674 - loss: 0.0875\n",
            "Epoch 182: val_loss did not improve from 0.11178\n",
            "\u001b[1m38/38\u001b[0m \u001b[32m━━━━━━━━━━━━━━━━━━━━\u001b[0m\u001b[37m\u001b[0m \u001b[1m1s\u001b[0m 20ms/step - accuracy: 0.9676 - loss: 0.0873 - val_accuracy: 0.9480 - val_loss: 0.1400\n",
            "Epoch 183/1000\n",
            "\u001b[1m38/38\u001b[0m \u001b[32m━━━━━━━━━━━━━━━━━━━━\u001b[0m\u001b[37m\u001b[0m \u001b[1m0s\u001b[0m 17ms/step - accuracy: 0.9607 - loss: 0.1017\n",
            "Epoch 183: val_loss did not improve from 0.11178\n",
            "\u001b[1m38/38\u001b[0m \u001b[32m━━━━━━━━━━━━━━━━━━━━\u001b[0m\u001b[37m\u001b[0m \u001b[1m1s\u001b[0m 20ms/step - accuracy: 0.9607 - loss: 0.1016 - val_accuracy: 0.9335 - val_loss: 0.1623\n",
            "Epoch 184/1000\n",
            "\u001b[1m36/38\u001b[0m \u001b[32m━━━━━━━━━━━━━━━━━━\u001b[0m\u001b[37m━━\u001b[0m \u001b[1m0s\u001b[0m 16ms/step - accuracy: 0.9629 - loss: 0.0976\n",
            "Epoch 184: val_loss did not improve from 0.11178\n",
            "\u001b[1m38/38\u001b[0m \u001b[32m━━━━━━━━━━━━━━━━━━━━\u001b[0m\u001b[37m\u001b[0m \u001b[1m1s\u001b[0m 19ms/step - accuracy: 0.9629 - loss: 0.0978 - val_accuracy: 0.9441 - val_loss: 0.1289\n",
            "Epoch 185/1000\n",
            "\u001b[1m35/38\u001b[0m \u001b[32m━━━━━━━━━━━━━━━━━━\u001b[0m\u001b[37m━━\u001b[0m \u001b[1m0s\u001b[0m 18ms/step - accuracy: 0.9656 - loss: 0.0842\n",
            "Epoch 185: val_loss did not improve from 0.11178\n",
            "\u001b[1m38/38\u001b[0m \u001b[32m━━━━━━━━━━━━━━━━━━━━\u001b[0m\u001b[37m\u001b[0m \u001b[1m1s\u001b[0m 21ms/step - accuracy: 0.9654 - loss: 0.0852 - val_accuracy: 0.9422 - val_loss: 0.1453\n",
            "Epoch 186/1000\n",
            "\u001b[1m37/38\u001b[0m \u001b[32m━━━━━━━━━━━━━━━━━━━\u001b[0m\u001b[37m━\u001b[0m \u001b[1m0s\u001b[0m 19ms/step - accuracy: 0.9636 - loss: 0.0877\n",
            "Epoch 186: val_loss did not improve from 0.11178\n",
            "\u001b[1m38/38\u001b[0m \u001b[32m━━━━━━━━━━━━━━━━━━━━\u001b[0m\u001b[37m\u001b[0m \u001b[1m1s\u001b[0m 24ms/step - accuracy: 0.9635 - loss: 0.0881 - val_accuracy: 0.9422 - val_loss: 0.1378\n",
            "Epoch 187/1000\n",
            "\u001b[1m37/38\u001b[0m \u001b[32m━━━━━━━━━━━━━━━━━━━\u001b[0m\u001b[37m━\u001b[0m \u001b[1m0s\u001b[0m 25ms/step - accuracy: 0.9710 - loss: 0.0825\n",
            "Epoch 187: val_loss improved from 0.11178 to 0.10995, saving model to /content/keypoint_classifier.keras\n",
            "\u001b[1m38/38\u001b[0m \u001b[32m━━━━━━━━━━━━━━━━━━━━\u001b[0m\u001b[37m\u001b[0m \u001b[1m1s\u001b[0m 32ms/step - accuracy: 0.9710 - loss: 0.0825 - val_accuracy: 0.9586 - val_loss: 0.1100\n",
            "Epoch 188/1000\n",
            "\u001b[1m36/38\u001b[0m \u001b[32m━━━━━━━━━━━━━━━━━━\u001b[0m\u001b[37m━━\u001b[0m \u001b[1m0s\u001b[0m 27ms/step - accuracy: 0.9693 - loss: 0.0833\n",
            "Epoch 188: val_loss improved from 0.10995 to 0.10766, saving model to /content/keypoint_classifier.keras\n",
            "\u001b[1m38/38\u001b[0m \u001b[32m━━━━━━━━━━━━━━━━━━━━\u001b[0m\u001b[37m\u001b[0m \u001b[1m1s\u001b[0m 34ms/step - accuracy: 0.9692 - loss: 0.0835 - val_accuracy: 0.9547 - val_loss: 0.1077\n",
            "Epoch 189/1000\n",
            "\u001b[1m35/38\u001b[0m \u001b[32m━━━━━━━━━━━━━━━━━━\u001b[0m\u001b[37m━━\u001b[0m \u001b[1m0s\u001b[0m 22ms/step - accuracy: 0.9692 - loss: 0.0864\n",
            "Epoch 189: val_loss did not improve from 0.10766\n",
            "\u001b[1m38/38\u001b[0m \u001b[32m━━━━━━━━━━━━━━━━━━━━\u001b[0m\u001b[37m\u001b[0m \u001b[1m1s\u001b[0m 24ms/step - accuracy: 0.9688 - loss: 0.0870 - val_accuracy: 0.9345 - val_loss: 0.1617\n",
            "Epoch 190/1000\n",
            "\u001b[1m37/38\u001b[0m \u001b[32m━━━━━━━━━━━━━━━━━━━\u001b[0m\u001b[37m━\u001b[0m \u001b[1m0s\u001b[0m 17ms/step - accuracy: 0.9543 - loss: 0.1118\n",
            "Epoch 190: val_loss did not improve from 0.10766\n",
            "\u001b[1m38/38\u001b[0m \u001b[32m━━━━━━━━━━━━━━━━━━━━\u001b[0m\u001b[37m\u001b[0m \u001b[1m1s\u001b[0m 20ms/step - accuracy: 0.9544 - loss: 0.1117 - val_accuracy: 0.9383 - val_loss: 0.1557\n",
            "Epoch 191/1000\n",
            "\u001b[1m38/38\u001b[0m \u001b[32m━━━━━━━━━━━━━━━━━━━━\u001b[0m\u001b[37m\u001b[0m \u001b[1m0s\u001b[0m 16ms/step - accuracy: 0.9615 - loss: 0.0947\n",
            "Epoch 191: val_loss improved from 0.10766 to 0.10765, saving model to /content/keypoint_classifier.keras\n",
            "\u001b[1m38/38\u001b[0m \u001b[32m━━━━━━━━━━━━━━━━━━━━\u001b[0m\u001b[37m\u001b[0m \u001b[1m1s\u001b[0m 20ms/step - accuracy: 0.9615 - loss: 0.0949 - val_accuracy: 0.9615 - val_loss: 0.1076\n",
            "Epoch 192/1000\n",
            "\u001b[1m37/38\u001b[0m \u001b[32m━━━━━━━━━━━━━━━━━━━\u001b[0m\u001b[37m━\u001b[0m \u001b[1m0s\u001b[0m 16ms/step - accuracy: 0.9643 - loss: 0.0971\n",
            "Epoch 192: val_loss improved from 0.10765 to 0.10020, saving model to /content/keypoint_classifier.keras\n",
            "\u001b[1m38/38\u001b[0m \u001b[32m━━━━━━━━━━━━━━━━━━━━\u001b[0m\u001b[37m\u001b[0m \u001b[1m1s\u001b[0m 20ms/step - accuracy: 0.9643 - loss: 0.0969 - val_accuracy: 0.9682 - val_loss: 0.1002\n",
            "Epoch 193/1000\n",
            "\u001b[1m38/38\u001b[0m \u001b[32m━━━━━━━━━━━━━━━━━━━━\u001b[0m\u001b[37m\u001b[0m \u001b[1m0s\u001b[0m 16ms/step - accuracy: 0.9692 - loss: 0.0807\n",
            "Epoch 193: val_loss did not improve from 0.10020\n",
            "\u001b[1m38/38\u001b[0m \u001b[32m━━━━━━━━━━━━━━━━━━━━\u001b[0m\u001b[37m\u001b[0m \u001b[1m1s\u001b[0m 20ms/step - accuracy: 0.9692 - loss: 0.0808 - val_accuracy: 0.9576 - val_loss: 0.1060\n",
            "Epoch 194/1000\n",
            "\u001b[1m36/38\u001b[0m \u001b[32m━━━━━━━━━━━━━━━━━━\u001b[0m\u001b[37m━━\u001b[0m \u001b[1m0s\u001b[0m 17ms/step - accuracy: 0.9686 - loss: 0.0793\n",
            "Epoch 194: val_loss did not improve from 0.10020\n",
            "\u001b[1m38/38\u001b[0m \u001b[32m━━━━━━━━━━━━━━━━━━━━\u001b[0m\u001b[37m\u001b[0m \u001b[1m1s\u001b[0m 20ms/step - accuracy: 0.9685 - loss: 0.0796 - val_accuracy: 0.9335 - val_loss: 0.1490\n",
            "Epoch 195/1000\n",
            "\u001b[1m36/38\u001b[0m \u001b[32m━━━━━━━━━━━━━━━━━━\u001b[0m\u001b[37m━━\u001b[0m \u001b[1m0s\u001b[0m 18ms/step - accuracy: 0.9676 - loss: 0.0906\n",
            "Epoch 195: val_loss did not improve from 0.10020\n",
            "\u001b[1m38/38\u001b[0m \u001b[32m━━━━━━━━━━━━━━━━━━━━\u001b[0m\u001b[37m\u001b[0m \u001b[1m1s\u001b[0m 20ms/step - accuracy: 0.9675 - loss: 0.0903 - val_accuracy: 0.9489 - val_loss: 0.1201\n",
            "Epoch 196/1000\n",
            "\u001b[1m36/38\u001b[0m \u001b[32m━━━━━━━━━━━━━━━━━━\u001b[0m\u001b[37m━━\u001b[0m \u001b[1m0s\u001b[0m 17ms/step - accuracy: 0.9677 - loss: 0.0821\n",
            "Epoch 196: val_loss did not improve from 0.10020\n",
            "\u001b[1m38/38\u001b[0m \u001b[32m━━━━━━━━━━━━━━━━━━━━\u001b[0m\u001b[37m\u001b[0m \u001b[1m1s\u001b[0m 20ms/step - accuracy: 0.9672 - loss: 0.0830 - val_accuracy: 0.9335 - val_loss: 0.1863\n",
            "Epoch 197/1000\n",
            "\u001b[1m36/38\u001b[0m \u001b[32m━━━━━━━━━━━━━━━━━━\u001b[0m\u001b[37m━━\u001b[0m \u001b[1m0s\u001b[0m 17ms/step - accuracy: 0.9635 - loss: 0.0889\n",
            "Epoch 197: val_loss did not improve from 0.10020\n",
            "\u001b[1m38/38\u001b[0m \u001b[32m━━━━━━━━━━━━━━━━━━━━\u001b[0m\u001b[37m\u001b[0m \u001b[1m1s\u001b[0m 20ms/step - accuracy: 0.9639 - loss: 0.0888 - val_accuracy: 0.9547 - val_loss: 0.1388\n",
            "Epoch 198/1000\n",
            "\u001b[1m35/38\u001b[0m \u001b[32m━━━━━━━━━━━━━━━━━━\u001b[0m\u001b[37m━━\u001b[0m \u001b[1m0s\u001b[0m 17ms/step - accuracy: 0.9551 - loss: 0.1111\n",
            "Epoch 198: val_loss did not improve from 0.10020\n",
            "\u001b[1m38/38\u001b[0m \u001b[32m━━━━━━━━━━━━━━━━━━━━\u001b[0m\u001b[37m\u001b[0m \u001b[1m1s\u001b[0m 20ms/step - accuracy: 0.9547 - loss: 0.1115 - val_accuracy: 0.9557 - val_loss: 0.1213\n",
            "Epoch 199/1000\n",
            "\u001b[1m37/38\u001b[0m \u001b[32m━━━━━━━━━━━━━━━━━━━\u001b[0m\u001b[37m━\u001b[0m \u001b[1m0s\u001b[0m 25ms/step - accuracy: 0.9602 - loss: 0.0979\n",
            "Epoch 199: val_loss did not improve from 0.10020\n",
            "\u001b[1m38/38\u001b[0m \u001b[32m━━━━━━━━━━━━━━━━━━━━\u001b[0m\u001b[37m\u001b[0m \u001b[1m1s\u001b[0m 30ms/step - accuracy: 0.9602 - loss: 0.0981 - val_accuracy: 0.9345 - val_loss: 0.1697\n",
            "Epoch 200/1000\n",
            "\u001b[1m37/38\u001b[0m \u001b[32m━━━━━━━━━━━━━━━━━━━\u001b[0m\u001b[37m━\u001b[0m \u001b[1m0s\u001b[0m 27ms/step - accuracy: 0.9500 - loss: 0.1204\n",
            "Epoch 200: val_loss did not improve from 0.10020\n",
            "\u001b[1m38/38\u001b[0m \u001b[32m━━━━━━━━━━━━━━━━━━━━\u001b[0m\u001b[37m\u001b[0m \u001b[1m1s\u001b[0m 32ms/step - accuracy: 0.9503 - loss: 0.1200 - val_accuracy: 0.9451 - val_loss: 0.1367\n",
            "Epoch 201/1000\n",
            "\u001b[1m38/38\u001b[0m \u001b[32m━━━━━━━━━━━━━━━━━━━━\u001b[0m\u001b[37m\u001b[0m \u001b[1m0s\u001b[0m 27ms/step - accuracy: 0.9629 - loss: 0.0915\n",
            "Epoch 201: val_loss did not improve from 0.10020\n",
            "\u001b[1m38/38\u001b[0m \u001b[32m━━━━━━━━━━━━━━━━━━━━\u001b[0m\u001b[37m\u001b[0m \u001b[1m1s\u001b[0m 30ms/step - accuracy: 0.9629 - loss: 0.0914 - val_accuracy: 0.9576 - val_loss: 0.1224\n",
            "Epoch 202/1000\n",
            "\u001b[1m36/38\u001b[0m \u001b[32m━━━━━━━━━━━━━━━━━━\u001b[0m\u001b[37m━━\u001b[0m \u001b[1m0s\u001b[0m 17ms/step - accuracy: 0.9685 - loss: 0.0828\n",
            "Epoch 202: val_loss did not improve from 0.10020\n",
            "\u001b[1m38/38\u001b[0m \u001b[32m━━━━━━━━━━━━━━━━━━━━\u001b[0m\u001b[37m\u001b[0m \u001b[1m1s\u001b[0m 22ms/step - accuracy: 0.9686 - loss: 0.0829 - val_accuracy: 0.9412 - val_loss: 0.1610\n",
            "Epoch 203/1000\n",
            "\u001b[1m37/38\u001b[0m \u001b[32m━━━━━━━━━━━━━━━━━━━\u001b[0m\u001b[37m━\u001b[0m \u001b[1m0s\u001b[0m 17ms/step - accuracy: 0.9639 - loss: 0.0943\n",
            "Epoch 203: val_loss did not improve from 0.10020\n",
            "\u001b[1m38/38\u001b[0m \u001b[32m━━━━━━━━━━━━━━━━━━━━\u001b[0m\u001b[37m\u001b[0m \u001b[1m1s\u001b[0m 22ms/step - accuracy: 0.9639 - loss: 0.0943 - val_accuracy: 0.9470 - val_loss: 0.1594\n",
            "Epoch 204/1000\n",
            "\u001b[1m36/38\u001b[0m \u001b[32m━━━━━━━━━━━━━━━━━━\u001b[0m\u001b[37m━━\u001b[0m \u001b[1m0s\u001b[0m 17ms/step - accuracy: 0.9678 - loss: 0.0894\n",
            "Epoch 204: val_loss did not improve from 0.10020\n",
            "\u001b[1m38/38\u001b[0m \u001b[32m━━━━━━━━━━━━━━━━━━━━\u001b[0m\u001b[37m\u001b[0m \u001b[1m1s\u001b[0m 22ms/step - accuracy: 0.9677 - loss: 0.0895 - val_accuracy: 0.9547 - val_loss: 0.1205\n",
            "Epoch 205/1000\n",
            "\u001b[1m35/38\u001b[0m \u001b[32m━━━━━━━━━━━━━━━━━━\u001b[0m\u001b[37m━━\u001b[0m \u001b[1m0s\u001b[0m 17ms/step - accuracy: 0.9682 - loss: 0.0815\n",
            "Epoch 205: val_loss did not improve from 0.10020\n",
            "\u001b[1m38/38\u001b[0m \u001b[32m━━━━━━━━━━━━━━━━━━━━\u001b[0m\u001b[37m\u001b[0m \u001b[1m1s\u001b[0m 20ms/step - accuracy: 0.9678 - loss: 0.0822 - val_accuracy: 0.9499 - val_loss: 0.1341\n",
            "Epoch 206/1000\n",
            "\u001b[1m36/38\u001b[0m \u001b[32m━━━━━━━━━━━━━━━━━━\u001b[0m\u001b[37m━━\u001b[0m \u001b[1m0s\u001b[0m 17ms/step - accuracy: 0.9767 - loss: 0.0654\n",
            "Epoch 206: val_loss did not improve from 0.10020\n",
            "\u001b[1m38/38\u001b[0m \u001b[32m━━━━━━━━━━━━━━━━━━━━\u001b[0m\u001b[37m\u001b[0m \u001b[1m1s\u001b[0m 22ms/step - accuracy: 0.9763 - loss: 0.0662 - val_accuracy: 0.9326 - val_loss: 0.1634\n",
            "Epoch 207/1000\n",
            "\u001b[1m36/38\u001b[0m \u001b[32m━━━━━━━━━━━━━━━━━━\u001b[0m\u001b[37m━━\u001b[0m \u001b[1m0s\u001b[0m 17ms/step - accuracy: 0.9677 - loss: 0.0863\n",
            "Epoch 207: val_loss did not improve from 0.10020\n",
            "\u001b[1m38/38\u001b[0m \u001b[32m━━━━━━━━━━━━━━━━━━━━\u001b[0m\u001b[37m\u001b[0m \u001b[1m1s\u001b[0m 20ms/step - accuracy: 0.9675 - loss: 0.0868 - val_accuracy: 0.9595 - val_loss: 0.1108\n",
            "Epoch 208/1000\n",
            "\u001b[1m35/38\u001b[0m \u001b[32m━━━━━━━━━━━━━━━━━━\u001b[0m\u001b[37m━━\u001b[0m \u001b[1m0s\u001b[0m 17ms/step - accuracy: 0.9614 - loss: 0.1039\n",
            "Epoch 208: val_loss did not improve from 0.10020\n",
            "\u001b[1m38/38\u001b[0m \u001b[32m━━━━━━━━━━━━━━━━━━━━\u001b[0m\u001b[37m\u001b[0m \u001b[1m1s\u001b[0m 20ms/step - accuracy: 0.9615 - loss: 0.1033 - val_accuracy: 0.9586 - val_loss: 0.1072\n",
            "Epoch 209/1000\n",
            "\u001b[1m38/38\u001b[0m \u001b[32m━━━━━━━━━━━━━━━━━━━━\u001b[0m\u001b[37m\u001b[0m \u001b[1m0s\u001b[0m 18ms/step - accuracy: 0.9729 - loss: 0.0697\n",
            "Epoch 209: val_loss did not improve from 0.10020\n",
            "\u001b[1m38/38\u001b[0m \u001b[32m━━━━━━━━━━━━━━━━━━━━\u001b[0m\u001b[37m\u001b[0m \u001b[1m1s\u001b[0m 23ms/step - accuracy: 0.9729 - loss: 0.0698 - val_accuracy: 0.9615 - val_loss: 0.1053\n",
            "Epoch 210/1000\n",
            "\u001b[1m36/38\u001b[0m \u001b[32m━━━━━━━━━━━━━━━━━━\u001b[0m\u001b[37m━━\u001b[0m \u001b[1m0s\u001b[0m 17ms/step - accuracy: 0.9729 - loss: 0.0754\n",
            "Epoch 210: val_loss did not improve from 0.10020\n",
            "\u001b[1m38/38\u001b[0m \u001b[32m━━━━━━━━━━━━━━━━━━━━\u001b[0m\u001b[37m\u001b[0m \u001b[1m1s\u001b[0m 20ms/step - accuracy: 0.9729 - loss: 0.0753 - val_accuracy: 0.9518 - val_loss: 0.1378\n",
            "Epoch 211/1000\n",
            "\u001b[1m38/38\u001b[0m \u001b[32m━━━━━━━━━━━━━━━━━━━━\u001b[0m\u001b[37m\u001b[0m \u001b[1m0s\u001b[0m 17ms/step - accuracy: 0.9659 - loss: 0.0882\n",
            "Epoch 211: val_loss did not improve from 0.10020\n",
            "\u001b[1m38/38\u001b[0m \u001b[32m━━━━━━━━━━━━━━━━━━━━\u001b[0m\u001b[37m\u001b[0m \u001b[1m1s\u001b[0m 20ms/step - accuracy: 0.9660 - loss: 0.0880 - val_accuracy: 0.9538 - val_loss: 0.1185\n",
            "Epoch 212/1000\n",
            "\u001b[1m36/38\u001b[0m \u001b[32m━━━━━━━━━━━━━━━━━━\u001b[0m\u001b[37m━━\u001b[0m \u001b[1m0s\u001b[0m 25ms/step - accuracy: 0.9719 - loss: 0.0779\n",
            "Epoch 212: val_loss did not improve from 0.10020\n",
            "\u001b[1m38/38\u001b[0m \u001b[32m━━━━━━━━━━━━━━━━━━━━\u001b[0m\u001b[37m\u001b[0m \u001b[1m1s\u001b[0m 30ms/step - accuracy: 0.9719 - loss: 0.0781 - val_accuracy: 0.9518 - val_loss: 0.1183\n",
            "Epoch 213/1000\n",
            "\u001b[1m38/38\u001b[0m \u001b[32m━━━━━━━━━━━━━━━━━━━━\u001b[0m\u001b[37m\u001b[0m \u001b[1m0s\u001b[0m 27ms/step - accuracy: 0.9658 - loss: 0.0899\n",
            "Epoch 213: val_loss did not improve from 0.10020\n",
            "\u001b[1m38/38\u001b[0m \u001b[32m━━━━━━━━━━━━━━━━━━━━\u001b[0m\u001b[37m\u001b[0m \u001b[1m1s\u001b[0m 32ms/step - accuracy: 0.9659 - loss: 0.0897 - val_accuracy: 0.9528 - val_loss: 0.1203\n",
            "Epoch 214/1000\n",
            "\u001b[1m36/38\u001b[0m \u001b[32m━━━━━━━━━━━━━━━━━━\u001b[0m\u001b[37m━━\u001b[0m \u001b[1m0s\u001b[0m 27ms/step - accuracy: 0.9752 - loss: 0.0667\n",
            "Epoch 214: val_loss did not improve from 0.10020\n",
            "\u001b[1m38/38\u001b[0m \u001b[32m━━━━━━━━━━━━━━━━━━━━\u001b[0m\u001b[37m\u001b[0m \u001b[1m1s\u001b[0m 32ms/step - accuracy: 0.9750 - loss: 0.0671 - val_accuracy: 0.9528 - val_loss: 0.1066\n",
            "Epoch 215/1000\n",
            "\u001b[1m38/38\u001b[0m \u001b[32m━━━━━━━━━━━━━━━━━━━━\u001b[0m\u001b[37m\u001b[0m \u001b[1m0s\u001b[0m 17ms/step - accuracy: 0.9681 - loss: 0.0783\n",
            "Epoch 215: val_loss did not improve from 0.10020\n",
            "\u001b[1m38/38\u001b[0m \u001b[32m━━━━━━━━━━━━━━━━━━━━\u001b[0m\u001b[37m\u001b[0m \u001b[1m1s\u001b[0m 20ms/step - accuracy: 0.9680 - loss: 0.0784 - val_accuracy: 0.9615 - val_loss: 0.1028\n",
            "Epoch 216/1000\n",
            "\u001b[1m35/38\u001b[0m \u001b[32m━━━━━━━━━━━━━━━━━━\u001b[0m\u001b[37m━━\u001b[0m \u001b[1m0s\u001b[0m 18ms/step - accuracy: 0.9679 - loss: 0.0824\n",
            "Epoch 216: val_loss did not improve from 0.10020\n",
            "\u001b[1m38/38\u001b[0m \u001b[32m━━━━━━━━━━━━━━━━━━━━\u001b[0m\u001b[37m\u001b[0m \u001b[1m1s\u001b[0m 21ms/step - accuracy: 0.9681 - loss: 0.0819 - val_accuracy: 0.9557 - val_loss: 0.1054\n",
            "Epoch 217/1000\n",
            "\u001b[1m35/38\u001b[0m \u001b[32m━━━━━━━━━━━━━━━━━━\u001b[0m\u001b[37m━━\u001b[0m \u001b[1m0s\u001b[0m 17ms/step - accuracy: 0.9693 - loss: 0.0805\n",
            "Epoch 217: val_loss did not improve from 0.10020\n",
            "\u001b[1m38/38\u001b[0m \u001b[32m━━━━━━━━━━━━━━━━━━━━\u001b[0m\u001b[37m\u001b[0m \u001b[1m1s\u001b[0m 20ms/step - accuracy: 0.9694 - loss: 0.0801 - val_accuracy: 0.9451 - val_loss: 0.1348\n",
            "Epoch 218/1000\n",
            "\u001b[1m36/38\u001b[0m \u001b[32m━━━━━━━━━━━━━━━━━━\u001b[0m\u001b[37m━━\u001b[0m \u001b[1m0s\u001b[0m 18ms/step - accuracy: 0.9674 - loss: 0.0815\n",
            "Epoch 218: val_loss did not improve from 0.10020\n",
            "\u001b[1m38/38\u001b[0m \u001b[32m━━━━━━━━━━━━━━━━━━━━\u001b[0m\u001b[37m\u001b[0m \u001b[1m1s\u001b[0m 21ms/step - accuracy: 0.9671 - loss: 0.0823 - val_accuracy: 0.9634 - val_loss: 0.1090\n",
            "Epoch 219/1000\n",
            "\u001b[1m36/38\u001b[0m \u001b[32m━━━━━━━━━━━━━━━━━━\u001b[0m\u001b[37m━━\u001b[0m \u001b[1m0s\u001b[0m 17ms/step - accuracy: 0.9606 - loss: 0.0951\n",
            "Epoch 219: val_loss did not improve from 0.10020\n",
            "\u001b[1m38/38\u001b[0m \u001b[32m━━━━━━━━━━━━━━━━━━━━\u001b[0m\u001b[37m\u001b[0m \u001b[1m1s\u001b[0m 21ms/step - accuracy: 0.9608 - loss: 0.0949 - val_accuracy: 0.9518 - val_loss: 0.1398\n",
            "Epoch 220/1000\n",
            "\u001b[1m35/38\u001b[0m \u001b[32m━━━━━━━━━━━━━━━━━━\u001b[0m\u001b[37m━━\u001b[0m \u001b[1m0s\u001b[0m 18ms/step - accuracy: 0.9590 - loss: 0.0956\n",
            "Epoch 220: val_loss did not improve from 0.10020\n",
            "\u001b[1m38/38\u001b[0m \u001b[32m━━━━━━━━━━━━━━━━━━━━\u001b[0m\u001b[37m\u001b[0m \u001b[1m1s\u001b[0m 21ms/step - accuracy: 0.9593 - loss: 0.0956 - val_accuracy: 0.9557 - val_loss: 0.1203\n",
            "Epoch 221/1000\n",
            "\u001b[1m38/38\u001b[0m \u001b[32m━━━━━━━━━━━━━━━━━━━━\u001b[0m\u001b[37m\u001b[0m \u001b[1m0s\u001b[0m 18ms/step - accuracy: 0.9688 - loss: 0.0807\n",
            "Epoch 221: val_loss did not improve from 0.10020\n",
            "\u001b[1m38/38\u001b[0m \u001b[32m━━━━━━━━━━━━━━━━━━━━\u001b[0m\u001b[37m\u001b[0m \u001b[1m1s\u001b[0m 23ms/step - accuracy: 0.9688 - loss: 0.0807 - val_accuracy: 0.9586 - val_loss: 0.1162\n",
            "Epoch 222/1000\n",
            "\u001b[1m38/38\u001b[0m \u001b[32m━━━━━━━━━━━━━━━━━━━━\u001b[0m\u001b[37m\u001b[0m \u001b[1m0s\u001b[0m 17ms/step - accuracy: 0.9736 - loss: 0.0722\n",
            "Epoch 222: val_loss did not improve from 0.10020\n",
            "\u001b[1m38/38\u001b[0m \u001b[32m━━━━━━━━━━━━━━━━━━━━\u001b[0m\u001b[37m\u001b[0m \u001b[1m1s\u001b[0m 23ms/step - accuracy: 0.9736 - loss: 0.0722 - val_accuracy: 0.9595 - val_loss: 0.1097\n",
            "Epoch 222: early stopping\n"
          ]
        }
      ],
      "source": [
        "history = model.fit(\n",
        "    X_train,\n",
        "    y_train,\n",
        "    epochs=1000,\n",
        "    batch_size=128,\n",
        "    validation_data=(X_val, y_val),\n",
        "    callbacks=[cp_callback, es_callback]\n",
        ")"
      ]
    },
    {
      "cell_type": "code",
      "execution_count": 21,
      "metadata": {
        "colab": {
          "base_uri": "https://localhost:8080/"
        },
        "id": "CFlTKHTo3ZDa",
        "outputId": "e86e14ce-b5cb-4c9d-f097-458ec3e32ec6"
      },
      "outputs": [
        {
          "output_type": "stream",
          "name": "stdout",
          "text": [
            "\u001b[1m9/9\u001b[0m \u001b[32m━━━━━━━━━━━━━━━━━━━━\u001b[0m\u001b[37m\u001b[0m \u001b[1m0s\u001b[0m 8ms/step - accuracy: 0.9514 - loss: 0.1206 \n"
          ]
        }
      ],
      "source": [
        "# 모델 평가\n",
        "val_loss, val_acc = model.evaluate(X_test, y_test, batch_size=128)"
      ]
    },
    {
      "cell_type": "code",
      "execution_count": 22,
      "metadata": {
        "id": "WHFScujJ3ZDa"
      },
      "outputs": [],
      "source": [
        "# 저장 모델 불러오기\n",
        "model = tf.keras.models.load_model(model_save_path)"
      ]
    },
    {
      "cell_type": "code",
      "execution_count": 23,
      "metadata": {
        "colab": {
          "base_uri": "https://localhost:8080/"
        },
        "id": "vqmnLuZC3ZDa",
        "outputId": "42c9eb24-d29c-40b1-e12e-198204016493"
      },
      "outputs": [
        {
          "output_type": "stream",
          "name": "stdout",
          "text": [
            "\u001b[1m1/1\u001b[0m \u001b[32m━━━━━━━━━━━━━━━━━━━━\u001b[0m\u001b[37m\u001b[0m \u001b[1m0s\u001b[0m 96ms/step\n",
            "[5.4285876e-10 3.6141938e-09 9.9993265e-01 6.7351153e-05]\n",
            "2\n"
          ]
        }
      ],
      "source": [
        "# 모델 predict\n",
        "predict_result = model.predict(np.array([X_test[0]]))\n",
        "print(np.squeeze(predict_result))\n",
        "print(np.argmax(np.squeeze(predict_result)))"
      ]
    },
    {
      "cell_type": "markdown",
      "metadata": {
        "id": "W7Lu8M4F3ZDa"
      },
      "source": [
        "# 결과 시각화\n"
      ]
    },
    {
      "cell_type": "code",
      "execution_count": 24,
      "metadata": {
        "colab": {
          "base_uri": "https://localhost:8080/",
          "height": 435
        },
        "id": "EByVkq3laxVc",
        "outputId": "b07f0907-7b07-419d-cc5e-aa1cbfd95d74"
      },
      "outputs": [
        {
          "output_type": "display_data",
          "data": {
            "text/plain": [
              "<Figure size 1200x500 with 2 Axes>"
            ],
            "image/png": "[encoded data removed]"
          },
          "metadata": {}
        }
      ],
      "source": [
        "plt.figure(figsize=(12, 5))\n",
        "\n",
        "plt.subplot(1, 2, 1)\n",
        "plt.plot(history.history['accuracy'])\n",
        "plt.plot(history.history['val_accuracy'])\n",
        "plt.title('Model Accuracy')\n",
        "plt.ylabel('Accuracy')\n",
        "plt.xlabel('Epoch')\n",
        "plt.legend(['Train', 'Test'], loc='upper left')\n",
        "\n",
        "plt.subplot(1, 2, 2)\n",
        "plt.plot(history.history['loss'])\n",
        "plt.plot(history.history['val_loss'])\n",
        "plt.title('Model Loss')\n",
        "plt.ylabel('Loss')\n",
        "plt.xlabel('Epoch')\n",
        "plt.legend(['Train', 'Test'], loc='upper left')\n",
        "\n",
        "plt.tight_layout()\n",
        "plt.show()"
      ]
    },
    {
      "cell_type": "code",
      "execution_count": 25,
      "metadata": {
        "colab": {
          "base_uri": "https://localhost:8080/",
          "height": 761
        },
        "id": "txTBNx_I3ZDa",
        "outputId": "1ddd6d41-dbbf-43f9-c94a-6f802057ffe7"
      },
      "outputs": [
        {
          "output_type": "stream",
          "name": "stdout",
          "text": [
            "\u001b[1m33/33\u001b[0m \u001b[32m━━━━━━━━━━━━━━━━━━━━\u001b[0m\u001b[37m\u001b[0m \u001b[1m0s\u001b[0m 3ms/step\n"
          ]
        },
        {
          "output_type": "display_data",
          "data": {
            "text/plain": [
              "<Figure size 700x600 with 2 Axes>"
            ],
            "image/png": "[encoded data removed]"
          },
          "metadata": {}
        },
        {
          "output_type": "stream",
          "name": "stdout",
          "text": [
            "Classification Report\n",
            "              precision    recall  f1-score   support\n",
            "\n",
            "           0       0.98      0.98      0.98       448\n",
            "           1       0.90      0.89      0.90       135\n",
            "           2       0.96      0.97      0.97       340\n",
            "           3       0.90      0.88      0.89       115\n",
            "\n",
            "    accuracy                           0.96      1038\n",
            "   macro avg       0.94      0.93      0.93      1038\n",
            "weighted avg       0.96      0.96      0.96      1038\n",
            "\n"
          ]
        }
      ],
      "source": [
        "def print_confusion_matrix(y_true, y_pred, report=True):\n",
        "    labels = sorted(list(set(y_true)))\n",
        "    cmx_data = confusion_matrix(y_true, y_pred, labels=labels)\n",
        "\n",
        "    df_cmx = pd.DataFrame(cmx_data, index=labels, columns=labels)\n",
        "\n",
        "    fig, ax = plt.subplots(figsize=(7, 6))\n",
        "    sns.heatmap(df_cmx, annot=True, fmt='g' ,square=False)\n",
        "    ax.set_ylim(len(set(y_true)), 0)\n",
        "    plt.show()\n",
        "\n",
        "    if report:\n",
        "        print('Classification Report')\n",
        "        print(classification_report(y_test, y_pred))\n",
        "\n",
        "Y_pred = model.predict(X_test)\n",
        "y_pred = np.argmax(Y_pred, axis=1)\n",
        "\n",
        "print_confusion_matrix(y_test, y_pred)"
      ]
    },
    {
      "cell_type": "code",
      "execution_count": 26,
      "metadata": {
        "colab": {
          "base_uri": "https://localhost:8080/",
          "height": 582
        },
        "id": "ZcZO8Wlqxmmk",
        "outputId": "99150924-8e4d-4633-e10b-75745d3ecbed"
      },
      "outputs": [
        {
          "output_type": "stream",
          "name": "stdout",
          "text": [
            "\u001b[1m33/33\u001b[0m \u001b[32m━━━━━━━━━━━━━━━━━━━━\u001b[0m\u001b[37m\u001b[0m \u001b[1m0s\u001b[0m 4ms/step\n"
          ]
        },
        {
          "output_type": "display_data",
          "data": {
            "text/plain": [
              "<Figure size 1000x600 with 1 Axes>"
            ],
            "image/png": "[encoded data removed]"
          },
          "metadata": {}
        }
      ],
      "source": [
        "Y_pred = model.predict(X_test)\n",
        "y_pred = np.argmax(Y_pred, axis=1)\n",
        "\n",
        "try:\n",
        "    cm = confusion_matrix(y_test, y_pred)\n",
        "\n",
        "    # 클래스별 정확도 계산 및 시각화\n",
        "    class_accuracy = np.zeros(4)  # 0~3 클래스에 대한 정확도 배열 초기화\n",
        "    for i in range(min(4, len(cm))):\n",
        "        if cm.sum(axis=1)[i] > 0:  # 0으로 나누기 방지\n",
        "            class_accuracy[i] = cm[i, i] / cm.sum(axis=1)[i]\n",
        "\n",
        "    plt.figure(figsize=(10, 6))\n",
        "    plt.bar(['Standing', 'Start Walking', 'Walking','Finish Walking'], class_accuracy)\n",
        "    plt.xlabel('Class')\n",
        "    plt.ylabel('Accuracy')\n",
        "    plt.title('Class-wise Accuracy')\n",
        "    plt.ylim(0, 1)\n",
        "    plt.show()\n",
        "except Exception as e:\n",
        "    print(f\"시각화 중 오류 발생: {e}\")\n",
        "    import traceback\n",
        "    traceback.print_exc()"
      ]
    },
    {
      "cell_type": "markdown",
      "metadata": {
        "id": "Vz9VfbaH3ZDb"
      },
      "source": [
        "# Tensorflow-Lite용 모델로 변환"
      ]
    },
    {
      "cell_type": "code",
      "execution_count": 27,
      "metadata": {
        "id": "c9MMTxSq3ZDb"
      },
      "outputs": [],
      "source": [
        "# 추론 전용 모델 저장\n",
        "model.save(model_save_path, include_optimizer=False)"
      ]
    },
    {
      "cell_type": "code",
      "execution_count": 28,
      "metadata": {
        "colab": {
          "base_uri": "https://localhost:8080/"
        },
        "id": "PT4ScxGv3ZDb",
        "outputId": "84f292e1-6f2d-4ceb-e177-7c9e9aa1e7b6"
      },
      "outputs": [
        {
          "output_type": "stream",
          "name": "stdout",
          "text": [
            "Saved artifact at '/tmp/tmppwrn5gm9'. The following endpoints are available:\n",
            "\n",
            "* Endpoint 'serve'\n",
            "  args_0 (POSITIONAL_ONLY): TensorSpec(shape=(None, 20, 69), dtype=tf.float32, name='input_layer')\n",
            "Output Type:\n",
            "  TensorSpec(shape=(None, 4), dtype=tf.float32, name=None)\n",
            "Captures:\n",
            "  133896324522512: TensorSpec(shape=(), dtype=tf.resource, name=None)\n",
            "  133896324516176: TensorSpec(shape=(), dtype=tf.resource, name=None)\n",
            "  133896324521360: TensorSpec(shape=(), dtype=tf.resource, name=None)\n",
            "  133896324520400: TensorSpec(shape=(), dtype=tf.resource, name=None)\n",
            "  133896324520016: TensorSpec(shape=(), dtype=tf.resource, name=None)\n",
            "  133896324514832: TensorSpec(shape=(), dtype=tf.resource, name=None)\n",
            "  133896324519632: TensorSpec(shape=(), dtype=tf.resource, name=None)\n",
            "  133896322823952: TensorSpec(shape=(), dtype=tf.resource, name=None)\n"
          ]
        },
        {
          "output_type": "execute_result",
          "data": {
            "text/plain": [
              "55296"
            ]
          },
          "metadata": {},
          "execution_count": 28
        }
      ],
      "source": [
        "# 경량화\n",
        "tflite_save_path = '/content/keypoint_classifier.tflite'\n",
        "\n",
        "converter = tf.lite.TFLiteConverter.from_keras_model(model)\n",
        "converter.optimizations = [tf.lite.Optimize.DEFAULT]\n",
        "tflite_quantized_model = converter.convert()\n",
        "\n",
        "open(tflite_save_path, 'wb').write(tflite_quantized_model)"
      ]
    },
    {
      "cell_type": "markdown",
      "metadata": {
        "id": "B9rK1NSQ3ZDb"
      },
      "source": [
        "# Inference 테스트"
      ]
    },
    {
      "cell_type": "code",
      "execution_count": 29,
      "metadata": {
        "id": "419MFpa03ZDb"
      },
      "outputs": [],
      "source": [
        "interpreter = tf.lite.Interpreter(model_path=tflite_save_path)\n",
        "interpreter.allocate_tensors()"
      ]
    },
    {
      "cell_type": "code",
      "execution_count": 30,
      "metadata": {
        "id": "M6c0bE1m3ZDb"
      },
      "outputs": [],
      "source": [
        "# input, output tenser 추출\n",
        "input_details = interpreter.get_input_details()\n",
        "output_details = interpreter.get_output_details()"
      ]
    },
    {
      "cell_type": "code",
      "execution_count": 31,
      "metadata": {
        "id": "vlZfT1jE3ZDb"
      },
      "outputs": [],
      "source": [
        "input_data = np.array([X_test[0]], dtype=np.float32)\n",
        "interpreter.set_tensor(input_details[0]['index'], input_data)"
      ]
    },
    {
      "cell_type": "code",
      "execution_count": 32,
      "metadata": {
        "colab": {
          "base_uri": "https://localhost:8080/"
        },
        "id": "lNCt_f_m3ZDb",
        "scrolled": true,
        "outputId": "311348f0-9729-48c6-c97f-ea1eb68ae388"
      },
      "outputs": [
        {
          "output_type": "stream",
          "name": "stdout",
          "text": [
            "CPU times: user 0 ns, sys: 374 µs, total: 374 µs\n",
            "Wall time: 2.68 ms\n"
          ]
        }
      ],
      "source": [
        "%%time\n",
        "# 예측 시간\n",
        "interpreter.invoke()\n",
        "tflite_results = interpreter.get_tensor(output_details[0]['index'])"
      ]
    },
    {
      "cell_type": "code",
      "execution_count": 33,
      "metadata": {
        "colab": {
          "base_uri": "https://localhost:8080/"
        },
        "id": "Cu43GSee3ZDc",
        "outputId": "7369e0f4-4750-449f-92ed-dadc0b6601f8"
      },
      "outputs": [
        {
          "output_type": "stream",
          "name": "stdout",
          "text": [
            "[2.5621691e-10 3.0505265e-09 9.9993765e-01 6.2392981e-05]\n",
            "2\n"
          ]
        }
      ],
      "source": [
        "print(np.squeeze(tflite_results))\n",
        "print(np.argmax(np.squeeze(tflite_results)))"
      ]
    }
  ],
  "metadata": {
    "colab": {
      "provenance": []
    },
    "kernelspec": {
      "display_name": "Python 3",
      "language": "python",
      "name": "python3"
    },
    "language_info": {
      "codemirror_mode": {
        "name": "ipython",
        "version": 3
      },
      "file_extension": ".py",
      "mimetype": "text/x-python",
      "name": "python",
      "nbconvert_exporter": "python",
      "pygments_lexer": "ipython3",
      "version": "3.8.5"
    }
  },
  "nbformat": 4,
  "nbformat_minor": 0
}